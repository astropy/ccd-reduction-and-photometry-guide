{
 "cells": [
  {
   "cell_type": "markdown",
   "metadata": {},
   "source": [
    "# About bias and overscan "
   ]
  },
  {
   "cell_type": "markdown",
   "metadata": {},
   "source": [
    "## Sample bias images\n",
    "\n",
    "The images below are a single bias frame and an average 100 bias frames from an\n",
    "[Andor Apogee Aspen CG16M](http://www.andor.com/pdfs/specifications/Apogee_Aspen_CG16M_Specifications.pdf), a low-end 4k × 4k CCD with a\n",
    "[Kodak KAF-16803 sensor chip](http://www.onsemi.com/pub/Collateral/KAF-16803-D.PDF). That model camera has a typical bias level\n",
    "around 1000 and read noise around 10 $e^-$, though the precise value varies from\n",
    "camera to camera and with temperature."
   ]
  },
  {
   "cell_type": "code",
   "execution_count": null,
   "metadata": {},
   "outputs": [],
   "source": [
    "%load_ext autoreload\n",
    "%autoreload 2"
   ]
  },
  {
   "cell_type": "code",
   "execution_count": null,
   "metadata": {},
   "outputs": [],
   "source": [
    "%matplotlib inline\n",
    "import matplotlib.pyplot as plt"
   ]
  },
  {
   "cell_type": "code",
   "execution_count": null,
   "metadata": {},
   "outputs": [],
   "source": [
    "# Use custom style for larger fonts and figures\n",
    "plt.style.use('guide.mplstyle')"
   ]
  },
  {
   "cell_type": "code",
   "execution_count": null,
   "metadata": {},
   "outputs": [],
   "source": [
    "from astropy.nddata import CCDData\n",
    "from astropy.visualization import hist\n",
    "\n",
    "import numpy as np\n",
    "\n",
    "from convenience_functions import show_image"
   ]
  },
  {
   "cell_type": "code",
   "execution_count": null,
   "metadata": {},
   "outputs": [],
   "source": [
    "one_bias = CCDData.read('single_bias_thermoelectric.fit.bz2', unit='adu')\n",
    "one_hundred_bias = CCDData.read('combined_bias_100_images.fit.bz2', unit='adu')"
   ]
  },
  {
   "cell_type": "code",
   "execution_count": null,
   "metadata": {},
   "outputs": [],
   "source": [
    "fig, (ax_1_bias, ax_avg_bias) = plt.subplots(1, 2, figsize=(30, 15))\n",
    "\n",
    "show_image(one_bias.data, cmap='gray', ax=ax_1_bias, fig=fig, input_ratio=8)\n",
    "ax_1_bias.set_title('Single bias image')\n",
    "show_image(one_hundred_bias.data, cmap='gray', ax=ax_avg_bias, fig=fig, input_ratio=8)\n",
    "ax_avg_bias.set_title('100 bias images combined');"
   ]
  },
  {
   "cell_type": "markdown",
   "metadata": {},
   "source": [
    "### Note a few things\n",
    "\n",
    "+ The bias level in this specific camera is about 1023 (the mid-range of the\n",
    "colorbar).\n",
    "+ The image is brighter on the left and right edges. This \"amplifier glow\" is\n",
    "frequently present and caused by the CCD electronics (photosensors with an\n",
    "applied voltage are LEDs).\n",
    "+ There are several vertical lines; these are columns for which the bias level\n",
    "is consistently higher.\n",
    "+ There is noticeable \"static\" in the images; that is read noise.\n",
    "+ None of the variations are particularly large.\n",
    "+ Combining several bias images vastly reduces the read noise. This example is a\n",
    "little unrealistic in that 100 bias images were combined, but it still illustrates the\n",
    "idea that combining images reduces noise."
   ]
  },
  {
   "cell_type": "markdown",
   "metadata": {},
   "source": [
    "## Impact of combining images on noise\n",
    "\n",
    "As discussed at length in the [notebook on combination](01-06-Image-combination.ipynb), the reason for\n",
    "taking and combining several calibration images is to reduce the noise if the\n",
    "images are used for calibration. The difference between a single image and a\n",
    "combination of images is apparent in the images above. Another way to see the\n",
    "impact of combining images is in the histogram of pixel values. Notice that the\n",
    "distribution of values is much narrower for the combined image than for a single\n",
    "bias. Pixels near the edges, where the amplifier glow is large, are binned\n",
    "separately from the rest of the pixels to emphasize the uniformity of the chip\n",
    "away from the glow."
   ]
  },
  {
   "cell_type": "code",
   "execution_count": null,
   "metadata": {},
   "outputs": [],
   "source": [
    "plt.figure(figsize=(20, 10))\n",
    "hist(one_bias.data[:, 15:-30].flatten(), bins=800, alpha=0.4, label='One bias', color='deepskyblue')\n",
    "hist(np.concatenate((one_bias.data[:, :15].flatten(), one_bias.data[:, -30:].flatten())), bins=400, alpha=0.2, label='One bias (edges only)', color='lightskyblue')\n",
    "#hist(, bins=800, alpha=0.2, label='One bias (edges only)', color='darkblue')\n",
    "hist(one_hundred_bias.data[:, 15:-30].flatten(), bins=800, alpha=0.4, label='One hundred bias images', color='darkgreen')\n",
    "hist(np.concatenate((one_hundred_bias.data[:, :15].flatten(), one_hundred_bias.data[:, -30:].flatten())), bins=800, alpha=0.4, label='One hundred bias images (edges only)', color='lightgreen')\n",
    "\n",
    "#hist(one_hundred_bias.data[:, :15].flatten(), bins=800, alpha=0.4, label='One hundred bias images', color='darkgreen')\n",
    "\n",
    "plt.grid()\n",
    "plt.xlim(975, 1400)\n",
    "plt.legend()\n",
    "plt.xlabel('Pixel value')\n",
    "plt.ylabel('Number of pixels')\n",
    "plt.semilogy();"
   ]
  },
  {
   "cell_type": "markdown",
   "metadata": {},
   "source": [
    "## Bias calibration  overview"
   ]
  },
  {
   "cell_type": "markdown",
   "metadata": {},
   "source": [
    "The progression here is to \"calibrate\" the bias images by subtracting overscan,\n",
    "if desired, trim the overscan from the bias images if it is present, and combine\n",
    "all of the bias images to make a \"combined\" bias (another common term for these\n",
    "images is \"master\" bias and occasionally \"super\" bias)."
   ]
  }
 ],
 "metadata": {
  "kernelspec": {
   "display_name": "Python 3",
   "language": "python",
   "name": "python3"
  },
  "language_info": {
   "codemirror_mode": {
    "name": "ipython",
    "version": 3
   },
   "file_extension": ".py",
   "mimetype": "text/x-python",
   "name": "python",
   "nbconvert_exporter": "python",
   "pygments_lexer": "ipython3",
   "version": "3.7.3"
  }
 },
 "nbformat": 4,
 "nbformat_minor": 4
}

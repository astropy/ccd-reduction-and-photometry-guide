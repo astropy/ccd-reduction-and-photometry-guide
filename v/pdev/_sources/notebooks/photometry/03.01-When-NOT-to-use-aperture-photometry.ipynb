{
 "cells": [
  {
   "cell_type": "markdown",
   "metadata": {},
   "source": [
    "# When NOT to use aperture photometry\n"
   ]
  }
 ],
 "metadata": {},
 "nbformat": 4,
 "nbformat_minor": 2
}

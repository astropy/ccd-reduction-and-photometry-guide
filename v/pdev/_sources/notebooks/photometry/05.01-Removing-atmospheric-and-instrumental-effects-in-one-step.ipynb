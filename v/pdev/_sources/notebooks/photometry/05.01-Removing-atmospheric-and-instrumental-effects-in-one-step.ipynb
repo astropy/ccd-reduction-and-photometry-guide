{
 "cells": [
  {
   "cell_type": "markdown",
   "metadata": {},
   "source": [
    "# Removing atmospheric and instrumental effects in one step\n"
   ]
  }
 ],
 "metadata": {},
 "nbformat": 4,
 "nbformat_minor": 2
}

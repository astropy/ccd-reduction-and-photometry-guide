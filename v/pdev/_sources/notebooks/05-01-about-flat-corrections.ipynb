{
 "cells": [
  {
   "cell_type": "markdown",
   "metadata": {},
   "source": [
    "# More about flat corrections"
   ]
  },
  {
   "cell_type": "markdown",
   "metadata": {},
   "source": [
    "## Overview of taking images for flat corrections\n",
    "\n",
    "There are a few ways of taking \"flat\" images:\n",
    "\n",
    "+ Twilight flats are images of the sky near zenith taken around sunrise or\n",
    "sunset.\n",
    "+ Dome flats are images of the inside of the dome (typically of a smooth\n",
    "surface, not of the dome itself),  illuminated by some light source in the dome.\n",
    "For smaller telescopes an electroluminescent or LED illuminated panel can be\n",
    "used as the light source.\n",
    "+ Sky flats are composed of several science images.\n",
    "\n",
    "Ideally the flat images have fairly high counts (roughly half the maximum counts\n",
    "of the detector) so that the *only* important source of error is Poisson error\n",
    "due to the light in the flat images, and so that the signal-to-noise ratio in\n",
    "those images is essentially zero."
   ]
  },
  {
   "cell_type": "markdown",
   "metadata": {},
   "source": [
    "## Calibrating and combining flat images\n",
    "\n",
    "The process of calibrating and combining flat frames is largely the same\n",
    "regardless of the light source being used.\n",
    "\n",
    "It is useful to think of flat frames as just like science images of stars or\n",
    "galaxies. The telescope is taking a picture of a light source, so bias and dark\n",
    "need to be removed from the individual images.\n",
    "\n",
    "When combining the images there is a new step we have not discussed yet:\n",
    "normalizing (also called rescaling) the calibrated flat frames to a common mean\n",
    "or median before combining them. In both sky and twilight flats the illumination\n",
    "varies naturally from frame-to-frame. If the images are not scaled to a common\n",
    "value before combining, then the ones taken while the sky is brighter will\n",
    "inappropriately dominate the result. Dome flats ought to be, in principle,\n",
    "perfectly stable with no time variation in their illumination. In practice,\n",
    "every light source varies at some level; if you are trying to correct 1%\n",
    "differences in illumination, then 1% fluctuations in the light source matter.\n",
    "\n",
    "Typically the mean or median is scaled to 1.0 before combining so that when the\n",
    "science images are divided by the calibrated, combined flats, the science image\n",
    "values do not change too much."
   ]
  }
 ],
 "metadata": {
  "kernelspec": {
   "display_name": "Python 3",
   "language": "python",
   "name": "python3"
  },
  "language_info": {
   "codemirror_mode": {
    "name": "ipython",
    "version": 3
   },
   "file_extension": ".py",
   "mimetype": "text/x-python",
   "name": "python",
   "nbconvert_exporter": "python",
   "pygments_lexer": "ipython3",
   "version": "3.7.3"
  },
  "toc": {
   "base_numbering": 1,
   "nav_menu": {},
   "number_sections": true,
   "sideBar": true,
   "skip_h1_title": true,
   "title_cell": "Table of Contents",
   "title_sidebar": "Contents",
   "toc_cell": true,
   "toc_position": {},
   "toc_section_display": true,
   "toc_window_display": false
  }
 },
 "nbformat": 4,
 "nbformat_minor": 4
}

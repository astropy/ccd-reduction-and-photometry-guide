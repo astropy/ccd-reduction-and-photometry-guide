{
 "cells": [
  {
   "cell_type": "markdown",
   "metadata": {},
   "source": [
    "# Reading images\n",
    "\n",
    "Astropy provides a few ways to read in FITS images, some in the core package and\n",
    "others in affiliated packages.\n",
    "\n",
    "Before exploring those, we'll create a set of (fake) images to work with."
   ]
  },
  {
   "cell_type": "code",
   "execution_count": null,
   "metadata": {},
   "outputs": [],
   "source": [
    "from pathlib import Path\n",
    "from astropy.nddata import CCDData\n",
    "from astropy.io import fits"
   ]
  },
  {
   "cell_type": "markdown",
   "metadata": {},
   "source": [
    "## Working with directories\n",
    "\n",
    "The cell below contains the path to the images. In this notebook we'll use it\n",
    "both to store the fake images we generate and to read images. In normal use, you\n",
    "wouldn't start by writing images there, however.\n",
    "\n",
    "If the images are in the same directory as the notebook, you can omit this or\n",
    "set it to an empty string `''`. Having images in the same directory as the\n",
    "notebook is less complicated, but it's not at all uncommon to need to work with\n",
    "images in a different directory.\n",
    "\n",
    "Later, we'll look at how to generate the full path to an image (directory plus\n",
    "file name) in a way that will work on any platform. One of the approaches to\n",
    "loading images (using `ccdproc.ImageFileCollection`) lets you mostly forget\n",
    "about this."
   ]
  },
  {
   "cell_type": "code",
   "execution_count": null,
   "metadata": {},
   "outputs": [],
   "source": [
    "data_directory = 'path/to/my/images'"
   ]
  },
  {
   "cell_type": "markdown",
   "metadata": {},
   "source": [
    "## Generate some fake images\n",
    "\n",
    "The cells below generate some fake images to use later in the notebook."
   ]
  },
  {
   "cell_type": "code",
   "execution_count": null,
   "metadata": {},
   "outputs": [],
   "source": [
    "from pathlib import Path\n",
    "from itertools import cycle\n",
    "\n",
    "import numpy as np\n",
    "\n",
    "image_path = Path(data_directory)\n",
    "\n",
    "image_path.mkdir(parents=True, exist_ok=True)\n",
    "\n",
    "images_to_generate = {\n",
    "    'BIAS': 5,\n",
    "    'DARK': 10,\n",
    "    'FLAT': 3,\n",
    "    'LIGHT': 10\n",
    "}\n",
    "\n",
    "exposure_times = {\n",
    "    'BIAS': [0.0],\n",
    "    'DARK': [5.0, 30.0],\n",
    "    'FLAT': [5.0, 6.1, 7.3],\n",
    "    'LIGHT': [30.0],\n",
    "}\n",
    "\n",
    "filters = {\n",
    "    'FLAT': 'V',\n",
    "    'LIGHT': 'V'\n",
    "}\n",
    "\n",
    "objects = {\n",
    "    'LIGHT': ['m82', 'xx cyg']\n",
    "}\n",
    "\n",
    "image_size = [300, 200]\n",
    "\n",
    "image_number = 0\n",
    "for image_type, num in images_to_generate.items():\n",
    "    exposures = cycle(exposure_times[image_type])\n",
    "    try:\n",
    "        filts = cycle(filters[image_type])\n",
    "    except KeyError:\n",
    "        filts = []\n",
    "    \n",
    "    try:\n",
    "        objs = cycle(objects[image_type])\n",
    "    except KeyError:\n",
    "        objs = []\n",
    "    for _ in range(num):\n",
    "        img = CCDData(data=np.random.randn(*image_size), unit='adu')\n",
    "        img.meta['IMAGETYP'] = image_type\n",
    "        img.meta['EXPOSURE'] = next(exposures)\n",
    "        if filts:\n",
    "            img.meta['FILTER'] = next(filts)\n",
    "        if objs:\n",
    "            img.meta['OBJECT'] = next(objs)\n",
    "        image_name = str(image_path / f'img-{image_number:04d}.fits')\n",
    "        img.write(image_name)\n",
    "        print(image_name)\n",
    "        image_number += 1"
   ]
  },
  {
   "cell_type": "markdown",
   "metadata": {},
   "source": [
    "## Option 1: Reading a single image with `astropy.io.fits`\n",
    "\n",
    "This option gives you the most flexibility but is the least adapted to CCD\n",
    "images specifically. What you read in is a list of FITS extensions; you must\n",
    "first select the one you want then access the data or header as desired.\n",
    "\n",
    "We'll open up the first of the fake images, `img-0001.fits`. To combine that\n",
    "with the directory name we'll use Python 3's `pathlib`, which ensures that the\n",
    "path combination will work on Windows too."
   ]
  },
  {
   "cell_type": "code",
   "execution_count": null,
   "metadata": {},
   "outputs": [],
   "source": [
    "image_name = 'img-0001.fits'\n",
    "\n",
    "image_path = Path(data_directory) / image_name\n",
    "\n",
    "hdu_list = fits.open(image_path)\n",
    "hdu_list.info()"
   ]
  },
  {
   "cell_type": "markdown",
   "metadata": {},
   "source": [
    "The `hdu_list` is a list of FITS Header-Data Units. In this case there is just\n",
    "one, containing both the image header and data, which can be accessed as shown\n",
    "below."
   ]
  },
  {
   "cell_type": "code",
   "execution_count": null,
   "metadata": {},
   "outputs": [],
   "source": [
    "hdu = hdu_list[0]\n",
    "hdu.header"
   ]
  },
  {
   "cell_type": "code",
   "execution_count": null,
   "metadata": {},
   "outputs": [],
   "source": [
    "hdu.data"
   ]
  },
  {
   "cell_type": "markdown",
   "metadata": {},
   "source": [
    "The [documentation for io.fits](https://astropy.readthedocs.io/en/stable/io/fits/index.html) describes more of its capabilities."
   ]
  },
  {
   "cell_type": "markdown",
   "metadata": {},
   "source": [
    "## Option 2:  Use `CCDData` to read in a single image\n",
    "\n",
    "Astropy contains a `CCDData` object for representing a single image. It's not as\n",
    "flexible as using `astrop.io.fits` directly (for example, it assumes there is\n",
    "only one FITS extension and that it contains image data) but it sets up several\n",
    "properties that make the data easier to work with.\n",
    "\n",
    "We'll read in the same single image we did in the example above,\n",
    "`img-0001.fits`."
   ]
  },
  {
   "cell_type": "code",
   "execution_count": null,
   "metadata": {},
   "outputs": [],
   "source": [
    "ccd = CCDData.read(image_path)"
   ]
  },
  {
   "cell_type": "markdown",
   "metadata": {},
   "source": [
    "The data and header are accessed similarly to how you access it in an HDU\n",
    "returned by `astropy.io.fits`:"
   ]
  },
  {
   "cell_type": "code",
   "execution_count": null,
   "metadata": {},
   "outputs": [],
   "source": [
    "ccd.header"
   ]
  },
  {
   "cell_type": "code",
   "execution_count": null,
   "metadata": {},
   "outputs": [],
   "source": [
    "ccd.data"
   ]
  },
  {
   "cell_type": "markdown",
   "metadata": {},
   "source": [
    "There are a [number of features of `CCDData`](https://astropy.readthedocs.io/en/stable/nddata/ccddata.html) that make it convenient for working\n",
    "with WCS, slicing, and more. Some of those features will be discussed in more\n",
    "detail in the notebooks that follow."
   ]
  },
  {
   "cell_type": "markdown",
   "metadata": {},
   "source": [
    "## Option 3: Working with a directory of images using `ImageFileCollection`\n",
    "\n",
    "The affiliated package [ccdproc](https://ccdproc.readthedocs.io/) provides an easier way\n",
    "to work with collections of images in a directory: an `ImageFileCollection`. The\n",
    "`ImageFileCollection` is initialized with the name of the directory containing\n",
    "the images."
   ]
  },
  {
   "cell_type": "code",
   "execution_count": null,
   "metadata": {},
   "outputs": [],
   "source": [
    "from ccdproc import ImageFileCollection\n",
    "im_collection = ImageFileCollection(data_directory)"
   ]
  },
  {
   "cell_type": "markdown",
   "metadata": {},
   "source": [
    "Note that we didn't need to worry about using `pathlib` to combine the directory\n",
    "and file name, instead we give the collection the name of the directory."
   ]
  },
  {
   "cell_type": "markdown",
   "metadata": {},
   "source": [
    "### Summary of directory contents\n",
    "\n",
    "The `summary` property provides an overview of the files in the directory: it's\n",
    "an astropy `Table`, so you can access columns in the usual way."
   ]
  },
  {
   "cell_type": "code",
   "execution_count": null,
   "metadata": {},
   "outputs": [],
   "source": [
    "im_collection.summary"
   ]
  },
  {
   "cell_type": "markdown",
   "metadata": {},
   "source": [
    "### Filtering and iterating over images\n",
    "\n",
    "The great thing about `ImageFileCollection` is that it provides convenient ways\n",
    "to filter or loop over files via FITS header keyword values.\n",
    "\n",
    "For example, looping over just the flat files is one line of code:"
   ]
  },
  {
   "cell_type": "code",
   "execution_count": null,
   "metadata": {},
   "outputs": [],
   "source": [
    "for a_flat in im_collection.hdus(imagetyp='FLAT'):\n",
    "    print(a_flat.header['EXPOSURE'])"
   ]
  },
  {
   "cell_type": "markdown",
   "metadata": {},
   "source": [
    "Instead of iterating over HDUs, as in the example above, you can iterate over\n",
    "just the headers (with `.headers`) or just the data (with `.data`). You can use\n",
    "any FITS keyword from the header as a keyword for selecting the images you want.\n",
    "In addition, you can return the file name while also iterating."
   ]
  },
  {
   "cell_type": "code",
   "execution_count": null,
   "metadata": {},
   "outputs": [],
   "source": [
    "for a_flat, fname in im_collection.hdus(imagetyp='LIGHT', object='m82', return_fname=True):\n",
    "    print(f'In file {fname} the exposure is:', a_flat.header['EXPOSURE'], 'with standard deviation ', a_flat.data.std())"
   ]
  },
  {
   "cell_type": "markdown",
   "metadata": {},
   "source": [
    "The [documentation for `ImageFileCollection`](https://ccdproc.readthedocs.io/en/latest/ccdproc/image_management.html) describes more of its capabilities.\n",
    "`ImageFileCollection` can automatically save a copy of each image as you iterate\n",
    "over them, for example."
   ]
  },
  {
   "cell_type": "code",
   "execution_count": null,
   "metadata": {},
   "outputs": [],
   "source": [
    "for a_flat, fname in im_collection.ccds(bunit='ADU', return_fname=True):\n",
    "    print(a_flat.unit)"
   ]
  },
  {
   "cell_type": "code",
   "execution_count": null,
   "metadata": {},
   "outputs": [],
   "source": [
    "a_flat.header"
   ]
  }
 ],
 "metadata": {
  "kernelspec": {
   "display_name": "Python 3",
   "language": "python",
   "name": "python3"
  },
  "language_info": {
   "codemirror_mode": {
    "name": "ipython",
    "version": 3
   },
   "file_extension": ".py",
   "mimetype": "text/x-python",
   "name": "python",
   "nbconvert_exporter": "python",
   "pygments_lexer": "ipython3",
   "version": "3.6.8"
  }
 },
 "nbformat": 4,
 "nbformat_minor": 2
}

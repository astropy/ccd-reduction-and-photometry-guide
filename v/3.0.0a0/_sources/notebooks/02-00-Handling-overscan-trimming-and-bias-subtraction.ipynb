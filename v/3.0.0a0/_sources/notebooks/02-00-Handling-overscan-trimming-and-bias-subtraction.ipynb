{
 "cells": [
  {
   "cell_type": "markdown",
   "metadata": {},
   "source": [
    "# Handling overscan, trimming, and bias subtraction\n"
   ]
  },
  {
   "cell_type": "markdown",
   "metadata": {},
   "source": [
    "The bias in a CCD camera is a DC offset applied to all pixels so that when the\n",
    "voltage in each pixel is converted to a number, the number will always be\n",
    "positive. In an ideal CCD the bias would be the same for every pixel and not\n",
    "change over time. In practice, the bias is slightly different for each pixel,\n",
    "and can vary by a count or two from night to night or during a night.\n",
    "\n",
    "A bias *image* is a picture taken with the shutter closed and zero exposure\n",
    "time; think about it as a command to the camera to do whatever it usually does\n",
    "to prepare the camera's electronics to take an image and then immediately read\n",
    "out the CCD as though you had taken a picture.\n",
    "\n",
    "The *overscan* is a portion of CCD chip that is not exposed to light. In some cameras this is literally several extra rows and/or columns that are not exposed to light while in others the overscan is produced electronically. It can be useful if the bias level changes over the course of a night."
   ]
  }
 ],
 "metadata": {
  "kernelspec": {
   "display_name": "Python 3",
   "language": "python",
   "name": "python3"
  },
  "language_info": {
   "codemirror_mode": {
    "name": "ipython",
    "version": 3
   },
   "file_extension": ".py",
   "mimetype": "text/x-python",
   "name": "python",
   "nbconvert_exporter": "python",
   "pygments_lexer": "ipython3",
   "version": "3.7.3"
  }
 },
 "nbformat": 4,
 "nbformat_minor": 4
}

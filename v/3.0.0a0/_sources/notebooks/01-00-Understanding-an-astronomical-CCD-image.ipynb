{
 "cells": [
  {
   "cell_type": "markdown",
   "metadata": {},
   "source": [
    "# Astronomical Images\n"
   ]
  },
  {
   "cell_type": "markdown",
   "metadata": {},
   "source": [
    "An astronomical image like the one shown below is essentially a two-dimensional\n",
    "array of values. In an ideal world, the value of each pixel (a pixel being one\n",
    "element of the array) would be directly proportional to the amount of light that\n",
    "fell on the pixel during the time the camera's shutter was open.\n",
    "\n",
    "But the ideal scenario does not in fact hold true. A solid understanding of\n",
    "*why* pixel values are not directly proportional to light is useful before\n",
    "diving into the details of image reduction."
   ]
  }
 ],
 "metadata": {
  "kernelspec": {
   "display_name": "Python 3",
   "language": "python",
   "name": "python3"
  },
  "language_info": {
   "codemirror_mode": {
    "name": "ipython",
    "version": 3
   },
   "file_extension": ".py",
   "mimetype": "text/x-python",
   "name": "python",
   "nbconvert_exporter": "python",
   "pygments_lexer": "ipython3",
   "version": "3.7.3"
  }
 },
 "nbformat": 4,
 "nbformat_minor": 4
}

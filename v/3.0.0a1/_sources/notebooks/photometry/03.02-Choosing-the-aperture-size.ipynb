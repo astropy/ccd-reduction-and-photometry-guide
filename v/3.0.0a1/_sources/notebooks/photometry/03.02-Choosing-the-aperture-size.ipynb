{
 "cells": [
  {
   "cell_type": "markdown",
   "metadata": {},
   "source": [
    "# Choosing the aperture size\n"
   ]
  }
 ],
 "metadata": {},
 "nbformat": 4,
 "nbformat_minor": 2
}

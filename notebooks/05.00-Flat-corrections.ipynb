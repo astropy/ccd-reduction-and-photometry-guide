{
 "cells": [
  {
   "cell_type": "markdown",
   "metadata": {},
   "source": [
    "# Flat corrections\n"
   ]
  },
  {
   "cell_type": "markdown",
   "metadata": {},
   "source": [
    "The purpose of flat corrections is to compensate for any non-uniformity in the response of the CCD to light. There can be several reasons that the response is not uniform across the detector:\n",
    "\n",
    "+ variations in the sensitivity of pixels in the detector, though this source is usually small.\n",
    "+ dust on either the filter or the glass window covering the detector.\n",
    "+ vignetting, a dimming in the corners of the image.\n",
    "+ anything else in the optical path that affects how much light reaches the sensor."
   ]
  }
 ],
 "metadata": {
  "kernelspec": {
   "display_name": "Python 3",
   "language": "python",
   "name": "python3"
  },
  "language_info": {
   "codemirror_mode": {
    "name": "ipython",
    "version": 3
   },
   "file_extension": ".py",
   "mimetype": "text/x-python",
   "name": "python",
   "nbconvert_exporter": "python",
   "pygments_lexer": "ipython3",
   "version": "3.6.8"
  }
 },
 "nbformat": 4,
 "nbformat_minor": 2
}

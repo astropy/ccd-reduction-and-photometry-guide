{
 "cells": [
  {
   "cell_type": "markdown",
   "metadata": {},
   "source": [
    "# Flat corrections\n"
   ]
  },
  {
   "cell_type": "markdown",
   "metadata": {},
   "source": [
    "The purpose of flat corrections is to compensate for any non-uniformity in the response of the CCD to light. There can be several reasons that the response is not uniform across the detector:\n",
    "\n",
    "+ variations in the sensitivity of pixels in the detector, though this source is usually small.\n",
    "+ dust on either the filter or the glass window covering the detector.\n",
    "+ vignetting, a dimming in the corners of the image.\n",
    "+ anything else in the optical path that affects how much light reaches the sensor.\n",
    "\n",
    "The fix for the non-uniformity is the same in all cases: take an image in which the illumination is uniform and use that to measure the response of the CCD.\n",
    "\n",
    "Unfortunately, achieving uniform illumination is difficult, and uniform illumination with the same spectrum as the astronomical objects of interest to you is impossible.\n",
    "\n",
    "There are a few ways of taking \"flat\" images:\n",
    "\n",
    "+ Twilight flats are images of the sky near zenith taken around sunrise or sunset.\n",
    "+ Dome flats are images of a flat panel on the wall of the dome, illuminated by some light source in the dome.\n",
    "+ Sky flats are composed of several science images. \n",
    "\n",
    "Ideally the flat images have fairly high counts (roughly half the maximum counts of the detector) so that the *only* important source of error is Poisson error due to the light in the flat images, and so that the signal-to-noise ratio in those images is essentially zero."
   ]
  }
 ],
 "metadata": {
  "kernelspec": {
   "display_name": "Python 3",
   "language": "python",
   "name": "python3"
  },
  "language_info": {
   "codemirror_mode": {
    "name": "ipython",
    "version": 3
   },
   "file_extension": ".py",
   "mimetype": "text/x-python",
   "name": "python",
   "nbconvert_exporter": "python",
   "pygments_lexer": "ipython3",
   "version": "3.6.8"
  }
 },
 "nbformat": 4,
 "nbformat_minor": 2
}

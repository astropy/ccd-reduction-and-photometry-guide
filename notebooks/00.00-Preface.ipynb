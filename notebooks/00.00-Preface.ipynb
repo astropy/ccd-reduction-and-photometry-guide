{
 "cells": [
  {
   "cell_type": "markdown",
   "metadata": {},
   "source": [
    "# Preface\n"
   ]
  },
  {
   "cell_type": "markdown",
   "metadata": {},
   "source": [
    "The purpose of this text is to walk through image reduction and photometry using Python, especially Astropy and its affiliated packages. It assumes some basic familiarity with astronomical images and with Python. The inspiration for this work is a pair of guides written for IRAF, \"A User's Guide to CCD Reductions with IRAF\" (Massey 1997) and \"A User's Guide to Stellar CCD Photometry with IRAF\" (Massey and Davis 1992).\n",
    "\n",
    "The focus is on optical/IR images, not spectra."
   ]
  },
  {
   "cell_type": "markdown",
   "metadata": {},
   "source": [
    "## Software setup\n",
    "\n",
    "The recommended way to get set up to use this guide is to use the [Anaconda Python distribution](https://www.anaconda.com/download/) (or the much smaller [miniconda installer](https://conda.io/miniconda.html)). Once you have that, you can install everything you need with:\n",
    "\n",
    "```\n",
    "conda install -c astropy ccdproc photutils ipywidgets matplotlib\n",
    "```"
   ]
  }
 ],
 "metadata": {
  "kernelspec": {
   "display_name": "Python 3",
   "language": "python",
   "name": "python3"
  },
  "language_info": {
   "codemirror_mode": {
    "name": "ipython",
    "version": 3
   },
   "file_extension": ".py",
   "mimetype": "text/x-python",
   "name": "python",
   "nbconvert_exporter": "python",
   "pygments_lexer": "ipython3",
   "version": "3.6.4"
  }
 },
 "nbformat": 4,
 "nbformat_minor": 2
}

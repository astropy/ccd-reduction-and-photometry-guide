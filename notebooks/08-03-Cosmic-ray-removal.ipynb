{
 "cells": [
  {
   "cell_type": "markdown",
   "metadata": {},
   "source": [
    "# Cosmic ray removal\n",
    "\n",
    "Almost all images from a CCD will include some number of cosmic rays, charged\n",
    "particles which bombard the Earth's upper atmosphere. Some of those will make it\n",
    "through the atmosphere and into your detector (the rate of cosmic rays will be\n",
    "much higher for cameras in space). Although the number of cosmic rays is roughly\n",
    "proportional to exposure time, there will be cosmic rays even in bias frames in\n",
    "which the chip is immediately read out.\n",
    "\n",
    "This notebook explains how to remove cosmic rays from calibration images and\n",
    "science images."
   ]
  },
  {
   "cell_type": "markdown",
   "metadata": {},
   "source": [
    "## Removal from calibration images\n",
    "\n",
    "The most convenient way to remove cosmic rays from calibration images (bias, dark, and\n",
    "flat images) is to combine them properly. Cosmic rays are, by their nature,\n",
    "random events that will affect different parts of each of the calibration\n",
    "images. A pixel affected by a cosmic ray in one of the dark images, for example,\n",
    "will almost certainly *not* be affected by a cosmic ray in any of the other dark\n",
    "images.\n",
    "\n",
    "Combining those images by averaging (to reduce noise as much as possible) and\n",
    "sigma clipping (to exclude extreme pixels in individual images like the one with\n",
    "a cosmic ray) will eliminate the cosmic ray from the combined dark image. An\n",
    "alternative would be to combine the images using a median. A detailed\n",
    "description of each option is discussed in the [section on image combination](01-06-Image-combination.ipynb).\n",
    "\n",
    "The method described below for removing cosmic rays from science images will not\n",
    "work well for removing them from calibration images and is unnecessary because\n",
    "they can be removed by properly combining the images."
   ]
  },
  {
   "cell_type": "markdown",
   "metadata": {},
   "source": [
    "## Removal from science images\n",
    "\n",
    "One good technique for removing cosmic rays from an image is the\n",
    "[LACosmic method](http://www.astro.yale.edu/dokkum/lacosmic/) originally developed and implemented for IRAF\n",
    "by [Pieter G. van Dokkum](https://www.pietervandokkum.com/). The original paper describing the method,\n",
    "which uses the sharp edges of cosmic rays to distinguish them from other sources\n",
    "in the image, is [here](http://adsabs.harvard.edu/abs/2001PASP..113.1420V).\n",
    "\n",
    "\n",
    "The specific implementation of LACosmic used here is the astropy affiliated\n",
    "package [Astro-SCRAPPY](https://github.com/astropy/astroscrappy). If you use this code to remove cosmic\n",
    "rays you should cite both the original paper and\n",
    "[Astro-SCRAPPY](https://github.com/astropy/astroscrappy) (citation details are on its web site). The\n",
    "code below never directly imports [Astro-SCRAPPY](https://github.com/astropy/astroscrappy) because\n",
    "`ccdproc` provides a wrapper for it, so we called attention to it here."
   ]
  },
  {
   "cell_type": "markdown",
   "metadata": {},
   "source": [
    "### Very important notes about using LACosmic\n",
    "\n",
    "There are a few things to be aware of before using the LACosmic technique. These\n",
    "are drawn from the advice van Dokkum provides under\n",
    "[Notes for Users](http://www.astro.yale.edu/dokkum/lacosmic/) and the original paper.\n",
    "\n",
    "1. The images must be bias and dark subtracted.\n",
    "2. The images should be flat fielded, though the technique can be applied\n",
    "without flat fielding.\n",
    "3. The images should **not** have the sky subtracted before detecting the cosmic\n",
    "rays.\n",
    "4. The noise level in the image needs to be accurately measured.\n",
    "5. The image and the noise have to be in the same units, typically electrons.\n",
    "1. If there are pixels that are known to be bad (e.g., hot pixels, pixels\n",
    "identified by `ccdmask`) they should be masked out before detecting cosmic rays."
   ]
  },
  {
   "cell_type": "code",
   "execution_count": null,
   "metadata": {},
   "outputs": [],
   "source": [
    "from pathlib import Path\n",
    "\n",
    "import numpy as np\n",
    "from matplotlib import pyplot as plt\n",
    "\n",
    "from astropy.nddata import CCDData\n",
    "from astropy.nddata.utils import block_replicate\n",
    "from astropy import units as u\n",
    "import ccdproc as ccdp\n",
    "from photutils import detect_sources\n",
    "\n",
    "from convenience_functions import show_image, display_cosmic_rays"
   ]
  },
  {
   "cell_type": "code",
   "execution_count": null,
   "metadata": {},
   "outputs": [],
   "source": [
    "# Use custom style for larger fonts and figures\n",
    "plt.style.use('guide.mplstyle')"
   ]
  },
  {
   "cell_type": "markdown",
   "metadata": {},
   "source": [
    "### Input image\n",
    "\n",
    "The image we will use in this notebook is one of the reduced images from Example\n",
    "2 in the previous notebooks. It is an image of the field of the exoplanet\n",
    "KELT-16 b, taken with a thermoelectrically-cooled CCD with read noise of 10$e^-$\n",
    "and gain of $1.5~e^-$/ADU."
   ]
  },
  {
   "cell_type": "code",
   "execution_count": null,
   "metadata": {},
   "outputs": [],
   "source": [
    "ex2_path = Path('example2-reduced')\n",
    "\n",
    "ccd = CCDData.read(ex2_path / 'kelt-16-b-S001-R001-C084-r.fit')"
   ]
  },
  {
   "cell_type": "code",
   "execution_count": null,
   "metadata": {},
   "outputs": [],
   "source": [
    "show_image(ccd, cmap='gray')"
   ]
  },
  {
   "cell_type": "markdown",
   "metadata": {},
   "source": [
    "The unit of this image is ADU, so we need to multiply by the gain to convert to\n",
    "electrons."
   ]
  },
  {
   "cell_type": "code",
   "execution_count": null,
   "metadata": {},
   "outputs": [],
   "source": [
    "ccd = ccdp.gain_correct(ccd, 1.5 * u.electron / u.adu)"
   ]
  },
  {
   "cell_type": "markdown",
   "metadata": {},
   "source": [
    "### Reading in and applying masks"
   ]
  },
  {
   "cell_type": "markdown",
   "metadata": {},
   "source": [
    "Two masks were calculated earlier. Hot pixels, whose dark current cannot be\n",
    "corrected, were [identified by comparing dark frames of different exposure time](08-01-Identifying-hot-pixels.ipynb).  The\n",
    "[function `ccdmask` was used](08-02-Creating-a-mask) to identify other bad pixels; one example was a\n",
    "column of pixels on the left side of the image.\n",
    "\n",
    "We read in both of the masks, which are the same for all images, and combine\n",
    "using logical \"OR.\""
   ]
  },
  {
   "cell_type": "code",
   "execution_count": null,
   "metadata": {},
   "outputs": [],
   "source": [
    "dark_mask = CCDData.read(ex2_path / 'mask_from_dark_current.fits', unit=u.dimensionless_unscaled)"
   ]
  },
  {
   "cell_type": "code",
   "execution_count": null,
   "metadata": {},
   "outputs": [],
   "source": [
    "ccdmask_mask = CCDData.read(ex2_path / 'mask_from_ccdmask.fits', unit=u.dimensionless_unscaled)"
   ]
  },
  {
   "cell_type": "code",
   "execution_count": null,
   "metadata": {},
   "outputs": [],
   "source": [
    "combined_mask = dark_mask.data | ccdmask_mask.data"
   ]
  },
  {
   "cell_type": "code",
   "execution_count": null,
   "metadata": {},
   "outputs": [],
   "source": [
    "show_image(combined_mask, cmap='gray')"
   ]
  },
  {
   "cell_type": "markdown",
   "metadata": {},
   "source": [
    "Excluding these pixels from cosmic ray detection ensures that only cosmic rays\n",
    "are  identified.\n",
    "\n",
    "The mask is now applied to the image of KELT-16 b."
   ]
  },
  {
   "cell_type": "code",
   "execution_count": null,
   "metadata": {},
   "outputs": [],
   "source": [
    "ccd.mask = combined_mask"
   ]
  },
  {
   "cell_type": "markdown",
   "metadata": {},
   "source": [
    "### Running LACosmic\n",
    "\n",
    "The actual invocation of LACosmic is fairly convenient. The key parameters\n",
    "are `readnoise`, the read noise, and `sigclip`, which determines how far above\n",
    "the background a pixel needs to be to consider it a cosmic ray. There is no\n",
    "hard-and-fast rule for selecting the proper value of `sigclip`. In the original\n",
    "paper a value of 5 is recommended, but for this image it finds several thousand\n",
    "pixels contaminated by cosmic rays. That is not plausible for an image taken\n",
    "with a camera 1,000 feet above sea level.\n",
    "\n",
    "Higher values of `sigclip` reduce the number of cosmic rays found. The value\n",
    "used below, 7, seemed to work well for this image, finding a total of roughly 70\n",
    "pixels that are cosmic rays, and a couple dozen candidate cosmic rays that\n",
    "extend across multiple pixels.\n",
    "\n",
    "The function [`cosmicray_lacosmic`](https://ccdproc.readthedocs.io/en/latest/api/ccdproc.cosmicray_lacosmic.html#ccdproc.cosmicray_lacosmic) from `ccdproc` returns a new image in which\n",
    "the mask is `True` for pixels in which a cosmic ray was detected and `False`\n",
    "otherwise. The data in the new image has values in the pixels in which cosmic\n",
    "rays were identified replaced by interpolating the neighboring pixels.\n",
    "\n",
    "We will take a look at the cosmic rays identified by LACosmic in a moment.\n",
    "\n",
    "Expect the code below to take at least a few tens of seconds to run."
   ]
  },
  {
   "cell_type": "code",
   "execution_count": null,
   "metadata": {},
   "outputs": [],
   "source": [
    "%%time\n",
    "new_ccd = ccdp.cosmicray_lacosmic(ccd, readnoise=10, sigclip=7, verbose=True)"
   ]
  },
  {
   "cell_type": "markdown",
   "metadata": {},
   "source": [
    "The mask of `new_ccd` includes both cosmic rays identified by\n",
    "`cosmicray_lacosmic` and the mask we applied to `ccd` above. To get only the\n",
    "cosmic rays, we set the mask to `False` for all of those pixels that were masked\n",
    "before LACosmic ran."
   ]
  },
  {
   "cell_type": "code",
   "execution_count": null,
   "metadata": {},
   "outputs": [],
   "source": [
    "cr_mask = new_ccd.mask\n",
    "cr_mask[ccd.mask] = False"
   ]
  },
  {
   "cell_type": "markdown",
   "metadata": {},
   "source": [
    "The sum of the mask indicates how many pixels have been identified as cosmic\n",
    "rays."
   ]
  },
  {
   "cell_type": "code",
   "execution_count": null,
   "metadata": {},
   "outputs": [],
   "source": [
    "new_ccd.mask.sum() "
   ]
  },
  {
   "cell_type": "markdown",
   "metadata": {},
   "source": [
    "### Examining the cosmic rays identified by LACosmic\n",
    "\n",
    "There are 70 pixels that have been flagged as cosmic rays. Looking through each\n",
    "of them individually would be tedious, at best. It would also presumably be\n",
    "difficult to decide visually if a single pixel tagged as a cosmic ray was\n",
    "actually a cosmic ray, but it would be helpful to look at the larger cosmic\n",
    "rays (i.e., those that span multiple pixels).\n",
    "\n",
    "To identify those larger cosmic rays we will use the function `detect_sources`\n",
    "from the package [photutils](https://photutils.readthedocs.io), which identifies contiguous\n",
    "pixels in an image via image segmentation. Though\n",
    "[`detect_sources`](https://photutils.readthedocs.io/en/stable/api/photutils.segmentation.detect_sources.html#photutils.segmentation.detect_sources) is intended for detecting extended or stellar  sources in an image it happens to work very well for identifying extended cosmic rays in the mask generated by [`cosmicray_lacosmic`](https://ccdproc.readthedocs.io/en/latest/api/ccdproc.cosmicray_lacosmic.html#ccdproc.cosmicray_lacosmic).\n",
    "\n",
    "The threshold below should be something less than 1 to ensure that only the\n",
    "masked pixels (i.e., those whose values are 1) are included as sources. The\n",
    "number of pixels is the number which must be adjacent (either by edge or by\n",
    "corner) to be considered a source."
   ]
  },
  {
   "cell_type": "code",
   "execution_count": null,
   "metadata": {},
   "outputs": [],
   "source": [
    "threshold = 0.5\n",
    "n_pixels = 3\n",
    "crs = detect_sources(new_ccd.mask, threshold, n_pixels)"
   ]
  },
  {
   "cell_type": "markdown",
   "metadata": {},
   "source": [
    "We first check to see how many of the pixels identified by LACosmic are part of\n",
    "these extended cosmic rays."
   ]
  },
  {
   "cell_type": "code",
   "execution_count": null,
   "metadata": {},
   "outputs": [],
   "source": [
    "crs.areas"
   ]
  },
  {
   "cell_type": "markdown",
   "metadata": {},
   "source": [
    "It looks like about 50% of the pixels marked as cosmic rays are extended over\n",
    "multiple adjacent pixels."
   ]
  },
  {
   "cell_type": "markdown",
   "metadata": {},
   "source": [
    "In this particular science image there are three things being identified as\n",
    "cosmic rays:\n",
    "\n",
    "+ Actual cosmic rays.\n",
    "+ Single hot pixels (i.e., pixels with unusually high dark current).\n",
    "\n",
    "These conclusions are not at all clear from what we have discussed in this\n",
    "notebook so far. They are based on a detailed examination of the images after\n",
    "looking at thumbnail views of the cosmic ray mask, the science image in which\n",
    "the cosmic rays were detected and the combined dark frame that was used to\n",
    "calibrate this science image.\n",
    "\n",
    "That thumbnail view turned out to be a useful enough comparison that a function\n",
    "called `display_cosmic_rays` is provided in `convenience_functions.py` that will\n",
    "display the cosmic ray mask and as many additional comparison images as you\n",
    "would like.\n",
    "\n",
    "Since one of the images that turns out to be useful to look at in this example is\n",
    "the combined dark used in calibrating the science image, we load it."
   ]
  },
  {
   "cell_type": "code",
   "execution_count": null,
   "metadata": {},
   "outputs": [],
   "source": [
    "ccd_dark = CCDData.read(ex2_path / 'combined_dark_90.000.fit')"
   ]
  },
  {
   "cell_type": "markdown",
   "metadata": {},
   "source": [
    "One note about the argument `only_display_rays` below, which restricts the\n",
    "cosmic rays that are displayed to that list. The list was chosen by first\n",
    "viewing *all* of the cosmic rays and choosing a representative sample for\n",
    "inclusion in this discussion. Display them all by setting\n",
    "`only_display_rays=None` in the call to `display_cosmic_rays`."
   ]
  },
  {
   "cell_type": "code",
   "execution_count": null,
   "metadata": {},
   "outputs": [],
   "source": [
    "images_to_display = [new_ccd.mask, ccd, ccd_dark]\n",
    "image_titles = ['Mask', 'Science image', 'Combined dark']\n",
    "display_cosmic_rays(crs, images_to_display, titles=image_titles,\n",
    "                    only_display_rays=[0, 1, 14, 18]\n",
    "                   )"
   ]
  },
  {
   "cell_type": "markdown",
   "metadata": {},
   "source": [
    "### Discussion of sample cosmic rays\n",
    "\n",
    "The first three examples above, labeled \"Cosmic ray 0,\" \"Cosmic ray 1,\" and\n",
    "\"Cosmic ray 14,\" are clear-cut; each is actually a cosmic ray.\n",
    "\n",
    "The fourth, \"Cosmic ray 18,\" is not a cosmic ray, though it does correspond to a\n",
    "defect in the CCD. It is caused by a single  hot pixel (dark current around\n",
    "2$e^-$/sec) that has a  high value in the combined dark frame. When that\n",
    "combined dark is subtracted from the science image it causes a large *negative*\n",
    "value in the value of the science image which ends up being identified as a\n",
    "cosmic ray."
   ]
  },
  {
   "cell_type": "markdown",
   "metadata": {},
   "source": [
    "### Saving the mask with the image\n",
    "\n",
    "To save the full mask, including cosmic rays, hot pixels, and pixels identified\n",
    "by `ccdmask`, set the mask of `ccd` to the mask of `new_ccd`. In some use cases\n",
    "you might prefer to save `new_ccd` itself. The difference between the two is\n",
    "that the pixel values in which there are cosmic rays have been replaced in\n",
    "`new_ccd` by values representative of the surrounding pixels."
   ]
  },
  {
   "cell_type": "code",
   "execution_count": null,
   "metadata": {},
   "outputs": [],
   "source": [
    "ccd.mask = new_ccd.mask\n",
    "\n",
    "# This saves both the image and the mask\n",
    "ccd.write('example-with-cosmic-rays.fits')"
   ]
  },
  {
   "cell_type": "markdown",
   "metadata": {},
   "source": [
    "## What happens if you do not mask?"
   ]
  },
  {
   "cell_type": "markdown",
   "metadata": {},
   "source": [
    "In the example above we masked the pixels known to be bad in all of the images\n",
    "before detecting cosmic rays. It is possible to do cosmic ray detection without\n",
    "prior masking. The downside of not masking is that many features that are not\n",
    "cosmic rays are identified as cosmic rays, and some real cosmic rays are not\n",
    "detected.\n",
    "\n",
    "We begin with a fresh copy of the input image and run cosmic ray detection with\n",
    "the same parameters as above."
   ]
  },
  {
   "cell_type": "code",
   "execution_count": null,
   "metadata": {},
   "outputs": [],
   "source": [
    "ccd = CCDData.read(ex2_path / 'kelt-16-b-S001-R001-C084-r.fit')"
   ]
  },
  {
   "cell_type": "code",
   "execution_count": null,
   "metadata": {},
   "outputs": [],
   "source": [
    "%%time\n",
    "new_ccd_no_premask = ccdp.cosmicray_lacosmic(ccd, readnoise=10, sigclip=7, verbose=True)"
   ]
  },
  {
   "cell_type": "code",
   "execution_count": null,
   "metadata": {},
   "outputs": [],
   "source": [
    "print(\"Pre-masking detects {} cosmic ray pixels.\\nNo pre-masking detects {} cosmic ray pixels.\".format(new_ccd.mask.sum(), new_ccd_no_premask.mask.sum()))"
   ]
  },
  {
   "cell_type": "markdown",
   "metadata": {},
   "source": [
    "Many of the additional pixels detected as cosmic rays are in the leftmost column\n",
    "of the image. The column is actually bad (it is covered on the CCD and receives\n",
    "no light)."
   ]
  },
  {
   "cell_type": "code",
   "execution_count": null,
   "metadata": {},
   "outputs": [],
   "source": [
    "crs_no_premask = detect_sources(new_ccd_no_premask.mask, threshold, n_pixels)"
   ]
  },
  {
   "cell_type": "code",
   "execution_count": null,
   "metadata": {},
   "outputs": [],
   "source": [
    "crs_no_premask.areas"
   ]
  },
  {
   "cell_type": "markdown",
   "metadata": {},
   "source": [
    "### Some of these are not cosmic rays\n",
    "\n",
    "The display below shows a few examples of areas identified by\n",
    "`cosmicray_lacosmic` that are not actually cosmic rays. These false positives\n",
    "are harmless because they reflect real problems with the detector and should be\n",
    "masked out anyway.\n",
    "\n",
    "More problematic are the cosmic rays that are undetected if the image is not\n",
    "masked first. As an example, the cosmic ray labeled \"Cosmic ray 0\" in the\n",
    "[example above in which a mask was applied before detecting cosmic rays](#Discussion-of-sample-cosmic-rays) is not detected at all when no masking is done."
   ]
  },
  {
   "cell_type": "code",
   "execution_count": null,
   "metadata": {},
   "outputs": [],
   "source": [
    "images_to_display = [new_ccd_no_premask.mask, ccd, ccd_dark]\n",
    "image_titles = ['Mask', 'Science image', 'Combined dark']\n",
    "display_cosmic_rays(crs_no_premask, images_to_display, titles=image_titles,\n",
    "                    only_display_rays=[0, 1, 2]\n",
    "                   )"
   ]
  },
  {
   "cell_type": "markdown",
   "metadata": {},
   "source": [
    "### Discussion"
   ]
  },
  {
   "cell_type": "markdown",
   "metadata": {},
   "source": [
    "The first example above is the bad column on the left side of the image.\n",
    "\n",
    "The one label \"Cosmic ray 1\" is caused by a single hot pixel with a large count\n",
    "in the dark frames, which leads to a large negative value in the calibrated\n",
    "science image. LACosmic tags that pixel and many around it as cosmic rays. While\n",
    "the individual hot pixel should be masked, the ones around it do not need to be\n",
    "masked.\n",
    "\n",
    "The final example, \"Cosmic ray 3,\" looks a lot like a star. It is, in fact, the\n",
    "after-image of one of the bright stars in the field of KELT-16 b. Bright stars in\n",
    "the field of view can deposit enough charge that it does not dissipate between\n",
    "images. Typically the effect can be avoided altogether by \"pre-flashing\" the\n",
    "CCD.\n",
    "\n",
    "Since you cannot pre-flash after the images have been taken, we are stuck doing\n",
    "the next best thing: masking out this part of the images. The masking should be\n",
    "done during the stage at which hot pixels are being identified because all of these\n",
    "pixels will be identified as hot."
   ]
  }
 ],
 "metadata": {
  "kernelspec": {
   "display_name": "Python 3",
   "language": "python",
   "name": "python3"
  },
  "language_info": {
   "codemirror_mode": {
    "name": "ipython",
    "version": 3
   },
   "file_extension": ".py",
   "mimetype": "text/x-python",
   "name": "python",
   "nbconvert_exporter": "python",
   "pygments_lexer": "ipython3",
   "version": "3.6.8"
  }
 },
 "nbformat": 4,
 "nbformat_minor": 4
}

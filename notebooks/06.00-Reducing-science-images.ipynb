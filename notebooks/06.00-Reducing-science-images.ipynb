{
 "cells": [
  {
   "cell_type": "markdown",
   "metadata": {},
   "source": [
    "# Reducing science images\n"
   ]
  },
  {
   "cell_type": "code",
   "execution_count": null,
   "metadata": {},
   "outputs": [],
   "source": [
    "from pathlib import Path\n",
    "\n",
    "from matplotlib import pyplot as plt\n",
    "\n",
    "from astropy import units as u\n",
    "import ccdproc as ccdp\n",
    "\n",
    "from convenience_functions import show_image"
   ]
  },
  {
   "cell_type": "markdown",
   "metadata": {},
   "source": [
    "## Overview\n",
    "\n",
    "[ccdproc](ccdproc.readthedocs.io) provides a couple of ways to approach calibration of the science images:\n",
    "\n",
    "+ Perform each of the individual steps manually using `subtract_bias`, `subtract_dark`, and `flat_correct`.\n",
    "+ Use the [`ccd_process` function]() to perform all of the reduction steps. \n",
    "\n",
    "This notebook will do each of those in separate sections below."
   ]
  },
  {
   "cell_type": "markdown",
   "metadata": {},
   "source": [
    "## Example 1"
   ]
  },
  {
   "cell_type": "markdown",
   "metadata": {},
   "source": [
    "## Example 2"
   ]
  },
  {
   "cell_type": "code",
   "execution_count": null,
   "metadata": {},
   "outputs": [],
   "source": [
    "reduced_path = Path('example2-reduced')\n",
    "ifc_reduced = ccdp.ImageFileCollection('example2-reduced')\n",
    "ifc_raw = ccdp.ImageFileCollection('example-thermo-electric')"
   ]
  },
  {
   "cell_type": "markdown",
   "metadata": {},
   "source": [
    "Grab the light images..."
   ]
  },
  {
   "cell_type": "code",
   "execution_count": null,
   "metadata": {
    "scrolled": false
   },
   "outputs": [],
   "source": [
    "lights = ifc_raw.summary[ifc_raw.summary['imagetyp'] == 'LIGHT']\n",
    "lights['date-obs', 'file', 'object', 'filter', 'exposure']"
   ]
  },
  {
   "cell_type": "markdown",
   "metadata": {},
   "source": [
    "Grab some calibration frames"
   ]
  },
  {
   "cell_type": "code",
   "execution_count": null,
   "metadata": {},
   "outputs": [],
   "source": [
    "calibs = {}\n",
    "for im_type in ['bias', 'dark', 'flat']:\n",
    "    calibs[im_type] = [ccd for ccd in ifc_reduced.ccds(imagetyp=im_type, combined=True)]"
   ]
  },
  {
   "cell_type": "code",
   "execution_count": null,
   "metadata": {},
   "outputs": [],
   "source": []
  },
  {
   "cell_type": "markdown",
   "metadata": {},
   "source": [
    "Let's reduce them all..."
   ]
  },
  {
   "cell_type": "code",
   "execution_count": null,
   "metadata": {},
   "outputs": [],
   "source": [
    "all_reds = []\n",
    "light_ccds = []\n",
    "for light, file_name in ifc_raw.ccds(imagetyp='light', return_fname=True):\n",
    "    save_name, _ = file_name.split('.gz')\n",
    "    light_ccds.append(light)\n",
    "    reduced = ccdp.trim_image(light[:, :4096])\n",
    "    reduced = ccdp.subtract_bias(reduced, calibs['bias'][0])\n",
    "    reduced = ccdp.subtract_dark(reduced, calibs['dark'][0], exposure_time='exptime', exposure_unit=u.second)\n",
    "    reduced = ccdp.flat_correct(reduced, calibs['flat'][0])\n",
    "    all_reds.append(reduced)\n",
    "    reduced.write(reduced_path / save_name)"
   ]
  },
  {
   "cell_type": "code",
   "execution_count": null,
   "metadata": {},
   "outputs": [],
   "source": [
    "which_light = 0\n",
    "fig, axes = plt.subplots(1, 2, figsize=(20, 10))\n",
    "\n",
    "axes[0].set_title('Uncalibrated image')\n",
    "show_image(light_ccds[which_light], cmap='gray', ax=axes[0], fig=fig, percl=90)\n",
    "\n",
    "axes[1].set_title('Calibrated image')\n",
    "show_image(all_reds[which_light].data, cmap='gray', ax=axes[1], fig=fig, percl=90)"
   ]
  },
  {
   "cell_type": "code",
   "execution_count": null,
   "metadata": {},
   "outputs": [],
   "source": [
    "which_light = 1\n",
    "fig, axes = plt.subplots(1, 2, figsize=(20, 10))\n",
    "\n",
    "axes[0].set_title('Uncalibrated image')\n",
    "show_image(light_ccds[which_light], cmap='gray', ax=axes[0], fig=fig, percl=90)\n",
    "\n",
    "axes[1].set_title('Calibrated image')\n",
    "show_image(all_reds[which_light].data, cmap='gray', ax=axes[1], fig=fig, percl=90)"
   ]
  },
  {
   "cell_type": "code",
   "execution_count": null,
   "metadata": {},
   "outputs": [],
   "source": []
  }
 ],
 "metadata": {
  "kernelspec": {
   "display_name": "Python 3",
   "language": "python",
   "name": "python3"
  },
  "language_info": {
   "codemirror_mode": {
    "name": "ipython",
    "version": 3
   },
   "file_extension": ".py",
   "mimetype": "text/x-python",
   "name": "python",
   "nbconvert_exporter": "python",
   "pygments_lexer": "ipython3",
   "version": "3.6.8"
  }
 },
 "nbformat": 4,
 "nbformat_minor": 2
}

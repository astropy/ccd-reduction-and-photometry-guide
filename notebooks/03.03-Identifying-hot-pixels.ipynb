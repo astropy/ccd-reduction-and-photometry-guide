{
 "cells": [
  {
   "cell_type": "markdown",
   "metadata": {},
   "source": [
    "# Identifying hot pixels\n"
   ]
  },
  {
   "cell_type": "markdown",
   "metadata": {},
   "source": [
    "## Graph distribution of pixel values?\n",
    "\n",
    "## MAYBE DEFER TO CHAPTER 4 (which is about bad pixels): Also THIS SHOULD USE `ccdproc.ccdmask` which, TBH, I have not ever used."
   ]
  },
  {
   "cell_type": "code",
   "execution_count": 1,
   "metadata": {},
   "outputs": [],
   "source": [
    "from ccdproc import ccdmask"
   ]
  },
  {
   "cell_type": "code",
   "execution_count": 2,
   "metadata": {},
   "outputs": [],
   "source": [
    "from astropy.nddata import CCDData"
   ]
  },
  {
   "cell_type": "code",
   "execution_count": 3,
   "metadata": {},
   "outputs": [
    {
     "name": "stderr",
     "output_type": "stream",
     "text": [
      "WARNING: FITSFixedWarning: RADECSYS= 'FK5 ' / Equatorial coordinate system \n",
      "the RADECSYS keyword is deprecated, use RADESYSa. [astropy.wcs.wcs]\n"
     ]
    }
   ],
   "source": [
    "ccd = CCDData.read('/Users/mattcraig/Desktop/2018-07-23-reduced/kelt-16-S001-R001-C110-r.fit')"
   ]
  },
  {
   "cell_type": "code",
   "execution_count": 4,
   "metadata": {},
   "outputs": [
    {
     "data": {
      "text/plain": [
       "array([[ True, False, False, ..., False, False, False],\n",
       "       [ True, False, False, ..., False, False, False],\n",
       "       [ True, False, False, ..., False, False, False],\n",
       "       ...,\n",
       "       [ True, False, False, ..., False, False, False],\n",
       "       [ True, False, False, ..., False, False, False],\n",
       "       [ True, False, False, ..., False, False, False]])"
      ]
     },
     "execution_count": 4,
     "metadata": {},
     "output_type": "execute_result"
    }
   ],
   "source": [
    "ccdmask(ccd)"
   ]
  },
  {
   "cell_type": "markdown",
   "metadata": {},
   "source": [
    "### `ccdmask` is ~~a bit slow~~ really slow it seems...\n",
    "\n",
    "Look at this: http://stsdas.stsci.edu/cgi-bin/gethelp.cgi?ccdmask\n",
    "\n",
    "Need to find out whether flats are supposed to be reduced first or not...."
   ]
  },
  {
   "cell_type": "code",
   "execution_count": 6,
   "metadata": {},
   "outputs": [
    {
     "name": "stdout",
     "output_type": "stream",
     "text": [
      "\n",
      "    Uses method based on the IRAF ccdmask task to generate a mask based on the\n",
      "    given input.\n",
      "\n",
      "    .. note::\n",
      "        This function uses ``lines`` as synonym for the first axis and\n",
      "        ``columns`` the second axis. Only two-dimensional ``ratio`` is\n",
      "        currently supported.\n",
      "\n",
      "    Parameters\n",
      "    ----------\n",
      "    ratio : `~astropy.nddata.CCDData`\n",
      "        Data to used to form mask.  Typically this is the ratio of two flat\n",
      "        field images.\n",
      "\n",
      "    findbadcolumns : `bool`, optional\n",
      "        If set to True, the code will search for bad column sections.  Note\n",
      "        that this treats columns as special and breaks symmetry between lines\n",
      "        and columns and so is likely only appropriate for detectors which have\n",
      "        readout directions.\n",
      "        Default is ``False``.\n",
      "\n",
      "    byblocks : `bool`, optional\n",
      "        If set to true, the code will divide the image up in to blocks of size\n",
      "        nlsig by ncsig and determine the standard deviation estimate in each\n",
      "        block (as described in the original IRAF task, see Notes below).  If\n",
      "        set to False, then the code will use `scipy.ndimage.percentile_filter`\n",
      "        to generate a running box version of the standard\n",
      "        deviation estimate and use that value for the standard deviation at\n",
      "        each pixel.\n",
      "        Default is ``False``.\n",
      "\n",
      "    ncmed, nlmed : `int`, optional\n",
      "        The column and line size of the moving median rectangle used to\n",
      "        estimate the uncontaminated local signal. The column median size should\n",
      "        be at least 3 pixels to span single bad columns.\n",
      "        Default is ``7``.\n",
      "\n",
      "    ncsig, nlsig : `int`, optional\n",
      "        The column and line size of regions used to estimate the uncontaminated\n",
      "        local sigma using a percentile. The size of the box should contain of\n",
      "        order 100 pixels or more.\n",
      "        Default is ``15``.\n",
      "\n",
      "    lsigma, hsigma : `float`, optional\n",
      "        Positive sigma factors to use for selecting pixels below and above the\n",
      "        median level based on the local percentile sigma.\n",
      "        Default is ``9``.\n",
      "\n",
      "    ngood : `int`, optional\n",
      "        Gaps of undetected pixels along the column direction of length less\n",
      "        than this amount are also flagged as bad pixels, if they are between\n",
      "        pixels masked in that column.\n",
      "        Default is ``5``.\n",
      "\n",
      "    Returns\n",
      "    -------\n",
      "    mask : `numpy.ndarray`\n",
      "        A boolean ndarray where the bad pixels have a value of 1 (True) and\n",
      "        valid pixels 0 (False), following the numpy.ma conventions.\n",
      "\n",
      "    Notes\n",
      "    -----\n",
      "    Similar implementation to IRAF's ccdmask task.\n",
      "    The Following documentation is copied directly from:\n",
      "    http://stsdas.stsci.edu/cgi-bin/gethelp.cgi?ccdmask\n",
      "\n",
      "    The input image is first subtracted by a moving box median. The median is\n",
      "    unaffected by bad pixels provided the median size is larger that twice the\n",
      "    size of a bad region. Thus, if 3 pixel wide bad columns are present then\n",
      "    the column median box size should be at least 7 pixels. The median box can\n",
      "    be a single pixel wide along one dimension if needed. This may be\n",
      "    appropriate for spectroscopic long slit data.\n",
      "\n",
      "    The median subtracted image is then divided into blocks of size nclsig by\n",
      "    nlsig. In each block the pixel values are sorted and the pixels nearest the\n",
      "    30.9 and 69.1 percentile points are found; this would be the one sigma\n",
      "    points in a Gaussian noise distribution. The difference between the two\n",
      "    count levels divided by two is then the local sigma estimate. This\n",
      "    algorithm is used to avoid contamination by the bad pixel values. The block\n",
      "    size must be at least 10 pixels in each dimension to provide sufficient\n",
      "    pixels for a good estimate of the percentile sigma. The sigma uncertainty\n",
      "    estimate of each pixel in the image is then the sigma from the nearest\n",
      "    block.\n",
      "\n",
      "    The deviant pixels are found by comparing the median subtracted residual to\n",
      "    a specified sigma threshold factor times the local sigma above and below\n",
      "    zero (the lsigma and hsigma parameters). This is done for individual pixels\n",
      "    and then for column sums of pixels (excluding previously flagged bad\n",
      "    pixels) from two to the number of lines in the image. The sigma of the sums\n",
      "    is scaled by the square root of the number of pixels summed so that\n",
      "    statistically low or high column regions may be detected even though\n",
      "    individual pixels may not be statistically deviant. For the purpose of this\n",
      "    task one would normally select large sigma threshold factors such as six or\n",
      "    greater to detect only true bad pixels and not the extremes of the noise\n",
      "    distribution.\n",
      "\n",
      "    As a final step each column is examined to see if there are small segments\n",
      "    of unflagged pixels between bad pixels. If the length of a segment is less\n",
      "    than that given by the ngood parameter all the pixels in the segment are\n",
      "    also marked as bad.\n",
      "    \n"
     ]
    }
   ],
   "source": [
    "print(ccdmask.__doc__)"
   ]
  },
  {
   "cell_type": "code",
   "execution_count": null,
   "metadata": {},
   "outputs": [],
   "source": []
  }
 ],
 "metadata": {
  "kernelspec": {
   "display_name": "Python 3",
   "language": "python",
   "name": "python3"
  },
  "language_info": {
   "codemirror_mode": {
    "name": "ipython",
    "version": 3
   },
   "file_extension": ".py",
   "mimetype": "text/x-python",
   "name": "python",
   "nbconvert_exporter": "python",
   "pygments_lexer": "ipython3",
   "version": "3.6.8"
  }
 },
 "nbformat": 4,
 "nbformat_minor": 2
}

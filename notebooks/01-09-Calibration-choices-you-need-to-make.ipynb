{
 "cells": [
  {
   "cell_type": "markdown",
   "metadata": {},
   "source": [
    "# Calibration choices you need to make"
   ]
  },
  {
   "cell_type": "markdown",
   "metadata": {},
   "source": [
    "There are a few choices you need to make about how you will calibrate your data.\n",
    "Sometimes the decision will be made for you by the data you have."
   ]
  },
  {
   "cell_type": "markdown",
   "metadata": {},
   "source": [
    "## Subtract bias and dark as separate steps or in one step?\n",
    "\n",
    "Every dark image contains bias when it comes off of the camera, so in principle\n",
    "you can take care of both bias and dark by constructing a master dark image that\n",
    "leaves the bias already present in the dark images in place.\n",
    "\n",
    "This only works if for every image from which you need to remove dark currrent\n",
    "you have a master dark of exactly the same exposure length.\n",
    "\n",
    "If not, you need to produce master dark images with the bias removed so that\n",
    "they can be scaled by exposure time."
   ]
  },
  {
   "cell_type": "markdown",
   "metadata": {},
   "source": [
    "## Subtract overscan or not?\n",
    "\n",
    "This is only applicable if your images have an overscan region. Subtracting\n",
    "overscan can be useful for removing small (typically a few counts) variations\n",
    "from image-to-image over the course of a night."
   ]
  }
 ],
 "metadata": {
  "kernelspec": {
   "display_name": "Python 3",
   "language": "python",
   "name": "python3"
  },
  "language_info": {
   "codemirror_mode": {
    "name": "ipython",
    "version": 3
   },
   "file_extension": ".py",
   "mimetype": "text/x-python",
   "name": "python",
   "nbconvert_exporter": "python",
   "pygments_lexer": "ipython3",
   "version": "3.6.7"
  }
 },
 "nbformat": 4,
 "nbformat_minor": 2
}

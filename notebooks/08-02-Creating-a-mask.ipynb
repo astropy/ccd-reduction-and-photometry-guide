{
 "cells": [
  {
   "cell_type": "markdown",
   "metadata": {},
   "source": [
    "# Creating an image mask\n",
    "\n",
    "Calibration cannot compensate for every defect in a CCD. Some examples (a non-exhaustive list):\n",
    "\n",
    "+ Some hot pixels are not actually linear with exposure time.\n",
    "+ Some pixels in the CCD may respond less to light than others in a way that flat frames cannot compensate for.\n",
    "+ There may be defects in all or part of a row or column of the chip.\n",
    "+ Cosmic rays strike the CCD during every exposure. While those are eliminated in the combined calibrated frames with the proper choice of combination parameters, they are not removed from science images.\n",
    "\n",
    "The first three are discussed in this notebook. Removal of cosmic rays from science images is discussed [in the cosmic ray notebook]()"
   ]
  },
  {
   "cell_type": "code",
   "execution_count": null,
   "metadata": {},
   "outputs": [],
   "source": [
    "from pathlib import Path\n",
    "\n",
    "import numpy as np\n",
    "import matplotlib.pyplot as plt\n",
    "\n",
    "from astropy import units as u\n",
    "from astropy.nddata import CCDData\n",
    "\n",
    "import ccdproc as ccdp\n",
    "from photutils import detect_sources\n",
    "from astrowidgets import ImageWidget\n",
    "\n",
    "from convenience_functions import show_image, image_snippet"
   ]
  },
  {
   "cell_type": "markdown",
   "metadata": {},
   "source": [
    "## Detecting bad pixels with `ccdmask`"
   ]
  },
  {
   "cell_type": "markdown",
   "metadata": {},
   "source": [
    "The ccdproc function [ccdmask](https://ccdproc.readthedocs.io/en/latest/api/ccdproc.ccdmask.html#ccdproc.ccdmask) uses an method that is based on the [IRAF task ccdmask](http://stsdas.stsci.edu/cgi-bin/gethelp.cgi?ccdmask). The method works best when the input image used to detect flaws in the CCD is the ratio of two flat frames with different counts. That may or may not be available depending on what images are collected. \n",
    "\n",
    "In the example below, which uses images from Example 2 in the reduction notebooks, the two extreme exposure times are 1 sec and 1.2 sec, but the average counts in the images differ by 10,000. These were twilight flats taken just after sunset.\n",
    "\n",
    "Even with dome flats where the illumination is supposed to be constant the counts may actually vary. If they do not, use a single flat for identifying bad pixels instead of a ratio.\n",
    "\n",
    "We begin by creating an image collection and then the information for all of the calibrated, uncombined, flat images."
   ]
  },
  {
   "cell_type": "code",
   "execution_count": null,
   "metadata": {},
   "outputs": [],
   "source": [
    "ex2_path = Path('example2-reduced')\n",
    "\n",
    "ifc = ccdp.ImageFileCollection(ex2_path)\n",
    "\n",
    "for long_values in ['history', 'comment']:\n",
    "    try:\n",
    "        ifc.summary.remove_column(long_values)\n",
    "    except KeyError:\n",
    "        # These two columns were not present, so removing them failed.\n",
    "        # Just keep going.\n",
    "        pass"
   ]
  },
  {
   "cell_type": "code",
   "execution_count": null,
   "metadata": {},
   "outputs": [],
   "source": [
    "flats = (ifc.summary['imagetyp'] == 'FLAT') & (ifc.summary['combined'] != True)\n",
    "ifc.summary[flats]"
   ]
  },
  {
   "cell_type": "markdown",
   "metadata": {},
   "source": [
    "The best we can do here is the ratio of the first and last of the flat images listed above. "
   ]
  },
  {
   "cell_type": "code",
   "execution_count": null,
   "metadata": {},
   "outputs": [],
   "source": [
    "first = ifc.summary['file'][flats][0]\n",
    "last = ifc.summary['file'][flats][-1]"
   ]
  },
  {
   "cell_type": "code",
   "execution_count": null,
   "metadata": {},
   "outputs": [],
   "source": [
    "ccd1 = CCDData.read(ex2_path / first)\n",
    "ccd2 = CCDData.read(ex2_path / last)"
   ]
  },
  {
   "cell_type": "code",
   "execution_count": null,
   "metadata": {},
   "outputs": [],
   "source": [
    "ratio = ccd2.divide(ccd1)"
   ]
  },
  {
   "cell_type": "markdown",
   "metadata": {},
   "source": [
    "The ratio is roughly 0.85:"
   ]
  },
  {
   "cell_type": "code",
   "execution_count": null,
   "metadata": {},
   "outputs": [],
   "source": [
    "ratio.data.mean()"
   ]
  },
  {
   "cell_type": "markdown",
   "metadata": {},
   "source": [
    "Running `ccdmask` takes a little time but only needs to be done once, not once for each image. "
   ]
  },
  {
   "cell_type": "code",
   "execution_count": null,
   "metadata": {},
   "outputs": [],
   "source": [
    "%%time\n",
    "maskr = ccdp.ccdmask(ratio)"
   ]
  },
  {
   "cell_type": "markdown",
   "metadata": {},
   "source": [
    "The result of `ccdmask` is one where there is a defect and zero where the chip is good, which matches the format of the mask numpy expects.\n",
    "\n",
    "The input image and derived mask are shown below"
   ]
  },
  {
   "cell_type": "code",
   "execution_count": null,
   "metadata": {},
   "outputs": [],
   "source": [
    "fig, axes = plt.subplots(1, 2, figsize=(40, 20))\n",
    "\n",
    "show_image(ratio, cmap='gray', fig=fig, ax=axes[0], show_colorbar=False)\n",
    "axes[0].set_title('Ratio of two flats')\n",
    "\n",
    "show_image(maskr, cmap='gray', fig=fig, ax=axes[1], show_colorbar=False)\n",
    "axes[1].set_title('Derived mask')"
   ]
  },
  {
   "cell_type": "markdown",
   "metadata": {},
   "source": [
    "Two comments are in order:\n",
    "\n",
    "+ The \"starfish\" pattern in the first image is an artifact of the camera shutter. Ideally, a longer exposure time would be used for the flats to avoid this.\n",
    "+ It appear at first glance that there were no pixels masked. The problem is that the masked regions are very small and, at the scale shown, happen to not be visible."
   ]
  },
  {
   "cell_type": "markdown",
   "metadata": {},
   "source": [
    "Two defects in this CCD are shown below. The first is a small patch of pixels that are vastly less sensitive than the rest. The second is a column on the left edge of the CCD. It turns out this column is not actually exposed to light. `ccdmask` correctly identifies both patches as bad. "
   ]
  },
  {
   "cell_type": "code",
   "execution_count": null,
   "metadata": {},
   "outputs": [],
   "source": [
    "fig, axes = plt.subplots(2, 2, figsize=(10, 10))\n",
    "\n",
    "width = 100\n",
    "center = (3823, 2446)\n",
    "plot_row = 0\n",
    "\n",
    "image_snippet(ccd1, center, width=width, fig=fig, axis=axes[plot_row, 0])\n",
    "axes[plot_row, 0].set_title('Flat, camera defect')\n",
    "\n",
    "image_snippet(maskr, center, width=width, fig=fig, axis=axes[plot_row, 1], is_mask=True)\n",
    "axes[plot_row, 1].set_title('Mask, same center')\n",
    "\n",
    "center = (0, 2048)\n",
    "plot_row = 1\n",
    "\n",
    "image_snippet(ccd1, center, width=width, fig=fig, axis=axes[plot_row, 0], percu=99.9, percl=70)\n",
    "axes[plot_row, 0].set_title('Flat, bad column')\n",
    "\n",
    "image_snippet(maskr, center, width=width, fig=fig, axis=axes[plot_row, 1], is_mask=True)\n",
    "axes[plot_row, 1].set_title('Mask, same center')"
   ]
  },
  {
   "cell_type": "markdown",
   "metadata": {},
   "source": [
    "### Saving the mask\n",
    "\n",
    "The mask can be saved in a FITS file as an image. We will see in [the summary notebook on masking]() how to combine the mask generated here with a mask generated from the dark current and with a cosmic ray mask for each science image."
   ]
  },
  {
   "cell_type": "code",
   "execution_count": null,
   "metadata": {},
   "outputs": [],
   "source": [
    "mask_as_ccd = CCDData(data=maskr.astype('uint8'), unit=u.dimensionless_unscaled)\n",
    "mask_as_ccd.header['imagetyp'] = 'flat mask'\n",
    "mask_as_ccd.write(ex2_path / 'mask_from_ccdmask.fits')"
   ]
  },
  {
   "cell_type": "markdown",
   "metadata": {},
   "source": [
    "## Making the mask with a single flat"
   ]
  },
  {
   "cell_type": "markdown",
   "metadata": {},
   "source": [
    "The flats we used in Example 1, taken with the Large Format Camera at Palomar, are dome flats taken with nearly constant illumination. In that case the best we can do is run `ccdmask` on a single flat image. As we will see, this still allows the identification of several clearly bad areas of the chip.\n",
    "\n",
    "First, a look at the calibratted, but not combined, flat images."
   ]
  },
  {
   "cell_type": "code",
   "execution_count": null,
   "metadata": {},
   "outputs": [],
   "source": [
    "ex1_path = Path('example1-reduced')\n",
    "\n",
    "ifc1 = ccdp.ImageFileCollection(ex1_path)\n",
    "\n",
    "flats = (ifc1.summary['imagetyp'] == 'FLATFIELD') & (ifc1.summary['combined'] != True)\n",
    "ifc1.summary[flats]"
   ]
  },
  {
   "cell_type": "markdown",
   "metadata": {},
   "source": [
    "We can double check that a ratio of flats will not be useful by calculating the mean counts in each flat image:"
   ]
  },
  {
   "cell_type": "code",
   "execution_count": null,
   "metadata": {},
   "outputs": [],
   "source": [
    "ccs = []\n",
    "\n",
    "for c in ifc1.ccds(imagetyp='flatfield', filter=\"g'\"):\n",
    "    if 'combined' in c.header:\n",
    "        continue\n",
    "    print(c.data.mean())\n",
    "    ccs.append(c)"
   ]
  },
  {
   "cell_type": "markdown",
   "metadata": {},
   "source": [
    "The variation in counts is so small that the ratio of two flats will not be useful. \n",
    "\n",
    "Instead, we run `ccdmask` on the first flat. There is nothing special about that one. The kind of defects that `ccdmask` tries to identify are in the CCD sensor itself and should be the same for all filters."
   ]
  },
  {
   "cell_type": "code",
   "execution_count": null,
   "metadata": {},
   "outputs": [],
   "source": [
    "%%time\n",
    "ccs1_mask = ccdp.ccdmask(ccs[0])"
   ]
  },
  {
   "cell_type": "markdown",
   "metadata": {},
   "source": [
    "Displaying the flat we used and the mask side-by-side demonstrates that the defects which are clear in the flat are picked up in the mask."
   ]
  },
  {
   "cell_type": "code",
   "execution_count": null,
   "metadata": {},
   "outputs": [],
   "source": [
    "fig, axes = plt.subplots(1, 2, figsize=(15, 10))\n",
    "\n",
    "show_image(ccs[0], cmap='gray', fig=fig, ax=axes[0])\n",
    "axes[0].set_title('Single calibrated flat')\n",
    "\n",
    "show_image(ccs1_mask, cmap='gray', fig=fig, ax=axes[1], is_mask=False)\n",
    "axes[1].set_title('Derived mask');"
   ]
  },
  {
   "cell_type": "markdown",
   "metadata": {},
   "source": [
    "A couple of cutouts are shown below illustrating some of the individual defects identified."
   ]
  },
  {
   "cell_type": "code",
   "execution_count": null,
   "metadata": {},
   "outputs": [],
   "source": [
    "fig, axes = plt.subplots(2, 2, figsize=(10, 10))\n",
    "\n",
    "width = 300\n",
    "center = (512, 3976)\n",
    "plot_row = 0\n",
    "\n",
    "image_snippet(ccs[0], center, width=width, fig=fig, axis=axes[plot_row, 0])\n",
    "axes[plot_row, 0].set_title('Flat, partial bad column')\n",
    "\n",
    "image_snippet(ccs1_mask, center, width=width, fig=fig, axis=axes[plot_row, 1], is_mask=True)\n",
    "axes[plot_row, 1].set_title('Mask, same center')\n",
    "\n",
    "center = (420, 3250)\n",
    "width = 100\n",
    "plot_row = 1\n",
    "\n",
    "image_snippet(ccs[0], center, width=width, fig=fig, axis=axes[plot_row, 0])\n",
    "axes[plot_row, 0].set_title('Flat, bad patch')\n",
    "\n",
    "image_snippet(ccs1_mask, center, width=width, fig=fig, axis=axes[plot_row, 1], is_mask=True)\n",
    "axes[plot_row, 1].set_title('Mask, same center')"
   ]
  }
 ],
 "metadata": {
  "kernelspec": {
   "display_name": "Python 3",
   "language": "python",
   "name": "python3"
  },
  "language_info": {
   "codemirror_mode": {
    "name": "ipython",
    "version": 3
   },
   "file_extension": ".py",
   "mimetype": "text/x-python",
   "name": "python",
   "nbconvert_exporter": "python",
   "pygments_lexer": "ipython3",
   "version": "3.6.8"
  }
 },
 "nbformat": 4,
 "nbformat_minor": 4
}

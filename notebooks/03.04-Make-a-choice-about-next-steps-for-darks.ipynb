{
 "cells": [
  {
   "cell_type": "markdown",
   "metadata": {},
   "source": [
    "# Make a choice about next steps for darks\n"
   ]
  },
  {
   "cell_type": "markdown",
   "metadata": {},
   "source": [
    "## The options for reducing dark frames\n",
    "\n",
    "The next steps to take depend on two things\n",
    "\n",
    "+ Are you subtracting overscan? If so, you should subtract overscan for the dark frames.\n",
    "+ Will you need to scale these darks to a different exposure time? If so, you need to subtract bias from the darks. If not, leave the bias in."
   ]
  },
  {
   "cell_type": "markdown",
   "metadata": {},
   "source": [
    "### Do you need to scale the darks?\n",
    "\n",
    "It depends on the exposure times of the other images you need to reduce. If the other images have exposure times that match your dark frames then you do not need to scale the darks. If other images do have exposure time that do not match the exposure times of the darks then you will need to scale the darks by exposure time. \n",
    "\n",
    "As a reminder, you should try very hard to avoid scaling dark frames up to a longer exposure time because you will primarily be scaling up noise."
   ]
  },
  {
   "cell_type": "code",
   "execution_count": null,
   "metadata": {},
   "outputs": [],
   "source": []
  }
 ],
 "metadata": {
  "kernelspec": {
   "display_name": "Python 3",
   "language": "python",
   "name": "python3"
  },
  "language_info": {
   "codemirror_mode": {
    "name": "ipython",
    "version": 3
   },
   "file_extension": ".py",
   "mimetype": "text/x-python",
   "name": "python",
   "nbconvert_exporter": "python",
   "pygments_lexer": "ipython3",
   "version": "3.6.8"
  }
 },
 "nbformat": 4,
 "nbformat_minor": 2
}

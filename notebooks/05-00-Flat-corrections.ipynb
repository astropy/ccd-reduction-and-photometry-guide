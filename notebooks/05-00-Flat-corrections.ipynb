{
 "cells": [
  {
   "cell_type": "markdown",
   "metadata": {},
   "source": [
    "# Flat corrections"
   ]
  },
  {
   "cell_type": "markdown",
   "metadata": {},
   "source": [
    "The purpose of flat corrections is to compensate for any nonuniformity in the\n",
    "response of the CCD to light. There can be several reasons that the response is\n",
    "not uniform across the detector:\n",
    "\n",
    "+ Variations in the sensitivity of pixels in the detector, though this source is\n",
    "usually small.\n",
    "+ Dust on either the filter or the glass window covering the detector.\n",
    "+ Vignetting, a dimming in the corners of the image.\n",
    "+ Anything else in the optical path that affects how much light reaches the\n",
    "sensor.\n",
    "\n",
    "The fix for nonuniformity is the same in all cases: take an image in which\n",
    "the illumination is uniform and use that to measure the response of the CCD.\n",
    "\n",
    "Unfortunately, achieving uniform illumination is difficult, and uniform\n",
    "illumination with the same spectrum as the astronomical objects of interest is impossible."
   ]
  }
 ],
 "metadata": {
  "kernelspec": {
   "display_name": "Python 3",
   "language": "python",
   "name": "python3"
  },
  "language_info": {
   "codemirror_mode": {
    "name": "ipython",
    "version": 3
   },
   "file_extension": ".py",
   "mimetype": "text/x-python",
   "name": "python",
   "nbconvert_exporter": "python",
   "pygments_lexer": "ipython3",
   "version": "3.7.3"
  },
  "toc": {
   "base_numbering": 1,
   "nav_menu": {},
   "number_sections": true,
   "sideBar": true,
   "skip_h1_title": true,
   "title_cell": "Table of Contents",
   "title_sidebar": "Contents",
   "toc_cell": true,
   "toc_position": {},
   "toc_section_display": true,
   "toc_window_display": false
  }
 },
 "nbformat": 4,
 "nbformat_minor": 4
}

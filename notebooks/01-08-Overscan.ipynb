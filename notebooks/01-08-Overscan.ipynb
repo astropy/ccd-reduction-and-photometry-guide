{
 "cells": [
  {
   "cell_type": "markdown",
   "metadata": {},
   "source": [
    "# Overscan"
   ]
  },
  {
   "cell_type": "markdown",
   "metadata": {},
   "source": [
    "The overscan region of a CCD, if present, is a part of the chip that is covered.\n",
    "Depending on the camera, it can be a useful way to remove small variations in\n",
    "the bias level from frame to frame.\n",
    "\n",
    "However, whether or not the overscan is useful depends on the camera. It's\n",
    "advisable to examine the overscan part of the camera you're using before\n",
    "deciding if you should include it in image reduction.\n",
    "\n",
    "One important note: *overscan always includes bias, read noise, and dark\n",
    "current*. The overscan pixels are still pixels, and just like any other pixel\n",
    "includes dark current and is subject to read noise. Many sources describe\n",
    "overscan as correcting for bias, but if the dark current for the camera is\n",
    "negligible, as it often is for cryogenically cooled cameras, then the overscan\n",
    "is essentially bias.\n",
    "\n",
    "The read noise in the overscan is reduced by averaging over the overscan region.\n",
    "That will be covered in a later notebook; this notebook focuses on what the\n",
    "overscan looks like and how to decide whether or not to use it.\n",
    "\n",
    "In this notebook we will look at the overscan region for two different cameras,\n",
    "a cryogenically cooled camera in which the overscan provides useful information\n",
    "and a thermo-electrically cooled camera in which the overscan does not provide\n",
    "useful information."
   ]
  },
  {
   "cell_type": "code",
   "execution_count": null,
   "metadata": {},
   "outputs": [],
   "source": [
    "from pathlib import Path\n",
    "\n",
    "from astropy.nddata import CCDData\n",
    "from astropy.visualization import hist\n",
    "from ccdproc import subtract_overscan\n",
    "import matplotlib.pyplot as plt\n",
    "\n",
    "from convenience_functions import show_image"
   ]
  },
  {
   "cell_type": "code",
   "execution_count": null,
   "metadata": {},
   "outputs": [],
   "source": [
    "# Use custom style for larger fonts and figures\n",
    "plt.style.use('guide.mplstyle')"
   ]
  },
  {
   "cell_type": "markdown",
   "metadata": {},
   "source": [
    "## Case 1: Cryogenically cooled Large Format Camera (LFC) at Palomar\n",
    "\n",
    "The images below are from chip 0 of the LFC at the Palomar 200-inch telescope.\n",
    "Technical information about the camera is [here](http://www.astro.caltech.edu/palomar/observer/200inchResources/lfcspecs.html). It\n",
    "turns out that the images are not actually 2048 × 4096; as you can see below,\n",
    "the images are 2080 × 4128. The \"extra\" in each direction is overscan.\n",
    "\n",
    "The FITS header for these files includes the keyword `BIASSEC`, which indicates\n",
    "the nominal extent of the overscan region. Its value is `[2049:2080,1:4127]`,\n",
    "which indicates the overscan extends from 2048 to 2079 (Python indexing starts\n",
    "at 0, not 1 like in FITS) in the \"short\" direction and over the entire chip in\n",
    "the other direction. As we'll see shortly, the useful overscan region is smaller\n",
    "than this.\n",
    "\n",
    "We'll focus here on the overscan in the side that is nominally 2048 wide; in\n",
    "Python that's the second index. The pixel count cross-sections plotted below are\n",
    "from a bias, science, and flat image. Flat images are particularly helpful in\n",
    "evaluating how much of the overscan region is useful because the average pixel\n",
    "value in the exposed part of the camera is typically large."
   ]
  },
  {
   "cell_type": "code",
   "execution_count": null,
   "metadata": {},
   "outputs": [],
   "source": [
    "cryo_path = Path('example-cryo-LFC')\n",
    "bias_lfc = CCDData.read(cryo_path / 'ccd.001.0.fits', unit='count')\n",
    "science_g_lfc = CCDData.read(cryo_path / 'ccd.037.0.fits', unit='count')\n",
    "flat_g_lfc = CCDData.read(cryo_path / 'ccd.014.0.fits', unit='count')"
   ]
  },
  {
   "cell_type": "code",
   "execution_count": null,
   "metadata": {},
   "outputs": [],
   "source": [
    "bias_lfc.shape"
   ]
  },
  {
   "cell_type": "code",
   "execution_count": null,
   "metadata": {},
   "outputs": [],
   "source": [
    "plt.figure(figsize=(20,10))\n",
    "plt.plot(science_g_lfc.data.mean(axis=0), label='Science image')\n",
    "plt.plot(bias_lfc.data.mean(axis=0), label='Bias image')\n",
    "plt.plot(flat_g_lfc.data.mean(axis=0), label='Flat image')\n",
    "plt.grid()\n",
    "plt.axvline(x=2048, color='black', linewidth=3, linestyle='dashed', label='start of overscan')\n",
    "plt.legend()\n",
    "plt.ylim(1000, 2000)\n",
    "plt.xlim(2040, 2090)\n",
    "plt.xlabel('pixel number')\n",
    "plt.ylabel('Counts')\n",
    "plt.title('Overscan region, averaged over all rows')"
   ]
  },
  {
   "cell_type": "markdown",
   "metadata": {},
   "source": [
    "### Discussion of Example 1\n",
    "\n",
    "There are a few interesting things here.\n",
    "\n",
    "**The count value is nearly uniform in the overscan region.**\n",
    "\n",
    "This is good; ideally the overscan is nearly uniform since the pixels are not\n",
    "illuminated.\n",
    "\n",
    "**Some light leaks from the imaging region into the overscan region.**\n",
    "\n",
    "This is\n",
    "clearest in the flat image, where the counts are much higher than the value to\n",
    "which they asymptote until at least pixel number 2055.\n",
    "\n",
    "Though the FITS header indicates the overscan starts at pixel 2048, the *useful*\n",
    "part of the overscan (i.e. the part not contaminated by light) extends from\n",
    "pixel 2055 to the end.\n",
    "\n",
    "**There is an offset between the science image and the other two images, and\n",
    "perhaps between the flat and bias images.**\n",
    "\n",
    "This sort of variation is what overscan is intended to correct. It could be that\n",
    "this one science image has a different overscan value (it was taken several\n",
    "hours after the flat image) or it could be that all science images have a\n",
    "different overscan value than other types of images.\n",
    "\n",
    "Either way, subtracting overscan from each of the images allows for correction\n",
    "of these offsets.\n",
    "\n",
    "**Dark current *in this camera* is essentially zero so the overscan is\n",
    "measuring bias.**\n",
    "\n",
    "To be clear, this isn't apparent from the graph above, but cryogenically cooled\n",
    "cameras have negligible dark current.\n",
    "\n",
    "#### What happens if you don't use the overscan?\n",
    "\n",
    "Nothing particularly bad. In the specific case above, ignoring the overscan will\n",
    "shift the background level in the science image by roughly 20 counts, since the\n",
    "difference between the overscan region of the science image is lower than the\n",
    "overscan in the other images by roughly 20 counts. If, before doing science, the\n",
    "background of those images is subtracted, then this shift should be removed with\n",
    "the background."
   ]
  },
  {
   "cell_type": "markdown",
   "metadata": {},
   "source": [
    "### Conclusion for case 1\n",
    "\n",
    "The overscan is useful, but the usable overscan region extends from 2055 to the\n",
    "end of the chip rather than from 2048 to end of the chip as the FITS header\n",
    "claims. Put a little differently, the appropriate `BIASSEC` for these images is\n",
    "`[2056:2080,1:4127]`. (Note that FITS starts numbering at 1 instead of 0, so\n",
    "2055 in Python is 2056 in FITS notation.)\n",
    "\n",
    "If the science you are using requires knowing the counts to a precision of a\n",
    "count or two, and modeling the background in the science image isn't an option,\n",
    "consider using the overscan."
   ]
  },
  {
   "cell_type": "markdown",
   "metadata": {},
   "source": [
    "## Case 2: Thermo-electrically cooled Apogee Aspen CG16M\n",
    "\n",
    "This is a low-end, research-grade CCD sold by Andor. Basic information is\n",
    "[here](https://andor.oxinst.com/assets/uploads/documents/Andor/apogee/Apogee_Aspen_CG16M_Specifications.pdf), though you need to track down the description\n",
    "of the sensor chip, [KAF-16803 CCD](http://www.onsemi.com/pub/Collateral/KAF-16803-D.PDF) to find out that the\n",
    "overscan region of this 4096 × 4096 pixel camera extends from pixel 4097 to 4109\n",
    "along one of the directions."
   ]
  },
  {
   "cell_type": "code",
   "execution_count": null,
   "metadata": {},
   "outputs": [],
   "source": [
    "therma_path = Path('example-thermo-electric')\n",
    "kelt = CCDData.read(therma_path / 'kelt-16-b-S001-R001-C084-r.fit', unit='adu')\n",
    "dark1000 = CCDData.read('dark-test-0002d1000.fit.bz2', unit='adu')\n",
    "flat = CCDData.read(therma_path / 'AutoFlat-PANoRot-r-Bin1-006.fit', unit='adu')\n",
    "master = CCDData.read('combined_bias_100_images.fit.bz2', unit='adu')"
   ]
  },
  {
   "cell_type": "code",
   "execution_count": null,
   "metadata": {},
   "outputs": [],
   "source": [
    "plt.figure(figsize=(20,10))\n",
    "\n",
    "plt.plot(kelt.data.mean(axis=0), label='night sky average')\n",
    "plt.plot(master.data.mean(axis=0), label='100 bias combined')\n",
    "plt.plot(dark1000.data.mean(axis=0), label='1000sec dark average')\n",
    "plt.plot(flat.data.mean(axis=0), label='flat average')\n",
    "\n",
    "plt.grid()\n",
    "plt.axvline(x=4096, color='black', linewidth=3, linestyle='dashed', label='start of overscan')\n",
    "plt.legend()\n",
    "plt.xlim(4090, 4110)\n",
    "plt.ylim(900, 1300)"
   ]
  },
  {
   "cell_type": "markdown",
   "metadata": {},
   "source": [
    "### Discussion of Example 2\n",
    "\n",
    "The camera also has some interesting features.\n",
    "\n",
    "**Count values change quite a bit in the overscan region**\n",
    "\n",
    "This is clearest in the overscan for the flat. Not only is light leaking into\n",
    "the overscan, the overscan appears to be mostly light leakage. One pixel may be\n",
    "useful at best.\n",
    "\n",
    "**Overscan includes dark current**\n",
    "\n",
    "The overscan for the dark image in the figure above is roughly 10 counts higher\n",
    "than the counts for the bias. The dark current for this camera is roughly 0.01\n",
    "counts/pixel/second. For a 1000 second dark exposure, the expected dark counts\n",
    "are about 10, which is the difference seen in the graph.\n",
    "\n",
    "**There is an offset between the bias/dark and science/flat images**\n",
    "\n",
    "The offset in this camera is roughly 50 counts. It's large enough that one ought\n",
    "to be hesitant to use the overscan for this camera.\n",
    "\n",
    "**The overscan counts are higher than the average bias counts**\n",
    "\n",
    "Note that for the bias image, counts increase up to the pixel where overscan\n",
    "starts and then level out. It turns out that overscan counts are *higher* than\n",
    "the average of the bias counts, so subtracting the overscan would lead to a bias\n",
    "image that is negative. This is another reason to be suspicious of the overscan\n",
    "region on this camera."
   ]
  },
  {
   "cell_type": "markdown",
   "metadata": {},
   "source": [
    "### Conclusion for case 2\n",
    "\n",
    "Do not use the overscan in this case. There are serious issues with light\n",
    "leakage and large differences in the overscan counts between the bias and\n",
    "science images."
   ]
  }
 ],
 "metadata": {
  "kernelspec": {
   "display_name": "Python 3",
   "language": "python",
   "name": "python3"
  },
  "language_info": {
   "codemirror_mode": {
    "name": "ipython",
    "version": 3
   },
   "file_extension": ".py",
   "mimetype": "text/x-python",
   "name": "python",
   "nbconvert_exporter": "python",
   "pygments_lexer": "ipython3",
   "version": "3.6.8"
  }
 },
 "nbformat": 4,
 "nbformat_minor": 4
}

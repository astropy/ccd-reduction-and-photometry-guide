{
 "cells": [
  {
   "cell_type": "markdown",
   "metadata": {},
   "source": [
    "# Construction of an artificial (but realistic) image\n",
    "\n",
    "Before we move on to looking at a real image, let's spend a few minutes getting\n",
    "comfortable with what each of the different sources of counts look like in an\n",
    "artificial image. The advantage is that we can control how much of each count\n",
    "source goes into the image. Looking at extreme examples can help build an\n",
    "understanding of what's going on in your images."
   ]
  },
  {
   "cell_type": "markdown",
   "metadata": {},
   "source": [
    "## Imports\n",
    "\n",
    "Almost all of the notebooks in this tutorial will start with the import of the\n",
    "Python packages needed for that notebook. The lines below set up\n",
    "[matplotlib](https://matplotlib.org/), a widely used plotting package."
   ]
  },
  {
   "cell_type": "code",
   "execution_count": null,
   "metadata": {},
   "outputs": [],
   "source": [
    "%matplotlib inline\n",
    "from matplotlib import pyplot as plt\n",
    "import numpy as np\n",
    "from photutils.aperture import EllipticalAperture"
   ]
  },
  {
   "cell_type": "code",
   "execution_count": null,
   "metadata": {},
   "outputs": [],
   "source": [
    "# Use custom style for larger fonts and figures\n",
    "plt.style.use('guide.mplstyle')"
   ]
  },
  {
   "cell_type": "markdown",
   "metadata": {},
   "source": [
    "The Python file referenced below, [convenience_functions.py](convenience_functions.py), contains a\n",
    "few functions for convenient display of images in a notebook. Note that by\n",
    "clicking the above link you can read (or edit) the file in the browser. You can\n",
    "also read/edit it in your preferred editor, but it's handy to know that editing\n",
    "Python files in the Jupyter notebook environment is possible."
   ]
  },
  {
   "cell_type": "code",
   "execution_count": null,
   "metadata": {},
   "outputs": [],
   "source": [
    "from convenience_functions import show_image"
   ]
  },
  {
   "cell_type": "markdown",
   "metadata": {},
   "source": [
    "## Start: a blank image\n",
    "\n",
    "We'll begin with the simplest possible image: an array of zeros. The dimensions\n",
    "of the image below are chosen to match some real images we'll be working with\n",
    "later."
   ]
  },
  {
   "cell_type": "code",
   "execution_count": null,
   "metadata": {},
   "outputs": [],
   "source": [
    "synthetic_image = np.zeros([1000, 1000])"
   ]
  },
  {
   "cell_type": "code",
   "execution_count": null,
   "metadata": {},
   "outputs": [],
   "source": [
    "show_image(synthetic_image, cmap='gray')"
   ]
  },
  {
   "cell_type": "markdown",
   "metadata": {},
   "source": [
    "## Add some read noise\n",
    "\n",
    "With each of the things we add, we'll write a small function for adding so that\n",
    "it's easier to experiment with different values. Read noise has a Gaussian\n",
    "distribution; the standard deviation of the Gaussian (in counts) is the read\n",
    "noise (in electrons) divided by the gain (in electrons per count). Read noise is\n",
    "almost always given in electrons.\n",
    "\n",
    "Note that each time you run this function you'll get a different set of pixels\n",
    "so that it behaves like real noise."
   ]
  },
  {
   "cell_type": "code",
   "execution_count": null,
   "metadata": {},
   "outputs": [],
   "source": [
    "def read_noise(image, amount, gain=1):\n",
    "    \"\"\"\n",
    "    Generate simulated read noise.\n",
    "    \n",
    "    Parameters\n",
    "    ----------\n",
    "    \n",
    "    image: numpy array\n",
    "        Image whose shape the noise array should match.\n",
    "    amount : float\n",
    "        Amount of read noise, in electrons.\n",
    "    gain : float, optional\n",
    "        Gain of the camera, in units of electrons/ADU.\n",
    "    \"\"\"\n",
    "    shape = image.shape\n",
    "    \n",
    "    noise = np.random.normal(scale=amount/gain, size=shape)\n",
    "    \n",
    "    return noise"
   ]
  },
  {
   "cell_type": "code",
   "execution_count": null,
   "metadata": {},
   "outputs": [],
   "source": [
    "plt.figure()\n",
    "noise_im = synthetic_image + read_noise(synthetic_image, 5)\n",
    "show_image(noise_im, cmap='gray')"
   ]
  },
  {
   "cell_type": "markdown",
   "metadata": {},
   "source": [
    "##  Bias\n",
    "\n",
    "Bias is an offset voltage (which translates into some non-zero number of counts)\n",
    "added to every pixel in the image to ensure that when voltages are converted to\n",
    "counts there is never a negative count. Note that in the noise image above, some\n",
    "counts are positive and some are negative, as you would expect for a Gaussian\n",
    "distribution centered on zero. Pixel values are typically read out from the\n",
    "electronics as *positive* numbers, though. Adding a constant voltage, which\n",
    "corresponds to a constant, positive number, ensures that even an image which\n",
    "consists entirely of noise has no negative values.\n",
    "\n",
    "The bias value is roughly the same across the CCD chip, though it's not uncommon\n",
    "to have \"bad\" columns and pixels in which the bias level is consistently offset\n",
    "from the rest of the chip.\n",
    "\n",
    "To model a bias image, we create a uniform array and, optionally, add in some\n",
    "\"bad\" columns. The bad columns are exaggerated here to ensure they are visible.\n",
    "\n",
    "The bad columns in a CCD are typically stable over a very long time. A random\n",
    "number generator is used below to pick which columns in our CCD are bad, but\n",
    "we'll use a seed to make sure that each time we generate the bias we get the\n",
    "same bad columns (and pixel values within the bad columns).\n",
    "\n",
    "This stability is what makes it possible to correct for the effect in real\n",
    "images.\n",
    "\n",
    "Finally, note that the bias doesn't depend on exposure time. That's because a\n",
    "bias exposure is a zero-second exposure in which the camera simply reads the\n",
    "chip out."
   ]
  },
  {
   "cell_type": "code",
   "execution_count": null,
   "metadata": {},
   "outputs": [],
   "source": [
    "def bias(image, value, realistic=False):\n",
    "    \"\"\"\n",
    "    Generate simulated bias image.\n",
    "    \n",
    "    Parameters\n",
    "    ----------\n",
    "    \n",
    "    image: numpy array\n",
    "        Image whose shape the bias array should match.\n",
    "    value: float\n",
    "        Bias level to add.\n",
    "    realistic : bool, optional\n",
    "        If ``True``, add some columns with somewhat higher bias value (a not uncommon thing)\n",
    "    \"\"\"\n",
    "    # This is the whole thing: the bias is really suppose to be a constant offset!\n",
    "    bias_im = np.zeros_like(image) + value\n",
    "    \n",
    "    # If we want a more realistic bias we need to do a little more work. \n",
    "    if realistic:\n",
    "        shape = image.shape\n",
    "        number_of_colums = 5\n",
    "        \n",
    "        # We want a random-looking variation in the bias, but unlike the readnoise the bias should \n",
    "        # *not* change from image to image, so we make sure to always generate the same \"random\" numbers.\n",
    "        rng = np.random.RandomState(seed=8392)  # 20180520\n",
    "        columns = rng.randint(0, shape[1], size=number_of_colums)\n",
    "        # This adds a little random-looking noise into the data.\n",
    "        col_pattern = rng.randint(0, int(0.1 * value), size=shape[0])\n",
    "        \n",
    "        # Make the chosen columns a little brighter than the rest...\n",
    "        for c in columns:\n",
    "            bias_im[:, c] = value + col_pattern\n",
    "            \n",
    "    return bias_im\n",
    "        "
   ]
  },
  {
   "cell_type": "code",
   "execution_count": null,
   "metadata": {},
   "outputs": [],
   "source": [
    "bias_only = bias(synthetic_image, 1100, realistic=True)\n",
    "show_image(bias_only, cmap='gray', figsize=(10, 10))\n",
    "plt.title('Bias alone, bad columns included', fontsize='20')"
   ]
  },
  {
   "cell_type": "code",
   "execution_count": null,
   "metadata": {},
   "outputs": [],
   "source": [
    "bias_noise_im = noise_im + bias_only\n",
    "show_image(bias_noise_im, cmap='gray', figsize=(10, 10))\n",
    "plt.title('Realistic bias frame (includes read noise)', fontsize='20')"
   ]
  },
  {
   "cell_type": "markdown",
   "metadata": {},
   "source": [
    "## Dark current\n",
    "\n",
    "Dark current depends on the temperature of the sensor. The amount of dark counts\n",
    "in an image also depends on the exposure time. Dark current is typically very\n",
    "small (0.1 electrons/pixel/second or less). Dark counts in this function are\n",
    "calculated by multiplying the input dark current by the input exposure time\n",
    "after converting the dark current unit from electrons to counts using the gain.\n",
    "\n",
    "A small fraction of pixels are \"hot\": their dark current is much larger than the\n",
    "rest of the pixels. Hot pixels are modeled here by choosing a subset of the\n",
    "pixels to have a dark current 10,000 times larger than the input dark current.\n",
    "This exaggerates the effect to make those pixels more visible.\n",
    "\n",
    "The location and current of hot pixels is typically stable over long periods of\n",
    "time, which makes it straightforward to remove their effect from science images\n",
    "by subtracting them out.\n",
    "\n",
    "A dark frame (or dark image) is an image taken with the camera shutter closed.\n",
    "\n",
    "The function below simulates dark current only, i.e. it does *not* simulate the\n",
    "read noise that is a part of any actual dark frame from a CCD.\n",
    "\n",
    "Note that the simulation dark image looks noisy even though it doesn't include\n",
    "read noise. This is because the number of electrons generated obey a Poisson\n",
    "distribution."
   ]
  },
  {
   "cell_type": "code",
   "execution_count": null,
   "metadata": {},
   "outputs": [],
   "source": [
    "def dark_current(image, current, exposure_time, gain=1.0, hot_pixels=False):\n",
    "    \"\"\"\n",
    "    Simulate dark current in a CCD, optionally including hot pixels.\n",
    "    \n",
    "    Parameters\n",
    "    ----------\n",
    "    \n",
    "    image : numpy array\n",
    "        Image whose shape the cosmic array should match.\n",
    "    current : float\n",
    "        Dark current, in electrons/pixel/second, which is the way manufacturers typically \n",
    "        report it.\n",
    "    exposure_time : float\n",
    "        Length of the simulated exposure, in seconds.\n",
    "    gain : float, optional\n",
    "        Gain of the camera, in units of electrons/ADU.\n",
    "    strength : float, optional\n",
    "        Pixel count in the cosmic rays.    \n",
    "    \"\"\"\n",
    "    \n",
    "    # dark current for every pixel; we'll modify the current for some pixels if \n",
    "    # the user wants hot pixels.\n",
    "    base_current = current * exposure_time / gain\n",
    "    \n",
    "    # This random number generation should change on each call.\n",
    "    dark_im = np.random.poisson(base_current, size=image.shape)\n",
    "        \n",
    "    if hot_pixels:\n",
    "        # We'll set 0.01% of the pixels to be hot; that is probably too high but should \n",
    "        # ensure they are visible.\n",
    "        y_max, x_max = dark_im.shape\n",
    "        \n",
    "        n_hot = int(0.0001 * x_max * y_max)\n",
    "        \n",
    "        # Like with the bias image, we want the hot pixels to always be in the same places\n",
    "        # (at least for the same image size) but also want them to appear to be randomly\n",
    "        # distributed. So we set a random number seed to ensure we always get the same thing.\n",
    "        rng = np.random.RandomState(16201649)\n",
    "        hot_x = rng.randint(0, x_max, size=n_hot)\n",
    "        hot_y = rng.randint(0, y_max, size=n_hot)\n",
    "        \n",
    "        hot_current = 10000 * current\n",
    "        \n",
    "        dark_im[[hot_y, hot_x]] = hot_current * exposure_time / gain\n",
    "    return dark_im"
   ]
  },
  {
   "cell_type": "code",
   "execution_count": null,
   "metadata": {},
   "outputs": [],
   "source": [
    "dark_exposure = 100\n",
    "dark_cur = 0.1\n",
    "dark_only = dark_current(synthetic_image, dark_cur, dark_exposure, hot_pixels=True)\n",
    "show_image(dark_only, cmap='gray')\n",
    "title_string = 'Dark current only, {dark_cur} $e^-$/sec/pix\\n{dark_exposure} sec exposure'.format(dark_cur=dark_cur, dark_exposure=dark_exposure)\n",
    "plt.title(title_string, fontsize='20');"
   ]
  },
  {
   "cell_type": "markdown",
   "metadata": {},
   "source": [
    "Note that the central value of the image colorbar is 10, the product of the dark\n",
    "current and the exposure time."
   ]
  },
  {
   "cell_type": "code",
   "execution_count": null,
   "metadata": {},
   "outputs": [],
   "source": [
    "dark_bias_noise_im = bias_noise_im + dark_only\n",
    "show_image(dark_bias_noise_im, cmap='gray')\n",
    "plt.title('Realistic dark frame \\n(with bias, read noise)', fontsize='20')"
   ]
  },
  {
   "cell_type": "markdown",
   "metadata": {},
   "source": [
    "## Sky background\n",
    "\n",
    "The amount of sky background depends on the atmospheric conditions (humidity,\n",
    "presence of light clouds, fires upwind from the observatory), the light sources\n",
    "in the sky (the Moon), and light sources in the surrounding area (cities). It\n",
    "may be uniform across the frame or it may not be, depending on the conditions.\n",
    "\n",
    "The function below generates some sky background. Each time you run it you'll\n",
    "get slightly different results (even if you keep the desired amount of sky\n",
    "counts the same) because the counts from a light source follow a Poisson\n",
    "distribution.\n",
    "\n",
    "The amount of sky background is directly proportional to the exposure time. In\n",
    "the function below however, you input the desired number of sky counts.\n",
    "\n",
    "It's not at all unusual to have a gradient in the sky across the image, but that\n",
    "effect is not simulated here."
   ]
  },
  {
   "cell_type": "code",
   "execution_count": null,
   "metadata": {},
   "outputs": [],
   "source": [
    "def sky_background(image, sky_counts, gain=1):\n",
    "    \"\"\"\n",
    "    Generate sky background, optionally including a gradient across the image (because\n",
    "    some times Moons happen).\n",
    "    \n",
    "    Parameters\n",
    "    ----------\n",
    "    \n",
    "    image : numpy array\n",
    "        Image whose shape the cosmic array should match.\n",
    "    sky_counts : float\n",
    "        The target value for the number of counts (as opposed to electrons or \n",
    "        photons) from the sky.\n",
    "    gain : float, optional\n",
    "        Gain of the camera, in units of electrons/ADU.\n",
    "    \"\"\"\n",
    "    sky_im = np.random.poisson(sky_counts * gain, size=image.shape) / gain\n",
    "    \n",
    "    return sky_im"
   ]
  },
  {
   "cell_type": "code",
   "execution_count": null,
   "metadata": {},
   "outputs": [],
   "source": [
    "sky_level = 20\n",
    "sky_only = sky_background(synthetic_image, sky_level)\n",
    "show_image(sky_only, cmap='gray')\n",
    "plt.title('Sky background only, {} counts input'.format(sky_level), fontsize=20)"
   ]
  },
  {
   "cell_type": "code",
   "execution_count": null,
   "metadata": {},
   "outputs": [],
   "source": [
    "sky_dark_bias_noise_im = dark_bias_noise_im + sky_only\n",
    "show_image(sky_dark_bias_noise_im, cmap='gray')\n",
    "plt.title('Sky, dark, bias and noise\\n(Realistic image of clouds)', fontsize=20);"
   ]
  },
  {
   "cell_type": "markdown",
   "metadata": {},
   "source": [
    "### Summary of the backgrounds in an astronomical image"
   ]
  },
  {
   "cell_type": "markdown",
   "metadata": {},
   "source": [
    "Note that the central value of the pixels in the \"realistic\" cloud image above,\n",
    "1130 or so, is the sum of the:\n",
    "\n",
    "+ bias level (1100 counts)\n",
    "+ dark current (10 counts, which is 0.1 e/sec/pix $\\times$ 100 sec, divided by\n",
    "the gain of 1 e/count)\n",
    "+ sky counts (20 counts)\n",
    "\n",
    "The distribution of counts around that is determined by the read noise (5\n",
    "electrons) and the expected width of a Poisson distribution for the sky counts,\n",
    "which is the square root of the number of those counts, $\\sqrt{20} \\approx 4.5$.\n",
    "Add those in quadrature and you get about 6.7."
   ]
  },
  {
   "cell_type": "markdown",
   "metadata": {},
   "source": [
    "### Interactive demo\n",
    "\n",
    "The cell below sets up an interactive demo that lets you change the value of\n",
    "read noise and other parameters to see the effect that changing them has on the\n",
    "resulting image."
   ]
  },
  {
   "cell_type": "code",
   "execution_count": null,
   "metadata": {},
   "outputs": [],
   "source": [
    "from ipywidgets import interactive, interact\n",
    "\n",
    "# @interact(bias_level=(1000,1200,10), dark=(0.01,1,0.01), sky_counts=(0, 300, 10),\n",
    "#           gain=(0.5, 3.0, 0.1), read=(0, 50, 2.0),\n",
    "#           exposure=(0, 300, 10))\n",
    "def complete_image(bias_level=1100, read=10.0, gain=1, dark=0.1, \n",
    "                   exposure=30, hot_pixels=True, sky_counts=200):\n",
    "    synthetic_image = np.zeros([500, 500])\n",
    "    show_image(synthetic_image + \n",
    "               read_noise(synthetic_image, read) +\n",
    "               bias(synthetic_image, bias_level, realistic=True) + \n",
    "               dark_current(synthetic_image, dark, exposure, hot_pixels=hot_pixels) +\n",
    "               sky_background(synthetic_image, sky_counts),\n",
    "               cmap='gray',\n",
    "               figsize=None)\n",
    "    \n",
    "i = interactive(complete_image, bias_level=(1000,1200,10), dark=(0.0,1,0.1), sky_counts=(0, 300, 50),\n",
    "          gain=(0.5, 3.0, 0.25), read=(0, 50, 5.0),\n",
    "          exposure=(0, 300, 30))\n",
    "\n",
    "for kid in i.children:\n",
    "    try:\n",
    "        kid.continuous_update = False\n",
    "    except KeyError:\n",
    "        pass\n",
    "i"
   ]
  },
  {
   "cell_type": "markdown",
   "metadata": {},
   "source": [
    "## Add some \"stars\"\n",
    "\n",
    "The \"stars\" we'll add below are essentially just (round) Gaussian sources. The\n",
    "function that does most of the work is from [photutils](https://photutils.readthedocs.io/en/stable/index.html),\n",
    "which we'll return to later for doing photometry.\n",
    "\n"
   ]
  },
  {
   "cell_type": "code",
   "execution_count": null,
   "metadata": {},
   "outputs": [],
   "source": [
    "def stars(image, number, max_counts=10000, gain=1):\n",
    "    \"\"\"\n",
    "    Add some stars to the image.\n",
    "    \"\"\"\n",
    "    from photutils.datasets import make_random_gaussians_table, make_gaussian_sources_image\n",
    "    # Most of the code below is a direct copy/paste from\n",
    "    # https://photutils.readthedocs.io/en/stable/_modules/photutils/datasets/make.html#make_100gaussians_image\n",
    "    \n",
    "    flux_range = [max_counts/10, max_counts]\n",
    "    \n",
    "    y_max, x_max = image.shape\n",
    "    xmean_range = [0.1 * x_max, 0.9 * x_max]\n",
    "    ymean_range = [0.1 * y_max, 0.9 * y_max]\n",
    "    xstddev_range = [4, 4]\n",
    "    ystddev_range = [4, 4]\n",
    "    params = dict([('amplitude', flux_range),\n",
    "                  ('x_mean', xmean_range),\n",
    "                  ('y_mean', ymean_range),\n",
    "                  ('x_stddev', xstddev_range),\n",
    "                  ('y_stddev', ystddev_range),\n",
    "                  ('theta', [0, 2*np.pi])])\n",
    "\n",
    "    sources = make_random_gaussians_table(number, params,\n",
    "                                          random_state=12345)\n",
    "    \n",
    "    star_im = make_gaussian_sources_image(image.shape, sources)\n",
    "    \n",
    "    return star_im"
   ]
  },
  {
   "cell_type": "code",
   "execution_count": null,
   "metadata": {},
   "outputs": [],
   "source": [
    "stars_only = stars(synthetic_image, 50, max_counts=2000)\n",
    "show_image(stars_only, cmap='gray', percu=99.9)\n",
    "plt.title('Stars only'.format(stars_only), fontsize=20)"
   ]
  },
  {
   "cell_type": "code",
   "execution_count": null,
   "metadata": {},
   "outputs": [],
   "source": [
    "stars_with_background = sky_dark_bias_noise_im + stars_only"
   ]
  },
  {
   "cell_type": "code",
   "execution_count": null,
   "metadata": {},
   "outputs": [],
   "source": [
    "show_image(stars_with_background, cmap='gray', percu=99.9)\n",
    "plt.title('Stars with noise, bias, dark, sky'.format(stars_with_background), fontsize=20)"
   ]
  },
  {
   "cell_type": "markdown",
   "metadata": {},
   "source": [
    "### Discussion\n",
    "\n",
    "In the image above the single-pixel bright dots are hot pixels while the\n",
    "remaining dots that are larger than a pixel are simulated stars."
   ]
  },
  {
   "cell_type": "markdown",
   "metadata": {},
   "source": [
    "## Summary"
   ]
  },
  {
   "cell_type": "markdown",
   "metadata": {},
   "source": [
    "Everything we have included so far has been additive. Symbolically, the\n",
    "simulated image above was built like this:\n",
    "\n",
    "$$\n",
    "\\text{image} = \\text{bias} + \\text{noise} + \\text{dark current} + \\text{sky} + \\text{stars}\n",
    "$$\n",
    "\n",
    "Extracting the science (i.e. the stars) is in principle a matter of subtraction:\n",
    "\n",
    "$$\n",
    "\\text{stars} =  \\text{image} - \\text{bias} - \\text{noise} - \\text{dark current} - \\text{sky} \n",
    "$$\n",
    "\n",
    "There are a few complications:\n",
    "\n",
    "1. There are multiplicative effects that will be discussed in the next notebook.\n",
    "2. The way to measure each of the the things we need to subtract (bias and dark\n",
    "current) is to take images, each of which includes read noise. That can be\n",
    "minimized by combining several calibration images.\n",
    "3. There is no way to subtract the read noise because it is random."
   ]
  }
 ],
 "metadata": {
  "kernelspec": {
   "display_name": "Python 3",
   "language": "python",
   "name": "python3"
  },
  "language_info": {
   "codemirror_mode": {
    "name": "ipython",
    "version": 3
   },
   "file_extension": ".py",
   "mimetype": "text/x-python",
   "name": "python",
   "nbconvert_exporter": "python",
   "pygments_lexer": "ipython3",
   "version": "3.7.3"
  }
 },
 "nbformat": 4,
 "nbformat_minor": 4
}

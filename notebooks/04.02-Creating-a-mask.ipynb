{
 "cells": [
  {
   "cell_type": "markdown",
   "metadata": {},
   "source": [
    "# Creating a mask\n"
   ]
  },
  {
   "cell_type": "code",
   "execution_count": null,
   "metadata": {},
   "outputs": [],
   "source": [
    "from pathlib import Path\n",
    "\n",
    "import numpy as np\n",
    "\n",
    "from astropy.nddata import CCDData\n",
    "\n",
    "import ccdproc as ccdp\n",
    "from photutils import detect_sources\n",
    "from astrowidgets import ImageWidget"
   ]
  },
  {
   "cell_type": "markdown",
   "metadata": {},
   "source": [
    "## Current thoughts\n",
    "\n",
    "Ways to make a mask:\n",
    "\n",
    "+ `ccdmask`, IRAF-inspired, looks for pixels that stand out in ratio of flat frames. **Issue:** current example 2 has very short range of exposure times (1 - 1.2) which is likely not ideal.\n",
    "+ High dark current pixels. In this set of images the pixel `(3016, 3930)` is an excellent example. it shows up as hot in the master dark, it shows up as hot in the 1000 sec dark exposure, and it turns into a \"dark\" pixel in the reduced images because dark is over-subtracted.\n",
    "+ Cosmic ray detection. This finds single pixels (should these be kept???), actual cosmic rays, and, it turns out, odd things like stars that snuck into the darks 🤦‍♂️. **Issue:** There are stars in the darks for this night. Am inclined to keep using this night anyway and discuss/point them out.\n",
    "+ Some combination of the above. There is *not* huge overlap between them. **See near end of this notebook for support of this.** Not sure how many of the single-pixel \"cosmic rays\" are really cosmic rays.\n",
    "\n",
    "When to create the mask:\n",
    "\n",
    "+ At the end. Adding the mask to each file takes up *a lot* of space and isn't really needed if the procedures in this guide are followed because extreme pixels are rejected during reduction anyway. \n",
    "+ Once you have everything in hand constructing a mask is easier.\n",
    "+ Can't really do any overall mask (as opposed to frame-by-frame) because the cosmic ray mask varies from image to image (mostly).\n",
    "\n",
    "Do you need to create a mask?\n",
    "\n",
    "+ Beats me. Lots of people don't, I gather. Worst case they introduce noise into your measurements, but some of that can be eliminated by sigma clipping the result and/or tossing out extreme points.\n",
    "+ OTOH, if you do have one you can sensibly reject points from either annulus or aperture (or exclude measurements when bad pixel is in aperture or whatever).\n",
    "\n",
    "Cool things:\n",
    "\n",
    "+ Using `photutils` to generate segmentation maps from the mask is awesome. Makes it much easier to assess the cosmic ray detection and to view big bad spots from `ccdmask`.\n",
    "+ Couple that with the image viewer and joy is to be had!"
   ]
  },
  {
   "cell_type": "code",
   "execution_count": null,
   "metadata": {},
   "outputs": [],
   "source": [
    "ex2_path = Path('example2-reduced')\n",
    "\n",
    "ifc = ccdp.ImageFileCollection(ex2_path)\n",
    "ifc.summary.remove_columns(['history', 'comment'])"
   ]
  },
  {
   "cell_type": "code",
   "execution_count": null,
   "metadata": {},
   "outputs": [],
   "source": [
    "flats = (ifc.summary['imagetyp'] == 'FLAT') & (ifc.summary['combined'] != True)\n",
    "ifc.summary[flats]"
   ]
  },
  {
   "cell_type": "code",
   "execution_count": null,
   "metadata": {},
   "outputs": [],
   "source": [
    "first = ifc.summary['file'][flats][0]\n",
    "last = ifc.summary['file'][flats][-1]"
   ]
  },
  {
   "cell_type": "code",
   "execution_count": null,
   "metadata": {},
   "outputs": [],
   "source": [
    "ccd1 = CCDData.read(ex2_path / first)\n",
    "ccd2 = CCDData.read(ex2_path / last)"
   ]
  },
  {
   "cell_type": "code",
   "execution_count": null,
   "metadata": {},
   "outputs": [],
   "source": [
    "mask1 = ccdp.ccdmask(ccd1)"
   ]
  },
  {
   "cell_type": "code",
   "execution_count": null,
   "metadata": {},
   "outputs": [],
   "source": [
    "iw = ImageWidget()"
   ]
  },
  {
   "cell_type": "code",
   "execution_count": null,
   "metadata": {},
   "outputs": [],
   "source": [
    "mccd1 = CCDData(data=mask1, unit='adu')"
   ]
  },
  {
   "cell_type": "code",
   "execution_count": null,
   "metadata": {},
   "outputs": [],
   "source": [
    "iw.load_array(mask1)"
   ]
  },
  {
   "cell_type": "code",
   "execution_count": null,
   "metadata": {},
   "outputs": [],
   "source": [
    "iw"
   ]
  },
  {
   "cell_type": "code",
   "execution_count": null,
   "metadata": {},
   "outputs": [],
   "source": [
    "ratio = ccd2.divide(ccd1)"
   ]
  },
  {
   "cell_type": "code",
   "execution_count": null,
   "metadata": {},
   "outputs": [],
   "source": [
    "%%time\n",
    "maskr = ccdp.ccdmask(ratio)"
   ]
  },
  {
   "cell_type": "code",
   "execution_count": null,
   "metadata": {},
   "outputs": [],
   "source": [
    "maskr.sum(), mask1.sum()"
   ]
  },
  {
   "cell_type": "code",
   "execution_count": null,
   "metadata": {},
   "outputs": [],
   "source": [
    "iw.load_array(maskr)"
   ]
  },
  {
   "cell_type": "code",
   "execution_count": null,
   "metadata": {},
   "outputs": [],
   "source": [
    "iw.load_nddata(ratio)"
   ]
  },
  {
   "cell_type": "code",
   "execution_count": null,
   "metadata": {},
   "outputs": [],
   "source": [
    "iw.center_on((3824, 2450))"
   ]
  },
  {
   "cell_type": "code",
   "execution_count": null,
   "metadata": {},
   "outputs": [],
   "source": [
    "x, y = np.where(maskr)"
   ]
  },
  {
   "cell_type": "code",
   "execution_count": null,
   "metadata": {},
   "outputs": [],
   "source": [
    "len(x)"
   ]
  },
  {
   "cell_type": "code",
   "execution_count": null,
   "metadata": {},
   "outputs": [],
   "source": [
    "segm = detect_sources(maskr, 0.5, 2)"
   ]
  },
  {
   "cell_type": "code",
   "execution_count": null,
   "metadata": {},
   "outputs": [],
   "source": []
  },
  {
   "cell_type": "code",
   "execution_count": null,
   "metadata": {},
   "outputs": [],
   "source": [
    "segm.slices"
   ]
  },
  {
   "cell_type": "code",
   "execution_count": null,
   "metadata": {},
   "outputs": [],
   "source": [
    "cmp = segm.cmap()"
   ]
  },
  {
   "cell_type": "code",
   "execution_count": null,
   "metadata": {},
   "outputs": [],
   "source": [
    "cmp.colors"
   ]
  },
  {
   "cell_type": "code",
   "execution_count": null,
   "metadata": {},
   "outputs": [],
   "source": [
    "#iw.load_array(segm.data)\n",
    "#iw.load_array(maskr)\n",
    "iw.load_array(dmask)\n",
    "#iw.load_array(dark1000.data)"
   ]
  },
  {
   "cell_type": "code",
   "execution_count": null,
   "metadata": {},
   "outputs": [],
   "source": [
    "# This is a hot pixel that clearly shows up as a dark spot in other images\n",
    "# i.e. it is not well-modeled by the dark frames.\n",
    "iw.center_on((3016, 3930))\n",
    "iw.zoom_level = 6"
   ]
  },
  {
   "cell_type": "code",
   "execution_count": null,
   "metadata": {},
   "outputs": [],
   "source": [
    "iw"
   ]
  },
  {
   "cell_type": "code",
   "execution_count": null,
   "metadata": {},
   "outputs": [],
   "source": [
    "dark1000 = CCDData.read('master_dark_exposure_1000.0.fit.bz2')"
   ]
  },
  {
   "cell_type": "code",
   "execution_count": null,
   "metadata": {},
   "outputs": [],
   "source": [
    "dark1000 = dark1000.divide(1000).multiply(1.5)"
   ]
  },
  {
   "cell_type": "code",
   "execution_count": null,
   "metadata": {},
   "outputs": [],
   "source": [
    "dmask = dark1000.data[:, :4096] > 10"
   ]
  },
  {
   "cell_type": "code",
   "execution_count": null,
   "metadata": {},
   "outputs": [],
   "source": [
    "dmask.sum()"
   ]
  },
  {
   "cell_type": "code",
   "execution_count": null,
   "metadata": {},
   "outputs": [],
   "source": [
    "in_both = dmask | maskr"
   ]
  },
  {
   "cell_type": "code",
   "execution_count": null,
   "metadata": {},
   "outputs": [],
   "source": [
    "in_both.sum()"
   ]
  },
  {
   "cell_type": "code",
   "execution_count": null,
   "metadata": {},
   "outputs": [],
   "source": [
    "iw.load_array(in_both)"
   ]
  },
  {
   "cell_type": "code",
   "execution_count": null,
   "metadata": {},
   "outputs": [],
   "source": [
    "in_both.sum() / 4096**2 * 100"
   ]
  },
  {
   "cell_type": "code",
   "execution_count": null,
   "metadata": {},
   "outputs": [],
   "source": [
    "maskd_from_cm = ccdp.ccdmask(dark1000)"
   ]
  },
  {
   "cell_type": "code",
   "execution_count": null,
   "metadata": {},
   "outputs": [],
   "source": [
    "maskd_from_cm.sum()"
   ]
  },
  {
   "cell_type": "code",
   "execution_count": null,
   "metadata": {},
   "outputs": [],
   "source": [
    "kelt16_with_cr = CCDData.read(ex2_path / 'kelt-16-with-cr-mask.fits')"
   ]
  },
  {
   "cell_type": "code",
   "execution_count": null,
   "metadata": {},
   "outputs": [],
   "source": [
    "cr_mask = kelt16_with_cr.mask"
   ]
  },
  {
   "cell_type": "code",
   "execution_count": null,
   "metadata": {},
   "outputs": [],
   "source": [
    "cr_mask.sum()"
   ]
  },
  {
   "cell_type": "code",
   "execution_count": null,
   "metadata": {},
   "outputs": [],
   "source": [
    "only_in_cr = cr_mask & ~maskr & ~dmask"
   ]
  },
  {
   "cell_type": "code",
   "execution_count": null,
   "metadata": {},
   "outputs": [],
   "source": [
    "only_in_cr.sum()"
   ]
  },
  {
   "cell_type": "code",
   "execution_count": null,
   "metadata": {},
   "outputs": [],
   "source": []
  }
 ],
 "metadata": {
  "kernelspec": {
   "display_name": "Python 3",
   "language": "python",
   "name": "python3"
  },
  "language_info": {
   "codemirror_mode": {
    "name": "ipython",
    "version": 3
   },
   "file_extension": ".py",
   "mimetype": "text/x-python",
   "name": "python",
   "nbconvert_exporter": "python",
   "pygments_lexer": "ipython3",
   "version": "3.6.8"
  }
 },
 "nbformat": 4,
 "nbformat_minor": 2
}

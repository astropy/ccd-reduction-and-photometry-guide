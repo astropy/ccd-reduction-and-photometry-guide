{
 "cells": [
  {
   "cell_type": "markdown",
   "metadata": {},
   "source": [
    "# Cosmic ray removal\n",
    "\n",
    "Almost all images from a CCD will include some number of cosmic rays, charged particles which bombard the Earth's upper atmosphere. Some of those will make it through the atmosphere and into your detector (the rate of cosmic rays will be much higher for cameras in space). Although the number of cosmic rays is roughly proportional to exposure time, there will be cosmic rays even in bias frames in which the chip is immediately read out.\n",
    "\n",
    "This notebook explains how to remove cosmic rays from calibration images and science images."
   ]
  },
  {
   "cell_type": "markdown",
   "metadata": {},
   "source": [
    "## Removal from calibration images\n",
    "\n",
    "The easiest way to remove cosmic rays from calibration images (bias, dark and flat images) is to combine them properly. Cosmic rays are, by their nature, random events that will affect different parts of each of the calibration images. A pixel affected by a cosmic ray in one of the dark images, for example, will almost certainly *not* be affected by a cosmic ray in any of the other dark images. \n",
    "\n",
    "Combining those images by averaging (to reduce noise as much as possible) and sigma clipping (to exclude extreme pixels in individual images like the one with a cosmic ray) will eliminate the cosmic ray from the combined dark image. An alternative would be to combine the images using a median. A detailed description of each option is discussed in the [section on image combination](01.06-Image-combination.ipynb).\n",
    "\n",
    "The method described below for removing cosmic rays from science images will not work well for removing them from calibration images and is unnecessary because they can be removed by properly combining the images."
   ]
  },
  {
   "cell_type": "markdown",
   "metadata": {},
   "source": [
    "## Removal from science images\n",
    "\n",
    "One good technique for removing cosmic rays from an image is the [LACosmic method](http://www.astro.yale.edu/dokkum/lacosmic/) originally developed and implemented for IRAF by [Pieter G. van Dokkum](https://www.pietervandokkum.com/). The original paper describing the method, which uses the sharp edges of cosmic rays to distinguish them from other sources in the image, is [here](http://adsabs.harvard.edu/abs/2001PASP..113.1420V).\n",
    "\n",
    "\n",
    "The specific implementation of LACosmic used here is the astropy affiliated package [Astro-SCRAPPY](https://github.com/astropy/astroscrappy). If you use this code to remove cosmic rays you should cite both the original paper and [Astro-SCRAPPY](https://github.com/astropy/astroscrappy) (citation details are on its web site). The code below never directly imports [Astro-SCRAPPY](https://github.com/astropy/astroscrappy) because ccdproc provides a wrapper for it so we called attention to it here."
   ]
  },
  {
   "cell_type": "markdown",
   "metadata": {},
   "source": [
    "### Very important notes about using LACosmic\n",
    "\n",
    "There are a few things to be aware of before using the LACosmic technique. These are drawn from the advice van Dokkum provides under [Notes for Users](http://www.astro.yale.edu/dokkum/lacosmic/) and the original paper.\n",
    "\n",
    "1. The images must be bias and dark subtracted.\n",
    "2. The images should be flat fielded, though the technique can be applied without flat fielding.\n",
    "3. The images should **not** have the sky subtracted before detecting the cosmic rays.\n",
    "4. The noise level in the image needs to be accurately measured.\n",
    "5. The image and the noise have to be in the same units, typically electrons."
   ]
  },
  {
   "cell_type": "code",
   "execution_count": null,
   "metadata": {},
   "outputs": [],
   "source": [
    "from pathlib import Path\n",
    "\n",
    "import numpy as np\n",
    "from matplotlib import pyplot as plt\n",
    "\n",
    "from astropy.nddata import CCDData\n",
    "from astropy import units as u\n",
    "import ccdproc as ccdp\n",
    "from photutils import detect_sources\n",
    "\n",
    "from astrowidgets import ImageWidget\n",
    "\n",
    "from convenience_functions import show_image"
   ]
  },
  {
   "cell_type": "markdown",
   "metadata": {},
   "source": [
    "### Input image\n",
    "\n",
    "The image we will use in this notebook is one of the reduced images from Example 2 in the previous notebooks. It is an image of the field of the exoplanet Kelt-16b, taken with a thermo-electrically cooled CCD with read noise of 10$e^-$ and gain of $1.5~e^-$/ADU."
   ]
  },
  {
   "cell_type": "code",
   "execution_count": null,
   "metadata": {},
   "outputs": [],
   "source": [
    "ex2_path = Path('example2-reduced')\n",
    "\n",
    "ccd = CCDData.read(ex2_path / 'kelt-16-b-S001-R001-C084-r.fit')"
   ]
  },
  {
   "cell_type": "code",
   "execution_count": null,
   "metadata": {},
   "outputs": [],
   "source": [
    "show_image(ccd, cmap='gray')"
   ]
  },
  {
   "cell_type": "markdown",
   "metadata": {},
   "source": [
    "lights = ifc.summary['imagetyp'] == 'LIGHT'"
   ]
  },
  {
   "cell_type": "markdown",
   "metadata": {},
   "source": [
    "ifc.summary[lights]"
   ]
  },
  {
   "cell_type": "markdown",
   "metadata": {},
   "source": [
    "The unit of this image is ADU, so we need to multiply by the gain to convert to electrons."
   ]
  },
  {
   "cell_type": "code",
   "execution_count": null,
   "metadata": {},
   "outputs": [],
   "source": [
    "ccd = ccdp.gain_correct(ccd, 1.5 * u.electron / u.adu)"
   ]
  },
  {
   "cell_type": "markdown",
   "metadata": {},
   "source": [
    "### Running LACosmic\n",
    "\n",
    "The actual invocation of LACosmic is fairly straightforward. The key parameters are `readnoise`, the read noise, and `sigclip`, which determines how far above the background a pixel needs to be to consider it a cosmic ray. There is no hard-and-fast rule for selecting the proper value of `sigclip`. In the original paper a value of 5 is recommended, but for this image it finds 8,000 pixels contaminated by cosmic rays. That is not plausible for an image taken with a camera a thousand feet above sea level.\n",
    "\n",
    "Higher values of `sigclip` reduce the number of cosmic rays found. The value used below, 8, seemed to work well for this image, finding a total of roughly 400 pixels that are cosmic rays, and a couple dozen candidate cosmic rays that extend across multiple pixels.\n",
    "\n",
    "The function [`cosmicray_lacosmic`]() from ccdproc returns a new image in which the mask is `True` for pixels in which a cosmic ray was detected and `False` otherwise. The data in the new image has values in the pixels in which cosmic rays were identified replaced by interpolating the neighboring pixels. \n",
    "\n",
    "We will take a look at the cosmic rays identified by LACosmic in a moment."
   ]
  },
  {
   "cell_type": "code",
   "execution_count": null,
   "metadata": {},
   "outputs": [],
   "source": [
    "%%time\n",
    "new_ccd = ccdp.cosmicray_lacosmic(ccd, readnoise=10, sigclip=8, verbose=True)"
   ]
  },
  {
   "cell_type": "code",
   "execution_count": null,
   "metadata": {},
   "outputs": [],
   "source": [
    "new_ccd.mask.sum()"
   ]
  },
  {
   "cell_type": "markdown",
   "metadata": {},
   "source": [
    "### Examining the cosmic rays identified by LACosmic\n",
    "\n",
    "There are 428 pixels that have been flagged as cosmic rays. Looking through each of them individually would be tedious, at best. It would also presumably be difficult to decide visually if a single pixel tagged as a cosmic ray was actually a cosmic ray, but it would be helpful to look at the larger cosmic rays, i.e. those that span multiple pixels.\n",
    "\n",
    "To identify those larger cosmic rays we will use the function `detect_sources` from the package [photutils](https://photutils.readthedocs.io), which identifies contiguous pixels in an image via image segmentation. Though [`detect_sources`]() is intended for detecting extended or stellar  sources in an image it happens to work very well for identifying extended cosmic rays in the mask generated by [`cosmicray_lacosmic`]().\n",
    "\n",
    "The threshold below should be something less than 1 to ensure that only the masked pixels, i.e. those whose values are 1, are included as sources. The number of pixels is the number which must be adjacent (either by edge or by corner) to be considered a source."
   ]
  },
  {
   "cell_type": "code",
   "execution_count": null,
   "metadata": {},
   "outputs": [],
   "source": [
    "threshold = 0.5\n",
    "n_pixels = 3\n",
    "crs = detect_sources(new_ccd.mask, threshold, n_pixels)"
   ]
  },
  {
   "cell_type": "markdown",
   "metadata": {},
   "source": [
    "We first check to see how many of the pixels identified by LACosmic are part of these extended cosmic rays."
   ]
  },
  {
   "cell_type": "code",
   "execution_count": null,
   "metadata": {},
   "outputs": [],
   "source": [
    "sum(crs.areas)"
   ]
  },
  {
   "cell_type": "markdown",
   "metadata": {},
   "source": [
    "Looks like about 75% of them."
   ]
  },
  {
   "cell_type": "code",
   "execution_count": null,
   "metadata": {},
   "outputs": [],
   "source": [
    "ccd_dark = CCDData.read(ex2_path / 'combined_dark_90.000.fit')"
   ]
  },
  {
   "cell_type": "code",
   "execution_count": null,
   "metadata": {},
   "outputs": [],
   "source": [
    "def image_snippet(image, center, width=50, axis=None, fig=None):\n",
    "    x_slice = slice(center[1] - width // 2, center[1] + width // 2)\n",
    "    y_slice = slice(center[0] - width // 2, center[0] + width // 2)\n",
    "    #print('In snippet', x_slice, y_slice)\n",
    "    sub_image = image[x_slice, y_slice]\n",
    "    show_image(sub_image, cmap='gray', ax=axis, fig=fig, show_colorbar=True, figsize=(2, 2))\n",
    "    "
   ]
  },
  {
   "cell_type": "code",
   "execution_count": null,
   "metadata": {
    "scrolled": false
   },
   "outputs": [],
   "source": [
    "def mid(sl):\n",
    "    return (sl.start + sl.stop) // 2\n",
    "\n",
    "n_rows = len(crs.slices)\n",
    "\n",
    "fig, axes = plt.subplots(n_rows, 3, sharex=True, sharey='row', figsize=(40, 160), tight_layout=True)\n",
    "\n",
    "for row, s in enumerate(crs.slices):\n",
    "#for s in crs_no_sub.slices[-3:]:\n",
    "    x = mid(s[1])\n",
    "    y = mid(s[0])\n",
    "    #print(x, y)\n",
    "    for column, image in enumerate([new_ccd.mask, ccd, ccd_dark]):\n",
    "        image_snippet(image, (x, y), width=80, axis=axes[row, column], fig=fig)"
   ]
  },
  {
   "cell_type": "code",
   "execution_count": null,
   "metadata": {},
   "outputs": [],
   "source": [
    "iw = ImageWidget()\n",
    "iw"
   ]
  },
  {
   "cell_type": "code",
   "execution_count": null,
   "metadata": {},
   "outputs": [],
   "source": [
    "iw.load_array(new_ccd.mask)"
   ]
  },
  {
   "cell_type": "code",
   "execution_count": null,
   "metadata": {},
   "outputs": [],
   "source": [
    "iw.center_on((3961, 2679))\n",
    "\n",
    "#iw.center_on((3151, 481))\n",
    "\n",
    "#iw.center_on((3054, 904))\n",
    "#iw.center_on((3133.15, 1366.32))\n",
    "iw.zoom_level = 4"
   ]
  },
  {
   "cell_type": "code",
   "execution_count": null,
   "metadata": {},
   "outputs": [],
   "source": [
    "iw.zoom_level"
   ]
  },
  {
   "cell_type": "code",
   "execution_count": null,
   "metadata": {},
   "outputs": [],
   "source": [
    "crs.slices"
   ]
  },
  {
   "cell_type": "code",
   "execution_count": null,
   "metadata": {},
   "outputs": [],
   "source": [
    "crs_no_sub = detect_sources(new_ccd_no_sub.mask, 0.5, 3)"
   ]
  },
  {
   "cell_type": "code",
   "execution_count": null,
   "metadata": {},
   "outputs": [],
   "source": [
    "crs_no_sub.slices"
   ]
  },
  {
   "cell_type": "code",
   "execution_count": null,
   "metadata": {},
   "outputs": [],
   "source": [
    "def mid(sl):\n",
    "    return (sl.start + sl.stop) / 2\n",
    "from time import sleep\n",
    "iw.zoom_level = 8\n",
    "for s in crs.slices[-3:]:\n",
    "#for s in crs_no_sub.slices[-3:]:\n",
    "    x = mid(s[1])\n",
    "    y = mid(s[0])\n",
    "    print(x, y)\n",
    "    iw.center_on((x, y))\n",
    "    sleep(2)"
   ]
  },
  {
   "cell_type": "code",
   "execution_count": null,
   "metadata": {},
   "outputs": [],
   "source": [
    "iw"
   ]
  },
  {
   "cell_type": "code",
   "execution_count": null,
   "metadata": {},
   "outputs": [],
   "source": [
    "iw.load_array(ccd.data)"
   ]
  },
  {
   "cell_type": "code",
   "execution_count": null,
   "metadata": {},
   "outputs": [],
   "source": [
    "ccd_raw = CCDData.read('example-thermo-electric/kelt-16-b-S001-R001-C084-r.fit.gz')"
   ]
  },
  {
   "cell_type": "code",
   "execution_count": null,
   "metadata": {},
   "outputs": [],
   "source": [
    "crs.areas.sum()"
   ]
  },
  {
   "cell_type": "code",
   "execution_count": null,
   "metadata": {},
   "outputs": [],
   "source": [
    "new_ccd.write(ex2_path / 'kelt-16-with-cr-mask.fits')"
   ]
  },
  {
   "cell_type": "code",
   "execution_count": null,
   "metadata": {},
   "outputs": [],
   "source": []
  }
 ],
 "metadata": {
  "kernelspec": {
   "display_name": "Python 3",
   "language": "python",
   "name": "python3"
  },
  "language_info": {
   "codemirror_mode": {
    "name": "ipython",
    "version": 3
   },
   "file_extension": ".py",
   "mimetype": "text/x-python",
   "name": "python",
   "nbconvert_exporter": "python",
   "pygments_lexer": "ipython3",
   "version": "3.6.8"
  }
 },
 "nbformat": 4,
 "nbformat_minor": 2
}

{
 "cells": [
  {
   "cell_type": "markdown",
   "metadata": {},
   "source": [
    "# Image masking\n",
    "\n",
    "There are several reasons a particular pixel in a specific image might not be\n",
    "useful:\n",
    "\n",
    "+ The pixel could be \"hot,\" meaning it isn't possible to remove the dark current\n",
    "from the pixel.\n",
    "+ The pixel could be bad in the sense that it does not respond to light the way\n",
    "the other pixels do.\n",
    "+ A cosmic ray can hit the pixel during the imaging.\n",
    "\n",
    "The following notebooks walk through identifying each of those types of bad\n",
    "pixels and how to create a mask for them."
   ]
  }
 ],
 "metadata": {
  "kernelspec": {
   "display_name": "Python 3",
   "language": "python",
   "name": "python3"
  },
  "language_info": {
   "codemirror_mode": {
    "name": "ipython",
    "version": 3
   },
   "file_extension": ".py",
   "mimetype": "text/x-python",
   "name": "python",
   "nbconvert_exporter": "python",
   "pygments_lexer": "ipython3",
   "version": "3.6.8"
  }
 },
 "nbformat": 4,
 "nbformat_minor": 4
}

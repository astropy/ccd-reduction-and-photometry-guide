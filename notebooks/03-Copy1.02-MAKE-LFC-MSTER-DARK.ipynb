{
 "cells": [
  {
   "cell_type": "markdown",
   "metadata": {},
   "source": [
    "# Reality: most of your dark frame is noise and not all of the time dependent artifacts are dark current"
   ]
  },
  {
   "cell_type": "markdown",
   "metadata": {},
   "source": [
    "The dark current on modern CCDs, even relatively inexpensive ones, is very small. In a typical exposure the dark current is likely smaller, maybe much smaller, than the read noise. Despite that it is worth examining some dark frames from your camera. because not all pixels have the same dark current. Some, called hot pixels, have much higher dark current than the rest of the sensor.\n",
    "\n",
    "As we did in the [notebook about overscan](01.08-Overscan.ipynb), we will focus on a pair of cameras to illustrate this point and demonstrate how to take similar images with your camera and analyze them."
   ]
  },
  {
   "cell_type": "code",
   "execution_count": null,
   "metadata": {},
   "outputs": [],
   "source": [
    "from pathlib import Path\n",
    "\n",
    "import matplotlib.pyplot as plt\n",
    "import numpy as np\n",
    "\n",
    "from astropy import units as u\n",
    "from astropy.nddata import CCDData\n",
    "from astropy.visualization import hist\n",
    "from astropy.stats import mad_std\n",
    "from ccdproc import ImageFileCollection, subtract_overscan, trim_image, combine, subtract_bias\n",
    "\n",
    "from convenience_functions import show_image"
   ]
  },
  {
   "cell_type": "markdown",
   "metadata": {},
   "source": [
    "## Case 1: Cryogenically cooled  Large Format Camera (LFC) at Palomar\n",
    "\n",
    "The images in this section are from chip 0 of the LFC at the Palomar 200-inch telescope. Technical information about the camera is [here](http://www.astro.caltech.edu/palomar/observer/200inchResources/lfcspecs.html). The technical information says nothing about the expected dark current of this camera. The expectation for cameras cooled by liquid nitrogen is that their dark current is essentially zero.\n",
    "\n",
    "What we will see with this camera is that\n",
    "\n",
    "+ not all of the pixels have negligible dark current, and \n",
    "+ not all of the counts in a dark image are from dark current.\n",
    "\n"
   ]
  },
  {
   "cell_type": "code",
   "execution_count": null,
   "metadata": {},
   "outputs": [],
   "source": [
    "darks = ImageFileCollection(Path('python_imred_data') / 'darks')\n",
    "darks.summary['file', 'exptime']"
   ]
  },
  {
   "cell_type": "markdown",
   "metadata": {},
   "source": [
    "### Best we can do is 3x 300 sec\n",
    "\n",
    "Let's grab the calibrated bias..."
   ]
  },
  {
   "cell_type": "code",
   "execution_count": null,
   "metadata": {},
   "outputs": [],
   "source": [
    "calib_bias = CCDData.read(Path('.') / 'reduced' / 'combined_bias.fit')\n",
    "calibrated_images = Path('.') / 'reduced'"
   ]
  },
  {
   "cell_type": "code",
   "execution_count": null,
   "metadata": {},
   "outputs": [],
   "source": [
    "d_to_combine = []\n",
    "\n",
    "for d in darks.ccds(exptime=300.0, ccd_kwargs=dict(unit='adu')):\n",
    "    new_d = subtract_overscan(d, overscan=d[:, 2055:], median=True)\n",
    "    new_d = trim_image(new_d[:, :2048])\n",
    "    new_d = subtract_bias(new_d, calib_bias)\n",
    "    d_to_combine.append(new_d.copy())"
   ]
  },
  {
   "cell_type": "code",
   "execution_count": null,
   "metadata": {},
   "outputs": [],
   "source": [
    "d_to_combine"
   ]
  },
  {
   "cell_type": "code",
   "execution_count": null,
   "metadata": {},
   "outputs": [],
   "source": [
    "d_to_combine[0].dtype"
   ]
  },
  {
   "cell_type": "code",
   "execution_count": null,
   "metadata": {},
   "outputs": [],
   "source": [
    "%%time\n",
    "combined_dark = combine(d_to_combine, output_file=calibrated_images / 'combined_300s_darks.fits',\n",
    "                             method='average',\n",
    "                             sigma_clip=True, sigma_clip_low_thresh=5, sigma_clip_high_thresh=5,\n",
    "                             sigma_clip_func=np.ma.median, signma_clip_dev_func=mad_std,\n",
    "                             mem_limit=350e6\n",
    "                            )"
   ]
  },
  {
   "cell_type": "code",
   "execution_count": null,
   "metadata": {},
   "outputs": [],
   "source": [
    "combined_dark_lfc = CCDData.read(calibrated_images / 'combined_300s_darks.fits')"
   ]
  },
  {
   "cell_type": "code",
   "execution_count": null,
   "metadata": {},
   "outputs": [],
   "source": [
    "show_image(combined_dark, cmap='gray')"
   ]
  },
  {
   "cell_type": "code",
   "execution_count": null,
   "metadata": {},
   "outputs": [],
   "source": [
    "show_image(combined_dark[:200, :200], cmap='gray')"
   ]
  },
  {
   "cell_type": "code",
   "execution_count": null,
   "metadata": {},
   "outputs": [],
   "source": [
    "gain = 2.0\n",
    "exposure_time = 300\n",
    "dark_current_ln2 = gain * combined_dark.data / exposure_time\n",
    "\n",
    "plt.figure(figsize=(20, 10))\n",
    "hist(dark_current_ln2.flatten(), bins=5000, density=False, alpha=0.5, color='C0');\n",
    "hist(dark_current_ln2[200:, 200:].flatten(), bins=5000, density=False, alpha=0.5, color='C1')\n",
    "hist(dark_current_ln2[:200, :200].flatten(), bins=5000, density=False, alpha=0.5, color='C9');\n",
    "#plt.semilogy()\n",
    "plt.loglog()\n",
    "\n",
    "plt.grid()\n",
    "plt.vlines(2 * 11/exposure_time/np.sqrt(3), 0.1, 8e6)\n",
    "plt.ylim(0.1, 8e6)\n",
    "#plt.xlim(0, .1)\n",
    "plt.xlabel('dark current, electrons per second')\n",
    "plt.ylabel('Number of pixels with that dark current');\n"
   ]
  },
  {
   "cell_type": "markdown",
   "metadata": {},
   "source": [
    "## Case 2: Thermo-electrically cooled camera"
   ]
  },
  {
   "cell_type": "markdown",
   "metadata": {},
   "source": [
    "### Making an image to check for hot pixels\n",
    "\n",
    "The image below is a combination of 20 dark frames, each a 1000 sec exposure. That exposure time was chosen so that the expected number of dark electrons was at least somewhat larger than the read noise expected in a combination of 20 images. As we saw in the previous notebook, unless that is the case the dark frames will measure read noise instead of dark current.\n",
    "\n",
    "This camera has a dark current of $0.01 e^-$/sec/pixel and read noise of roughly $10 e^-$/read/pixel/. An exposure time of 1000 sec means an expected dark level in each exposure of $10 e^-$. By combining 20 of the images, the expected noise in the combination is reduced by a factor of $\\sqrt{20}$ to $2.2 e^-$/pixel. This puts us in the \"low read noise\" limit in the previous notebook about ideal dark current.\n",
    "\n",
    "Measuring the dark current once you have the images is relatively straightforward: subtract the bias, multiply the result by the gain and then divide by the exposure time to obtain the dark current in $e^-$/pixel/sec."
   ]
  },
  {
   "cell_type": "code",
   "execution_count": null,
   "metadata": {},
   "outputs": [],
   "source": [
    "dark_1000 = CCDData.read('https://zenodo.org/record/2634177/files/master_dark_exposure_1000.0.fit.bz2?download=1')\n",
    "show_image(dark_1000, cmap='gray')"
   ]
  },
  {
   "cell_type": "markdown",
   "metadata": {},
   "source": [
    "### Calculate the dark current for each pixel\n",
    "\n",
    "Recall that the dark current $d_c(T)$ is given by \n",
    "\n",
    "$$\n",
    "d_c(T) = d_e(t) / t,\n",
    "$$\n",
    "\n",
    "where $d_e(t)$ is the number of dark electrons in the images. That is related to the dark counts, $n_{dark}(t)$, the image values displayed in the image above, by the gain of the camera, $d_e(t) = g n_{dark}(t)$, so that\n",
    "\n",
    "$$\n",
    "d_C(T) = g n_{dark}(t) / t.\n",
    "$$\n",
    "\n",
    "This particular camera has a gain of $g = 1.5 e^-$/ADU."
   ]
  },
  {
   "cell_type": "code",
   "execution_count": null,
   "metadata": {},
   "outputs": [],
   "source": [
    "gain = 1.5\n",
    "exposure_time = 1000\n",
    "dark_current = gain * dark_1000.data / exposure_time\n",
    "\n",
    "plt.figure(figsize=(20, 10))\n",
    "hist(dark_current.flatten(), bins=5000, density=False);\n",
    "plt.vlines(10/exposure_time/np.sqrt(20), *plt.ylim())\n",
    "#plt.semilogy()\n",
    "plt.loglog()\n",
    "plt.grid()\n",
    "#plt.xlim(0, .1)\n",
    "plt.xlabel('dark current, electrons per second')\n",
    "plt.ylabel('Number of pixels with that dark current');\n"
   ]
  },
  {
   "cell_type": "markdown",
   "metadata": {},
   "source": [
    "### There is a large range in the dark current \n",
    "\n",
    "While the vast majority of the pixels do, as expected, have very low dark current, it is much higher for other pixels. These pixels, called hot pixels, can occur even in cryogenically-cooled cameras. \n",
    "\n",
    "The vast majority of the pixels in the image have a dark current around the value promised by the manufacturer, 0.01 $e^-$/sec; the highest nominally have dark current 98 $e^-$/sec.\n",
    "\n",
    "However, there is  an upper limit to the dark current that can be measured in a particular exposure because there is an upper limit to the number of counts a CCD can represent. For this camera that limit is $2^{16} -1$, or $65,563$. If we convert that to a dark current for a 1000 sec exposure, it is approximately 98 $e^-$/sec. For the hottest pixels in this image, that is the *lower limit* of the dark current for those pixels.\n",
    "\n",
    "The dark current is also not well estimated for pixels a bit below the maximum because CCDs stop responding linearly once they pass a pixel value that depends on the camera. For this camera, the linearity limit is around 55,000 counts, corresponding to a dark current of roughly  82 $e^-$/sec.\n",
    "\n",
    "One can, in principle, also check whether the hot pixels have a constant dark current that does not change with time by creating a number of these darks at different exposure times and plotting the dark current as a function of exposure time for the hot pixels. If the dark current is constant then the dark counts will be properly removed when the dark is subtracted from the science image. If the dark current is not constant, the pixel should be excluded from analysis.\n",
    "\n",
    "The fraction of very hot pixels, those above 1 $e^-$/sec, is relatively small, roughly 0.1% of the pixels."
   ]
  },
  {
   "cell_type": "code",
   "execution_count": null,
   "metadata": {},
   "outputs": [],
   "source": [
    "plt.figure(figsize=(20, 10))\n",
    "hist(dark_current_ln2[200:, 200:].flatten(), bins=5000, density=True, alpha=0.5, label='Cryogenic, excluding sensor glow');\n",
    "hist(dark_current.flatten(), bins=5000, density=True, alpha=0.5, label='Thermo-electric');\n",
    "plt.grid()\n",
    "plt.loglog()\n",
    "plt.xlabel('dark current, electrons per second')\n",
    "plt.ylabel('Number of pixels with that dark current');\n",
    "plt.legend();"
   ]
  },
  {
   "cell_type": "markdown",
   "metadata": {},
   "source": [
    "## How to handle hot pixels\n",
    "\n",
    "There are a few ways one could handle this, which can be used in combination with each other:\n",
    "\n",
    "+ Mark all pixels above some threshold as bad and create a mask to keep track of these bad pixels.\n",
    "+ Mark only the really high dark current pixels as bad and mask them; for the rest, subtract dark current as usual.\n",
    "+ Always take dark images with exposure times that match your flat and light frames and subtract dark current as usual.\n",
    "+ Take one set of darks with exposure equal to the *longest* exposure time in your flat and light images and scale the dark current downwards to match your other exposure times.\n",
    "\n",
    "## One thing NOT to do\n",
    "\n",
    "Do not take short dark frames and scale them up to longer exposure times. Modern cameras, even thermo-electrically cooled ones, have very low dark current. If your dark frames have low exposure time then most of the pixels are measuring read noise, not dark current. If you rescale those images to a longer exposure time then you inappropriately amplify that noise. Ideally, the expected dark counts (or dark electrons) in your dark frames should be at least a few times larger than the expected read noise in the frames you combine to make a reference dark."
   ]
  },
  {
   "cell_type": "markdown",
   "metadata": {},
   "source": [
    "## Summary\n",
    "\n",
    "1. A dark frame only measures dark current if the expected dark counts exceed the read noise of the camera by a factor of a few.\n",
    "2. Take multiple dark frames and combine them to reduce the noise level in the combined image as much as possible.\n",
    "2. Most pixels in a CCD have very low dark current.\n",
    "3. A consequence of 1 and 2 is that you should almost never scale your dark frames up to a longer exposure time because you will amplify noise instead of eliminating dark current.\n",
    "3. Identify hot pixels and mask them out or otherwise deal with them.\n"
   ]
  }
 ],
 "metadata": {
  "kernelspec": {
   "display_name": "Python 3",
   "language": "python",
   "name": "python3"
  },
  "language_info": {
   "codemirror_mode": {
    "name": "ipython",
    "version": 3
   },
   "file_extension": ".py",
   "mimetype": "text/x-python",
   "name": "python",
   "nbconvert_exporter": "python",
   "pygments_lexer": "ipython3",
   "version": "3.6.8"
  }
 },
 "nbformat": 4,
 "nbformat_minor": 2
}

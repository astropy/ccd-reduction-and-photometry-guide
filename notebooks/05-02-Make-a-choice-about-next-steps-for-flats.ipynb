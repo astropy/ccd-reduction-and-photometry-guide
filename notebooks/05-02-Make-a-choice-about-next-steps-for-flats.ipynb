{
 "cells": [
  {
   "cell_type": "markdown",
   "metadata": {},
   "source": [
    "# Make a choice about next steps for flats\n"
   ]
  }
 ],
 "metadata": {},
 "nbformat": 4,
 "nbformat_minor": 2
}

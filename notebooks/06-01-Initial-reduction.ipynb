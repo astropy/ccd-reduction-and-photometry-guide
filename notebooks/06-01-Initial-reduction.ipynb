{
 "cells": [
  {
   "cell_type": "markdown",
   "metadata": {},
   "source": [
    "# Initial reduction\n",
    "+ [Subtract overscan and trim, if necessary](#Subtract-overscan-and-trim,-if-necessary)\n",
    "+ [Subtract bias, if necessary](#Subtract-bias,-if-necessary)\n",
    "+ [Subtract dark current, scaling if necessary (scale down when possible)](#Subtract-dark-current,-scaling-if-necessary-(scale-down-when-possible))\n",
    "+ [Flat correct](#Flat-correct)"
   ]
  },
  {
   "cell_type": "markdown",
   "metadata": {},
   "source": [
    "## Subtract overscan and trim, if necessary"
   ]
  },
  {
   "cell_type": "markdown",
   "metadata": {},
   "source": [
    "## Subtract bias, if necessary"
   ]
  },
  {
   "cell_type": "markdown",
   "metadata": {},
   "source": [
    "## Subtract dark current, scaling if necessary (scale down when possible)"
   ]
  },
  {
   "cell_type": "markdown",
   "metadata": {},
   "source": [
    "## Flat correct"
   ]
  }
 ],
 "metadata": {},
 "nbformat": 4,
 "nbformat_minor": 2
}

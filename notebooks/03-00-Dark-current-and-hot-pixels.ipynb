{
 "cells": [
  {
   "cell_type": "markdown",
   "metadata": {},
   "source": [
    "# Dark current and hot pixels"
   ]
  },
  {
   "cell_type": "markdown",
   "metadata": {},
   "source": [
    "Every image from a CCD contains *dark current*, which are counts in a raw image\n",
    "caused by thermal effects in the CCD.\n",
    "The dark current in modern CCDs is extremely small if the camera is cooled in\n",
    "some way. Cameras cooled with liquid nitrogen have nearly zero dark current\n",
    "while thermoelectrically-cooled CCDs have a somewhat larger dark current. The\n",
    "dark current in a CCD operating at room temperature will typically be very\n",
    "large.\n",
    "\n",
    "Even a camera in which the dark current is *typically* very small will have a\n",
    "small fraction of pixels, called hot pixels, in which the dark current is much\n",
    "higher.\n",
    "\n",
    "The next notebook walks through how to identify those pixels and how to decide\n",
    "the right way to remove dark current from your data."
   ]
  }
 ],
 "metadata": {
  "kernelspec": {
   "display_name": "Python 3",
   "language": "python",
   "name": "python3"
  },
  "language_info": {
   "codemirror_mode": {
    "name": "ipython",
    "version": 3
   },
   "file_extension": ".py",
   "mimetype": "text/x-python",
   "name": "python",
   "nbconvert_exporter": "python",
   "pygments_lexer": "ipython3",
   "version": "3.6.8"
  }
 },
 "nbformat": 4,
 "nbformat_minor": 2
}

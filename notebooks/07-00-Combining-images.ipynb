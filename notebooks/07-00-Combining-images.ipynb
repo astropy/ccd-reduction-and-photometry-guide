{
 "cells": [
  {
   "cell_type": "markdown",
   "metadata": {},
   "source": [
    "# Combining images\n",
    "\n",
    "An overview of combining images is in [Image combination](01-06-Image-combination.ipynb). The next\n",
    "sections discuss a couple of common cases not covered in the earlier section:\n",
    "\n",
    "+ Combining science images without aligning them to generate *sky flats*. These\n",
    "flats have the advantage that the light source exactly matches the spectrum of\n",
    "the night sky. They have the big disadvantage that the sky counts are typically\n",
    "very low so many, many images need to be combined to produce a reasonably low\n",
    "noise flat frame.\n",
    "+ Combining science images by aligning them using WCS information if it is\n",
    "present in the headers of the images."
   ]
  }
 ],
 "metadata": {
  "kernelspec": {
   "display_name": "Python 3",
   "language": "python",
   "name": "python3"
  },
  "language_info": {
   "codemirror_mode": {
    "name": "ipython",
    "version": 3
   },
   "file_extension": ".py",
   "mimetype": "text/x-python",
   "name": "python",
   "nbconvert_exporter": "python",
   "pygments_lexer": "ipython3",
   "version": "3.6.8"
  }
 },
 "nbformat": 4,
 "nbformat_minor": 2
}

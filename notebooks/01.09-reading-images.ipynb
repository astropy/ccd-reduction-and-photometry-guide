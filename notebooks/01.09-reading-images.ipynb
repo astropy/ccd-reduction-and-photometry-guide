{
 "cells": [
  {
   "cell_type": "markdown",
   "metadata": {},
   "source": [
    "# Reading images\n",
    "\n",
    "Astropy provides a few ways to read in FITS images, some in the core package and others in affiliated packages.\n",
    "\n",
    "Before exploring those, we'll create a set of (fake) images to work with."
   ]
  },
  {
   "cell_type": "code",
   "execution_count": 1,
   "metadata": {},
   "outputs": [],
   "source": [
    "from pathlib import Path\n",
    "from astropy.nddata import CCDData\n",
    "from astropy.io import fits"
   ]
  },
  {
   "cell_type": "markdown",
   "metadata": {},
   "source": [
    "## Working with directories\n",
    "\n",
    "The cell below contains the path to the images. In this notebook we'll use it both to store the fake images we generate and to read images. In normal use, you wouldn't start by writing images there, however. \n",
    "\n",
    "If the images are in the same directory as the notebook you can omit this, or set it to an empty string `''`. Having images in the same directory as the notebook is less complicated, but it's not at all uncommon to need to work with images in a different directory.\n",
    "\n",
    "Later, we'll look at how to generate the full path to an image (directory plus file name) in a way that will work on any platform. One of the approaches to loading images (using `ccdproc.ImageFileCollection`) lets you mostly forget about this."
   ]
  },
  {
   "cell_type": "code",
   "execution_count": 2,
   "metadata": {},
   "outputs": [],
   "source": [
    "data_directory = 'path/to/my/images'"
   ]
  },
  {
   "cell_type": "markdown",
   "metadata": {},
   "source": [
    "## Generate some fake images\n"
   ]
  },
  {
   "cell_type": "code",
   "execution_count": 3,
   "metadata": {},
   "outputs": [
    {
     "name": "stdout",
     "output_type": "stream",
     "text": [
      "path/to/my/images/img-0000.fits\n",
      "path/to/my/images/img-0001.fits\n",
      "path/to/my/images/img-0002.fits\n",
      "path/to/my/images/img-0003.fits\n",
      "path/to/my/images/img-0004.fits\n",
      "path/to/my/images/img-0005.fits\n",
      "path/to/my/images/img-0006.fits\n",
      "path/to/my/images/img-0007.fits\n",
      "path/to/my/images/img-0008.fits\n",
      "path/to/my/images/img-0009.fits\n",
      "path/to/my/images/img-0010.fits\n",
      "path/to/my/images/img-0011.fits\n",
      "path/to/my/images/img-0012.fits\n",
      "path/to/my/images/img-0013.fits\n",
      "path/to/my/images/img-0014.fits\n",
      "path/to/my/images/img-0015.fits\n",
      "path/to/my/images/img-0016.fits\n",
      "path/to/my/images/img-0017.fits\n",
      "path/to/my/images/img-0018.fits\n",
      "path/to/my/images/img-0019.fits\n",
      "path/to/my/images/img-0020.fits\n",
      "path/to/my/images/img-0021.fits\n",
      "path/to/my/images/img-0022.fits\n",
      "path/to/my/images/img-0023.fits\n",
      "path/to/my/images/img-0024.fits\n",
      "path/to/my/images/img-0025.fits\n",
      "path/to/my/images/img-0026.fits\n",
      "path/to/my/images/img-0027.fits\n"
     ]
    }
   ],
   "source": [
    "from pathlib import Path\n",
    "from itertools import cycle\n",
    "\n",
    "import numpy as np\n",
    "\n",
    "image_path = Path(data_directory)\n",
    "\n",
    "image_path.mkdir(parents=True, exist_ok=True)\n",
    "\n",
    "images_to_generate = {\n",
    "    'BIAS': 5,\n",
    "    'DARK': 10,\n",
    "    'FLAT': 3,\n",
    "    'LIGHT': 10\n",
    "}\n",
    "\n",
    "exposure_times = {\n",
    "    'BIAS': [0.0],\n",
    "    'DARK': [5.0, 30.0],\n",
    "    'FLAT': [5.0, 6.1, 7.3],\n",
    "    'LIGHT': [30.0],\n",
    "}\n",
    "\n",
    "filters = {\n",
    "    'FLAT': 'V',\n",
    "    'LIGHT': 'V'\n",
    "}\n",
    "\n",
    "objects = {\n",
    "    'LIGHT': ['m82', 'xx cyg']\n",
    "}\n",
    "\n",
    "image_size = [300, 200]\n",
    "\n",
    "image_number = 0\n",
    "for image_type, num in images_to_generate.items():\n",
    "    exposures = cycle(exposure_times[image_type])\n",
    "    try:\n",
    "        filts = cycle(filters[image_type])\n",
    "    except KeyError:\n",
    "        filts = []\n",
    "    \n",
    "    try:\n",
    "        objs = cycle(objects[image_type])\n",
    "    except KeyError:\n",
    "        objs = []\n",
    "    for _ in range(num):\n",
    "        img = CCDData(data=np.random.randn(*image_size), unit='adu')\n",
    "        img.meta['IMAGETYP'] = image_type\n",
    "        img.meta['EXPOSURE'] = next(exposures)\n",
    "        if filts:\n",
    "            img.meta['FILTER'] = next(filts)\n",
    "        if objs:\n",
    "            img.meta['OBJECT'] = next(objs)\n",
    "        image_name = str(image_path / f'img-{image_number:04d}.fits')\n",
    "        img.write(image_name)\n",
    "        print(image_name)\n",
    "        image_number += 1"
   ]
  },
  {
   "cell_type": "markdown",
   "metadata": {},
   "source": [
    "## Option 1: Reading a single image with `astropy.io.fits`\n",
    "\n",
    "This option gives you the most flexibility but is the least adapted to CCD images specifically. What you read in is a list of FITS extensions; you must first select the one you want then access the data or header as desired. \n",
    "\n",
    "We'll open up the first of the fake images, `img-0001.fits`. To combine that with the directory name we'll use Python 3's `pathlib`, which ensures that the path combination will work on Windows too."
   ]
  },
  {
   "cell_type": "code",
   "execution_count": 3,
   "metadata": {},
   "outputs": [
    {
     "data": {
      "text/plain": [
       "[<astropy.io.fits.hdu.image.PrimaryHDU object at 0x1516016390>]"
      ]
     },
     "execution_count": 3,
     "metadata": {},
     "output_type": "execute_result"
    }
   ],
   "source": [
    "image_name = 'img-0001.fits'\n",
    "\n",
    "image_path = Path(data_directory) / image_name\n",
    "\n",
    "hdu_list = fits.open(image_path)\n",
    "hdu_list"
   ]
  },
  {
   "cell_type": "markdown",
   "metadata": {},
   "source": [
    "The `hdu_list` is a list of FITS Header-Data Units. In this case there is just one, containing both the image header and data, which can be accessed as shown below."
   ]
  },
  {
   "cell_type": "code",
   "execution_count": 4,
   "metadata": {},
   "outputs": [
    {
     "data": {
      "text/plain": [
       "SIMPLE  =                    T / conforms to FITS standard                      \n",
       "BITPIX  =                  -64 / array data type                                \n",
       "NAXIS   =                    2 / number of array dimensions                     \n",
       "NAXIS1  =                  200                                                  \n",
       "NAXIS2  =                  300                                                  \n",
       "IMAGETYP= 'BIAS    '                                                            \n",
       "EXPOSURE=                  0.0                                                  \n",
       "BUNIT   = 'adu     '                                                            "
      ]
     },
     "execution_count": 4,
     "metadata": {},
     "output_type": "execute_result"
    }
   ],
   "source": [
    "hdu = hdu_list[0]\n",
    "hdu.header"
   ]
  },
  {
   "cell_type": "code",
   "execution_count": 5,
   "metadata": {},
   "outputs": [
    {
     "data": {
      "text/plain": [
       "array([[ 0.91962546, -0.94398497,  0.24254976, ..., -1.33550249,\n",
       "        -0.92099482,  1.73339116],\n",
       "       [-0.26848847,  0.64501649,  0.09068821, ...,  1.64452457,\n",
       "         0.94857587,  0.55936338],\n",
       "       [-0.35847435,  0.11360779, -0.50357318, ...,  0.40934905,\n",
       "        -1.78763228,  1.06970558],\n",
       "       ...,\n",
       "       [-0.25411335,  0.05358174,  1.50695881, ..., -1.60197614,\n",
       "        -0.628959  , -0.23650373],\n",
       "       [ 1.14317143,  0.95321118,  0.3985287 , ..., -0.66414859,\n",
       "        -0.63215069, -0.53788723],\n",
       "       [-1.1468373 , -0.39698568, -0.15371635, ..., -1.78283199,\n",
       "        -1.33742184, -1.00997915]])"
      ]
     },
     "execution_count": 5,
     "metadata": {},
     "output_type": "execute_result"
    }
   ],
   "source": [
    "hdu.data"
   ]
  },
  {
   "cell_type": "markdown",
   "metadata": {},
   "source": [
    "## Option 2:  Use `CCDData` to read in a single image\n",
    "\n",
    "Astropy contains a `CCDData` object for representing a single image. It's not as flexible as using `astrop.io.fits` directly (for example, it assumes there is only one FITS extension and that it contains image data) but it sets up several properties that make the data easier to work with. \n",
    "\n",
    "We'll read in the same single image we did in the example above, `img-0001.fits`."
   ]
  },
  {
   "cell_type": "code",
   "execution_count": 6,
   "metadata": {},
   "outputs": [],
   "source": [
    "ccd = CCDData.read(image_path)"
   ]
  },
  {
   "cell_type": "markdown",
   "metadata": {},
   "source": [
    "The data and header are accessed similarly to how you access it in an HDU returned by `astropy.io.fits`:"
   ]
  },
  {
   "cell_type": "code",
   "execution_count": 7,
   "metadata": {},
   "outputs": [
    {
     "data": {
      "text/plain": [
       "SIMPLE  =                    T / conforms to FITS standard                      \n",
       "BITPIX  =                  -64 / array data type                                \n",
       "NAXIS   =                    2 / number of array dimensions                     \n",
       "NAXIS1  =                  200                                                  \n",
       "NAXIS2  =                  300                                                  \n",
       "IMAGETYP= 'BIAS    '                                                            \n",
       "EXPOSURE=                  0.0                                                  \n",
       "BUNIT   = 'adu     '                                                            "
      ]
     },
     "execution_count": 7,
     "metadata": {},
     "output_type": "execute_result"
    }
   ],
   "source": [
    "ccd.header"
   ]
  },
  {
   "cell_type": "code",
   "execution_count": 8,
   "metadata": {},
   "outputs": [
    {
     "data": {
      "text/plain": [
       "array([[ 0.91962546, -0.94398497,  0.24254976, ..., -1.33550249,\n",
       "        -0.92099482,  1.73339116],\n",
       "       [-0.26848847,  0.64501649,  0.09068821, ...,  1.64452457,\n",
       "         0.94857587,  0.55936338],\n",
       "       [-0.35847435,  0.11360779, -0.50357318, ...,  0.40934905,\n",
       "        -1.78763228,  1.06970558],\n",
       "       ...,\n",
       "       [-0.25411335,  0.05358174,  1.50695881, ..., -1.60197614,\n",
       "        -0.628959  , -0.23650373],\n",
       "       [ 1.14317143,  0.95321118,  0.3985287 , ..., -0.66414859,\n",
       "        -0.63215069, -0.53788723],\n",
       "       [-1.1468373 , -0.39698568, -0.15371635, ..., -1.78283199,\n",
       "        -1.33742184, -1.00997915]])"
      ]
     },
     "execution_count": 8,
     "metadata": {},
     "output_type": "execute_result"
    }
   ],
   "source": [
    "ccd.data"
   ]
  },
  {
   "cell_type": "markdown",
   "metadata": {},
   "source": [
    "## Option 3: Working with a directory of images using `ImageFileCollection`\n",
    "\n",
    "The affiliated package [cdcproc](https://ccdproc.readthedocs.io/) provides an easier way to work with collections of images in a directory: an `ImageFileCollection`. The `ImageFileCollection` is initialized with the name of the directory containing the images."
   ]
  },
  {
   "cell_type": "code",
   "execution_count": 9,
   "metadata": {},
   "outputs": [],
   "source": [
    "from ccdproc import ImageFileCollection\n",
    "im_collection = ImageFileCollection(data_directory)"
   ]
  },
  {
   "cell_type": "markdown",
   "metadata": {},
   "source": [
    "Note that we didn't need to worry about using `pathlib` to combine the directory and file name, instead we give the collection the name of the directory."
   ]
  },
  {
   "cell_type": "markdown",
   "metadata": {},
   "source": [
    "### Summary of directory contents\n",
    "\n",
    "The `summary` property provides an overview of the files in the directory: it's an astropy `Table`, so you can access columns in the usual way."
   ]
  },
  {
   "cell_type": "code",
   "execution_count": 10,
   "metadata": {},
   "outputs": [
    {
     "data": {
      "text/html": [
       "<i>Table masked=True length=28</i>\n",
       "<table id=\"table103462407976\" class=\"table-striped table-bordered table-condensed\">\n",
       "<thead><tr><th>file</th><th>simple</th><th>bitpix</th><th>naxis</th><th>naxis1</th><th>naxis2</th><th>imagetyp</th><th>exposure</th><th>bunit</th><th>filter</th><th>object</th></tr></thead>\n",
       "<thead><tr><th>str13</th><th>bool</th><th>int64</th><th>int64</th><th>int64</th><th>int64</th><th>str5</th><th>float64</th><th>str3</th><th>object</th><th>object</th></tr></thead>\n",
       "<tr><td>img-0000.fits</td><td>True</td><td>-64</td><td>2</td><td>200</td><td>300</td><td>BIAS</td><td>0.0</td><td>adu</td><td>--</td><td>--</td></tr>\n",
       "<tr><td>img-0001.fits</td><td>True</td><td>-64</td><td>2</td><td>200</td><td>300</td><td>BIAS</td><td>0.0</td><td>adu</td><td>--</td><td>--</td></tr>\n",
       "<tr><td>img-0002.fits</td><td>True</td><td>-64</td><td>2</td><td>200</td><td>300</td><td>BIAS</td><td>0.0</td><td>adu</td><td>--</td><td>--</td></tr>\n",
       "<tr><td>img-0003.fits</td><td>True</td><td>-64</td><td>2</td><td>200</td><td>300</td><td>BIAS</td><td>0.0</td><td>adu</td><td>--</td><td>--</td></tr>\n",
       "<tr><td>img-0004.fits</td><td>True</td><td>-64</td><td>2</td><td>200</td><td>300</td><td>BIAS</td><td>0.0</td><td>adu</td><td>--</td><td>--</td></tr>\n",
       "<tr><td>img-0005.fits</td><td>True</td><td>-64</td><td>2</td><td>200</td><td>300</td><td>DARK</td><td>5.0</td><td>adu</td><td>--</td><td>--</td></tr>\n",
       "<tr><td>img-0006.fits</td><td>True</td><td>-64</td><td>2</td><td>200</td><td>300</td><td>DARK</td><td>30.0</td><td>adu</td><td>--</td><td>--</td></tr>\n",
       "<tr><td>img-0007.fits</td><td>True</td><td>-64</td><td>2</td><td>200</td><td>300</td><td>DARK</td><td>5.0</td><td>adu</td><td>--</td><td>--</td></tr>\n",
       "<tr><td>img-0008.fits</td><td>True</td><td>-64</td><td>2</td><td>200</td><td>300</td><td>DARK</td><td>30.0</td><td>adu</td><td>--</td><td>--</td></tr>\n",
       "<tr><td>img-0009.fits</td><td>True</td><td>-64</td><td>2</td><td>200</td><td>300</td><td>DARK</td><td>5.0</td><td>adu</td><td>--</td><td>--</td></tr>\n",
       "<tr><td>...</td><td>...</td><td>...</td><td>...</td><td>...</td><td>...</td><td>...</td><td>...</td><td>...</td><td>...</td><td>...</td></tr>\n",
       "<tr><td>img-0018.fits</td><td>True</td><td>-64</td><td>2</td><td>200</td><td>300</td><td>LIGHT</td><td>30.0</td><td>adu</td><td>V</td><td>m82</td></tr>\n",
       "<tr><td>img-0019.fits</td><td>True</td><td>-64</td><td>2</td><td>200</td><td>300</td><td>LIGHT</td><td>30.0</td><td>adu</td><td>V</td><td>xx cyg</td></tr>\n",
       "<tr><td>img-0020.fits</td><td>True</td><td>-64</td><td>2</td><td>200</td><td>300</td><td>LIGHT</td><td>30.0</td><td>adu</td><td>V</td><td>m82</td></tr>\n",
       "<tr><td>img-0021.fits</td><td>True</td><td>-64</td><td>2</td><td>200</td><td>300</td><td>LIGHT</td><td>30.0</td><td>adu</td><td>V</td><td>xx cyg</td></tr>\n",
       "<tr><td>img-0022.fits</td><td>True</td><td>-64</td><td>2</td><td>200</td><td>300</td><td>LIGHT</td><td>30.0</td><td>adu</td><td>V</td><td>m82</td></tr>\n",
       "<tr><td>img-0023.fits</td><td>True</td><td>-64</td><td>2</td><td>200</td><td>300</td><td>LIGHT</td><td>30.0</td><td>adu</td><td>V</td><td>xx cyg</td></tr>\n",
       "<tr><td>img-0024.fits</td><td>True</td><td>-64</td><td>2</td><td>200</td><td>300</td><td>LIGHT</td><td>30.0</td><td>adu</td><td>V</td><td>m82</td></tr>\n",
       "<tr><td>img-0025.fits</td><td>True</td><td>-64</td><td>2</td><td>200</td><td>300</td><td>LIGHT</td><td>30.0</td><td>adu</td><td>V</td><td>xx cyg</td></tr>\n",
       "<tr><td>img-0026.fits</td><td>True</td><td>-64</td><td>2</td><td>200</td><td>300</td><td>LIGHT</td><td>30.0</td><td>adu</td><td>V</td><td>m82</td></tr>\n",
       "<tr><td>img-0027.fits</td><td>True</td><td>-64</td><td>2</td><td>200</td><td>300</td><td>LIGHT</td><td>30.0</td><td>adu</td><td>V</td><td>xx cyg</td></tr>\n",
       "</table>"
      ],
      "text/plain": [
       "<Table masked=True length=28>\n",
       "     file     simple bitpix naxis naxis1 ... exposure bunit filter object\n",
       "    str13      bool  int64  int64 int64  ... float64   str3 object object\n",
       "------------- ------ ------ ----- ------ ... -------- ----- ------ ------\n",
       "img-0000.fits   True    -64     2    200 ...      0.0   adu     --     --\n",
       "img-0001.fits   True    -64     2    200 ...      0.0   adu     --     --\n",
       "img-0002.fits   True    -64     2    200 ...      0.0   adu     --     --\n",
       "img-0003.fits   True    -64     2    200 ...      0.0   adu     --     --\n",
       "img-0004.fits   True    -64     2    200 ...      0.0   adu     --     --\n",
       "img-0005.fits   True    -64     2    200 ...      5.0   adu     --     --\n",
       "img-0006.fits   True    -64     2    200 ...     30.0   adu     --     --\n",
       "img-0007.fits   True    -64     2    200 ...      5.0   adu     --     --\n",
       "img-0008.fits   True    -64     2    200 ...     30.0   adu     --     --\n",
       "img-0009.fits   True    -64     2    200 ...      5.0   adu     --     --\n",
       "          ...    ...    ...   ...    ... ...      ...   ...    ...    ...\n",
       "img-0018.fits   True    -64     2    200 ...     30.0   adu      V    m82\n",
       "img-0019.fits   True    -64     2    200 ...     30.0   adu      V xx cyg\n",
       "img-0020.fits   True    -64     2    200 ...     30.0   adu      V    m82\n",
       "img-0021.fits   True    -64     2    200 ...     30.0   adu      V xx cyg\n",
       "img-0022.fits   True    -64     2    200 ...     30.0   adu      V    m82\n",
       "img-0023.fits   True    -64     2    200 ...     30.0   adu      V xx cyg\n",
       "img-0024.fits   True    -64     2    200 ...     30.0   adu      V    m82\n",
       "img-0025.fits   True    -64     2    200 ...     30.0   adu      V xx cyg\n",
       "img-0026.fits   True    -64     2    200 ...     30.0   adu      V    m82\n",
       "img-0027.fits   True    -64     2    200 ...     30.0   adu      V xx cyg"
      ]
     },
     "execution_count": 10,
     "metadata": {},
     "output_type": "execute_result"
    }
   ],
   "source": [
    "im_collection.summary"
   ]
  },
  {
   "cell_type": "markdown",
   "metadata": {},
   "source": [
    "### Filtering and iterating over images\n",
    "\n",
    "The convenient thing about `ImageFileCollection` is that it provides convenient ways to filter or loop over files via FITS header keyword values. \n",
    "\n",
    "For example, looping over just the flat files is one line of code:"
   ]
  },
  {
   "cell_type": "code",
   "execution_count": 11,
   "metadata": {},
   "outputs": [
    {
     "name": "stdout",
     "output_type": "stream",
     "text": [
      "5.0\n",
      "6.1\n",
      "7.3\n"
     ]
    }
   ],
   "source": [
    "for a_flat in im_collection.hdus(imagetyp='FLAT'):\n",
    "    print(a_flat.header['EXPOSURE'])"
   ]
  },
  {
   "cell_type": "markdown",
   "metadata": {},
   "source": [
    "Instead of iterating over HDUs, as in the example above, you can iterate over just the headers (with `.headers`) or just the data (with `.data`). You can use any FITS keyword from the header as a keyword for selecting the images you want. In addition, you can return the file name while also iterating."
   ]
  },
  {
   "cell_type": "code",
   "execution_count": 12,
   "metadata": {},
   "outputs": [
    {
     "name": "stdout",
     "output_type": "stream",
     "text": [
      "In file img-0018.fits the exposure is: 30.0 with standard deviation  1.0022074490439763\n",
      "In file img-0020.fits the exposure is: 30.0 with standard deviation  0.9991078620421082\n",
      "In file img-0022.fits the exposure is: 30.0 with standard deviation  1.0023580633672473\n",
      "In file img-0024.fits the exposure is: 30.0 with standard deviation  1.000477776445242\n",
      "In file img-0026.fits the exposure is: 30.0 with standard deviation  0.9993075844461872\n"
     ]
    }
   ],
   "source": [
    "for a_flat, fname in im_collection.hdus(imagetyp='LIGHT', object='m82', return_fname=True):\n",
    "    print(f'In file {fname} the exposure is:', a_flat.header['EXPOSURE'], 'with standard deviation ', a_flat.data.std())"
   ]
  },
  {
   "cell_type": "markdown",
   "metadata": {},
   "source": [
    "The [documentation for `ImageFileCollection`](https://ccdproc.readthedocs.io/en/latest/ccdproc/image_management.html) describes more of its capabilities. `ImageFileCollection` can automatically save a copy of each image as you iterate over them, for example."
   ]
  },
  {
   "cell_type": "code",
   "execution_count": 24,
   "metadata": {},
   "outputs": [
    {
     "name": "stdout",
     "output_type": "stream",
     "text": [
      "adu\n",
      "adu\n",
      "adu\n",
      "adu\n",
      "adu\n",
      "adu\n",
      "adu\n",
      "adu\n",
      "adu\n",
      "adu\n",
      "adu\n",
      "adu\n",
      "adu\n",
      "adu\n",
      "adu\n",
      "adu\n",
      "adu\n",
      "adu\n",
      "adu\n",
      "adu\n",
      "adu\n",
      "adu\n",
      "adu\n",
      "adu\n",
      "adu\n",
      "adu\n",
      "adu\n",
      "adu\n"
     ]
    }
   ],
   "source": [
    "for a_flat, fname in im_collection.ccds(bunit='ADU', return_fname=True):\n",
    "    print(a_flat.unit)"
   ]
  },
  {
   "cell_type": "code",
   "execution_count": 16,
   "metadata": {},
   "outputs": [
    {
     "data": {
      "text/plain": [
       "SIMPLE  =                    T / conforms to FITS standard                      \n",
       "BITPIX  =                  -64 / array data type                                \n",
       "NAXIS   =                    2 / number of array dimensions                     \n",
       "NAXIS1  =                  200                                                  \n",
       "NAXIS2  =                  300                                                  \n",
       "IMAGETYP= 'LIGHT   '                                                            \n",
       "EXPOSURE=                 30.0                                                  \n",
       "FILTER  = 'V       '                                                            \n",
       "OBJECT  = 'm82     '                                                            \n",
       "BUNIT   = 'adu     '                                                            "
      ]
     },
     "execution_count": 16,
     "metadata": {},
     "output_type": "execute_result"
    }
   ],
   "source": [
    "a_flat.header"
   ]
  }
 ],
 "metadata": {
  "kernelspec": {
   "display_name": "Python 3",
   "language": "python",
   "name": "python3"
  },
  "language_info": {
   "codemirror_mode": {
    "name": "ipython",
    "version": 3
   },
   "file_extension": ".py",
   "mimetype": "text/x-python",
   "name": "python",
   "nbconvert_exporter": "python",
   "pygments_lexer": "ipython3",
   "version": "3.6.5"
  }
 },
 "nbformat": 4,
 "nbformat_minor": 2
}

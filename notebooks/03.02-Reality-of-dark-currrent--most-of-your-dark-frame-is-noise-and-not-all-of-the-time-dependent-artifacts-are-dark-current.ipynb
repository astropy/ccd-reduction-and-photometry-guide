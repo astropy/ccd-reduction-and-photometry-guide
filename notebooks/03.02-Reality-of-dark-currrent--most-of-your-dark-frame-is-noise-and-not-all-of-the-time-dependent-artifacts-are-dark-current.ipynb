{
 "cells": [
  {
   "cell_type": "markdown",
   "metadata": {},
   "source": [
    "# Reality: most of your dark frame is noise and not all of the time dependent artifacts are dark current"
   ]
  },
  {
   "cell_type": "markdown",
   "metadata": {},
   "source": [
    "The dark current on modern CCDs, even relatively inexpensive ones, is very small. In a typical exposure the dark current is likely smaller, maybe much smaller, than the read noise. Despite that it is worth examining some dark frames from your camera. because not all pixels have the same dark current. Some, called hot pixels, have much higher dark current than the rest of the sensor.\n",
    "\n",
    "As we did in the [notebook about overscan](01.08-Overscan.ipynb), we will focus on a pair of cameras to illustrate this point and demonstrate how to take similar images with your camera and analyze them."
   ]
  },
  {
   "cell_type": "markdown",
   "metadata": {},
   "source": [
    "## Case 1: Cryogenically cooled camera\n",
    "\n",
    "I REALLY NEED TO LOOK AT THE IMAGES FOR THIS"
   ]
  },
  {
   "cell_type": "markdown",
   "metadata": {},
   "source": [
    "## Case 2: Thermo-electrically cooled camera"
   ]
  },
  {
   "cell_type": "markdown",
   "metadata": {},
   "source": [
    "### Making an image to check for hot pixels\n",
    "\n",
    "The image below is a combination of 20 dark frames, each a 1000 sec exposure. That exposure time was chosen so that the expected number of dark electrons was at least somewhat larger than the read noise expected in a combination of 20 images. As we saw in the previous notebook, unless that is the case the dark frames will measure read noise instead of dark current.\n",
    "\n",
    "This camera has a dark current of $0.01 e^-$/sec/pixel and read noise of roughly $10 e^-$/read/pixel/. An exposure time of 1000 sec means an expected dark level in each exposure of $10 e^-$. By combining 20 of the images, the expected noise in the combination is reduced by a factor of $\\sqrt{20}$ to $2.2 e^-$/pixel. \n",
    "\n",
    "Measuring the dark current once you have the images is relatively straightforward: subtract the bias, multiply the result by the gain and then divide by the exposure time to obtain the dark current in $e^-$/pixel/sec."
   ]
  },
  {
   "cell_type": "markdown",
   "metadata": {},
   "source": [
    "### There is a large range in the dark current \n",
    "\n",
    "While the vast majority of the pixels do, as expected, have very low dark current it is much higher for other pixels. The largest values in the image above are not accurate. They are the upper limit of this CCD's readout, 65563, converted to dark current. \n",
    "\n",
    "There are a few ways one could handle this, which can be used in combination with each other:\n",
    "\n",
    "+ Mark all pixels above some threshold as bad and create a mask to keep track of these bad pixels.\n",
    "+ Mark only the really high dark current pixels as bad and mask them; for the rest, subtract dark current as usual.\n",
    "+ Always take dark images with exposure times that match your flat and light frames and subtract dark current as usual.\n",
    "+ Take one set of darks with exposure equal to the *longest* exposure time in your flat and light images and scale the dark current downwards to match your other exposure times.\n",
    "\n",
    "#### One thing NOT to do\n",
    "\n",
    "Do not take short dark frames and scale them up to longer exposure times. Modern cameras, even thermo-electrically cooled ones, have very low dark current. If your dark frames have low exposure time then most of the pixels are measuring read noise, not dark current. If you rescale those images to a longer exposure time then you inappropriately amplify that noise. Ideally, the expected dark counts (or dark electrons) in your dark frames should be at least a few times larger than the expected read noise in the frames you combine to make a reference dark."
   ]
  },
  {
   "cell_type": "code",
   "execution_count": null,
   "metadata": {},
   "outputs": [],
   "source": []
  }
 ],
 "metadata": {
  "kernelspec": {
   "display_name": "Python 3",
   "language": "python",
   "name": "python3"
  },
  "language_info": {
   "codemirror_mode": {
    "name": "ipython",
    "version": 3
   },
   "file_extension": ".py",
   "mimetype": "text/x-python",
   "name": "python",
   "nbconvert_exporter": "python",
   "pygments_lexer": "ipython3",
   "version": "3.6.8"
  }
 },
 "nbformat": 4,
 "nbformat_minor": 2
}

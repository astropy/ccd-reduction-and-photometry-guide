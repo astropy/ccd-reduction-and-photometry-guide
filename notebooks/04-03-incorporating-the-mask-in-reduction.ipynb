{
 "cells": [
  {
   "cell_type": "markdown",
   "metadata": {},
   "source": [
    "# incorporating the mask in reduction\n"
   ]
  }
 ],
 "metadata": {},
 "nbformat": 4,
 "nbformat_minor": 2
}

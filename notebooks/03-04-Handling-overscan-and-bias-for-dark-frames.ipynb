{
 "cells": [
  {
   "cell_type": "markdown",
   "metadata": {},
   "source": [
    "# Handling overscan and bias for dark frames"
   ]
  },
  {
   "cell_type": "markdown",
   "metadata": {},
   "source": [
    "## The options for reducing dark frames\n",
    "\n",
    "The next steps to take depend on two things:\n",
    "\n",
    "1. Are you subtracting overscan? If so, you should subtract overscan for the\n",
    "dark frames.\n",
    "1. Will you need to scale these darks to a different exposure time? If so, you\n",
    "need to subtract bias from the darks. If not, leave the bias in."
   ]
  },
  {
   "cell_type": "markdown",
   "metadata": {},
   "source": [
    "### 1. Do you need to subtract overscan?\n",
    "\n",
    "If you decide to subtract the overscan from *any* of the images used in your\n",
    "data reduction then you must subtract overscan from *all* of the images. This\n",
    "includes the darks, and is independent of whether or not you intend to scale the dark\n",
    "frames to other exposure times.\n",
    "\n",
    "Use [`ccdproc.subtract_overscan`](https://ccdproc.readthedocs.io/en/latest/ccdproc/reduction_toolbox.html#overscan-subtraction) to remove the overscan. See the notebook XX\n",
    "for a discussion of overscan, and see YY for a worked example in which overscan\n",
    "is subtracted."
   ]
  },
  {
   "cell_type": "markdown",
   "metadata": {},
   "source": [
    "### 2. Do you need to scale the darks?\n",
    "\n",
    "It depends on the exposure times of the other images you need to reduce. If the\n",
    "other images have exposure times that match your dark frames then you do not\n",
    "need to scale the darks. If any other images (except bias frames, which are\n",
    "always zero exposure) have exposure time that do not match the exposure times of\n",
    "the darks, then you will need to scale the darks by exposure time.\n",
    "\n",
    "If you do need to scale the dark frames, then you should subtract the bias from\n",
    "them using [`ccdproc.subtract_bias`](https://ccdproc.readthedocs.io/en/latest/ccdproc/reduction_toolbox.html#subtract-bias-and-dark). Examples of using\n",
    "[`ccdproc.subtract_bias`](https://ccdproc.readthedocs.io/en/latest/ccdproc/reduction_toolbox.html#subtract-bias-and-dark) are in the next notebook.\n",
    "\n",
    "If you do not need to scale the dark frames to a different exposure time then do\n",
    "not subtract the bias from the darks. The dark frames will serve to remove both\n",
    "the bias and the dark current your images.\n",
    "\n",
    "\n",
    "As a reminder, you should try very hard to avoid scaling dark frames up to a\n",
    "longer exposure time because you will primarily be scaling up noise rather than\n",
    "dark current.\n",
    "\n"
   ]
  }
 ],
 "metadata": {
  "kernelspec": {
   "display_name": "Python 3",
   "language": "python",
   "name": "python3"
  },
  "language_info": {
   "codemirror_mode": {
    "name": "ipython",
    "version": 3
   },
   "file_extension": ".py",
   "mimetype": "text/x-python",
   "name": "python",
   "nbconvert_exporter": "python",
   "pygments_lexer": "ipython3",
   "version": "3.6.8"
  }
 },
 "nbformat": 4,
 "nbformat_minor": 2
}

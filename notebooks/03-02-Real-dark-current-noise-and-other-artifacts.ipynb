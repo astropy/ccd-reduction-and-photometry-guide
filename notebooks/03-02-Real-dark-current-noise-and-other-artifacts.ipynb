{
 "cells": [
  {
   "cell_type": "markdown",
   "metadata": {},
   "source": [
    "# Real dark current: noise and other artifacts"
   ]
  },
  {
   "cell_type": "markdown",
   "metadata": {},
   "source": [
    "The dark current on modern CCDs, even relatively inexpensive ones, is very\n",
    "small. In a typical exposure the dark current is likely smaller, maybe much\n",
    "smaller, than the read noise. Despite that, it is worth examining some dark\n",
    "frames from your camera because not all pixels have the same dark current.\n",
    "Some, called hot pixels, have much higher dark current than the rest of the\n",
    "sensor. Some sensors have non-astronomical sources of counts whose value are\n",
    "proportional to exposure time, like dark current, but whose origin is nonthermal\n",
    "effects.\n",
    "\n",
    "As we did in the [notebook about overscan](01-08-Overscan.ipynb), we will focus on a pair of\n",
    "cameras to illustrate this point and demonstrate how to take similar images with\n",
    "your camera and analyze them."
   ]
  },
  {
   "cell_type": "code",
   "execution_count": null,
   "metadata": {},
   "outputs": [],
   "source": [
    "from pathlib import Path\n",
    "\n",
    "import matplotlib.pyplot as plt\n",
    "import numpy as np\n",
    "\n",
    "from astropy.nddata import CCDData\n",
    "from astropy.visualization import hist\n",
    "\n",
    "from convenience_functions import show_image"
   ]
  },
  {
   "cell_type": "code",
   "execution_count": null,
   "metadata": {},
   "outputs": [],
   "source": [
    "# Use custom style for larger fonts and figures\n",
    "plt.style.use('guide.mplstyle')"
   ]
  },
  {
   "cell_type": "markdown",
   "metadata": {},
   "source": [
    "## Making an image to check for hot pixels\n",
    "\n",
    "Measuring the dark current in a camera requires taking images with fairly long\n",
    "exposure time, ideally long enough that the expected counts due to dark current\n",
    "is larger than the expected noise in the image. If that isn't the case then the\n",
    "dark images will be measuring noise, not dark current, as we saw in the\n",
    "[previous section](03-01-Dark-current-The-ideal-case.ipynb).\n",
    "\n",
    "There are two ways to ensure that you are measuring dark current:\n",
    "\n",
    "+ Take some long-exposure dark frames. The exposure time should be long enough\n",
    "that the expected dark counts is at least as large as the noise expected in a\n",
    "single image.\n",
    "+ Take several of these images and combine them to reduce the noise in the\n",
    "result. The noise in the combined image is proportional to $1/\\sqrt{N}$, where\n",
    "$N$ is the number of images that are combined.\n",
    "\n",
    "\n",
    "### What if that isn't possible?\n",
    "\n",
    "Do your best. The darks from the Large Format Camera were taken as part of a\n",
    "science run in which there was limited time for taking dark frames. The key\n",
    "thing to keep in mind is the lower limit on the dark current you can measure,\n",
    "given the read noise and exposure time.\n",
    "\n",
    "The darks in Case 2 were taken with a new camera that was not yet mounted on the\n",
    "telescope as part of commissioning the camera. That made taking over five hours of\n",
    "dark frames more feasible!"
   ]
  },
  {
   "cell_type": "markdown",
   "metadata": {},
   "source": [
    "## Case 1: Cryogenically cooled  Large Format Camera (LFC) at Palomar\n",
    "\n",
    "The images in this section are from chip 0 of the LFC at the Palomar 200-inch\n",
    "telescope. Technical information about the camera is\n",
    "[here](http://www.astro.caltech.edu/palomar/observer/200inchResources/lfcspecs.html). The technical information says nothing about\n",
    "the expected dark current of this camera. The expectation for cameras cooled by\n",
    "liquid nitrogen is that their dark current is essentially zero.\n",
    "\n",
    "What we will see with this camera is that\n",
    "\n",
    "+ not all of the pixels have negligible dark current, and\n",
    "+ not all of the counts in a dark image are from dark current.\n",
    "\n"
   ]
  },
  {
   "cell_type": "markdown",
   "metadata": {},
   "source": [
    "### Estimating exposure time and number of frames for measuring dark current\n",
    "\n",
    "Unfortunately, the technical information for this camera does not include any\n",
    "information about the expected dark current. For thermoelectrically-cooled\n",
    "cameras the dark current is no more than 0.1 $e^-$/sec/pixel, and for newer\n",
    "camers is more like 0.01$e^-$/sec/pixel. We will assume the smaller dark current\n",
    "here.\n",
    "\n",
    "The read noise for this camera is 11$e^-$/pixel, so the exposure time needed to\n",
    "just reach the case where the dark counts is equal to the read noise is\n",
    "\n",
    "$$\n",
    "t_\\text{dark, min} = \\frac{11 e^-/\\text{pixel}}{0.01 e^-/\\text{sec/pixel}} = 1100~\\text{sec}.\n",
    "$$\n",
    "\n",
    "Even that leaves us with an image dominated by read noise rather than dark\n",
    "current. Combining 100 of those images would reduce the read noise by a factor\n",
    "of 10, which would be ideal for precisely measuring the dark current in each\n",
    "pixel. Unfortunately, taking over 30 hours of dark images is not feasible.\n",
    "\n",
    "Instead, we will work with what we have for this camera: three dark images, each\n",
    "300 seconds. This places a lower limit on the dark current we can measure — we\n",
    "will only be able to measure the dark current for fairly \"hot\" pixels — but it\n",
    "at least gives us some idea of the dark properties of the camera.\n",
    "\n",
    "Another way to phrase this is much more positive: for most of the pixels in the\n",
    "image the dark current simply does not matter because it is completely swamped\n",
    "by the read noise."
   ]
  },
  {
   "cell_type": "markdown",
   "metadata": {},
   "source": [
    "First, we read in the image."
   ]
  },
  {
   "cell_type": "code",
   "execution_count": null,
   "metadata": {},
   "outputs": [],
   "source": [
    "calibrated_images = Path('.')\n",
    "combined_dark_lfc = CCDData.read(calibrated_images / 'combined_dark_300.000.fits.bz2')"
   ]
  },
  {
   "cell_type": "markdown",
   "metadata": {},
   "source": [
    "### Examine the image\n",
    "\n",
    "The full image is on the left, and the lower left corner is shown on the right.\n",
    "The light area in the lower left corner is due to sensor glow, which is light\n",
    "emitted by the electronics of the CCD. The counts in the image due to sensor\n",
    "glow should grow linearly with exposure time, like dark counts do, but the pixel\n",
    "values are much higher than for pixels whose counts are due to dark current.\n",
    "\n",
    "The top right panel in the figure below shows the part of the CCD near the\n",
    "sensor glow; pixel values are several thousand counts. The bottom right panel\n",
    "shows a portion of the CCD in the upper right part of the chip; pixel values are\n",
    "*much* lower, typically under 10."
   ]
  },
  {
   "cell_type": "code",
   "execution_count": null,
   "metadata": {},
   "outputs": [],
   "source": [
    "fig = plt.figure(figsize=(10, 10))\n",
    "whole_im_ax = plt.subplot(121)\n",
    "glow_ax = plt.subplot(222)\n",
    "dark_ax = plt.subplot(224)\n",
    "\n",
    "show_image(combined_dark_lfc, cmap='gray', ax=whole_im_ax, fig=fig)\n",
    "whole_im_ax.set_title('Entire chip')\n",
    "\n",
    "show_image(combined_dark_lfc[:200, :200], cmap='gray', ax=glow_ax, fig=fig)\n",
    "glow_ax.set_title('Lower left corner of chip')\n",
    "\n",
    "show_image(combined_dark_lfc[-200:, -200:], cmap='gray', ax=dark_ax, fig=fig)\n",
    "dark_ax.set_title('Upper right corner of chip')\n",
    "\n",
    "plt.tight_layout()"
   ]
  },
  {
   "cell_type": "markdown",
   "metadata": {},
   "source": [
    "### Dark current in this CCD\n",
    "\n",
    "The histogram below shows dark current along the horizontal axis and the number\n",
    "of pixels in the CCD with that dark current along the vertical axis. Since there\n",
    "is obvious sensor glow in the darks, three distributions are shown:\n",
    "\n",
    "+ The full sensor, which at first glance has some pixels with dark current as\n",
    "high as 10 $e^-$/sec.\n",
    "+ The portion of the sensor *excluding* the sensor glow, in which the dark\n",
    "current is, as expected, low, though there is a small fraction of \"hot pixels\"\n",
    "with dark current around 1 $e^-$/sec.\n",
    "+ The sensor glow region. That region is apparent in the clump of pixels with\n",
    "equivalent dark current of 0.5$e^-$/sec and higher.\n",
    "\n"
   ]
  },
  {
   "cell_type": "code",
   "execution_count": null,
   "metadata": {},
   "outputs": [],
   "source": [
    "gain = 2.0\n",
    "exposure_time = 300\n",
    "dark_current_ln2 = gain * combined_dark_lfc.data / exposure_time\n",
    "\n",
    "fig = plt.figure(figsize=(20, 10))\n",
    "hist(dark_current_ln2.flatten(), bins=500, density=False, alpha=0.5, color='C0',\n",
    "     label='Full sensor');\n",
    "hist(dark_current_ln2[200:, 200:].flatten(), bins=500, density=False, alpha=0.5, color='C1',\n",
    "     label='Sensor, excluding sensor glow region')\n",
    "hist(dark_current_ln2[:200, :200].flatten(), bins=500, density=False, alpha=0.5, color='C9',\n",
    "     label='Sensor glow region only');\n",
    "#plt.semilogy()\n",
    "plt.loglog()\n",
    "\n",
    "plt.grid()\n",
    "noise_limit = 2 * 11/exposure_time/np.sqrt(3)\n",
    "plt.vlines(2 * 11/exposure_time/np.sqrt(3), 0.1, 8e6)\n",
    "plt.ylim(0.1, 8e6)\n",
    "plt.xlim(1e-3, 1e2)\n",
    "x_min, x_max = plt.xlim()\n",
    "y_min, y_max = plt.ylim()\n",
    "noisy_region = plt.Rectangle((x_min, y_min), noise_limit - x_min, y_max - y_min, label='Noise-dominated region',\n",
    "                             color='gray', alpha=0.2, hatch='/')\n",
    "ax = plt.gca()\n",
    "ax.add_patch(noisy_region)\n",
    "plt.legend()\n",
    "plt.xlabel('dark current, electrons per second')\n",
    "plt.ylabel('Number of pixels with that dark current');\n"
   ]
  },
  {
   "cell_type": "markdown",
   "metadata": {},
   "source": [
    "## Case 2: Thermoelectrically-cooled camera"
   ]
  },
  {
   "cell_type": "markdown",
   "metadata": {},
   "source": [
    "### Taking an image to measure dark current"
   ]
  },
  {
   "cell_type": "markdown",
   "metadata": {},
   "source": [
    "The image below is a combination of 20 dark frames, each a 1000 sec exposure.\n",
    "That exposure time was chosen so that the expected number of dark electrons was\n",
    "at least somewhat larger than the read noise expected in a combination of 20\n",
    "images. As we saw in the previous notebook, unless that is the case the dark\n",
    "frames will measure read noise instead of dark current.\n",
    "\n",
    "This camera has a dark current of $0.01 e^-$/sec/pixel and read noise of roughly\n",
    "$10 e^-$/read/pixel/, so the exposure time at which the dark current is as large\n",
    "as the read noise is\n",
    "\n",
    "$$\n",
    "t_\\text{dark, min} = \\frac{10 e^-/\\text{pixel}}{0.01 e^-/\\text{sec/pixel}} = 1000~\\text{sec}.\n",
    "$$\n",
    "\n",
    "By combining 20 of the images, the expected noise in the combination is reduced\n",
    "by a factor of $\\sqrt{20}$ to $2.2 e^-$/pixel. This puts us in the \"low read\n",
    "noise\" limit in the previous notebook about ideal dark current.\n",
    "\n",
    "Measuring the dark current once you have the images is relatively\n",
    "direct: subtract the bias, multiply the result by the gain, and then\n",
    "divide by the exposure time to obtain the dark current in $e^-$/pixel/sec."
   ]
  },
  {
   "cell_type": "code",
   "execution_count": null,
   "metadata": {},
   "outputs": [],
   "source": [
    "dark_1000 = CCDData.read('master_dark_exposure_1000.0.fit.bz2')\n",
    "show_image(dark_1000, cmap='gray')"
   ]
  },
  {
   "cell_type": "markdown",
   "metadata": {},
   "source": [
    "### Calculate the dark current for each pixel\n",
    "\n",
    "Recall that the dark current $d_c(T)$ is given by\n",
    "\n",
    "$$\n",
    "d_c(T) = d_e(t) / t,\n",
    "$$\n",
    "\n",
    "where $d_e(t)$ is the number of dark electrons in the images. That is related to\n",
    "the dark counts, $n_{dark}(t)$, the image values displayed in the image above,\n",
    "by the gain of the camera, $d_e(t) = g n_{dark}(t)$, so that\n",
    "\n",
    "$$\n",
    "d_C(T) = g n_{dark}(t) / t.\n",
    "$$\n",
    "\n",
    "This particular camera has a gain of $g = 1.5 e^-$/ADU."
   ]
  },
  {
   "cell_type": "code",
   "execution_count": null,
   "metadata": {},
   "outputs": [],
   "source": [
    "gain = 1.5\n",
    "read_noise = 10.0\n",
    "exposure_time = 1000\n",
    "\n",
    "dark_current = gain * dark_1000.data / exposure_time\n",
    "\n",
    "noisy_region = 2 * read_noise / exposure_time / np.sqrt(20)\n",
    "\n",
    "plt.figure(figsize=(20, 10))\n",
    "hist(dark_current.flatten(), bins=5000, density=False, label='Dark current');\n",
    "\n",
    "plt.ylim(0.1, 4e7)\n",
    "plt.vlines(noisy_region, *plt.ylim())\n",
    "\n",
    "plt.loglog()\n",
    "plt.grid()\n",
    "\n",
    "\n",
    "x_min, x_max = plt.xlim()\n",
    "y_min, y_max = plt.ylim()\n",
    "noisy_region = plt.Rectangle((x_min, y_min), noisy_region - x_min, y_max - y_min, label='Noise-dominated region',\n",
    "                             color='gray', alpha=0.2, hatch='/')\n",
    "ax = plt.gca()\n",
    "ax.add_patch(noisy_region)\n",
    "\n",
    "plt.legend()\n",
    "\n",
    "plt.xlabel('dark current, electrons per second')\n",
    "plt.ylabel('Number of pixels with that dark current');\n"
   ]
  },
  {
   "cell_type": "markdown",
   "metadata": {},
   "source": [
    "### There is a large range in the dark current\n",
    "\n",
    "While the vast majority of the pixels do, as expected, have very low dark\n",
    "current, it is much higher for other pixels. These pixels, called hot pixels,\n",
    "can occur even in cryogenically-cooled cameras.\n",
    "\n",
    "The vast majority of the pixels in the image have a dark current around the\n",
    "value promised by the manufacturer, 0.01 $e^-$/sec; the highest nominally have a\n",
    "dark current of 98 $e^-$/sec.\n",
    "\n",
    "However, there is  an upper limit to the dark current that can be measured in a\n",
    "particular exposure because the CCD saturates once the counts become large\n",
    "enough. In other words, there is an upper limit to the number of counts a CCD\n",
    "can represent; for this camera the limit is $2^{16} -1$, or $65,563$ counts. If\n",
    "we convert that to a dark current for a 1000 sec exposure, it is approximately\n",
    "\n",
    "$$\n",
    "\\text{dark current for saturated pixel} =  \\text{gain} \\times \\frac{\\text{saturation counts}}{\\text{exposure time}} =  1.5 \\frac{e^-}{\\text{count}}\\frac{65,563~\\text{count}}{1000 \\text{sec}} = 98 \\frac{e^-}{\\text{sec}}.\n",
    "$$\n",
    "\n",
    "For the hottest pixels in this image, that is the *lower limit* of the dark\n",
    "current for those pixels.\n",
    "\n",
    "The dark current is also not well estimated for pixels a bit below the maximum\n",
    "because CCDs stop responding linearly once they pass a pixel value that depends\n",
    "on the camera. For this camera, the linearity limit is around 55,000 counts,\n",
    "corresponding to a dark current of roughly  82 $e^-$/sec.\n",
    "\n",
    "You can, in principle, also check whether or not the hot pixels have a constant dark\n",
    "current that does not change with time by creating a number of these darks at\n",
    "different exposure times and plotting the dark current as a function of exposure\n",
    "time for the hot pixels. If the dark current is constant then the dark counts\n",
    "will be properly removed when the dark is subtracted from the science image. If\n",
    "the dark current is not constant, the pixel should be excluded from analysis.\n",
    "\n",
    "The fraction of very hot pixels, those above 1 $e^-$/sec, is relatively small,\n",
    "roughly 0.1% of the pixels."
   ]
  },
  {
   "cell_type": "code",
   "execution_count": null,
   "metadata": {},
   "outputs": [],
   "source": [
    "plt.figure(figsize=(20, 10))\n",
    "hist(dark_current_ln2[200:, 200:].flatten(), bins=5000, density=True, alpha=0.5, label='Cryogenically cooled, excluding sensor glow');\n",
    "hist(dark_current.flatten(), bins=5000, density=True, alpha=0.5, label='Thermo-electrically cooled');\n",
    "plt.grid()\n",
    "plt.loglog()\n",
    "plt.xlabel('dark current, electrons per second')\n",
    "plt.ylabel('Number of pixels with that dark current');\n",
    "plt.legend();"
   ]
  },
  {
   "cell_type": "markdown",
   "metadata": {},
   "source": [
    "## How to handle hot pixels\n",
    "\n",
    "There are a few ways you could handle this, which can be used in combination\n",
    "with each other:\n",
    "\n",
    "+ Mark all pixels above some threshold as bad and create a mask to keep track of\n",
    "these bad pixels.\n",
    "+ Mark only the really high dark current pixels as bad and mask them; for the\n",
    "rest, subtract dark current as usual.\n",
    "+ Always take dark images with exposure times that match your flat and light\n",
    "frames and subtract dark current as usual.\n",
    "+ Take one set of darks with exposure equal to the *longest* exposure time in\n",
    "your flat and light images and scale the dark current downwards to match your\n",
    "other exposure times.\n",
    "\n",
    "## One thing NOT to do\n",
    "\n",
    "Do not take short dark frames and scale them up to longer exposure times. Modern\n",
    "cameras, even thermoelectrically-cooled ones, have very low dark current. If\n",
    "your dark frames have low exposure time then most of the pixels are measuring\n",
    "read noise, not dark current. If you rescale those images to a longer exposure\n",
    "time then you inappropriately amplify that noise. Ideally, the expected dark\n",
    "counts (or dark electrons) in your dark frames should be at least a few times\n",
    "larger than the expected read noise in the frames you combine to make a\n",
    "reference dark."
   ]
  },
  {
   "cell_type": "markdown",
   "metadata": {},
   "source": [
    "## Summary\n",
    "\n",
    "1. A dark frame only measures dark current if the expected dark counts exceed\n",
    "the read noise of the camera by a factor of a few.\n",
    "2. Take multiple dark frames and combine them to reduce the noise level in the\n",
    "combined image as much as possible.\n",
    "2. Most pixels in a CCD have very low dark current.\n",
    "3. A consequence of 1 and 3 is that you should almost never scale your dark\n",
    "frames up to a longer exposure time because you will amplify noise instead of\n",
    "eliminating dark current, even if you have combined multiple images as in 2.\n",
    "3. Identify hot pixels and mask them out or otherwise deal with them."
   ]
  }
 ],
 "metadata": {
  "kernelspec": {
   "display_name": "Python 3",
   "language": "python",
   "name": "python3"
  },
  "language_info": {
   "codemirror_mode": {
    "name": "ipython",
    "version": 3
   },
   "file_extension": ".py",
   "mimetype": "text/x-python",
   "name": "python",
   "nbconvert_exporter": "python",
   "pygments_lexer": "ipython3",
   "version": "3.6.8"
  }
 },
 "nbformat": 4,
 "nbformat_minor": 4
}

{
 "cells": [
  {
   "cell_type": "code",
   "execution_count": 6,
   "metadata": {},
   "outputs": [],
   "source": [
    "%matplotlib inline\n",
    "from matplotlib import pyplot as plt\n",
    "import numpy as np\n",
    "from ipywidgets import interactive, interact\n",
    "\n",
    "from convenience_functions import show_image\n",
    "import image_sim as isim\n",
    "\n",
    "# Use custom style for larger fonts and figures\n",
    "plt.style.use('guide.mplstyle')"
   ]
  },
  {
   "cell_type": "code",
   "execution_count": 7,
   "metadata": {},
   "outputs": [
    {
     "data": {
      "application/vnd.jupyter.widget-view+json": {
       "model_id": "0d7e4ea8f6e241099afcd01f427e50a0",
       "version_major": 2,
       "version_minor": 0
      },
      "text/plain": [
       "interactive(children=(IntSlider(value=1100, continuous_update=False, description='bias_level', max=1200, min=1…"
      ]
     },
     "metadata": {},
     "output_type": "display_data"
    }
   ],
   "source": [
    "def complete_image(bias_level=1100, read=10.0, gain=1, dark=0.1, \n",
    "                   exposure=30, hot_pixels=True, sky_counts=200):\n",
    "    synthetic_image = np.zeros([500, 500])\n",
    "    show_image(synthetic_image + \n",
    "               isim.read_noise(synthetic_image, read) +\n",
    "               isim.bias(synthetic_image, bias_level, realistic=True) + \n",
    "               isim.dark_current(synthetic_image, dark, exposure, hot_pixels=hot_pixels) +\n",
    "               isim.sky_background(synthetic_image, sky_counts),\n",
    "               cmap='gray',\n",
    "               figsize=(4, 4))\n",
    "    \n",
    "i = interactive(complete_image, bias_level=(1000,1200,10), dark=(0.0,1,0.1), sky_counts=(0, 300, 50),\n",
    "          gain=(0.5, 3.0, 0.25), read=(0, 50, 5.0),\n",
    "          exposure=(0, 300, 30))\n",
    "\n",
    "for kid in i.children:\n",
    "    try:\n",
    "        kid.continuous_update = False\n",
    "    except KeyError:\n",
    "        pass\n",
    "i"
   ]
  },
  {
   "cell_type": "code",
   "execution_count": null,
   "metadata": {},
   "outputs": [],
   "source": []
  }
 ],
 "metadata": {
  "kernelspec": {
   "display_name": "Python 3",
   "language": "python",
   "name": "python3"
  },
  "language_info": {
   "codemirror_mode": {
    "name": "ipython",
    "version": 3
   },
   "file_extension": ".py",
   "mimetype": "text/x-python",
   "name": "python",
   "nbconvert_exporter": "python",
   "pygments_lexer": "ipython3",
   "version": "3.7.3"
  }
 },
 "nbformat": 4,
 "nbformat_minor": 4
}

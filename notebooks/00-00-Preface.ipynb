{
 "cells": [
  {
   "attachments": {},
   "cell_type": "markdown",
   "metadata": {},
   "source": [
    "# Preface\n"
   ]
  },
  {
   "attachments": {},
   "cell_type": "markdown",
   "metadata": {},
   "source": [
    "The purpose of this text is to walk through image reduction and photometry using\n",
    "Python, especially Astropy and its affiliated packages. It assumes some basic\n",
    "familiarity with astronomical images and with Python. The inspiration for this\n",
    "work is a pair of guides written for IRAF, [\"A User's Guide to CCD Reductions with IRAF\" (Massey 1997)](http://www.ifa.hawaii.edu/~meech/a399/handouts/ccduser3.pdf) and\n",
    "[\"A User's Guide to Stellar CCD Photometry with IRAF\" (Massey and Davis 1992)](https://www.mn.uio.no/astro/english/services/it/help/visualization/iraf/daophot2.pdf).\n",
    "\n",
    "The focus is on optical/IR images, not spectra."
   ]
  },
  {
   "attachments": {},
   "cell_type": "markdown",
   "metadata": {},
   "source": [
    "## Edition numbers"
   ]
  },
  {
   "attachments": {},
   "cell_type": "markdown",
   "metadata": {},
   "source": [
    "The guide now has version numbers, roughly equivalent to editions in a printed\n",
    "book. Each\n",
    "number has three pieces -- for example the first official stable version is\n",
    "`2.0.0`.\n",
    "Think of that as roughly equivalent to \"edition\", \"revision\" and \"printing\" in\n",
    "the physical\n",
    "book world.\n",
    "\n",
    "The edition number is listed in the sidebar.\n",
    "\n",
    "This is what changes in each of those numbers means:\n",
    "\n",
    "+ Change in the first number, e.g. changing `2.0.0` → `3.0.0`, indicates a major\n",
    "revision\n",
    "  that changes the numbering of sections or adds significant new sections.\n",
    "+ Changes in the middle number, e.g. changing `2.0.0` → `2.1.0`, indicates\n",
    "suibstantive\n",
    "  updates have been made to the content and/or important errors have been fixed.\n",
    "The\n",
    "  section numbers will not change, though.\n",
    "+ Changes in the last number, e.g. changing `2.0.0` → `2.0.1`, indicates minor\n",
    "changes have\n",
    "  been made like fixing typographic errors, broken links, and similar\n",
    "corrections. The\n",
    "  section numbers will not change in these revisions.\n",
    "In addition, there is a \"development\" version available that reflects the latest\n",
    "changes\n",
    "made to the guide between releases.\n",
    "\n",
    "Those familiar with [semantic versioning](https://semver.org/) from software development\n",
    "will recognize this as\n",
    "roughly the equivalent for text."
   ]
  },
  {
   "attachments": {},
   "cell_type": "markdown",
   "metadata": {},
   "source": [
    "## Credits"
   ]
  },
  {
   "attachments": {},
   "cell_type": "markdown",
   "metadata": {},
   "source": [
    "### Authors"
   ]
  },
  {
   "attachments": {},
   "cell_type": "markdown",
   "metadata": {},
   "source": [
    "This guide was written by Matt Craig and Lauren Chambers. Editing was done by\n",
    "Lauren Glattly.\n",
    "\n",
    "New contributors will be moved from the acknowledgments to the author list when\n",
    "they have either written roughly the equivalent of one section or provided\n",
    "detailed review of several sections. This is intended as a rough guideline, and\n",
    "when in doubt we will lean towards including people as authors rather than\n",
    "excluding them."
   ]
  },
  {
   "attachments": {},
   "cell_type": "markdown",
   "metadata": {},
   "source": [
    "### Funding\n",
    "\n",
    "Made possible by the Astropy Project and ScienceBetter Consulting through\n",
    "financial support from the Community Software Initiative at the Space Telescope\n",
    "Science Institute."
   ]
  },
  {
   "attachments": {},
   "cell_type": "markdown",
   "metadata": {},
   "source": [
    "### Acknowledgments\n",
    "\n",
    "The following people contributed to this work by making suggestions, testing\n",
    "code, or providing feedback on drafts. We are grateful for their assistance!\n",
    "\n",
    "+ Nicolás Cardiel\n",
    "+ Simon Conseil\n",
    "+ Lia Corrales\n",
    "+ Kelle Cruz\n",
    "+ Adam Ginsburg\n",
    "+ Yash Gondhalekar\n",
    "+ Lia G\n",
    "+ Richard Hendricks\n",
    "+ Stuart Littlefair\n",
    "+ Matt Phillips\n",
    "+ Benjamin Shafransky\n",
    "+ Isobel Snellenberger\n",
    "+ Kris Stern\n",
    "+ Thomas Stibor\n",
    "+ Sarah Tuttle\n",
    "\n",
    "If you have provided feedback and are not listed above, we apologize -- please\n",
    "[open an issue here](https://github.com/astropy/ccd-reduction-and-photometry-guide/issues/new) so we can fix it."
   ]
  },
  {
   "attachments": {},
   "cell_type": "markdown",
   "metadata": {},
   "source": [
    "## Resources\n",
    "\n",
    "This astronomical content work was inspired by, and guided by, the excellent\n",
    "resources below:\n",
    "\n",
    "+ [\"A User's Guide to CCD Reductions with IRAF\" (Massey 1997)](http://www.ifa.hawaii.edu/~meech/a399/handouts/ccduser3.pdf) is very thorough, but IRAF has become more\n",
    "difficult to install over time and is no longer supported.\n",
    "+ [\"A User's Guide to Stellar CCD Photometry with IRAF\" (Massey and Davis 1992)](https://www.mn.uio.no/astro/english/services/it/help/visualization/iraf/daophot2.pdf).\n",
    "+ [The Handbook of Astronomical Image Processing](https://www.amazon.com/Handbook-Astronomical-Image-Processing/dp/0943396824) by Richard Berry and James Burnell. This\n",
    "provides a very detailed overview of data reduction and photometry. One virtue\n",
    "is its inclusion of *real* images with defects.\n",
    "+ The [AAVSO CCD Obseving Manual](https://www.aavso.org/sites/default/files/publications_files/ccd_photometry_guide/CCDPhotometryGuide.pdf) provides a complete introduction to CCD\n",
    "data reduction and photometry.\n",
    "+ [A Beginner's Guide to Working with Astronomical Data](https://arxiv.org/abs/1905.13189) is much broader than this guide. It\n",
    "includes an introduction to Python."
   ]
  },
  {
   "attachments": {},
   "cell_type": "markdown",
   "metadata": {},
   "source": [
    "## Software setup/getting started on your computer\n",
    "\n",
    "### Setting up Python\n",
    "\n",
    "To use any of this software you will need an installation of Python. We\n",
    "recommend the [mambaforge installer](https://github.com/conda-forge/miniforge#mambaforge) or\n",
    "[miniconda installer](https://conda.io/miniconda.html)\n",
    " (or the much larger\n",
    "[Anaconda Python distribution](https://www.anaconda.com/download/) if you must). Once you have that, you can\n",
    "install\n",
    "everything you need with:\n",
    "\n",
    "```\n",
    "conda install -c astropy ccdproc photutils ipywidgets matplotlib jupyterlab\n",
    "```\n",
    "\n",
    "(alternatively, `mamba` should work in place of `conda`; if you get an error\n",
    "message saying you need to initialize `mamba` then follow the instructions in\n",
    "that message.\n",
    "\n",
    "### Getting a copy of these notebooks\n",
    "\n",
    "Get a copy of these files from [https://github.com/astropy/ccd-reduction-and-photometry-guide](https://github.com/astropy/ccd-reduction-and-photometry-guide) -- click the\n",
    "green \"Code\" button and either clone (if you are using `git`) or download the\n",
    "zip file and extract it. If you are looking for a specific edition, e.g. `2.0.0`\n",
    "then go to [https://github.com/astropy/ccd-reduction-and-photometry-guide/releases](https://github.com/astropy/ccd-reduction-and-photometry-guide/releases).\n",
    "\n",
    "\n",
    "### If you want to run this code in a notebook from the command line\n",
    "\n",
    "Open a terminal, change directory into the `notebooks` folder in this\n",
    "repository, type `jupyter lab` and a browser tab should open with the notebooks.\n",
    "\n",
    "_You will still need to download the data by following the instructions below in\n",
    "[Data files](#data-files)_\n",
    "\n",
    "### If you want to run this code in some other way (`IPython`, `Spyder`, `Visual Studio Code`, ...)\n",
    "\n",
    "`Spyder` and `Visual Studio Code` can run notebooks; follow the instructions\n",
    "[above](#getting-a-copy-of-these-notebooks) to get the notebooks. Follow the instructions\n",
    "for opening notebooks in the tool you chose.\n",
    "\n",
    "If you are copy/pasting code from the online book into one of these tools, you\n",
    "need two files from the repository. Follow the [instructions for getting a copy of the repository](#getting-a-copy-of-these-notebooks),\n",
    "then copy the two files `download_data.py` and `convenience_functions.py` from\n",
    "the `notebooks` folder to whatever folder you plan to run the code in.\n",
    "\n",
    "_You will still need to download the data by following the instructions below in\n",
    "[Data files](#data-files)_"
   ]
  },
  {
   "attachments": {},
   "cell_type": "markdown",
   "metadata": {},
   "source": [
    "## Data files\n",
    "\n",
    "The list of the data files, and their approximate sizes, is below. You can\n",
    "either download them one by one, or use the download helper included with these\n",
    "notebooks.\n",
    "\n",
    "### Use this in a terminal to download the data\n",
    "\n",
    "```console\n",
    "$ python download_data.py\n",
    "```\n",
    "\n",
    "### Use this in a notebook cell to download the data\n",
    "\n",
    "```python\n",
    "%run download_data.py\n",
    "```\n",
    "\n",
    "### List of data files\n",
    "\n",
    "+ [Combination of 100 bias images (26MB)](https://zenodo.org/record/3320113/files/combined_bias_100_images.fit.bz2?download=1) (DOI: https://doi.org/10.5281/zenodo.3320113)\n",
    "+ [Single bias image from thermoelectric camera](https://zenodo.org/record/5931364/files/single_bias_thermoelectric.fit.bz2?download=1) (DOI: https://doi.org/10.5281/zenodo.5931364)\n",
    "+ [Single dark frame, exposure time 1,000 seconds (11MB)](https://zenodo.org/record/3312535/files/dark-test-0002d1000.fit.bz2?download=1) (DOI: https://doi.org/10.5281/zenodo.3312535)\n",
    "+ [Combination of several dark frames, each 1,000 exposure time (52MB)](https://zenodo.org/record/4302262/files/combined_dark_exposure_1000.0.fit.bz2?download=1) (DOI: https://doi.org/10.5281/zenodo.4302262)\n",
    "+ [Combination of several dark frames, each 300 sec (7MB)](https://zenodo.org/record/3332818/files/combined_dark_300.000.fits.bz2?download=1) (DOI: https://doi.org/10.5281/zenodo.3332818)\n",
    "+ **\"Example 1\" in the reduction notebooks:** [Several images from the Palomar Large Format Camera, Chip 0 **(162MB)**](https://zenodo.org/record/3254683/files/example-cryo-LFC.tar.bz2?download=1)\n",
    "(DOI: https://doi.org/10.5281/zenodo.3254683)\n",
    "+ **\"Example 2\" in the reduction notebooks:** [Several images from an Andor Aspen CG16M **(483MB)**](https://zenodo.org/record/3245296/files/example-thermo-electric.tar.bz2?download=1)\n",
    "(DOI: https://doi.org/10.5281/zenodo.3245296)"
   ]
  }
 ],
 "metadata": {
  "kernelspec": {
   "display_name": "Python 3 (ipykernel)",
   "language": "python",
   "name": "python3"
  },
  "language_info": {
   "codemirror_mode": {
    "name": "ipython",
    "version": 3
   },
   "file_extension": ".py",
   "mimetype": "text/x-python",
   "name": "python",
   "nbconvert_exporter": "python",
   "pygments_lexer": "ipython3",
   "version": "3.10.11"
  }
 },
 "nbformat": 4,
 "nbformat_minor": 4
}

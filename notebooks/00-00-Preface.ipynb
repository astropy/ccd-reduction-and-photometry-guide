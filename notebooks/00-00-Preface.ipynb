{
 "cells": [
  {
   "cell_type": "markdown",
   "metadata": {},
   "source": [
    "# Preface\n"
   ]
  },
  {
   "cell_type": "markdown",
   "metadata": {},
   "source": [
    "The purpose of this text is to walk through image reduction and photometry using\n",
    "Python, especially Astropy and its affiliated packages. It assumes some basic\n",
    "familiarity with astronomical images and with Python. The inspiration for this\n",
    "work is a pair of guides written for IRAF, [\"A User's Guide to CCD Reductions with IRAF\" (Massey 1997)](http://www.ifa.hawaii.edu/~meech/a399/handouts/ccduser3.pdf) and\n",
    "[\"A User's Guide to Stellar CCD Photometry with IRAF\" (Massey and Davis 1992)](https://www.mn.uio.no/astro/english/services/it/help/visualization/iraf/daophot2.pdf).\n",
    "\n",
    "The focus is on optical/IR images, not spectra."
   ]
  },
  {
   "cell_type": "markdown",
   "metadata": {},
   "source": [
    "## Credits"
   ]
  },
  {
   "cell_type": "markdown",
   "metadata": {},
   "source": [
    "### Authors"
   ]
  },
  {
   "cell_type": "markdown",
   "metadata": {},
   "source": [
    "This guide was written by Matt Craig and Lauren Chambers. Editing was done by\n",
    "Lauren Glattly.\n",
    "\n",
    "New contributors will be moved from the acknowledgments to the author list when\n",
    "they have either written roughly the equivalent of one section or provided\n",
    "detailed review of several sections. This is intended as a rough guideline, and\n",
    "when in doubt we will lean towards including people as authors rather than\n",
    "excluding them."
   ]
  },
  {
   "cell_type": "markdown",
   "metadata": {},
   "source": [
    "### Funding\n",
    "\n",
    "Made possible by the Astropy Project and ScienceBetter Consulting through\n",
    "financial support from the Community Software Initiative at the Space Telescope\n",
    "Science Institute."
   ]
  },
  {
   "cell_type": "markdown",
   "metadata": {},
   "source": [
    "### Acknowledgments\n",
    "\n",
    "The following people contributed to this work by making suggestions, testing\n",
    "code, or providing feedback on drafts. We are greatful for their assistance!\n",
    "\n",
    "+ Simon Conseil\n",
    "+ Lia Corrales\n",
    "+ Kelle Cruz\n",
    "+ Adam Ginsburg\n",
    "+ Richard Hendricks\n",
    "+ Stuart Littlefair\n",
    "+ Isobel Snellenberger\n",
    "+ Kris Stern\n",
    "+ Thomas Stibor\n",
    "\n",
    "If you have provided feedback and are not listed above, we apologize -- please\n",
    "[open an issue here](https://github.com/astropy/ccd-reduction-and-photometry-guide/issues/new) so we can fix it."
   ]
  },
  {
   "cell_type": "markdown",
   "metadata": {},
   "source": [
    "## Resources\n",
    "\n",
    "This astronomical content work was inspired by, and guided by, the excellent\n",
    "resources below:\n",
    "\n",
    "+ [\"A User's Guide to CCD Reductions with IRAF\" (Massey 1997)](http://www.ifa.hawaii.edu/~meech/a399/handouts/ccduser3.pdf) is very thorough, but IRAF has become more\n",
    "difficult to install over time and is no longer supported.\n",
    "+ [\"A User's Guide to Stellar CCD Photometry with IRAF\" (Massey and Davis 1992)](https://www.mn.uio.no/astro/english/services/it/help/visualization/iraf/daophot2.pdf).\n",
    "+ [The Handbook of Astronomical Image Processing](https://www.amazon.com/Handbook-Astronomical-Image-Processing/dp/0943396824) by Richard Berry and James Burnell. This\n",
    "provides a very detailed overview of data reduction and photometry. One virtue\n",
    "is its inclusion of *real* images with defects.\n",
    "+ The [AAVSO CCD Obseving Manual](https://www.aavso.org/sites/default/files/publications_files/ccd_photometry_guide/CCDPhotometryGuide.pdf) provides a complete introduction to CCD data reduction and photometry.  \n",
    "+ [A Beginner's Guide to Working with Astronomical Data](https://arxiv.org/abs/1905.13189) is much broader than this guide. It\n",
    "includes an introduction to Python."
   ]
  },
  {
   "cell_type": "markdown",
   "metadata": {},
   "source": [
    "## Software setup\n",
    "\n",
    "The recommended way to get set up to use this guide is to use the\n",
    "[Anaconda Python distribution](https://www.anaconda.com/download/) (or the much smaller\n",
    "[miniconda installer](https://conda.io/miniconda.html)). Once you have that, you can install\n",
    "everything you need with:\n",
    "\n",
    "```\n",
    "conda install -c astropy ccdproc photutils ipywidgets matplotlib\n",
    "```"
   ]
  },
  {
   "cell_type": "markdown",
   "metadata": {},
   "source": [
    "## Data files\n",
    "\n",
    "The list of the data files, and their approximate sizes, is below. You can\n",
    "either download them one by one, or use the download helper included with these\n",
    "notebooks.\n",
    "\n",
    "### Use this in a terminal to download the data\n",
    "\n",
    "```console\n",
    "$ python download_data.py\n",
    "```\n",
    "\n",
    "### Use this in a notebook cell to download the data\n",
    "\n",
    "```python\n",
    "%run download_data.py\n",
    "```\n",
    "\n",
    "### List of data files\n",
    "\n",
    "+ [Combination of 100 bias images (26MB)](https://zenodo.org/record/3320113/files/combined_bias_100_images.fit.bz2?download=1) (DOI: https://doi.org/10.5281/zenodo.3320113)\n",
    "+ [Single dark frame, exposure time 1,000 seconds (11MB)](https://zenodo.org/record/3312535/files/dark-test-0002d1000.fit.bz2?download=1) (DOI: https://doi.org/10.5281/zenodo.3312535)\n",
    "+ [Combination of several dark frames, each 1,000 exposure time (52MB)](https://zenodo.org/record/2634177/files/master_dark_exposure_1000.0.fit.bz2?download=1) (DOI: https://doi.org/10.5281/zenodo.2634177)\n",
    "+ [Combination of several dark frames, each 300 sec (7MB)](https://zenodo.org/record/3332818/files/combined_dark_300.000.fits.bz2?download=1) (DOI: https://doi.org/10.5281/zenodo.3332818)\n",
    "+ **\"Example 1\" in the reduction notebooks:** [Several images from the Palomar Large Format Camera, Chip 0 **(162MB)**](https://zenodo.org/record/3254683/files/example-cryo-LFC.tar.bz2?download=1)\n",
    "(DOI: https://doi.org/10.5281/zenodo.3254683)\n",
    "+ **\"Example 2\" in the reduction notebooks:** [Several images from an Andor Aspen CG16M **(483MB)**](https://zenodo.org/record/3245296/files/example-thermo-electric.tar.bz2?download=1)\n",
    "(DOI: https://doi.org/10.5281/zenodo.3245296)"
   ]
  }
 ],
 "metadata": {
  "kernelspec": {
   "display_name": "Python 3",
   "language": "python",
   "name": "python3"
  },
  "language_info": {
   "codemirror_mode": {
    "name": "ipython",
    "version": 3
   },
   "file_extension": ".py",
   "mimetype": "text/x-python",
   "name": "python",
   "nbconvert_exporter": "python",
   "pygments_lexer": "ipython3",
   "version": "3.7.3"
  }
 },
 "nbformat": 4,
 "nbformat_minor": 4
}

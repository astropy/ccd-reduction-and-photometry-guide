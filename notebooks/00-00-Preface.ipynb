{
 "cells": [
  {
   "cell_type": "markdown",
   "metadata": {},
   "source": [
    "# Preface\n"
   ]
  },
  {
   "cell_type": "markdown",
   "metadata": {},
   "source": [
    "The purpose of this text is to walk through image reduction and photometry using\n",
    "Python, especially Astropy and its affiliated packages. It assumes some basic\n",
    "familiarity with astronomical images and with Python. The inspiration for this\n",
    "work is a pair of guides written for IRAF, [\"A User's Guide to CCD Reductions with IRAF\" (Massey 1997)](http://www.ifa.hawaii.edu/~meech/a399/handouts/ccduser3.pdf) and\n",
    "[\"A User's Guide to Stellar CCD Photometry with IRAF\" (Massey and Davis 1992)](https://www.mn.uio.no/astro/english/services/it/help/visualization/iraf/daophot2.pdf).\n",
    "\n",
    "The focus is on optical/IR images, not spectra."
   ]
  },
  {
   "cell_type": "markdown",
   "metadata": {},
   "source": [
    "## Software setup\n",
    "\n",
    "The recommended way to get set up to use this guide is to use the\n",
    "[Anaconda Python distribution](https://www.anaconda.com/download/) (or the much smaller\n",
    "[miniconda installer](https://conda.io/miniconda.html)). Once you have that, you can install\n",
    "everything you need with:\n",
    "\n",
    "```\n",
    "conda install -c astropy ccdproc photutils ipywidgets matplotlib\n",
    "```"
   ]
  }
 ],
 "metadata": {
  "kernelspec": {
   "display_name": "Python 3",
   "language": "python",
   "name": "python3"
  },
  "language_info": {
   "codemirror_mode": {
    "name": "ipython",
    "version": 3
   },
   "file_extension": ".py",
   "mimetype": "text/x-python",
   "name": "python",
   "nbconvert_exporter": "python",
   "pygments_lexer": "ipython3",
   "version": "3.6.8"
  }
 },
 "nbformat": 4,
 "nbformat_minor": 2
}

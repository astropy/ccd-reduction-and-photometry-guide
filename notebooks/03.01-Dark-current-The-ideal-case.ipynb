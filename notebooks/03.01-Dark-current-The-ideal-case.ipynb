{
 "cells": [
  {
   "cell_type": "markdown",
   "metadata": {},
   "source": [
    "# Dark current: the ideal case"
   ]
  },
  {
   "cell_type": "code",
   "execution_count": null,
   "metadata": {},
   "outputs": [],
   "source": [
    "import numpy as np\n",
    "\n",
    "%matplotlib inline\n",
    "from matplotlib import pyplot as plt\n",
    "\n",
    "from image_sim import dark_current\n"
   ]
  },
  {
   "cell_type": "markdown",
   "metadata": {},
   "source": [
    "## A dark frame measures dark current\n",
    "\n",
    "Recall that *dark current* refers to counts (electrons) generated in a pixel because an electron in the pixel happens to have enough energy to \"break free\" and register as a count. The distribution of electron thermal energies in  pixel follows a [Maxwell-Boltzmann distribution](https://en.wikipedia.org/wiki/Maxwell%E2%80%93Boltzmann_distribution) in which most electrons have energy around $kT$, where $T$ is the temperature of the sensor and $k$ is the Boltzmann constant. There is a distribution of energies, though, and occasionally an electron will be high enough energy to jump to the conducting band in the chip, registering the same as an electron excited by a photon. Since the Maxwell-Boltzmann distribution depends on temperature the rate at which dark current appears in a pixel is also expected to depend on temperature. \n",
    "\n",
    "A *dark frame* (also called a *dark image*) is an image taken with your camera with the shutter closed. It is the sum of the bias level of your camera, the readout noise, and the dark current.\n",
    "\n",
    "You measure the dark current in your camera by taking dark frames."
   ]
  },
  {
   "cell_type": "markdown",
   "metadata": {},
   "source": [
    "## Dark current theory\n",
    "\n",
    "The expected signal in a dark frame exposure of time $t$ is proportional to $t$. If we call the dark electrons in an exposure $d_e(t)$ and the dark current $d_c(T)$, where $T$ is the temperature, then \n",
    "\n",
    "$$\n",
    "d_e(t) = d_c(T) t.\n",
    "$$\n",
    "\n",
    "For liquid-cooled cameras, particularly ones cooled bu liquid nitrogen, the operating temperature doesn't change. For thermo-electrically cooled cameras one is able to set the desired operating temperature. As a result, you should be able to ignore the temperature dependence of the dark current.\n",
    "\n",
    "The thermo-electric coolers can usually cool by some fixed amount below the ambient temperature. Though in principle one could choose to always cool by the same fixed amount, like $50^\\circ$C below the ambient temperature, there is an advantage to always running your camera at the same temperature: dark frames taken on one date are potentially useful on another date. If the operating temperature varies then you need to make sure to take dark frames every time you observe unless you carefully characterize the temperature dependence of your dark current. \n",
    "\n",
    "It will turn out that for practical reasons -- not all pixels in your camera have the same dark current -- it is usually best to take dark frames every time you observe anyway."
   ]
  },
  {
   "cell_type": "markdown",
   "metadata": {},
   "source": [
    "### Illustration\n",
    "\n",
    "For the purposes of illustrating some of the properties of dark current and dark frames we'll generated some simulated images in which the counts are due to dark current alone. We'll use these values:\n",
    "\n",
    "+ Dark current is $d_c(T) = 0.01 e^-$/pixel/sec\n",
    "+ Gain is $g = 1.5 e^-$/ADU"
   ]
  },
  {
   "cell_type": "code",
   "execution_count": null,
   "metadata": {},
   "outputs": [],
   "source": [
    "dark_rate = 0.01\n",
    "gain = 1.5"
   ]
  },
  {
   "cell_type": "markdown",
   "metadata": {},
   "source": [
    "#### Dark current is a random process\n",
    "\n",
    "The dark counts in a dark frame are counts and so they follow a Poisson distribution. The plot below shows the dark current in the pixel `[100, 100]` in 20 different simulated images each with exposure time 100 sec. Note that the counts vary from image to image but that the average is very close to the expected value.\n",
    "\n",
    "The expected value of the dark counts for this image are $d_e(t)/g = 0.667~$counts."
   ]
  },
  {
   "cell_type": "code",
   "execution_count": null,
   "metadata": {},
   "outputs": [],
   "source": [
    "n_images = 20\n",
    "n_pixels = 20\n",
    "pixels = np.random.randint(50, high=190, size=n_pixels)\n",
    "pixel_values = np.zeros(n_images)\n",
    "pixel_averages = np.zeros(n_images)\n",
    "exposure = 100\n",
    "base_image = np.zeros([200, 200])\n",
    "\n",
    "plt.figure(figsize=(20, 10))\n",
    "for pixel in pixels:\n",
    "    for n in range(n_images):\n",
    "        a_dark = dark_current(base_image, dark_rate, exposure, gain=gain, hot_pixels=False)\n",
    "        pixel_values[n] = a_dark[pixel, pixel]\n",
    "\n",
    "    plt.plot(pixel_values, label='pixel [{0}, {0}]'.format(pixel), alpha=0.5)\n",
    "    pixel_averages += pixel_values\n",
    "\n",
    "plt.plot(pixel_averages / n_pixels, \n",
    "         linewidth=3,\n",
    "         label='Average over {} pixels'.format(n_pixels))\n",
    "plt.xlabel('Image number')\n",
    "plt.ylabel('Counts due to dark current')\n",
    "plt.xlim(0, n_images - 1)\n",
    "plt.legend()"
   ]
  },
  {
   "cell_type": "code",
   "execution_count": null,
   "metadata": {},
   "outputs": [],
   "source": []
  }
 ],
 "metadata": {
  "kernelspec": {
   "display_name": "Python 3",
   "language": "python",
   "name": "python3"
  },
  "language_info": {
   "codemirror_mode": {
    "name": "ipython",
    "version": 3
   },
   "file_extension": ".py",
   "mimetype": "text/x-python",
   "name": "python",
   "nbconvert_exporter": "python",
   "pygments_lexer": "ipython3",
   "version": "3.6.6"
  }
 },
 "nbformat": 4,
 "nbformat_minor": 2
}

{
 "cells": [
  {
   "cell_type": "markdown",
   "metadata": {},
   "source": [
    "# Dark current: the ideal case"
   ]
  },
  {
   "cell_type": "code",
   "execution_count": null,
   "metadata": {},
   "outputs": [],
   "source": [
    "import numpy as np\n",
    "from scipy import stats\n",
    "\n",
    "%matplotlib inline\n",
    "from matplotlib import pyplot as plt\n",
    "\n",
    "from image_sim import dark_current, read_noise\n"
   ]
  },
  {
   "cell_type": "markdown",
   "metadata": {},
   "source": [
    "## A dark frame measures dark current\n",
    "\n",
    "Recall that *dark current* refers to counts (electrons) generated in a pixel because an electron in the pixel happens to have enough energy to \"break free\" and register as a count. The distribution of electron thermal energies in  pixel follows a [Maxwell-Boltzmann distribution](https://en.wikipedia.org/wiki/Maxwell%E2%80%93Boltzmann_distribution) in which most electrons have energy around $kT$, where $T$ is the temperature of the sensor and $k$ is the Boltzmann constant. There is a distribution of energies, though, and occasionally an electron will be high enough energy to jump to the conducting band in the chip, registering the same as an electron excited by a photon. Since the Maxwell-Boltzmann distribution depends on temperature the rate at which dark current appears in a pixel is also expected to depend on temperature. \n",
    "\n",
    "A *dark frame* (also called a *dark image*) is an image taken with your camera with the shutter closed. It is the sum of the bias level of your camera, the readout noise, and the dark current.\n",
    "\n",
    "You measure the dark current in your camera by taking dark frames."
   ]
  },
  {
   "cell_type": "markdown",
   "metadata": {},
   "source": [
    "## Dark current theory\n",
    "\n",
    "The expected signal in a dark frame exposure of time $t$ is proportional to $t$. If we call the dark electrons in an exposure $d_e(t)$ and the dark current $d_c(T)$, where $T$ is the temperature, then \n",
    "\n",
    "$$\n",
    "d_e(t) = d_c(T) t.\n",
    "$$\n",
    "\n",
    "For liquid-cooled cameras, particularly ones cooled bu liquid nitrogen, the operating temperature doesn't change. For thermo-electrically cooled cameras one is able to set the desired operating temperature. As a result, you should be able to ignore the temperature dependence of the dark current.\n",
    "\n",
    "The thermo-electric coolers can usually cool by some fixed amount below the ambient temperature. Though in principle one could choose to always cool by the same fixed amount, like $50^\\circ$C below the ambient temperature, there is an advantage to always running your camera at the same temperature: dark frames taken on one date are potentially useful on another date. If the operating temperature varies then you need to make sure to take dark frames every time you observe unless you carefully characterize the temperature dependence of your dark current. \n",
    "\n",
    "It will turn out that for practical reasons -- not all pixels in your camera have the same dark current -- it is usually best to take dark frames every time you observe anyway."
   ]
  },
  {
   "cell_type": "markdown",
   "metadata": {},
   "source": [
    "### Illustration with dark current only, no read noise\n",
    "\n",
    "For the purposes of illustrating some of the properties of dark current and dark frames we'll generated some simulated images in which the counts are due to dark current alone. We'll use these values:\n",
    "\n",
    "+ Dark current is $d_c(T) = 0.1 e^-$/pixel/sec\n",
    "+ Gain is $g = 1.5 e^-$/ADU\n",
    "+ Read noise is 0 $e^-$"
   ]
  },
  {
   "cell_type": "code",
   "execution_count": null,
   "metadata": {},
   "outputs": [],
   "source": [
    "dark_rate = 0.1\n",
    "gain = 1.5\n",
    "read_noise_electrons = 0"
   ]
  },
  {
   "cell_type": "markdown",
   "metadata": {},
   "source": [
    "#### Dark current is a random process\n",
    "\n",
    "The dark counts in a dark frame are counts and so they follow a Poisson distribution. The plot below shows the dark current in a number of randomly chosen pixels in 20 different simulated images each with exposure time 100 sec. Note that the counts vary from image to image but that the average is very close to the expected value.\n",
    "\n",
    "The expected value of the dark counts for this image are $d_e(t)/g = 6.67~$counts."
   ]
  },
  {
   "cell_type": "code",
   "execution_count": null,
   "metadata": {},
   "outputs": [],
   "source": [
    "exposure = 100\n",
    "\n",
    "n_images = 20\n",
    "n_pixels = 10\n",
    "image_size = 500\n",
    "\n",
    "pixels = np.random.randint(50, high=190, size=n_pixels)\n",
    "pixel_values = np.zeros(n_images)\n",
    "pixel_averages = np.zeros(n_images)\n",
    "base_image = np.zeros([image_size, image_size])\n",
    "\n",
    "plt.figure(figsize=(20, 10))\n",
    "for pixel in pixels:\n",
    "    for n in range(n_images):\n",
    "        a_dark = dark_current(base_image, dark_rate, exposure, gain=gain, hot_pixels=False)\n",
    "        pixel_values[n] = a_dark[pixel, pixel]\n",
    "\n",
    "    plt.plot(pixel_values, label='pixel [{0}, {0}]'.format(pixel), alpha=0.5)\n",
    "    pixel_averages += pixel_values\n",
    "\n",
    "plt.plot(pixel_averages / n_pixels, \n",
    "         linewidth=3,\n",
    "         label='Average over {} pixels'.format(n_pixels))\n",
    "# plt.xlim(0, n_images - 1)\n",
    "plt.hlines(dark_rate * exposure / gain, *plt.xlim(), \n",
    "           linewidth=3, \n",
    "           label=\"Expected counts\")\n",
    "plt.xlabel('Image number')\n",
    "plt.ylabel('Counts due to dark current')\n",
    "\n",
    "plt.legend()\n",
    "plt.grid()"
   ]
  },
  {
   "cell_type": "markdown",
   "metadata": {},
   "source": [
    "#### The distribution of dark counts follows a Poisson distribution\n",
    "\n",
    "The distribution below shows a normalized histogram of number of pixels as a function of dark counts in each pixel for one of the simulated dark frames. Overlaid on the histogram is a Poisson distribution with a mean of $d_e(t_{exp}) = d_C(T) * t_{exp} / g$, where $t_{exp}$ is the exposure time."
   ]
  },
  {
   "cell_type": "code",
   "execution_count": null,
   "metadata": {},
   "outputs": [],
   "source": [
    "plt.figure(figsize=(20, 10))\n",
    "\n",
    "\n",
    "h = plt.hist(a_dark.flatten(), bins=20, align='mid', density=True, label=\"Histogram of dark current counts\");\n",
    "bins = h[1]\n",
    "pois = stats.poisson(dark_rate * exposure / gain)\n",
    "pois_x = np.arange(0, 20, 1)\n",
    "\n",
    "plt.plot(pois_x, pois.pmf(pois_x), \n",
    "         label=\"Poisson dsitribution, mean of {:5.2f} counts\".format(dark_rate * exposure / gain))  \n",
    "\n",
    "plt.xlabel(\"Dark counts in {} exposure\".format(exposure))\n",
    "plt.ylabel(\"Number of pixels (area normalized to 1)\")\n",
    "plt.legend()\n",
    "plt.grid()"
   ]
  },
  {
   "cell_type": "markdown",
   "metadata": {},
   "source": [
    "### Illustration with dark current *and* read noise\n",
    "\n",
    "Now let's run through the same couple of plots with a non-zero read noise. For the sake of illustration, we'll look at two cases:\n",
    "\n",
    "1. Moderate read noise of 10 $e^-$ per read, typical of a low-end research-grade CCD\n",
    "2. Low read noise of 1 $e^-$ per read\n",
    "\n",
    "In both cases we'll continue with the parameters above to generate our frames:\n",
    "\n",
    "+ Dark current is $d_c(T) = 0.1 e^-$/pixel/sec\n",
    "+ Gain is $g = 1.5 e^-$/ADU\n",
    "+ Exposure time 100 sec\n",
    "\n",
    "With those choices the expected dark count is 6.67 count, which is 10 $e^-$. That is, not coincidentally, one of the values for read noise that was chosen."
   ]
  },
  {
   "cell_type": "markdown",
   "metadata": {},
   "source": [
    "### Read noise is about the same as the expected dark current\n",
    "\n",
    "In this first case, the read noise and the dark current are both 10$e^-$."
   ]
  },
  {
   "cell_type": "code",
   "execution_count": null,
   "metadata": {},
   "outputs": [],
   "source": [
    "high_read_noise = 10"
   ]
  },
  {
   "cell_type": "code",
   "execution_count": null,
   "metadata": {
    "scrolled": false
   },
   "outputs": [],
   "source": [
    "pixels = np.random.randint(50, high=190, size=n_pixels)\n",
    "pixel_values = np.zeros(n_images)\n",
    "pixel_averages = np.zeros(n_images)\n",
    "base_image = np.zeros([image_size, image_size])\n",
    "darks = np.zeros([n_images, image_size, image_size])\n",
    "\n",
    "plt.figure(figsize=(20, 10))\n",
    "for n in range(n_images):\n",
    "    darks[n] = dark_current(base_image, dark_rate, exposure, gain=gain, hot_pixels=False)\n",
    "    darks[n] = darks[n] + read_noise(base_image, high_read_noise, gain=gain)\n",
    "for pixel in pixels:\n",
    "    for n in range(n_images):\n",
    "        pixel_values[n] = darks[n, pixel, pixel]\n",
    "    plt.plot(pixel_values, label='pixel [{0}, {0}]'.format(pixel), alpha=0.5)\n",
    "    pixel_averages += pixel_values\n",
    "\n",
    "image_average = darks.mean(axis=0)\n",
    "\n",
    "plt.plot(pixel_averages / n_pixels, \n",
    "         linewidth=3,\n",
    "         label='Average over {} pixels'.format(n_pixels))\n",
    "# plt.xlim(0, n_images - 1)\n",
    "plt.hlines(dark_rate * exposure / gain, *plt.xlim(), \n",
    "           linewidth=3, \n",
    "           label=\"Expected counts\")\n",
    "plt.xlabel('Image number')\n",
    "plt.ylabel('Counts due to dark current')\n",
    "\n",
    "plt.legend()\n",
    "plt.grid()"
   ]
  },
  {
   "cell_type": "code",
   "execution_count": null,
   "metadata": {},
   "outputs": [],
   "source": [
    "def plot_dark_with_distributions(image, rn, dark_rate, n_images=1,\n",
    "                                 show_poisson=True, show_gaussian=True):\n",
    "    h = plt.hist(image.flatten(), bins=20, align='mid', \n",
    "                 density=True, label=\"Dark current counts\");\n",
    "    bins = h[1]\n",
    "    expected_mean_dark = dark_rate * exposure / gain\n",
    "    pois = stats.poisson(expected_mean_dark * n_images)\n",
    "    pois_x = np.arange(0, 300, 1)\n",
    "\n",
    "    new_area = np.sum(1/n_images * pois.pmf(pois_x))\n",
    "\n",
    "    if show_poisson:\n",
    "        plt.plot(pois_x / n_images, pois.pmf(pois_x) / new_area, \n",
    "                 label=\"Poisson dsitribution, mean of {:5.2f} counts\".format(expected_mean_dark)) \n",
    "    plt.xlim(-20, 30)\n",
    "\n",
    "    if show_gaussian:\n",
    "        gauss = stats.norm(loc=expected_mean_dark, scale=rn / gain)\n",
    "        gauss_x = np.linspace(*plt.xlim(), num=10000)\n",
    "        plt.plot(gauss_x, gauss.pdf(gauss_x), label='Gaussian, standdard dev is read noise in counts') \n",
    "        \n",
    "    plt.xlabel(\"Dark counts in {} sec exposure\".format(exposure))\n",
    "    plt.ylabel(\"Fraction of pixels (area normalized to 1)\")\n",
    "    plt.legend()"
   ]
  },
  {
   "cell_type": "code",
   "execution_count": null,
   "metadata": {},
   "outputs": [],
   "source": [
    "plt.figure(figsize=(20, 10))\n",
    "\n",
    "\n",
    "plot_dark_with_distributions(darks[-1], high_read_noise, dark_rate, n_images=1)\n",
    "\n",
    "plt.ylim(0, 0.8)\n",
    "\n",
    "plt.grid()"
   ]
  },
  {
   "cell_type": "markdown",
   "metadata": {},
   "source": [
    "#### This dark frame measures noise, not dark current \n",
    "\n",
    "The pixel distribution is clearly a Gaussian distribution with a width determined by the read noise, not the underlying Poisson distribution that a dark frame is trying to measure. The only way around this (assuming the dark current is large enough that it needs to be subtracted at all) is to make the exposure long enough that the expected counts exceed the dark current.\n",
    "\n",
    "We explore that case below by adding in a much smaller amount of noise."
   ]
  },
  {
   "cell_type": "code",
   "execution_count": null,
   "metadata": {},
   "outputs": [],
   "source": [
    "plt.figure(figsize=(20, 10))\n",
    "\n",
    "plot_dark_with_distributions(image_average, high_read_noise, dark_rate, n_images=n_images)\n",
    "\n",
    "plt.ylim(0, 0.8)\n",
    "plt.grid()"
   ]
  },
  {
   "cell_type": "markdown",
   "metadata": {},
   "source": [
    "# OOF! WHY IS THIS NOT A POISSON DISTRIBUTION?\n",
    "\n",
    "## Maybe the average of a bunch of Poisson distributions is not a Poisson distribution and is instead a Gaussian?"
   ]
  },
  {
   "cell_type": "markdown",
   "metadata": {},
   "source": [
    "Nope, not a gaussian either, but not a Poisson. Note below that the *sum* is a Poisson with mean value `n_images` times larger than the single-image value. To scale to the average, calculate the Poisson distribution with mean value $N_{images} d_C(t)$, plot that as a function of `counts/n_images`, and normalize the resulting distribution.\n",
    "\n",
    "##### Also, it *is* the expected distribution for a sum of Poissons IF the read noise is zero or small."
   ]
  },
  {
   "cell_type": "markdown",
   "metadata": {},
   "source": [
    "### Plot below shows properly calculated Poisson and Gaussian distributions for sum of each type."
   ]
  },
  {
   "cell_type": "code",
   "execution_count": null,
   "metadata": {},
   "outputs": [],
   "source": [
    "plt.figure(figsize=(20, 10))\n",
    "\n",
    "\n",
    "h = plt.hist((n_images * image_average).flatten(), bins=20, align='mid', density=True, label=\"Histogram of dark current counts\");\n",
    "bins = h[1]\n",
    "expected_mean_dark = dark_rate * exposure / gain\n",
    "pois = stats.poisson(expected_mean_dark * n_images)\n",
    "pois_x = np.arange(0, 300, 1)\n",
    "\n",
    "plt.plot(pois_x, pois.pmf(pois_x), \n",
    "         label=\"Poisson dsitribution, mean of {:5.2f} counts\".format(dark_rate * exposure / gain)) \n",
    "\n",
    "\n",
    "gauss = stats.norm(loc=expected_mean_dark * n_images, scale=high_read_noise / gain * np.sqrt(n_images))\n",
    "gauss_x = np.linspace(*plt.xlim())\n",
    "\n",
    "\n",
    "plt.plot(gauss_x, gauss.pdf(gauss_x), label='Gaussian, standdard dev is read noise in counts') \n",
    "plt.xlabel(\"Dark counts in {} exposure\".format(exposure))\n",
    "plt.ylabel(\"Number of pixels (area normalized to 1)\")\n",
    "plt.legend()\n",
    "plt.grid()"
   ]
  },
  {
   "cell_type": "markdown",
   "metadata": {},
   "source": [
    "### Read noise much lower than dark current \n",
    "\n",
    "In this case the read noise is 1 $e^-$, lower than the expected dark current for this exposure time, 10$e^-$."
   ]
  },
  {
   "cell_type": "code",
   "execution_count": null,
   "metadata": {},
   "outputs": [],
   "source": [
    "low_read_noise = 1"
   ]
  },
  {
   "cell_type": "code",
   "execution_count": null,
   "metadata": {},
   "outputs": [],
   "source": [
    "pixels = np.random.randint(50, high=190, size=n_pixels)\n",
    "pixel_values = np.zeros(n_images)\n",
    "pixel_averages = np.zeros(n_images)\n",
    "base_image = np.zeros([image_size, image_size])\n",
    "darks = np.zeros([n_images, image_size, image_size])\n",
    "\n",
    "plt.figure(figsize=(20, 10))\n",
    "for n in range(n_images):\n",
    "    darks[n] = dark_current(base_image, dark_rate, exposure, gain=gain, hot_pixels=False)\n",
    "    darks[n] = darks[n] + read_noise(base_image, low_read_noise, gain=gain)\n",
    "for pixel in pixels:\n",
    "    for n in range(n_images):\n",
    "        pixel_values[n] = darks[n, pixel, pixel]\n",
    "    plt.plot(pixel_values, label='pixel [{0}, {0}]'.format(pixel), alpha=0.5)\n",
    "    pixel_averages += pixel_values\n",
    "\n",
    "image_average = darks.mean(axis=0)\n",
    "\n",
    "plt.plot(pixel_averages / n_pixels, \n",
    "         linewidth=3,\n",
    "         label='Average over {} pixels'.format(n_pixels))\n",
    "# plt.xlim(0, n_images - 1)\n",
    "plt.hlines(dark_rate * exposure / gain, *plt.xlim(), \n",
    "           linewidth=3, \n",
    "           label=\"Expected counts\")\n",
    "plt.xlabel('Image number')\n",
    "plt.ylabel('Counts due to dark current')\n",
    "\n",
    "plt.legend()\n",
    "plt.grid()"
   ]
  },
  {
   "cell_type": "code",
   "execution_count": null,
   "metadata": {},
   "outputs": [],
   "source": [
    "plt.figure(figsize=(20, 10))\n",
    "\n",
    "\n",
    "plot_dark_with_distributions(darks[-1], low_read_noise, dark_rate, n_images=1)\n",
    "\n",
    "plt.ylim(0, 0.8)\n",
    "\n",
    "plt.grid()"
   ]
  },
  {
   "cell_type": "code",
   "execution_count": null,
   "metadata": {},
   "outputs": [],
   "source": []
  }
 ],
 "metadata": {
  "kernelspec": {
   "display_name": "Python 3",
   "language": "python",
   "name": "python3"
  },
  "language_info": {
   "codemirror_mode": {
    "name": "ipython",
    "version": 3
   },
   "file_extension": ".py",
   "mimetype": "text/x-python",
   "name": "python",
   "nbconvert_exporter": "python",
   "pygments_lexer": "ipython3",
   "version": "3.6.8"
  }
 },
 "nbformat": 4,
 "nbformat_minor": 2
}

{
 "cells": [
  {
   "cell_type": "markdown",
   "metadata": {},
   "source": [
    "# Understanding an astronomical CCD image\n"
   ]
  },
  {
   "cell_type": "markdown",
   "metadata": {},
   "source": [
    "An astronomical image like the one shown below is essentially a two-dimensional\n",
    "array of values. In an ideal world, the value of each pixel (a pixel being one\n",
    "element of the array) would be directly proportional to the amount of light that\n",
    "fell on the pixel during the time the camera's shutter was open.\n",
    "\n",
    "But the ideal scenario does not in fact hold true. A solid understanding of\n",
    "*why* pixel values are not directly proportional to light is useful before\n",
    "diving into the details of image reduction."
   ]
  },
  {
   "cell_type": "markdown",
   "metadata": {},
   "source": [
    "## Counts, photons, and electrons\n",
    "\n",
    "The number stored in a raw astronomical image straight off a telescope is called\n",
    "an Analog Digital Unit (ADU) or count, because internally the camera converts\n",
    "the analog voltage in each pixel to a numerical count. The counts of interest to\n",
    "an astronomer are the ones generated via the photoelectric effect when a photon\n",
    "hits the detector. The number of photons (or equivalently, electrons) that reach\n",
    "the pixel is related to the counts in the pixel by the gain.\n",
    "\n",
    "The gain is typically provided by the manufacturer of the camera and can be\n",
    "measured from a combination of bias and flat images (Howell 2002; p. 71).\n",
    "\n",
    "**Take note** that trying to convert a raw image count to photons/electrons by\n",
    "multiplying by the gain will not be meaningful because the raw counts include\n",
    "contributions from sources other than light."
   ]
  },
  {
   "cell_type": "markdown",
   "metadata": {},
   "source": [
    "## Not all counts are (interesting) light\n",
    "\n",
    "There are several contributions to the counts in a pixel. Image reduction is\n",
    "essentially the process of removing all of these except those due to light from\n",
    "an astronomical object:\n",
    "\n",
    "+ An offset voltage called **bias** is applied to the CCD chip to ensure there\n",
    "are no negative counts during readout. There are small variations in the value\n",
    "of the bias across the chip, and there can be small variations in the bias level\n",
    "over time.\n",
    "+ Counts can be generated in a pixel due to thermal motion of electrons in CCD;\n",
    "cooling a CCD reduces, but may not fully eliminate, this **dark current**. In\n",
    "modern CCDs the dark current is often ignorable exept for a small fraction of\n",
    "pixels. Dark current is typically reported in electrons/second/pixel, and\n",
    "depends strongly on temperature.\n",
    "+ There is **read noise** intrinsic to the electronics of the CCD. It is\n",
    "impossible to eliminate this noise (it's present in every image taken by the\n",
    "camera) but there are approaches to minimizing it. Read noise is typically\n",
    "reported in electrons as it can depend on temperature.\n",
    "+ Some light received by the telescope is scattered light coming from the night\n",
    "sky. The amount of **sky background** depends on the filter passband, the\n",
    "atmospheric conditions, and the local light sources.\n",
    "+ Though a CCD chip is fairly small, it's not unsual for **cosmic rays** to hit\n",
    "the chip, releasing charge that is then converted to counts.\n",
    "\n",
    "Whatever remains after taking all of those things away is, in principle, light\n",
    "from astronomical sources.\n",
    "\n",
    "In practice, there are additional complications."
   ]
  },
  {
   "cell_type": "markdown",
   "metadata": {},
   "source": [
    "## CCDs are not perfect\n",
    "\n",
    "There are a number of issues that affect the sensitivity of the CCD to light,\n",
    "some of which can be corrected for and some of which cannot.\n",
    "\n",
    "+ Vignetting, a darkening of the images in the corners, is common and\n",
    "correctable.\n",
    "+ Dust in the optical path, which causes \"donuts\" or \"worms\" on the image, is\n",
    "also common and correctable.\n",
    "+ Variations in the sensitivity of individual pixels are also common and\n",
    "correctable.\n",
    "+ Dead pixels, which are pixels that don't respond to light, cannot be corrected\n",
    "for.\n",
    "\n",
    "**Flat** corrections attempt to remove many of these effects. The idea is to\n",
    "image something which is uniformly illuminated as a way to measure variations in\n",
    "sensitivity (regardless of cause) and compensate for them."
   ]
  },
  {
   "cell_type": "markdown",
   "metadata": {},
   "source": [
    "## References\n",
    "\n",
    "Howell, S., *Handbook of CCD Astronomy*, Second Ed, Cambridge University Press\n",
    "2006"
   ]
  }
 ],
 "metadata": {
  "kernelspec": {
   "display_name": "Python 3",
   "language": "python",
   "name": "python3"
  },
  "language_info": {
   "codemirror_mode": {
    "name": "ipython",
    "version": 3
   },
   "file_extension": ".py",
   "mimetype": "text/x-python",
   "name": "python",
   "nbconvert_exporter": "python",
   "pygments_lexer": "ipython3",
   "version": "3.6.8"
  }
 },
 "nbformat": 4,
 "nbformat_minor": 4
}

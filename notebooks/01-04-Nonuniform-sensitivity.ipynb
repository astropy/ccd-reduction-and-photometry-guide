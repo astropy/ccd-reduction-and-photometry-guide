{
 "cells": [
  {
   "cell_type": "markdown",
   "metadata": {},
   "source": [
    "# Nonuniform sensitivity"
   ]
  },
  {
   "cell_type": "markdown",
   "metadata": {},
   "source": [
    "## Background\n",
    "\n",
    "Not all pixels in a camera have the same sensitivity to light: there are\n",
    "intrinsic differences from pixel-to-pixel. Vignetting, a dimming near the\n",
    "corners of an image caused by the optical system to which the camera is\n",
    "attached, and dust on optical elements such as filters, the glass window\n",
    "covering the CCD, and the CCD chip itself can also block some light.\n",
    "\n",
    "Vignetting and dust can reduce the amount of light reaching the CCD chip while\n",
    "pixel-to-pixel sensitivity variations affects the counts read from the chip.\n",
    "\n",
    "The code to produce the simulated sensitivity map (aka flat image) is long\n",
    "enough that is not included in this notebook. We load it instead from\n",
    "[image_sim.py](image_sim.py)."
   ]
  },
  {
   "cell_type": "code",
   "execution_count": null,
   "metadata": {},
   "outputs": [],
   "source": [
    "import numpy as np\n",
    "\n",
    "from convenience_functions import show_image\n",
    "import image_sim as isim"
   ]
  },
  {
   "cell_type": "markdown",
   "metadata": {},
   "source": [
    "## A sample flat image\n",
    "\n",
    "The sample flat image below has the same size as the simulated image in the\n",
    "previous notebook."
   ]
  },
  {
   "cell_type": "code",
   "execution_count": null,
   "metadata": {},
   "outputs": [],
   "source": [
    "image = np.zeros([2000, 2000])\n",
    "flat = isim.sensitivity_variations(image)"
   ]
  },
  {
   "cell_type": "code",
   "execution_count": null,
   "metadata": {},
   "outputs": [],
   "source": [
    "show_image(flat, cmap='gray')"
   ]
  },
  {
   "cell_type": "markdown",
   "metadata": {},
   "source": [
    "The \"donuts\" in the image are dust on elements like filters in the optical path.\n",
    "Note that the size of the variations is small, a few percent at most."
   ]
  },
  {
   "cell_type": "markdown",
   "metadata": {},
   "source": [
    "## Effect of nonuniform sensitivity on images\n",
    "\n",
    "Recall that an image read off a CCD, ignoring variations in sensitivity, can be\n",
    "thought of as a combination of several pieces:\n",
    "\n",
    "$$\n",
    "\\text{image} = \\text{bias} + \\text{noise} + \\text{dark current} + \\text{sky} + \\text{stars}\n",
    "$$\n",
    "\n",
    "The effect of sensitivity variations is to reduce the amount of *light* reaching\n",
    "the sensor. In the equation above, that means that the flat multiplies just the\n",
    "sky and stars portion of the input:\n",
    "\n",
    "$$\n",
    "\\text{image} = \\text{bias} + \\text{noise} + \\text{dark current} + \\text{flat} \\times (\\text{sky} + \\text{stars})\n",
    "$$\n"
   ]
  },
  {
   "cell_type": "markdown",
   "metadata": {},
   "source": [
    "## A realistic image"
   ]
  },
  {
   "cell_type": "markdown",
   "metadata": {},
   "source": [
    "In the cell below we construct the last image from the previous notebook. Recall\n",
    "that there we used a read noise of 5 electrons/pixel, dark current of 0.1\n",
    "electron/pix/sec, bias level of 1100, and sky background of 20 counts."
   ]
  },
  {
   "cell_type": "code",
   "execution_count": null,
   "metadata": {},
   "outputs": [],
   "source": [
    "gain = 1.0\n",
    "exposure = 30.0\n",
    "dark = 0.1\n",
    "sky_counts = 20\n",
    "bias_level = 1100\n",
    "read_noise_electrons = 5\n",
    "max_star_counts = 2000\n",
    "bias_only = isim.bias(image, bias_level, realistic=True)\n",
    "noise_only = isim.read_noise(image, read_noise_electrons, gain=gain)\n",
    "dark_only = isim.dark_current(image, dark, exposure, gain=gain, hot_pixels=True)\n",
    "sky_only = isim.sky_background(image, sky_counts, gain=gain)\n",
    "stars_only = isim.stars(image, 50, max_counts=max_star_counts)"
   ]
  },
  {
   "cell_type": "markdown",
   "metadata": {},
   "source": [
    "The individual pieces of the image are assembled below; it is the inclusion of\n",
    "the flat that makes this the closest of the simulated images to a realistic\n",
    "images."
   ]
  },
  {
   "cell_type": "code",
   "execution_count": null,
   "metadata": {},
   "outputs": [],
   "source": [
    "final_image = bias_only + noise_only + dark_only + flat * (sky_only + stars_only)"
   ]
  },
  {
   "cell_type": "code",
   "execution_count": null,
   "metadata": {},
   "outputs": [],
   "source": [
    "show_image(final_image, cmap='gray', percu=99.9)"
   ]
  },
  {
   "cell_type": "markdown",
   "metadata": {},
   "source": [
    "Visually, this does not look any different than the final image in the previous\n",
    "notebook; the effects of sensitivity variations are typically not evident in raw\n",
    "images unless the sky background is large.\n",
    "\n",
    "You can see the effect by artificially increasing the sky background."
   ]
  },
  {
   "cell_type": "code",
   "execution_count": null,
   "metadata": {},
   "outputs": [],
   "source": [
    "final_image2 = bias_only + noise_only + dark_only + flat * (isim.sky_background(image, 100 * sky_counts, gain=gain) + stars_only)\n",
    "show_image(final_image2, cmap='gray')"
   ]
  }
 ],
 "metadata": {
  "kernelspec": {
   "display_name": "Python 3",
   "language": "python",
   "name": "python3"
  },
  "language_info": {
   "codemirror_mode": {
    "name": "ipython",
    "version": 3
   },
   "file_extension": ".py",
   "mimetype": "text/x-python",
   "name": "python",
   "nbconvert_exporter": "python",
   "pygments_lexer": "ipython3",
   "version": "3.6.8"
  }
 },
 "nbformat": 4,
 "nbformat_minor": 2
}

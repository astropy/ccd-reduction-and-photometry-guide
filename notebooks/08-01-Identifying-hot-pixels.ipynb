{
 "cells": [
  {
   "cell_type": "markdown",
   "metadata": {},
   "source": [
    "# Identifying hot pixels\n"
   ]
  },
  {
   "cell_type": "markdown",
   "metadata": {},
   "source": [
    "## Some pixels are too hot\n",
    "\n",
    "Recall from the [notebook about dark current](03-02-Real-dark-current-noise-and-other-artifacts.ipynb) that even  a\n",
    "cryogenically-cooled camera with low dark current has some pixels with much\n",
    "higher dark current. In the [discussion of \"ideal\" dark current](03-01-Dark-current-The-ideal-case.ipynb) we noted that the\n",
    "counts in a dark image should be proportional to the exposure time.\n",
    "\n",
    "For some hot pixels that is not the case, unfortunately, which means that those\n",
    "pixels cannot conveniently be corrected by subtracting a combined dark. Those pixels\n",
    "can be identified by taking darks with two different (but long) exposure times\n",
    "and comparing the dark current derived from each of the images. The dark\n",
    "current, measured in electron/sec, should be the same in both images if the dark\n",
    "current is really constant.\n",
    "\n",
    "Fortunately, the pixels whose response is not proportional to exposure time are\n",
    "usually also pixels with high dark current. It is possible to identify\n",
    "those pixels and create a mask to exclude them when processing images. If this\n",
    "weren't the case it might be necessary to take some dark frames with much longer\n",
    "exposure times than otherwise needed."
   ]
  },
  {
   "cell_type": "code",
   "execution_count": null,
   "metadata": {},
   "outputs": [],
   "source": [
    "from pathlib import Path\n",
    "\n",
    "from matplotlib import pyplot as plt\n",
    "import numpy as np\n",
    "\n",
    "from astropy.visualization import hist\n",
    "from astropy import units as u\n",
    "from astropy.nddata import CCDData\n",
    "\n",
    "import ccdproc as ccdp"
   ]
  },
  {
   "cell_type": "code",
   "execution_count": null,
   "metadata": {},
   "outputs": [],
   "source": [
    "# Use custom style for larger fonts and figures\n",
    "plt.style.use('guide.mplstyle')"
   ]
  },
  {
   "cell_type": "markdown",
   "metadata": {},
   "source": [
    "## Example\n",
    "\n",
    "There are two combined dark images available for the thermoelectrically-cooled\n",
    "Andor Aspen CG16M discussed as \"Example 2\" in previous notebooks. One is an\n",
    "average of ten 90 second exposures taken during observations of the transiting\n",
    "exoplanet KELT-16 b. The other is an average of twenty 1,000 second exposures\n",
    "taken during commission of the camera. Typically you will not have a single dark\n",
    "of with an exposure time that long, let alone several of them."
   ]
  },
  {
   "cell_type": "markdown",
   "metadata": {},
   "source": [
    "We begin by reading each combined dark and calculating the dark current from the\n",
    "counts in the image using\n",
    "\n",
    "$$\n",
    "\\text{dark current} = \\text{gain} \\times \\text{dark counts}~/ \\text{ exposure time }.\n",
    "$$\n",
    "\n",
    "The gain for this camera is 1.5 $e^-$/adu. The 1,000 second exposure also needs\n",
    "to be trimmed to remove the overscan region."
   ]
  },
  {
   "cell_type": "code",
   "execution_count": null,
   "metadata": {},
   "outputs": [],
   "source": [
    "ex2_path = Path('example2-reduced')\n",
    "\n",
    "dark_90 = CCDData.read(ex2_path / 'combined_dark_90.000.fit')\n",
    "dark_1000 = CCDData.read('master_dark_exposure_1000.0.fit.bz2')\n",
    "dark_1000 = ccdp.trim_image(dark_1000[:, :4096])\n",
    "\n",
    "dark_90 = dark_90.multiply(1.5 * u.electron / u.adu).divide(90 * u.second)\n",
    "dark_1000 = dark_1000.multiply(1.5 * u.electron / u.adu).divide(1000 * u.second)"
   ]
  },
  {
   "cell_type": "markdown",
   "metadata": {},
   "source": [
    "The histogram below shows the distribution of dark current values in each image.\n",
    "There are some differences we should *expect* to see between the two images.\n",
    "\n",
    "Small values of dark current are much more accurately measured in the long\n",
    "exposure. The exposure time in that image was chosen to be as short as possible\n",
    "while still measuring the nominal dark current of 0.01 $e^-$/sec from the\n",
    "manufacturer given that the camera's read noise is 10$e^-$.\n",
    "\n",
    "For the average of ten 90 second exposures, that read noise will be reduced to\n",
    "10$e^-/\\sqrt{10} \\approx$3.2$e^-$. After dividng by exposure time, this is\n",
    "equivalent to a \"dark current\" of 0.035$e^-$/sec. Roughly twice that is the\n",
    "smallest dark current that can be accurately measured in the 90 second dark.\n",
    "\n",
    "For large values of dark current, the shorter exposure is more accurate. Some of\n",
    "the pixels saturate (i.e., reach the maximum value the chip can read out, roughly\n",
    "65,000) in under 90 sec and more of them saturate at some time between 90\n",
    "seconds and 1,000 seconds. None of those pixels are accurately measured by the\n",
    "long 1,000 second exposure time."
   ]
  },
  {
   "cell_type": "code",
   "execution_count": null,
   "metadata": {},
   "outputs": [],
   "source": [
    "plt.figure(figsize=(20, 10))\n",
    "\n",
    "hist(dark_90.data.flatten(), bins=5000, density=False, label='90 sec dark', alpha=0.4)\n",
    "hist(dark_1000.data.flatten(), bins=5000, density=False, label='1000 sec dark', alpha=0.4)\n",
    "plt.xlabel('dark current, $e^-$/sec')\n",
    "plt.ylabel('Number of pixels')\n",
    "plt.loglog()\n",
    "plt.legend();"
   ]
  },
  {
   "cell_type": "markdown",
   "metadata": {},
   "source": [
    "Overall, there appear to be more hot pixels in the 90 sec exposure than in the\n",
    "1,000 sec exposure. For dark current under 0.1 $e^-$/sec, that is certainly\n",
    "affected by the read noise in the 90 sec exposure.\n",
    "\n",
    "To get a better idea of how consistent the dark current measurements are, we\n",
    "construct a scatter plot with the measured dark current from each image for\n",
    "those pixels in which the dark current is larger than 1$e^-$/sec as measured in\n",
    "the longer exposure."
   ]
  },
  {
   "cell_type": "code",
   "execution_count": null,
   "metadata": {},
   "outputs": [],
   "source": [
    "hot_pixels = (dark_1000.data > 1)"
   ]
  },
  {
   "cell_type": "code",
   "execution_count": null,
   "metadata": {},
   "outputs": [],
   "source": [
    "plt.figure(figsize=(10, 10))\n",
    "plt.plot(dark_90.data[hot_pixels].flatten(), dark_1000.data[hot_pixels].flatten(), '.', alpha=0.2, label='Data')\n",
    "plt.xlabel(\"dark current ($e^-$/sec), 90 sec exposure time\")\n",
    "plt.ylabel(\"dark current ($e^-$/sec), 1000 sec exposure time\")\n",
    "plt.plot([0, 100], [0, 100], label='Ideal relationship')\n",
    "plt.grid()\n",
    "plt.legend();"
   ]
  },
  {
   "cell_type": "markdown",
   "metadata": {},
   "source": [
    "The upper limit on dark current that can be measured with the long exposure time\n",
    "can be clearly seen in the plot above; there is a ceiling at roughly 95$e^-$/sec\n",
    "above which the dark current in the long exposure does not go.\n",
    "\n",
    "It looks like the dark current as measured in each frame is equal for lower\n",
    "values of the dark current, so we replot to get a better look at that region."
   ]
  },
  {
   "cell_type": "code",
   "execution_count": null,
   "metadata": {},
   "outputs": [],
   "source": [
    "plt.figure(figsize=(10, 10))\n",
    "plt.plot(dark_90.data[hot_pixels].flatten(), dark_1000.data[hot_pixels].flatten(), '.', alpha=0.2, label='Data')\n",
    "plt.xlabel(\"dark current ($e^-$/sec), 90 sec exposure time\")\n",
    "plt.ylabel(\"dark current ($e^-$/sec), 1000 sec exposure time\")\n",
    "plt.plot([0, 100], [0, 100], label='Ideal relationship')\n",
    "plt.grid()\n",
    "plt.xlim(0.5, 10)\n",
    "plt.ylim(0.5, 10)\n",
    "plt.legend();"
   ]
  },
  {
   "cell_type": "markdown",
   "metadata": {},
   "source": [
    "Here it looks like the measured dark currents are consistent until around\n",
    "4$e^-$/sec. Beyond that the dark current is consistently larger in the short\n",
    "exposure than in the long exposure.\n",
    "\n",
    "Because of this, we will mark all pixels with dark current larger than\n",
    "4$e^-$/sec as bad. Below that the dark current seems to be measured consistently\n",
    "in both exposures so it ought to be possible to remove the dark current by\n",
    "subtracting a combined dark frame."
   ]
  },
  {
   "cell_type": "code",
   "execution_count": null,
   "metadata": {},
   "outputs": [],
   "source": [
    "bad_hot_pixels = (dark_90.data > 4)\n",
    "bad_hot_pixels.sum()"
   ]
  },
  {
   "cell_type": "markdown",
   "metadata": {},
   "source": [
    "This amounts to 4302 pixels, or 0.026% of the pixels in the camera."
   ]
  },
  {
   "cell_type": "markdown",
   "metadata": {},
   "source": [
    "## Rule of thumb\n",
    "\n",
    "The example in this notebook is a little unusual in that a very long exposure\n",
    "dark is available. In deciding what pixels to mask because of high dark current\n",
    "you have a few options:\n",
    "\n",
    "+ Use whatever exposure time range you have. The images in \"Example 1\" from the\n",
    "previous notebook have darks with exposure times 7, 70, and 300 seconds. The 7\n",
    "second dark is primarily measuring read noise, so is not likely to be useful.\n",
    "The current in the 70 second and 300 second darks could be compared, though, as\n",
    "it was in this case.\n",
    "+ If that is not an option, as was the case with the data in \"Example 2,\" then you\n",
    "may need to pick a cutoff. Keep in mind that the typical camera has very, very\n",
    "low dark current, so a limit like 1$e^-$/sec is not unreasonable.\n",
    "+ Ask other users of the instrument what they do. Large observatories may\n",
    "provide a mask image of bad pixels for the camera you are using.\n",
    "+ Do not do any masking. This is a more reasonable option than you might think.\n",
    "Most pixels are measuring light from the nighttime sky. If one of these hot\n",
    "pixels happens to be in that background, and outlying pixels are rejected by a\n",
    "method like sigma clipping, then these hot pixels will be excluded from your\n",
    "analysis. If the object of interest happens to fall on one the bad pixels you\n",
    "may well notice it. In time series photometry this sometimes manifests as a\n",
    "single data point that is well outside the trend in the rest of the data."
   ]
  },
  {
   "cell_type": "markdown",
   "metadata": {},
   "source": [
    "## Saving the mask\n",
    "\n",
    "The mask can be saved as in a FITS file. We will see in the notebook [incorporating masks in science images](08-05-incorporating-masks-into-calibrated-science-images.ipynb) how\n",
    "to include this mask. Casting the mask as an unsigned integer is necessary\n",
    "because FITS cannot store boolean data."
   ]
  },
  {
   "cell_type": "code",
   "execution_count": null,
   "metadata": {},
   "outputs": [],
   "source": [
    "mask_as_ccd = CCDData(data=bad_hot_pixels.astype('uint8'), unit=u.dimensionless_unscaled)\n",
    "mask_as_ccd.header['imagetyp'] = 'dark mask'\n",
    "mask_as_ccd.write(ex2_path / 'mask_from_dark_current.fits')"
   ]
  }
 ],
 "metadata": {
  "kernelspec": {
   "display_name": "Python 3",
   "language": "python",
   "name": "python3"
  },
  "language_info": {
   "codemirror_mode": {
    "name": "ipython",
    "version": 3
   },
   "file_extension": ".py",
   "mimetype": "text/x-python",
   "name": "python",
   "nbconvert_exporter": "python",
   "pygments_lexer": "ipython3",
   "version": "3.6.8"
  }
 },
 "nbformat": 4,
 "nbformat_minor": 2
}

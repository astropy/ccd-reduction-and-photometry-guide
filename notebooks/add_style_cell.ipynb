{
 "cells": [
  {
   "cell_type": "code",
   "execution_count": 2,
   "metadata": {},
   "outputs": [
    {
     "name": "stdout",
     "output_type": "stream",
     "text": [
      "Examining 03-01-Dark-current-The-ideal-case.ipynb\n",
      "\tInserting style cell in 03-01-Dark-current-The-ideal-case.ipynb\n",
      "Examining 01-00-Understanding-an-astronomical-CCD-image.ipynb\n",
      "\tNo insertion needed\n",
      "Examining 02-00-Handling-overscan-trimming-and-bias-subtraction.ipynb\n",
      "\tInserting style cell in 02-00-Handling-overscan-trimming-and-bias-subtraction.ipynb\n",
      "Examining 02-01-Calibrating-bias-images.ipynb\n",
      "\tInserting style cell in 02-01-Calibrating-bias-images.ipynb\n",
      "Examining 08-05-incorporating-masks-into-calibrated-science-images.ipynb\n",
      "\tNo insertion needed\n",
      "Examining 00-00-Preface.ipynb\n",
      "\tNo insertion needed\n",
      "Examining 07-01-Creating-a-sky-flat.ipynb\n",
      "\tNo insertion needed\n",
      "Examining 01-03-Construction-of-an-artificial-but-realistic-image.ipynb\n",
      "\tInserting style cell in 01-03-Construction-of-an-artificial-but-realistic-image.ipynb\n",
      "Examining 03-06-Combine-darks-for-use-in-later-calibration-steps.ipynb\n",
      "\tInserting style cell in 03-06-Combine-darks-for-use-in-later-calibration-steps.ipynb\n",
      "Examining 03-04-Handling-overscan-and-bias-for-dark-frames.ipynb\n",
      "\tNo insertion needed\n",
      "Examining 08-02-Creating-a-mask.ipynb\n",
      "\tInserting style cell in 08-02-Creating-a-mask.ipynb\n",
      "Examining 05-04-Combining-flats.ipynb\n",
      "\tInserting style cell in 05-04-Combining-flats.ipynb\n",
      "Examining 08-01-Identifying-hot-pixels.ipynb\n",
      "\tInserting style cell in 08-01-Identifying-hot-pixels.ipynb\n",
      "Examining 03-00-Dark-current-and-hot-pixels.ipynb\n",
      "\tNo insertion needed\n",
      "Examining 01-11-reading-images.ipynb\n",
      "\tNo insertion needed\n",
      "Examining 03-02-Real-dark-current-noise-and-other-artifacts.ipynb\n",
      "\tInserting style cell in 03-02-Real-dark-current-noise-and-other-artifacts.ipynb\n",
      "Examining 08-03-Cosmic-ray-removal.ipynb\n",
      "\tInserting style cell in 08-03-Cosmic-ray-removal.ipynb\n",
      "Examining 01-04-Nonuniform-sensitivity.ipynb\n",
      "\tNo insertion needed\n",
      "Examining 01-09-Calibration-choices-you-need-to-make.ipynb\n",
      "\tNo insertion needed\n",
      "Examining 05-03-Calibrating-the-flats.ipynb\n",
      "\tInserting style cell in 05-03-Calibrating-the-flats.ipynb\n",
      "Examining 08-00-Image-masking.ipynb\n",
      "\tNo insertion needed\n",
      "Examining 01-08-Overscan.ipynb\n",
      "\tInserting style cell in 01-08-Overscan.ipynb\n",
      "Examining 06-00-Reducing-science-images.ipynb\n",
      "\tInserting style cell in 06-00-Reducing-science-images.ipynb\n",
      "Examining 01-06-Image-combination.ipynb\n",
      "\tInserting style cell in 01-06-Image-combination.ipynb\n",
      "Examining 02-04-Combine-bias-images-to-make-master.ipynb\n",
      "\tInserting style cell in 02-04-Combine-bias-images-to-make-master.ipynb\n",
      "Examining 07-00-Combining-images.ipynb\n",
      "\tNo insertion needed\n",
      "Examining 03-05-Calibrate-dark-images.ipynb\n",
      "\tNo insertion needed\n",
      "Examining 01-05-Calibration-overview.ipynb\n",
      "\tInserting style cell in 01-05-Calibration-overview.ipynb\n",
      "Examining 07-03-Combination-with-alignment-based-on-star-positions-in-the-image.ipynb\n",
      "\tNo insertion needed\n",
      "Examining 07-02-Combination-with-alignment-via-WCS.ipynb\n",
      "\tNo insertion needed\n",
      "Examining 05-00-Flat-corrections.ipynb\n",
      "\tNo insertion needed\n"
     ]
    }
   ],
   "source": [
    "%run add_matplotlib_style.py"
   ]
  },
  {
   "cell_type": "code",
   "execution_count": null,
   "metadata": {},
   "outputs": [],
   "source": []
  }
 ],
 "metadata": {
  "kernelspec": {
   "display_name": "Python 3",
   "language": "python",
   "name": "python3"
  },
  "language_info": {
   "codemirror_mode": {
    "name": "ipython",
    "version": 3
   },
   "file_extension": ".py",
   "mimetype": "text/x-python",
   "name": "python",
   "nbconvert_exporter": "python",
   "pygments_lexer": "ipython3",
   "version": "3.6.8"
  }
 },
 "nbformat": 4,
 "nbformat_minor": 4
}

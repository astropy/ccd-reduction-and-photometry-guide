{
 "cells": [
  {
   "cell_type": "markdown",
   "metadata": {
    "toc": true
   },
   "source": [
    "<h1>Table of Contents<span class=\"tocSkip\"></span></h1>\n",
    "<div class=\"toc\"><ul class=\"toc-item\"></ul></div>"
   ]
  },
  {
   "cell_type": "markdown",
   "metadata": {},
   "source": [
    "# Combining flats\n"
   ]
  },
  {
   "cell_type": "code",
   "execution_count": null,
   "metadata": {},
   "outputs": [],
   "source": [
    "from pathlib import Path\n",
    "\n",
    "import numpy as np\n",
    "import matplotlib.pyplot as plt\n",
    "\n",
    "import ccdproc as ccdp\n",
    "from astropy.stats import mad_std\n",
    "from astropy.visualization import hist\n",
    "\n",
    "from convenience_functions import show_image"
   ]
  },
  {
   "cell_type": "markdown",
   "metadata": {},
   "source": [
    "## Example 1"
   ]
  },
  {
   "cell_type": "code",
   "execution_count": null,
   "metadata": {},
   "outputs": [],
   "source": [
    "calibrated_path = Path('example1-reduced')\n",
    "\n",
    "ifc = ccdp.ImageFileCollection(calibrated_path)"
   ]
  },
  {
   "cell_type": "code",
   "execution_count": null,
   "metadata": {},
   "outputs": [],
   "source": [
    "flat_filters = set(h['filter'] for h in ifc.headers(imagetyp='flatfield'))\n",
    "flat_filters"
   ]
  },
  {
   "cell_type": "code",
   "execution_count": null,
   "metadata": {},
   "outputs": [],
   "source": [
    "median_count = [np.median(data) for data in ifc.data(imagetyp='flatfield')]\n",
    "print(median_count)"
   ]
  },
  {
   "cell_type": "code",
   "execution_count": null,
   "metadata": {},
   "outputs": [],
   "source": [
    "def inv_median(a):\n",
    "    return 1 / np.median(a)\n",
    "\n",
    "for filt in flat_filters:\n",
    "    to_combine = ifc.files_filtered(imagetyp='flatfield', filter=filt, include_path=True)\n",
    "    combined_flat = ccdp.combine(to_combine,\n",
    "                                 method='average', scale=inv_median,\n",
    "                                 sigma_clip=True, sigma_clip_low_thresh=5, sigma_clip_high_thresh=5,\n",
    "                                 sigma_clip_func=np.ma.median, signma_clip_dev_func=mad_std,\n",
    "                                 mem_limit=350e6\n",
    "                                )\n",
    "\n",
    "    combined_flat.meta['combined'] = True\n",
    "    dark_file_name = 'combined_flat_filter_{}.fit'.format(filt.replace(\"''\", \"p\"))\n",
    "    combined_flat.write(calibrated_path / dark_file_name)"
   ]
  },
  {
   "cell_type": "code",
   "execution_count": null,
   "metadata": {},
   "outputs": [],
   "source": [
    "show_image(combined_flat, cmap='gray')"
   ]
  },
  {
   "cell_type": "code",
   "execution_count": null,
   "metadata": {},
   "outputs": [],
   "source": [
    "def inv_mean(a):\n",
    "    return 1 / np.mean(a)\n",
    "\n",
    "for filt in flat_filters:\n",
    "    to_combine = ifc.files_filtered(imagetyp='flatfield', filter=filt, include_path=True)\n",
    "    combined_flat = ccdp.combine(to_combine,\n",
    "                                 method='average', scale=inv_mean,\n",
    "                                 sigma_clip=True, sigma_clip_low_thresh=5, sigma_clip_high_thresh=5,\n",
    "                                 sigma_clip_func=np.ma.median, signma_clip_dev_func=mad_std,\n",
    "                                 mem_limit=350e6\n",
    "                                )\n",
    "\n",
    "    combined_flat.meta['combined'] = True\n",
    "#     dark_file_name = 'combined_flat_filter_{}.fit'.format(filt.replace(\"''\", \"p\"))\n",
    "#     combined_flat.write(calibrated_path / dark_file_name)"
   ]
  },
  {
   "cell_type": "code",
   "execution_count": null,
   "metadata": {},
   "outputs": [],
   "source": [
    "show_image(combined_flat, cmap='gray')"
   ]
  },
  {
   "cell_type": "code",
   "execution_count": null,
   "metadata": {},
   "outputs": [],
   "source": [
    "foo = hist(combined_flat.data.flatten(), bins=100)\n",
    "plt.semilogy()"
   ]
  },
  {
   "cell_type": "code",
   "execution_count": null,
   "metadata": {},
   "outputs": [],
   "source": [
    "np.mean((foo[1][1:]) * foo[0])/np.sum(foo[0])"
   ]
  },
  {
   "cell_type": "code",
   "execution_count": null,
   "metadata": {},
   "outputs": [],
   "source": [
    "len(foo)"
   ]
  },
  {
   "cell_type": "code",
   "execution_count": null,
   "metadata": {},
   "outputs": [],
   "source": [
    "foo[1]"
   ]
  },
  {
   "cell_type": "markdown",
   "metadata": {},
   "source": [
    "## Example 2"
   ]
  },
  {
   "cell_type": "code",
   "execution_count": null,
   "metadata": {},
   "outputs": [],
   "source": []
  },
  {
   "cell_type": "code",
   "execution_count": null,
   "metadata": {},
   "outputs": [],
   "source": [
    "calibrated_path = Path('example2-reduced')\n",
    "\n",
    "ifc = ccdp.ImageFileCollection(calibrated_path)"
   ]
  },
  {
   "cell_type": "code",
   "execution_count": null,
   "metadata": {},
   "outputs": [],
   "source": [
    "flat_filters = set(h['filter'] for h in ifc.headers(imagetyp='flat'))\n",
    "flat_filters"
   ]
  },
  {
   "cell_type": "code",
   "execution_count": null,
   "metadata": {},
   "outputs": [],
   "source": [
    "median_count = [np.median(data) for data in ifc.data(imagetyp='flat')]\n",
    "print(median_count)"
   ]
  },
  {
   "cell_type": "code",
   "execution_count": null,
   "metadata": {},
   "outputs": [],
   "source": [
    "def inv_median(a):\n",
    "    return 1 / np.median(a)\n",
    "\n",
    "for filt in flat_filters:\n",
    "    to_combine = ifc.files_filtered(imagetyp='flat', filter=filt, include_path=True)\n",
    "    combined_flat = ccdp.combine(to_combine,\n",
    "                                 method='average', scale=inv_median,\n",
    "                                 sigma_clip=True, sigma_clip_low_thresh=5, sigma_clip_high_thresh=5,\n",
    "                                 sigma_clip_func=np.ma.median, signma_clip_dev_func=mad_std,\n",
    "                                 mem_limit=350e6\n",
    "                                )\n",
    "\n",
    "    combined_flat.meta['combined'] = True\n",
    "    dark_file_name = 'combined_flat_filter_{}.fit'.format(filt.replace(\"''\", \"p\"))\n",
    "    combined_flat.write(calibrated_path / dark_file_name)"
   ]
  },
  {
   "cell_type": "code",
   "execution_count": null,
   "metadata": {},
   "outputs": [],
   "source": [
    "show_image(combined_flat, cmap='gray')"
   ]
  },
  {
   "cell_type": "code",
   "execution_count": null,
   "metadata": {},
   "outputs": [],
   "source": [
    "def inv_mean(a):\n",
    "    return 1 / np.mean(a)\n",
    "\n",
    "for filt in flat_filters:\n",
    "    to_combine = ifc.files_filtered(imagetyp='flat', filter=filt, include_path=True)\n",
    "    combined_flat = ccdp.combine(to_combine,\n",
    "                                 method='average', scale=inv_mean,\n",
    "                                 sigma_clip=True, sigma_clip_low_thresh=5, sigma_clip_high_thresh=5,\n",
    "                                 sigma_clip_func=np.ma.median, signma_clip_dev_func=mad_std,\n",
    "                                 mem_limit=350e6\n",
    "                                )\n",
    "\n",
    "    combined_flat.meta['combined'] = True\n",
    "#     dark_file_name = 'combined_flat_filter_{}.fit'.format(filt.replace(\"''\", \"p\"))\n",
    "#     combined_flat.write(calibrated_path / dark_file_name)"
   ]
  },
  {
   "cell_type": "code",
   "execution_count": null,
   "metadata": {},
   "outputs": [],
   "source": [
    "show_image(combined_flat, cmap='gray')"
   ]
  },
  {
   "cell_type": "code",
   "execution_count": null,
   "metadata": {},
   "outputs": [],
   "source": [
    "foo = hist(combined_flat.data.flatten(), bins=100)\n",
    "plt.semilogy()\n",
    "plt.grid()"
   ]
  },
  {
   "cell_type": "code",
   "execution_count": null,
   "metadata": {},
   "outputs": [],
   "source": []
  }
 ],
 "metadata": {
  "kernelspec": {
   "display_name": "Python 3",
   "language": "python",
   "name": "python3"
  },
  "language_info": {
   "codemirror_mode": {
    "name": "ipython",
    "version": 3
   },
   "file_extension": ".py",
   "mimetype": "text/x-python",
   "name": "python",
   "nbconvert_exporter": "python",
   "pygments_lexer": "ipython3",
   "version": "3.6.8"
  },
  "toc": {
   "base_numbering": 1,
   "nav_menu": {},
   "number_sections": true,
   "sideBar": true,
   "skip_h1_title": true,
   "title_cell": "Table of Contents",
   "title_sidebar": "Contents",
   "toc_cell": true,
   "toc_position": {},
   "toc_section_display": true,
   "toc_window_display": false
  }
 },
 "nbformat": 4,
 "nbformat_minor": 2
}

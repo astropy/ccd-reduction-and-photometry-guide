{
 "cells": [
  {
   "cell_type": "markdown",
   "metadata": {},
   "source": [
    "# Combining flats\n",
    "\n",
    "There is one step in combining flats that is different than for most other image combination: the flats should be scaled to a common value before combining them. This is particularly important if the flats are twilight flats in which the average image value typically changes significantly as the images are being taken.\n",
    "\n",
    "Flats are typically grouped by filter when combining them. That is, one combined flat is produced for each filter in which flats were taken.\n",
    "\n",
    "Combination will be done for each of the two examples in the previous notebook."
   ]
  },
  {
   "cell_type": "code",
   "execution_count": null,
   "metadata": {},
   "outputs": [],
   "source": [
    "from pathlib import Path\n",
    "\n",
    "import numpy as np\n",
    "import matplotlib.pyplot as plt\n",
    "\n",
    "import ccdproc as ccdp\n",
    "from astropy.stats import mad_std\n",
    "from astropy.visualization import hist\n",
    "\n",
    "from convenience_functions import show_image"
   ]
  },
  {
   "cell_type": "markdown",
   "metadata": {},
   "source": [
    "## Example 1\n",
    "\n",
    "We begin by setting up an image collection for the reduced data."
   ]
  },
  {
   "cell_type": "code",
   "execution_count": null,
   "metadata": {},
   "outputs": [],
   "source": [
    "calibrated_path = Path('example1-reduced')\n",
    "\n",
    "ifc = ccdp.ImageFileCollection(calibrated_path)"
   ]
  },
  {
   "cell_type": "markdown",
   "metadata": {},
   "source": [
    "We'll first check what filters are present."
   ]
  },
  {
   "cell_type": "code",
   "execution_count": null,
   "metadata": {},
   "outputs": [],
   "source": [
    "flat_filters = set(h['filter'] for h in ifc.headers(imagetyp='flatfield'))\n",
    "flat_filters"
   ]
  },
  {
   "cell_type": "markdown",
   "metadata": {},
   "source": [
    "These flats are dome flats, essentially pictures of a screen in the dome illuminated by a light source, so one would not expect there to be much variable in the typical pixel value between different exposures. There is typically *some* variation, though, so we graph it below."
   ]
  },
  {
   "cell_type": "code",
   "execution_count": null,
   "metadata": {},
   "outputs": [],
   "source": [
    "median_count = [np.median(data) for data in ifc.data(imagetyp='flatfield')]\n",
    "mean_count = [np.mean(data) for data in ifc.data(imagetyp='flatfield')]\n",
    "plt.plot(median_count, label='median')\n",
    "plt.plot(mean_count, label='mean')\n",
    "plt.xlabel('Image number')\n",
    "plt.ylabel('Count (ADU)')\n",
    "plt.title('Pixel value in calibrated flat frames')\n",
    "plt.legend()\n",
    "print(median_count)"
   ]
  },
  {
   "cell_type": "markdown",
   "metadata": {},
   "source": [
    "Although this is less frame-to-frame variation than we will see in Example 2, it is about 5%. If we were to combine these without scaling the flats to a common value then the images with higher counts would effectively get more weight than the images. \n",
    "\n",
    "There is a substantial difference between the mean and median of this data. Typically it is better to use the median because extreme values do not affect the median as much as the mean.\n",
    "\n",
    "To scale the frames so that they have the same median value we need to define a function that can calculate the inverse of the median given the data."
   ]
  },
  {
   "cell_type": "code",
   "execution_count": null,
   "metadata": {},
   "outputs": [],
   "source": [
    "def inv_median(a):\n",
    "    return 1 / np.median(a)"
   ]
  },
  {
   "cell_type": "markdown",
   "metadata": {},
   "source": [
    "This function is passed into the `scale` argument of `combine` below. One combined flat is created for each filter in the data."
   ]
  },
  {
   "cell_type": "code",
   "execution_count": null,
   "metadata": {},
   "outputs": [],
   "source": [
    "for filt in flat_filters:\n",
    "    to_combine = ifc.files_filtered(imagetyp='flatfield', filter=filt, include_path=True)\n",
    "    combined_flat = ccdp.combine(to_combine,\n",
    "                                 method='average', scale=inv_median,\n",
    "                                 sigma_clip=True, sigma_clip_low_thresh=5, sigma_clip_high_thresh=5,\n",
    "                                 sigma_clip_func=np.ma.median, signma_clip_dev_func=mad_std,\n",
    "                                 mem_limit=350e6\n",
    "                                )\n",
    "\n",
    "    combined_flat.meta['combined'] = True\n",
    "    dark_file_name = 'combined_flat_filter_{}.fit'.format(filt.replace(\"''\", \"p\"))\n",
    "    combined_flat.write(calibrated_path / dark_file_name)"
   ]
  },
  {
   "cell_type": "code",
   "execution_count": null,
   "metadata": {},
   "outputs": [],
   "source": [
    "show_image(combined_flat, cmap='gray')"
   ]
  },
  {
   "cell_type": "code",
   "execution_count": null,
   "metadata": {},
   "outputs": [],
   "source": [
    "to_combine = ifc.files_filtered(imagetyp='flatfield', filter=filt,\n",
    "                                include_path=True)\n",
    "bad_combined_flat = ccdp.combine(to_combine,\n",
    "                             method='average',\n",
    "                             sigma_clip=True, sigma_clip_low_thresh=5, sigma_clip_high_thresh=5,\n",
    "                             sigma_clip_func=np.ma.median, signma_clip_dev_func=mad_std,\n",
    "                             mem_limit=350e6\n",
    "                            )\n",
    "\n",
    "bad_combined_flat.meta['combined'] = True\n"
   ]
  },
  {
   "cell_type": "code",
   "execution_count": null,
   "metadata": {},
   "outputs": [],
   "source": [
    "show_image(bad_combined_flat, cmap='gray')"
   ]
  },
  {
   "cell_type": "markdown",
   "metadata": {},
   "source": [
    "## Example 2"
   ]
  },
  {
   "cell_type": "code",
   "execution_count": null,
   "metadata": {},
   "outputs": [],
   "source": []
  },
  {
   "cell_type": "code",
   "execution_count": null,
   "metadata": {},
   "outputs": [],
   "source": [
    "calibrated_path = Path('example2-reduced')\n",
    "\n",
    "ifc = ccdp.ImageFileCollection(calibrated_path)"
   ]
  },
  {
   "cell_type": "code",
   "execution_count": null,
   "metadata": {},
   "outputs": [],
   "source": [
    "flat_filters = set(h['filter'] for h in ifc.headers(imagetyp='flat'))\n",
    "flat_filters"
   ]
  },
  {
   "cell_type": "code",
   "execution_count": null,
   "metadata": {},
   "outputs": [],
   "source": [
    "median_count = [np.median(data) for data in ifc.data(imagetyp='flat')]\n",
    "mean_count = [np.mean(data) for data in ifc.data(imagetyp='flat')]\n",
    "plt.plot(median_count, label='median')\n",
    "plt.plot(mean_count, label='mean')\n",
    "plt.xlabel('Image number')\n",
    "plt.ylabel('Count (ADU)')\n",
    "plt.title('Pixel value in calibrated flat frames')\n",
    "plt.legend()\n",
    "print(median_count)"
   ]
  },
  {
   "cell_type": "code",
   "execution_count": null,
   "metadata": {},
   "outputs": [],
   "source": [
    "def inv_median(a):\n",
    "    return 1 / np.median(a)\n",
    "\n",
    "for filt in flat_filters:\n",
    "    to_combine = ifc.files_filtered(imagetyp='flat', filter=filt, include_path=True)\n",
    "    combined_flat = ccdp.combine(to_combine,\n",
    "                                 method='average', scale=inv_median,\n",
    "                                 sigma_clip=True, sigma_clip_low_thresh=5, sigma_clip_high_thresh=5,\n",
    "                                 sigma_clip_func=np.ma.median, signma_clip_dev_func=mad_std,\n",
    "                                 mem_limit=350e6\n",
    "                                )\n",
    "\n",
    "    combined_flat.meta['combined'] = True\n",
    "    dark_file_name = 'combined_flat_filter_{}.fit'.format(filt.replace(\"''\", \"p\"))\n",
    "    combined_flat.write(calibrated_path / dark_file_name)"
   ]
  },
  {
   "cell_type": "code",
   "execution_count": null,
   "metadata": {},
   "outputs": [],
   "source": [
    "show_image(combined_flat, cmap='gray')"
   ]
  },
  {
   "cell_type": "code",
   "execution_count": null,
   "metadata": {},
   "outputs": [],
   "source": [
    "to_combine = ifc.files_filtered(imagetyp='flat', filter=filt,\n",
    "                                include_path=True)\n",
    "bad_combined_flat = ccdp.combine(to_combine,\n",
    "                             method='average',\n",
    "                             sigma_clip=True, sigma_clip_low_thresh=5, sigma_clip_high_thresh=5,\n",
    "                             sigma_clip_func=np.ma.median, signma_clip_dev_func=mad_std,\n",
    "                             mem_limit=350e6\n",
    "                            )\n",
    "\n",
    "bad_combined_flat.meta['combined'] = True"
   ]
  },
  {
   "cell_type": "code",
   "execution_count": null,
   "metadata": {},
   "outputs": [],
   "source": [
    "show_image(bad_combined_flat, cmap='gray')"
   ]
  },
  {
   "cell_type": "code",
   "execution_count": null,
   "metadata": {},
   "outputs": [],
   "source": []
  }
 ],
 "metadata": {
  "kernelspec": {
   "display_name": "Python 3",
   "language": "python",
   "name": "python3"
  },
  "language_info": {
   "codemirror_mode": {
    "name": "ipython",
    "version": 3
   },
   "file_extension": ".py",
   "mimetype": "text/x-python",
   "name": "python",
   "nbconvert_exporter": "python",
   "pygments_lexer": "ipython3",
   "version": "3.6.8"
  },
  "toc": {
   "base_numbering": 1,
   "nav_menu": {},
   "number_sections": true,
   "sideBar": true,
   "skip_h1_title": true,
   "title_cell": "Table of Contents",
   "title_sidebar": "Contents",
   "toc_cell": true,
   "toc_position": {},
   "toc_section_display": true,
   "toc_window_display": false
  }
 },
 "nbformat": 4,
 "nbformat_minor": 2
}

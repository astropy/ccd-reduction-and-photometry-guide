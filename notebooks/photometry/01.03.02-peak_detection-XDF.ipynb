{
 "cells": [
  {
   "cell_type": "markdown",
   "metadata": {},
   "source": [
    "# Peak finding in the XDF"
   ]
  },
  {
   "cell_type": "markdown",
   "metadata": {},
   "source": [
    "## Data for this notebook \n",
    "\n",
    "We will be manipulating Hubble eXtreme Deep Field (XDF) data, which was collected using the Advanced Camera for Surveys (ACS) on Hubble between 2002 and 2012. The image we use here is the result of 1.8 million seconds (500 hours!) of exposure time, and includes some of the faintest and most distant galaxies that had ever been observed. \n",
    "\n",
    "*The methods demonstrated here are also available in the [`photutils.detection` documentation](http://photutils.readthedocs.io/en/stable/detection.html).*\n",
    "\n",
    "*The original authors of this notebook were Lauren Chambers, Erik Tollerud and Tom Wilson.*\n"
   ]
  },
  {
   "cell_type": "markdown",
   "metadata": {},
   "source": [
    "We begin with imports."
   ]
  },
  {
   "cell_type": "code",
   "execution_count": null,
   "metadata": {},
   "outputs": [],
   "source": [
    "import warnings\n",
    "\n",
    "from astropy.nddata import CCDData\n",
    "from astropy.stats import sigma_clipped_stats, SigmaClip\n",
    "import astropy.units as u\n",
    "from astropy.visualization import ImageNormalize, LogStretch\n",
    "\n",
    "import matplotlib.pyplot as plt\n",
    "from matplotlib.ticker import LogLocator\n",
    "\n",
    "import numpy as np\n",
    "\n",
    "from photutils.background import Background2D, MeanBackground\n",
    "from photutils.centroids import centroid_2dg\n",
    "from photutils.detection import find_peaks, DAOStarFinder, IRAFStarFinder\n",
    "\n",
    "# Show plots in the notebook\n",
    "%matplotlib inline"
   ]
  },
  {
   "cell_type": "markdown",
   "metadata": {},
   "source": [
    "Next, we load the image and calculate the background statistics."
   ]
  },
  {
   "cell_type": "code",
   "execution_count": null,
   "metadata": {},
   "outputs": [],
   "source": [
    "xdf_image = CCDData.read('hlsp_xdf_hst_acswfc-60mas_hudf_f435w_v1_sci.fits')\n",
    "# Define the mask\n",
    "mask = xdf_image.data == 0\n",
    "xdf_image.mask = mask"
   ]
  },
  {
   "cell_type": "code",
   "execution_count": null,
   "metadata": {},
   "outputs": [],
   "source": [
    "mean, median, std = sigma_clipped_stats(xdf_image.data, sigma=3.0, maxiters=5, mask=xdf_image.mask)"
   ]
  },
  {
   "cell_type": "code",
   "execution_count": null,
   "metadata": {},
   "outputs": [],
   "source": [
    "plt.style.use('../photutils_notebook_style.mplstyle')"
   ]
  },
  {
   "cell_type": "markdown",
   "metadata": {},
   "source": [
    "## Source Detection with peak finding"
   ]
  },
  {
   "cell_type": "markdown",
   "metadata": {},
   "source": [
    "For more general source detection cases that do not require comparison with models, `photutils` offers the [`find_peaks`](https://photutils.readthedocs.io/en/stable/api/photutils.detection.find_peaks.html#photutils.detection.find_peaks) function. \n",
    "\n",
    "This function simply finds sources by identifying local maxima above a given threshold and separated by a given distance, rather than trying to fit data to a given model. Unlike the previous detection algorithms, [`find_peaks`](https://photutils.readthedocs.io/en/stable/api/photutils.detection.find_peaks.html#photutils.detection.find_peaks) does not necessarily calculate objects' centroids. Unless the `centroid_func` argument is passed a function like `photutils.centroids.centroid_2dg` that can handle source position centroiding, `find_peaks` will return just the integer value of the peak pixel for each source.\n",
    "\n",
    "The centroid-finding, which we do here only so that we can compare positions found by this method to positions found by the star-finding methods, can generate many warnings when an attempt is made to fit a 2D Gaussian to the sources. The warnings are suppressed below to avoid cluttering the output.\n",
    "\n",
    "Let's see how it does:"
   ]
  },
  {
   "cell_type": "code",
   "execution_count": null,
   "metadata": {},
   "outputs": [],
   "source": [
    "with warnings.catch_warnings(action=\"ignore\"):\n",
    "    sources_findpeaks = find_peaks(xdf_image.data - median, mask=xdf_image.mask,\n",
    "                                   threshold=20. * std, box_size=29,\n",
    "                                   centroid_func=centroid_2dg)\n",
    "print(sources_findpeaks)"
   ]
  },
  {
   "cell_type": "markdown",
   "metadata": {},
   "source": [
    "There are roughly 1,000 sources identified in the image. Recall from the notebook on [star-finding detection methods](01.02.02-IRAF-like-source-detection-XDF.ipynb) that roughly 1,500 sources were found with [`DAOStarFinder`](https://photutils.readthedocs.io/en/stable/api/photutils.detection.DAOStarFinder.html#photutils.detection.DAOStarFinder)."
   ]
  },
  {
   "cell_type": "code",
   "execution_count": null,
   "metadata": {},
   "outputs": [],
   "source": [
    "# Set up the figure with subplots\n",
    "fig, ax1 = plt.subplots(1, 1, figsize=(8, 8))\n",
    "\n",
    "# Plot the data\n",
    "# Set up the normalization and colormap\n",
    "norm_image = ImageNormalize(vmin=1e-4, vmax=5e-2, stretch=LogStretch(), clip=False)\n",
    "cmap = plt.get_cmap('viridis')\n",
    "cmap.set_bad('white') # Show masked data as white\n",
    "fitsplot = ax1.imshow(np.ma.masked_where(xdf_image.mask, xdf_image.data),\n",
    "                      norm=norm_image, cmap=cmap)\n",
    "ax1.scatter(sources_findpeaks['x_peak'], sources_findpeaks['y_peak'], s=30, marker='o',\n",
    "            lw=1, alpha=0.7, facecolor='None', edgecolor='r')\n",
    "\n",
    "# Define the colorbar\n",
    "cbar = plt.colorbar(fitsplot, fraction=0.046, pad=0.04, ticks=LogLocator())\n",
    "\n",
    "def format_colorbar(bar):\n",
    "    # Add minor tickmarks\n",
    "    bar.ax.yaxis.set_minor_locator(LogLocator(subs=range(1, 10)))\n",
    "\n",
    "    # Force the labels to be displayed as powers of ten and only at exact powers of ten\n",
    "    bar.ax.set_yticks([1e-4, 1e-3, 1e-2])\n",
    "    labels = [f'$10^{{{pow:.0f}}}$' for pow in np.log10(bar.ax.get_yticks())]\n",
    "    bar.ax.set_yticklabels(labels)\n",
    "\n",
    "format_colorbar(cbar)\n",
    "\n",
    "# Define labels\n",
    "cbar.set_label(r'Flux Count Rate ({})'.format(xdf_image.unit.to_string('latex')),\n",
    "               rotation=270, labelpad=30)\n",
    "ax1.set_xlabel('X (pixels)')\n",
    "ax1.set_ylabel('Y (pixels)')\n",
    "ax1.set_title('find_peaks Sources');"
   ]
  },
  {
   "cell_type": "markdown",
   "metadata": {},
   "source": [
    "We once again look at region around the large galaxy. A comparison of this approach with the star-finding approaches appears later in this section."
   ]
  },
  {
   "cell_type": "code",
   "execution_count": null,
   "metadata": {},
   "outputs": [],
   "source": [
    "fig, ax = plt.subplots(figsize=(8, 8))\n",
    "top = 1125\n",
    "left = 2350\n",
    "cutout_size = 500\n",
    "inset_display_size = 5 * cutout_size\n",
    "\n",
    "fitsplot = ax.imshow(xdf_image, cmap=cmap, norm=norm_image, alpha=0.4)\n",
    "ax.scatter(sources_findpeaks['x_peak'], sources_findpeaks['y_peak'], s=30, marker='o',\n",
    "           lw=1, alpha=0.1, facecolor='None', edgecolor='r')\n",
    "\n",
    "ax.set_xlabel('X (pixels)')\n",
    "ax.set_ylabel('Y (pixels)')\n",
    "ax.set_title('Peak Finding Sources')\n",
    "\n",
    "ax2 = ax.inset_axes([2600 - inset_display_size // 2, 2300, inset_display_size, inset_display_size], \n",
    "                    xlim=(left, left + cutout_size), ylim=(top, top + cutout_size),\n",
    "                    transform=ax.transData)\n",
    "ax.indicate_inset_zoom(ax2, edgecolor=\"black\")\n",
    "\n",
    "ax2.imshow(xdf_image, cmap=cmap, norm=norm_image)\n",
    "\n",
    "in_region = (\n",
    "    (left < sources_findpeaks['x_peak']) &\n",
    "    (sources_findpeaks['x_peak'] < (left + cutout_size)) & \n",
    "    (top < sources_findpeaks['y_peak']) &\n",
    "    (sources_findpeaks['y_peak'] < (top + cutout_size))\n",
    ")\n",
    "sources_findpeaks_to_plot = sources_findpeaks[in_region]\n",
    "ax2.scatter(sources_findpeaks_to_plot['x_peak'], sources_findpeaks_to_plot['y_peak'], s=30, marker='o',\n",
    "            lw=1, alpha=0.7, facecolor='None', edgecolor='r');\n"
   ]
  },
  {
   "cell_type": "markdown",
   "metadata": {},
   "source": [
    "## Comparing Detection Methods\n",
    "\n",
    "Let's compare how each of these different strategies did.\n",
    "\n",
    "First, we repeat our earlier detection using [`DAOStarFinder`](https://photutils.readthedocs.io/en/stable/api/photutils.detection.DAOStarFinder.html#photutils.detection.DAOStarFinder) and [`IRAFStarFinder`](https://photutils.readthedocs.io/en/stable/api/photutils.detection.IRAFStarFinder.html#photutils.detection.IRAFStarFinder).\n"
   ]
  },
  {
   "cell_type": "code",
   "execution_count": null,
   "metadata": {},
   "outputs": [],
   "source": [
    "daofind = DAOStarFinder(fwhm=5.0, threshold=20. * std)\n",
    "sources_dao = daofind(np.ma.masked_where(xdf_image.mask, xdf_image))\n",
    "\n",
    "iraffind_match = IRAFStarFinder(fwhm=5.0, threshold=20. * std,\n",
    "                                sharplo=0.2, sharphi=1.0,\n",
    "                                roundlo=-1.0, roundhi=1.0,\n",
    "                                minsep_fwhm=0.0)\n",
    "sources_iraf_match = iraffind_match(np.ma.masked_where(xdf_image.mask, xdf_image))"
   ]
  },
  {
   "cell_type": "code",
   "execution_count": null,
   "metadata": {},
   "outputs": [],
   "source": [
    "print(f'''DAOStarFinder: {len(sources_dao)} sources\n",
    "IRAFStarFinder: {len(sources_iraf_match)} sources\n",
    "find_peaks: {len(sources_findpeaks)} sources''') "
   ]
  },
  {
   "cell_type": "markdown",
   "metadata": {},
   "source": [
    "Next, how many of these sources match? We can answer this question by using [sets](https://docs.python.org/3/library/stdtypes.html#set-types-set-frozenset) to compare the centroids of the different sources (rounding to the nearest integer)."
   ]
  },
  {
   "cell_type": "code",
   "execution_count": null,
   "metadata": {
    "scrolled": true
   },
   "outputs": [],
   "source": [
    "# Make lists of centroid coordinates\n",
    "centroids_dao = [(x, y) for x, y in sources_dao['xcentroid', 'ycentroid']]\n",
    "centroids_iraf = [(x, y) for x, y in sources_iraf_match['xcentroid', 'ycentroid']]\n",
    "centroids_findpeaks = [(x, y) for x, y in sources_findpeaks['x_centroid', 'y_centroid']]\n",
    "\n",
    "# Round those coordinates to the ones place and convert them to be sets\n",
    "rounded_centroids_dao = set([(round(x, 0), round(y, 0)) for x, y in centroids_dao])\n",
    "rounded_centroids_iraf = set([(round(x, 0), round(y, 0)) for x, y in centroids_iraf])\n",
    "rounded_centroids_findpeaks = set([(round(x, 0), round(y, 0)) for x, y in centroids_findpeaks])\n",
    "\n",
    "# Examine the intersections of different sets to determine which sources are shared\n",
    "all_match = rounded_centroids_dao.intersection(rounded_centroids_iraf).intersection(rounded_centroids_findpeaks)\n",
    "dao_iraf_match = rounded_centroids_dao.intersection(rounded_centroids_iraf)\n",
    "dao_findpeaks_match = rounded_centroids_dao.intersection(rounded_centroids_findpeaks)\n",
    "iraf_findpeaks_match = rounded_centroids_iraf.intersection(rounded_centroids_findpeaks)\n",
    "\n",
    "print(f'''Matching sources found by:\n",
    "    All methods: {len(all_match)}\n",
    "    DAOStarFinder & IRAFStarFinder: {len(dao_iraf_match)}\n",
    "    DAOStarFinder & find_peaks: {len(dao_findpeaks_match)}\n",
    "    IRAFStarFinder & find_peaks: {len(iraf_findpeaks_match)}''')"
   ]
  },
  {
   "cell_type": "markdown",
   "metadata": {},
   "source": [
    "And just for fun, let's plot these matching sources. (The colors chosen to represent different sets are from [Paul Tol's guide for accessible color schemes](https://personal.sron.nl/~pault/).)"
   ]
  },
  {
   "cell_type": "code",
   "execution_count": null,
   "metadata": {},
   "outputs": [],
   "source": [
    "# Set up the figure with subplots\n",
    "fig, ax1 = plt.subplots(1, 1, figsize=(8, 8))\n",
    "\n",
    "# Plot the data\n",
    "fitsplot = ax1.imshow(np.ma.masked_where(xdf_image.mask, xdf_image), norm=norm_image)\n",
    "ax1.scatter([x for x, y in list(dao_findpeaks_match)], [y for x, y in list(dao_findpeaks_match)],\n",
    "            s=30, marker='s', lw=1,  facecolor='None', edgecolor='#EE7733',\n",
    "            label='Found by DAO and find_peaks')\n",
    "ax1.scatter([x for x, y in list(dao_iraf_match)], [y for x, y in list(dao_iraf_match)],\n",
    "            s=30, marker='D', lw=1, facecolor='None', edgecolor='#EE3377',\n",
    "            label='Found by DAO and IRAF')\n",
    "ax1.scatter([x for x, y in list(iraf_findpeaks_match)], [y for x, y in list(iraf_findpeaks_match)],\n",
    "            s=30, marker='o', lw=1, facecolor='None', edgecolor='#0077BB',\n",
    "            label='Found by IRAF and find_peaks')\n",
    "ax1.scatter([x for x, y in list(all_match)], [y for x, y in list(all_match)],\n",
    "            s=30, marker='o', lw=1.2, linestyle=':',facecolor='None', edgecolor='#BBBBBB',\n",
    "            label='Found by all methods')\n",
    "\n",
    "# Add legend\n",
    "ax1.legend(ncol=2, loc='lower center', bbox_to_anchor=(0.5, -0.25))\n",
    "\n",
    "# Define labels\n",
    "ax1.set_xlabel('X (pixels)')\n",
    "ax1.set_ylabel('Y (pixels)')\n",
    "ax1.set_title('Sources Found by Different Methods');"
   ]
  },
  {
   "cell_type": "markdown",
   "metadata": {},
   "source": [
    "This is pretty cluttered, so we once again look at the region around the large galaxy in the image."
   ]
  },
  {
   "cell_type": "code",
   "execution_count": null,
   "metadata": {},
   "outputs": [],
   "source": [
    "fig, ax1 = plt.subplots(1, 1, figsize=(8, 8))\n",
    "\n",
    "# Plot the data\n",
    "fitsplot = ax1.imshow(np.ma.masked_where(xdf_image.mask, xdf_image), norm=norm_image, alpha=0.9)\n",
    "\n",
    "marker_size = 60\n",
    "ax1.scatter(sources_findpeaks['x_peak'], sources_findpeaks['y_peak'], s=marker_size, marker='s',\n",
    "            lw=1, alpha=1, facecolor='None', edgecolor='r', label='Found by find_peaks')\n",
    "ax1.scatter(sources_dao['xcentroid'], sources_dao['ycentroid'], s=2 * marker_size, marker='D',\n",
    "            lw=1, alpha=1, facecolor='None', edgecolor='#EE7733', label='Found by DAOfind')\n",
    "ax1.scatter(sources_iraf_match['xcentroid'], sources_iraf_match['ycentroid'],\n",
    "            s=4 * marker_size, marker='o', lw=1, alpha=1, facecolor='None', edgecolor='#BBBBBB',\n",
    "            label=\"Found by IRAF starfind\")\n",
    "\n",
    "# Add legend\n",
    "ax1.legend(ncol=2, loc='lower center', bbox_to_anchor=(0.5, -0.25))\n",
    "\n",
    "top = 1125\n",
    "left = 2350\n",
    "cutout_size = 500\n",
    "\n",
    "ax1.set_xlim(left, left + cutout_size)\n",
    "ax1.set_ylim(top, top + cutout_size)\n",
    "# Define labels\n",
    "ax1.set_xlabel('X (pixels)')\n",
    "ax1.set_ylabel('Y (pixels)')\n",
    "ax1.set_title('Sources Found by Different Methods');"
   ]
  },
  {
   "cell_type": "markdown",
   "metadata": {},
   "source": [
    "There is only one actual source in this cutout that was found by one of the star-finding techniques that were not also found by peak finding. Several sources ideintified as separate by star-finding sources in the large galaxy at the center are not actually separate. Peak finding suffers from this too but to a lesser extent."
   ]
  },
  {
   "cell_type": "markdown",
   "metadata": {},
   "source": [
    "## Custom Detection Algorithms\n",
    "\n",
    "If none of the algorithms we've reviewed above do exactly what you need, [`photutils`](https://photutils.readthedocs.io/en/stable/) also provides infrastructure for you to generate and use your own source detection algorithm: the `StarFinderBase` object can be inherited and used to develop new star-finding classes. Take a look at the [documentation](https://photutils.readthedocs.io/en/latest/api/photutils.detection.StarFinderBase.html#photutils.detection.StarFinderBase) for more information.\n",
    "\n",
    "If you do go that route, remember that [`photutils`](https://photutils.readthedocs.io/en/stable/) is open source; you would be very welcome to [open a pull request](https://github.com/astropy/photutils/blob/master/CONTRIBUTING.rst) and incorporate your new star finder into the [`photutils`](https://photutils.readthedocs.io/en/stable/) source code &ndash; for everyone to use!"
   ]
  },
  {
   "cell_type": "markdown",
   "metadata": {},
   "source": [
    "## Summary\n",
    "\n",
    "The sources found by [`find_peaks`](https://photutils.readthedocs.io/en/stable/api/photutils.detection.find_peaks.html#photutils.detection.find_peaks) are roughly the same as those found by the star-finding algorithms. In [XX BROKEN LINK SEGMENTATION]() we will look at a much different approach that is especially well suited to finding extended objects."
   ]
  }
 ],
 "metadata": {
  "kernelspec": {
   "display_name": "Python 3 (ipykernel)",
   "language": "python",
   "name": "python3"
  },
  "language_info": {
   "codemirror_mode": {
    "name": "ipython",
    "version": 3
   },
   "file_extension": ".py",
   "mimetype": "text/x-python",
   "name": "python",
   "nbconvert_exporter": "python",
   "pygments_lexer": "ipython3",
   "version": "3.11.8"
  }
 },
 "nbformat": 4,
 "nbformat_minor": 4
}

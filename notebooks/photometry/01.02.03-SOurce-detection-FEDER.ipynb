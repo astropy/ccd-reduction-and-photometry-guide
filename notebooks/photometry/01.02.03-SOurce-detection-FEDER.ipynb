{
 "cells": [
  {
   "cell_type": "markdown",
   "metadata": {},
   "source": [
    "# Source detection in a stellar image"
   ]
  },
  {
   "cell_type": "markdown",
   "metadata": {},
   "source": [
    "## Which data are used in this notebook?\n",
    "\n",
    "The image in this notebook is of the field of the star [TIC 125489084](https://exofop.ipac.caltech.edu/tess/target.php?id=125489084) on a night when the moon was nearly full. The moonlight caused a smooth gradient across the background of the image.\n",
    "\n",
    "As discussed in NOTEBOOK ABOUT BACKGROUND SUBTRACTION, the best way to remove the background in this case is to use photutils to construct a 2D model of the background. \n",
    "\n",
    "As we will see in a moment, [`DAOStarFinder`](https://photutils.readthedocs.io/en/stable/api/photutils.detection.DAOStarFinder.html#photutils.detection.DAOStarFinder) does a good job identifying most of the sources in the image, since all of the sources are stars."
   ]
  },
  {
   "cell_type": "markdown",
   "metadata": {},
   "source": [
    "## Import necessary packages"
   ]
  },
  {
   "cell_type": "markdown",
   "metadata": {},
   "source": [
    "First, let's import packages that we will use to perform arithmetic functions and visualize data:"
   ]
  },
  {
   "cell_type": "code",
   "execution_count": null,
   "metadata": {},
   "outputs": [],
   "source": [
    "import numpy as np\n",
    "\n",
    "from astropy.io import fits\n",
    "from astropy.nddata import CCDData\n",
    "import astropy.units as u\n",
    "from astropy.stats import sigma_clipped_stats, SigmaClip\n",
    "from astropy.visualization import ImageNormalize, LogStretch, AsymmetricPercentileInterval\n",
    "import matplotlib.pyplot as plt\n",
    "from matplotlib.ticker import LogLocator\n",
    "\n",
    "from photutils.aperture import CircularAperture\n",
    "from photutils.background import Background2D, MeanBackground\n",
    "from photutils.detection import DAOStarFinder\n",
    "from photutils.segmentation import detect_threshold, detect_sources\n",
    "from photutils.utils import circular_footprint\n",
    "\n",
    "# Show plots in the notebook\n",
    "%matplotlib inline"
   ]
  },
  {
   "cell_type": "markdown",
   "metadata": {},
   "source": [
    "Let's also define some `matplotlib` parameters, such as title font size and the dpi, to make sure our plots look nice. To make it quick, we'll do this by loading a [style file shared with the other photutils tutorials](../photutils_notebook_style.mplstyle) into `pyplot`. We will use this style file for all the notebook tutorials. (See [here](https://matplotlib.org/users/customizing.html) to learn more about customizing `matplotlib`.)"
   ]
  },
  {
   "cell_type": "code",
   "execution_count": null,
   "metadata": {},
   "outputs": [],
   "source": [
    "plt.style.use('../photutils_notebook_style.mplstyle')"
   ]
  },
  {
   "cell_type": "markdown",
   "metadata": {},
   "source": [
    "## Load the data\n",
    "\n",
    "Throughout this notebook, we are going to store our images in Python using a `CCDData` object (see [Astropy documentation](http://docs.astropy.org/en/stable/nddata/index.html#ccddata-class-for-images)), which contains a `numpy` array in addition to metadata such as uncertainty, masks, and units."
   ]
  },
  {
   "cell_type": "code",
   "execution_count": null,
   "metadata": {},
   "outputs": [],
   "source": [
    "ccd_image = CCDData.read('TIC_125489084.01-S001-R055-C001-ip.fit.bz2')\n",
    "data = ccd_image.data\n",
    "header = ccd_image.header\n"
   ]
  },
  {
   "cell_type": "code",
   "execution_count": null,
   "metadata": {},
   "outputs": [],
   "source": [
    "# Set up the normalization and colormap\n",
    "norm_image = ImageNormalize(ccd_image, interval=AsymmetricPercentileInterval(30, 99.5))"
   ]
  },
  {
   "cell_type": "markdown",
   "metadata": {},
   "source": [
    "## Perform 2-D background estimation and subtraction\n",
    "\n",
    "For more discussion of the choices here, see XXXXX. The next couple of cells calculate the background and subtract it, and then display the background-subtracted data."
   ]
  },
  {
   "cell_type": "code",
   "execution_count": null,
   "metadata": {},
   "outputs": [],
   "source": [
    "sigma_clip = SigmaClip(sigma=3., maxiters=5)\n",
    "bkg_estimator = MeanBackground()\n",
    "bkg = Background2D(ccd_image, box_size=200, filter_size=(9, 9), mask=ccd_image.mask,\n",
    "                   sigma_clip=sigma_clip, bkg_estimator=bkg_estimator)\n",
    "# Calculate the 2D background subtraction, maintaining metadata, unit, and mask\n",
    "ccd_2d_bkgdsub = ccd_image.subtract(bkg.background)"
   ]
  },
  {
   "cell_type": "code",
   "execution_count": null,
   "metadata": {},
   "outputs": [],
   "source": [
    "# Set up the figure with subplots\n",
    "fig, ax1 = plt.subplots(1, 1, figsize=(10, 10), sharey=True)\n",
    "plt.tight_layout()\n",
    "\n",
    "\n",
    "ax1.set_ylabel('Y (pixels)')\n",
    "ax1.set_xlabel('X (pixels)')\n",
    "\n",
    "# Plot the 2D-subtracted data\n",
    "norm_image_sub = ImageNormalize(ccd_2d_bkgdsub, interval=AsymmetricPercentileInterval(30, 99.5))\n",
    "\n",
    "fitsplot = ax1.imshow(np.ma.masked_where(ccd_2d_bkgdsub.mask, ccd_2d_bkgdsub), norm=norm_image_sub)\n",
    "ax1.set_title('2D Background-Subtracted Data')\n",
    "\n",
    "# Define the colorbar...\n",
    "cbar_ax = fig.add_axes([1, 0.09, 0.03, 0.87])\n",
    "\n",
    "cbar = fig.colorbar(fitsplot, cbar_ax)\n",
    "\n",
    "cbar.set_label(r'Counts ({})'.format(ccd_image.unit.to_string('latex')),\n",
    "               rotation=270, labelpad=30)"
   ]
  },
  {
   "cell_type": "markdown",
   "metadata": {},
   "source": [
    "Note how much more even the 2D background-subtracted image looks; especially the difference between these two images in the bottom left and top right corners. This makes sense, as the background that `Background2D` identified was a gradient from the bottom left corner to the top right corner."
   ]
  },
  {
   "cell_type": "markdown",
   "metadata": {},
   "source": [
    "## Source detection\n",
    "\n",
    "We will use the [`DAOStarFinder`](https://photutils.readthedocs.io/en/stable/api/photutils.detection.DAOStarFinder.html#photutils.detection.DAOStarFinder) to detect the sources in this image. The typical FWHM of the stars in the image is about 6.2 pixels. For the detection threshold, we will use 5 times the standard deviation of the sigma-clipped image.\n",
    "\n",
    "In addition, we'll mask out the area within 50 pixels of the edge of the image, where the stars are often elongated on this camera."
   ]
  },
  {
   "cell_type": "code",
   "execution_count": null,
   "metadata": {},
   "outputs": [],
   "source": [
    "mean, median, std = sigma_clipped_stats(ccd_2d_bkgdsub.data, sigma=3, maxiters=5)\n",
    "\n",
    "# Create a mask array\n",
    "mask = np.zeros_like(ccd_2d_bkgdsub, dtype=bool)\n",
    "\n",
    "# Set the mask for a border of 50 pixels around the image\n",
    "mask[:50, :] = mask[-50:, :] = mask[:, :50] = mask[:, -50:] = 1.0\n",
    "\n",
    "# Create the star finder\n",
    "fwhm = 6.2\n",
    "daofinder = DAOStarFinder(threshold=5 * std, fwhm=fwhm)"
   ]
  },
  {
   "cell_type": "code",
   "execution_count": null,
   "metadata": {},
   "outputs": [],
   "source": [
    "# Find the sources, excluding the masked region\n",
    "\n",
    "sources = daofinder(ccd_2d_bkgdsub.data, mask=mask)\n",
    "print(f\"Found {len(sources)} sources in the image\")"
   ]
  },
  {
   "cell_type": "markdown",
   "metadata": {},
   "source": [
    "### Source locations\n",
    "\n",
    "There were 266 sources found in the image. Their locations are shown below, overlaid on the image itself."
   ]
  },
  {
   "cell_type": "code",
   "execution_count": null,
   "metadata": {},
   "outputs": [],
   "source": [
    "positions = np.transpose((sources['xcentroid'], sources['ycentroid']))\n",
    "apertures = CircularAperture(positions, r=3 * fwhm)\n",
    "\n",
    "plt.figure(figsize=(10, 10))\n",
    "plt.imshow(np.ma.masked_where(ccd_2d_bkgdsub.mask, ccd_2d_bkgdsub), norm=norm_image_sub)\n",
    "apertures.plot(color=\"red\");"
   ]
  },
  {
   "cell_type": "markdown",
   "metadata": {},
   "source": [
    "This seems to have a reasonably good job finding stars in the image. Many of the fainter stars were not detected, though. you might at first be tempted to lower the threshold for detection. It turns out that that will report many more detections, but many of them will not actually be stars. A more effective approach is to increase the FWHM used by [`DAOStarFinder`](https://photutils.readthedocs.io/en/stable/api/photutils.detection.DAOStarFinder.html#photutils.detection.DAOStarFinder) instead, to something like 1.5 or 2 × the FWHM of the stars in the image.\n",
    "\n",
    "A comparison of these three approaches is below."
   ]
  },
  {
   "cell_type": "code",
   "execution_count": null,
   "metadata": {},
   "outputs": [],
   "source": [
    "daofinder_fainter = DAOStarFinder(threshold=4 * std, fwhm=fwhm)\n",
    "\n",
    "daofinder_bigger_fwhm = DAOStarFinder(threshold=5 * std, fwhm=2 * fwhm)\n",
    "\n",
    "sources_fainter = daofinder_fainter(ccd_2d_bkgdsub.data, mask=mask)\n",
    "sources_bigger_fwhm = daofinder_bigger_fwhm(ccd_2d_bkgdsub.data, mask=mask)\n"
   ]
  },
  {
   "cell_type": "code",
   "execution_count": null,
   "metadata": {},
   "outputs": [],
   "source": [
    "\n",
    "plt.figure(figsize=(10, 10))\n",
    "\n",
    "plt.imshow(np.ma.masked_where(ccd_2d_bkgdsub.mask, ccd_2d_bkgdsub), norm=norm_image_sub)\n",
    "\n",
    "def plot_with_label(apertures, label_text=\"\", **kwd):\n",
    "    apertures[0].plot(label=label_text, **kwd)\n",
    "    apertures[1:].plot(**kwd)\n",
    "    \n",
    "plot_with_label(apertures, color=\"red\", label_text=\"Original parameters\")\n",
    "\n",
    "positions_fainter = np.transpose((sources_fainter['xcentroid'], sources_fainter['ycentroid']))\n",
    "apertures_fainter = CircularAperture(positions_fainter, r=4 * fwhm)\n",
    "plot_with_label(apertures_fainter, label_text=\"Lower detection threshold\", color=\"cyan\")\n",
    "\n",
    "positions_bigger_fwhm = np.transpose((sources_bigger_fwhm['xcentroid'], sources_bigger_fwhm['ycentroid']))\n",
    "apertures_bigger_fwhm = CircularAperture(positions_bigger_fwhm, r=6 * fwhm)\n",
    "# plot_with_label(apertures_bigger_fwhm, label_text=\"Larger detection FWHM\", color=\"yellow\")\n",
    "\n",
    "plt.legend();\n"
   ]
  },
  {
   "cell_type": "code",
   "execution_count": null,
   "metadata": {},
   "outputs": [],
   "source": []
  }
 ],
 "metadata": {
  "kernelspec": {
   "display_name": "Python 3 (ipykernel)",
   "language": "python",
   "name": "python3"
  },
  "language_info": {
   "codemirror_mode": {
    "name": "ipython",
    "version": 3
   },
   "file_extension": ".py",
   "mimetype": "text/x-python",
   "name": "python",
   "nbconvert_exporter": "python",
   "pygments_lexer": "ipython3",
   "version": "3.11.3"
  }
 },
 "nbformat": 4,
 "nbformat_minor": 4
}

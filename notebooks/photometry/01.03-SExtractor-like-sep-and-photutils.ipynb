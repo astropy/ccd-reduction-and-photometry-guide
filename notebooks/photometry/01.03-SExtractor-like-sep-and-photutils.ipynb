{
 "cells": [
  {
   "cell_type": "markdown",
   "metadata": {},
   "source": [
    "# SExtractor-like: sep and photutils\n",
    "+ [sep: Python-wrapped innards of SExtractor](#sep:-Python-wrapped-innards-of-SExtractor)\n",
    "+ [photutils: image segmentation](#photutils:-image-segmentation)"
   ]
  },
  {
   "cell_type": "markdown",
   "metadata": {},
   "source": [
    "## sep: Python-wrapped innards of SExtractor"
   ]
  },
  {
   "cell_type": "markdown",
   "metadata": {},
   "source": [
    "## photutils: image segmentation"
   ]
  }
 ],
 "metadata": {},
 "nbformat": 4,
 "nbformat_minor": 2
}

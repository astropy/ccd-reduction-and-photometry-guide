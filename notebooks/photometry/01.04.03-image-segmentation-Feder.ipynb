{
 "cells": [
  {
   "cell_type": "markdown",
   "id": "96ae52db-95b9-4f7b-a68e-712789addc7f",
   "metadata": {},
   "source": [
    "# Application to a stellar image"
   ]
  },
  {
   "cell_type": "markdown",
   "id": "4a539fa2-f180-4b88-a620-da47c6af8270",
   "metadata": {},
   "source": [
    "## Data used in this notebook\n",
    "\n",
    "The image in this notebook is of the field of the star [TIC 125489084](https://exofop.ipac.caltech.edu/tess/target.php?id=125489084) on a night when the moon was nearly full. The moonlight caused a smooth gradient across the background of the image.\n",
    "\n",
    "As discussed in the section about [background subtraction with this image](01.01.03-Background-estimation-FEDER.ipynb), the best way to remove the background in this case is to use [`photutils`](https://photutils.readthedocs.io/en/stable/) to construct a 2D model of the background.  \n",
    "\n",
    "As we will see shortly, image segmentation doesn't significantly improve source detection in this case, since all of the sources are stars."
   ]
  },
  {
   "cell_type": "code",
   "execution_count": null,
   "id": "7e90842d-8f03-408e-8622-532d1fab18c7",
   "metadata": {},
   "outputs": [],
   "source": [
    "import warnings\n",
    "\n",
    "from astropy.convolution import convolve\n",
    "from astropy.nddata import CCDData\n",
    "from astropy.stats import sigma_clipped_stats, SigmaClip\n",
    "import astropy.units as u\n",
    "from astropy.visualization import ImageNormalize, LogStretch, AsymmetricPercentileInterval\n",
    "\n",
    "import matplotlib.pyplot as plt\n",
    "from matplotlib.ticker import LogLocator\n",
    "\n",
    "import numpy as np\n",
    "\n",
    "from photutils.aperture import EllipticalAperture\n",
    "from photutils.background import Background2D, MeanBackground\n",
    "from photutils.centroids import centroid_2dg\n",
    "from photutils.detection import find_peaks, DAOStarFinder, IRAFStarFinder\n",
    "from photutils.segmentation import detect_sources, make_2dgaussian_kernel, SourceCatalog\n",
    "\n",
    "# Show plots in the notebook\n",
    "%matplotlib inline"
   ]
  },
  {
   "cell_type": "markdown",
   "id": "b0e18811-4d0e-4799-9d58-7d100ce8fc3c",
   "metadata": {},
   "source": [
    "In the next cell, we read the data, mask out the edges and subtract the two dimensional background."
   ]
  },
  {
   "cell_type": "code",
   "execution_count": null,
   "id": "7fe76ad2-51c6-48fd-b91e-541a1ea9bd90",
   "metadata": {},
   "outputs": [],
   "source": [
    "ccd_image = CCDData.read('TIC_125489084.01-S001-R055-C001-ip.fit.bz2')\n",
    "\n",
    "# Create a mask array\n",
    "mask = np.zeros_like(ccd_image, dtype=bool)\n",
    "\n",
    "# Set the mask for a border of 50 pixels around the image\n",
    "mask[:50, :] = mask[-50:, :] = mask[:, :50] = mask[:, -50:] = 1.0\n",
    "\n",
    "ccd_image.mask = mask\n",
    "\n",
    "sigma_clip = SigmaClip(sigma=3., maxiters=5)\n",
    "bkg_estimator = MeanBackground()\n",
    "bkg = Background2D(ccd_image, box_size=200, filter_size=(9, 9), mask=ccd_image.mask,\n",
    "                   sigma_clip=sigma_clip, bkg_estimator=bkg_estimator)\n",
    "# Calculate the 2D background subtraction, maintaining metadata, unit, and mask\n",
    "ccd_2d_bkgdsub = ccd_image.subtract(bkg.background)\n",
    "\n",
    "data_subtracted = ccd_2d_bkgdsub.data"
   ]
  },
  {
   "cell_type": "code",
   "execution_count": null,
   "id": "82f387f7-66af-4be6-bd2f-4f54f87ba6ed",
   "metadata": {},
   "outputs": [],
   "source": [
    "mean, median, std = sigma_clipped_stats(data_subtracted.data, sigma=3.0, maxiters=5)"
   ]
  },
  {
   "cell_type": "code",
   "execution_count": null,
   "id": "2b4110f0-a867-42fb-8eac-885a4883c4d6",
   "metadata": {},
   "outputs": [],
   "source": [
    "plt.style.use('../photutils_notebook_style.mplstyle')"
   ]
  },
  {
   "cell_type": "markdown",
   "id": "21c15890-d5d2-4f5a-a1dd-7795e0f609a7",
   "metadata": {},
   "source": [
    "Next, we use image segmentation to find the sources."
   ]
  },
  {
   "cell_type": "code",
   "execution_count": null,
   "id": "a0a6d51c-d8b2-4ec4-9a69-343585009dfc",
   "metadata": {},
   "outputs": [],
   "source": [
    "# Define threshold and minimum object size\n",
    "threshold = 5. * std\n",
    "npixels = 10\n",
    "fwhm = 5\n",
    "kernel_size = 5\n",
    "kernel = make_2dgaussian_kernel(fwhm, size=kernel_size)\n",
    "convolved_data = convolve(data_subtracted.data, kernel, mask=ccd_2d_bkgdsub.mask)\n",
    "# Create a segmentation image\n",
    "segm = detect_sources(convolved_data, threshold, npixels, mask=ccd_2d_bkgdsub.mask)\n",
    "\n",
    "print('Found {} sources'.format(segm.max_label))"
   ]
  },
  {
   "cell_type": "markdown",
   "id": "bf95f3be-038e-412c-8324-039e1333d096",
   "metadata": {},
   "source": [
    "This is roughly half the number of sources detected by star finding."
   ]
  },
  {
   "cell_type": "code",
   "execution_count": null,
   "id": "c5e8d393-704b-4631-977f-4f644cbeccce",
   "metadata": {},
   "outputs": [],
   "source": [
    "# Set up the figure with subplots\n",
    "fig, [ax1, ax2] = plt.subplots(1, 2, figsize=(12, 6))\n",
    "plt.tight_layout()\n",
    "\n",
    "# Plot the data\n",
    "# Set up the normalization and colormap\n",
    "norm_image  = ImageNormalize(ccd_2d_bkgdsub, interval=AsymmetricPercentileInterval(30, 99.5))\n",
    "cmap = plt.get_cmap('viridis')\n",
    "cmap.set_bad('white') # Show masked data as white\n",
    "\n",
    "# Plot the original data\n",
    "fitsplot = ax1.imshow(np.ma.masked_where(ccd_2d_bkgdsub.mask, ccd_2d_bkgdsub),\n",
    "                      norm=norm_image, cmap=cmap)\n",
    "ax1.set_ylabel('Y (pixels)')\n",
    "ax1.set_title('Original Data')\n",
    "\n",
    "# Plot the segmentation image\n",
    "segplot = ax2.imshow(np.ma.masked_where(ccd_image.mask, segm), vmin=1, cmap=segm.cmap)\n",
    "ax2.set_xlabel('X (pixels)')\n",
    "ax2.set_title('Segmentation Map')\n",
    "\n",
    "# Define the colorbar\n",
    "# cbar_ax = fig.add_axes([1, 0.09, 0.03, 0.87])\n",
    "# cbar = plt.colorbar(segplot, cbar_ax)\n",
    "# cbar.set_label('Object Label', rotation=270, labelpad=30)"
   ]
  },
  {
   "cell_type": "markdown",
   "id": "360d72fc-fd47-4dd7-a575-97051be44405",
   "metadata": {},
   "source": [
    "As in the previous notebook, we construct a [SourceCatalog](https://photutils.readthedocs.io/en/stable/api/photutils.segmentation.SourceCatalog.html#photutils.segmentation.SourceCatalog) to obtain more information about the sources detected by segmentation."
   ]
  },
  {
   "cell_type": "code",
   "execution_count": null,
   "id": "31715b6e-7cc4-47d5-be5b-b49e08740a36",
   "metadata": {},
   "outputs": [],
   "source": [
    "catalog = SourceCatalog(ccd_2d_bkgdsub.data, segm)\n",
    "table = catalog.to_table()"
   ]
  },
  {
   "cell_type": "markdown",
   "id": "350de88c-eaa6-46d0-a964-d873d77cd297",
   "metadata": {},
   "source": [
    "We can use this information to create isophotal ellipses for each identified source. These ellipses can also later be used as photometric apertures."
   ]
  },
  {
   "cell_type": "code",
   "execution_count": null,
   "id": "71404fa0-1fd2-4f67-aa4a-4c408e0e7ddc",
   "metadata": {},
   "outputs": [],
   "source": [
    "# Define the approximate isophotal extent\n",
    "r = 8.  # pixels\n",
    "\n",
    "# Create the apertures\n",
    "apertures = []\n",
    "for obj in catalog:\n",
    "    position = (obj.xcentroid, obj.ycentroid)\n",
    "    a = obj.semimajor_sigma.value * r\n",
    "    b = obj.semiminor_sigma.value * r\n",
    "    theta = obj.orientation\n",
    "    apertures.append(EllipticalAperture(position, a, b, theta=theta))"
   ]
  },
  {
   "cell_type": "markdown",
   "id": "e9bb56ee-c640-4c69-976e-e6f2e3ef536c",
   "metadata": {},
   "source": [
    "### Sources detected by image segmentation\n",
    "\n",
    "All of the bright sources are detected by image segmentation."
   ]
  },
  {
   "cell_type": "code",
   "execution_count": null,
   "id": "8750e2c1-b13f-4b78-9026-59e9efe31122",
   "metadata": {},
   "outputs": [],
   "source": [
    "# Set up the figure with subplots\n",
    "fig, ax1 = plt.subplots(1, 1, figsize=(8, 8))\n",
    "\n",
    "# Plot the data\n",
    "fitsplot = ax1.imshow(np.ma.masked_where(ccd_2d_bkgdsub.mask, ccd_2d_bkgdsub),\n",
    "                      norm=norm_image, cmap=cmap)\n",
    "\n",
    "# Plot the apertures\n",
    "for aperture in apertures:\n",
    "    aperture.plot(color='red', lw=1, alpha=0.7, axes=ax1)\n",
    "\n",
    "# Define the colorbar\n",
    "cbar = plt.colorbar(fitsplot, fraction=0.046, pad=0.04, ticks=LogLocator())\n",
    "\n",
    "def format_colorbar(bar):\n",
    "    # Add minor tickmarks\n",
    "    bar.ax.yaxis.set_minor_locator(LogLocator(subs=range(1, 10)))\n",
    "\n",
    "    # Force the labels to be displayed as powers of ten and only at exact powers of ten\n",
    "    bar.ax.set_yticks([1e-4, 1e-3, 1e-2])\n",
    "    labels = [f'$10^{{{pow:.0f}}}$' for pow in np.log10(bar.ax.get_yticks())]\n",
    "    bar.ax.set_yticklabels(labels)\n",
    "\n",
    "format_colorbar(cbar)\n",
    "\n",
    "# Define labels\n",
    "cbar.set_label(r'Flux Count Rate ({})'.format(ccd_image.unit.to_string('latex')),\n",
    "               rotation=270, labelpad=30)\n",
    "ax1.set_xlabel('X (pixels)')\n",
    "ax1.set_ylabel('Y (pixels)')\n",
    "ax1.set_title('Segmentation Image Apertures');"
   ]
  },
  {
   "cell_type": "markdown",
   "id": "0809e5da-0489-4a4f-98cd-97f7900a3e87",
   "metadata": {},
   "source": [
    "## Comparison with other detection methods\n",
    "\n",
    "We rerun peak finding and star finding on this image so that we can compare the methods"
   ]
  },
  {
   "cell_type": "code",
   "execution_count": null,
   "id": "b1d61489-3595-46b9-aaaf-57f11ac2126d",
   "metadata": {},
   "outputs": [],
   "source": [
    "with warnings.catch_warnings(action=\"ignore\"):\n",
    "    sources_findpeaks = find_peaks(ccd_2d_bkgdsub.data - median, mask=ccd_2d_bkgdsub.mask,\n",
    "                                   threshold=threshold, box_size=29,\n",
    "                                   centroid_func=centroid_2dg)\n",
    "\n",
    "# Add an ID column to the find_peaks result\n",
    "sources_findpeaks[\"source_id\"] = np.arange(len(sources_findpeaks))"
   ]
  },
  {
   "cell_type": "code",
   "execution_count": null,
   "id": "19c62f54-3040-4ec8-9c12-f02d271e3ac4",
   "metadata": {},
   "outputs": [],
   "source": [
    "daofind = DAOStarFinder(fwhm=1.5 * fwhm, threshold=threshold)\n",
    "sources_dao = daofind(np.ma.masked_where(ccd_image.mask, ccd_image), mask=ccd_2d_bkgdsub.mask)"
   ]
  },
  {
   "cell_type": "code",
   "execution_count": null,
   "id": "f3551192-ea06-452e-a5ab-57c322e8c4fc",
   "metadata": {},
   "outputs": [],
   "source": [
    "# Set up the figure with subplots\n",
    "fig, ax1 = plt.subplots(1, 1, figsize=(8, 8))\n",
    "\n",
    "# Plot the data\n",
    "fitsplot = ax1.imshow(np.ma.masked_where(ccd_2d_bkgdsub.mask, ccd_2d_bkgdsub),\n",
    "                      norm=norm_image, cmap=cmap)\n",
    "\n",
    "# Plot the apertures\n",
    "apertures[0].plot(color='red', lw=2, alpha=1, axes=ax1, label=\"Image segmentation\")\n",
    "for aperture in apertures[1:]:\n",
    "    aperture.plot(color='red', lw=2, alpha=1, axes=ax1)\n",
    "\n",
    "# Add find_peaks sources\n",
    "ax1.scatter(sources_findpeaks[\"x_centroid\"], sources_findpeaks[\"y_centroid\"], \n",
    "            marker=\"x\", color=\"orange\", s=200, lw=2, alpha=0.7, label=\"find_peaks\")\n",
    "\n",
    "# Add find_peaks sources\n",
    "ax1.scatter(sources_dao[\"xcentroid\"], sources_dao[\"ycentroid\"], \n",
    "            marker=\"s\", facecolor=\"none\", edgecolor=\"cyan\", s=200, alpha=0.5, label=\"DAOFind\")\n",
    "\n",
    "top = 1125\n",
    "left = 2350\n",
    "cutout_size = 500\n",
    "\n",
    "# ax1.set_xlim(left, left + cutout_size)\n",
    "# ax1.set_ylim(top, top + cutout_size)\n",
    "\n",
    "ax1.legend(ncols=3, loc='lower center', bbox_to_anchor=(0.5, 1))\n",
    "\n",
    "ax1.set_title('Source detection method comparison', y=1.05);"
   ]
  },
  {
   "cell_type": "markdown",
   "id": "c0b2a1b2-57c0-49a5-8924-5372cd43613c",
   "metadata": {},
   "source": [
    "## Summary\n",
    "\n",
    "The image above nicely captures the differences between the source detection methods we have discussed. [`DAOStarFinder`](https://photutils.readthedocs.io/en/stable/api/photutils.detection.DAOStarFinder.html#photutils.detection.DAOStarFinder) does an excellent job detecting the star-like sources in the image. [`find_peaks`](https://photutils.readthedocs.io/en/stable/api/photutils.detection.find_peaks.html#photutils.detection.find_peaks) detects almost everything that [`DAOStarFinder`](https://photutils.readthedocs.io/en/stable/api/photutils.detection.DAOStarFinder.html#photutils.detection.DAOStarFinder) does but also has many false identifications. Image segmentation does an excellent job detecting sources though it misses some of the fainter sources found by [`DAOStarFinder`](https://photutils.readthedocs.io/en/stable/api/photutils.detection.DAOStarFinder.html#photutils.detection.DAOStarFinder). This could likely be fixed by adjusting the settings for image segmentation.\n",
    "\n",
    "The choice of source detection method in a case like may come down to whether you have additional constraints you want to impose. Recall that the [`IRAFStarFinder`](https://photutils.readthedocs.io/en/stable/api/photutils.detection.IRAFStarFinder.html#photutils.detection.IRAFStarFinder) allows to to provide a minimum separation of sources, for example. For performing aperture photometry that is useful since there is no way to separate sources with that technique."
   ]
  }
 ],
 "metadata": {
  "kernelspec": {
   "display_name": "Python 3 (ipykernel)",
   "language": "python",
   "name": "python3"
  },
  "language_info": {
   "codemirror_mode": {
    "name": "ipython",
    "version": 3
   },
   "file_extension": ".py",
   "mimetype": "text/x-python",
   "name": "python",
   "nbconvert_exporter": "python",
   "pygments_lexer": "ipython3",
   "version": "3.11.9"
  }
 },
 "nbformat": 4,
 "nbformat_minor": 5
}

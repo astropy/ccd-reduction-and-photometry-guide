{
 "cells": [
  {
   "cell_type": "markdown",
   "metadata": {},
   "source": [
    "# Detecting sources in the XDF"
   ]
  },
  {
   "cell_type": "markdown",
   "metadata": {
    "jp-MarkdownHeadingCollapsed": true
   },
   "source": [
    "## Data for this notebook \n",
    "\n",
    "We will be manipulating Hubble eXtreme Deep Field (XDF) data, which was collected using the Advanced Camera for Surveys (ACS) on Hubble between 2002 and 2012. The image we use here is the result of 1.8 million seconds (500 hours!) of exposure time, and includes some of the faintest and most distant galaxies that had ever been observed. \n",
    "\n",
    "*The methods demonstrated here are also available in narrative from within the [`photutils.detection` documentation](http://photutils.readthedocs.io/en/stable/detection.html).*\n",
    "\n",
    "*The original authors of this notebook were Lauren Chambers, Erik Tollerud and Tom Wilson.*\n"
   ]
  },
  {
   "cell_type": "markdown",
   "metadata": {},
   "source": [
    "## Import necessary packages"
   ]
  },
  {
   "cell_type": "markdown",
   "metadata": {},
   "source": [
    "First, let's import packages that we will use to perform arithmetic functions and visualize data:"
   ]
  },
  {
   "cell_type": "code",
   "execution_count": null,
   "metadata": {},
   "outputs": [],
   "source": [
    "from astropy.io import fits\n",
    "import astropy.units as u\n",
    "from astropy.nddata import CCDData\n",
    "from astropy.stats import sigma_clipped_stats, SigmaClip\n",
    "from astropy.visualization import ImageNormalize, LogStretch\n",
    "import matplotlib.pyplot as plt\n",
    "from matplotlib.ticker import LogLocator\n",
    "import numpy as np\n",
    "from photutils.background import Background2D, MeanBackground\n",
    "\n",
    "# Show plots in the notebook\n",
    "%matplotlib inline"
   ]
  },
  {
   "cell_type": "markdown",
   "metadata": {},
   "source": [
    "Let's also define some `matplotlib` parameters, such as title font size and the dpi, to make sure our plots look nice. To make it quick, we'll do this by loading a [style file shared with the other photutils tutorials](../photutils_notebook_style.mplstyle) into `pyplot`. We will use this style file for all the notebook tutorials. (See [here](https://matplotlib.org/users/customizing.html) to learn more about customizing `matplotlib`.)"
   ]
  },
  {
   "cell_type": "code",
   "execution_count": null,
   "metadata": {},
   "outputs": [],
   "source": [
    "plt.style.use('../photutils_notebook_style.mplstyle')"
   ]
  },
  {
   "cell_type": "markdown",
   "metadata": {},
   "source": [
    "## Data representation\n",
    "\n",
    "Throughout this notebook, we are going to store our images in Python using a `CCDData` object (see [Astropy documentation](http://docs.astropy.org/en/stable/nddata/index.html#ccddata-class-for-images)), which contains a `numpy` array in addition to metadata such as uncertainty, masks, or units. In this case, each image has units electrons (counts) per second.\n",
    "\n",
    "Note that you could create the `CCDData` object directly from the URL where this image is taken from:\n",
    "\n",
    "```python\n",
    "url = 'https://archive.stsci.edu/pub/hlsp/xdf hlsp_xdf_hst_acswfc-60mas_hudf_f435w_v1_sci.fits'\n",
    "xdf_image = CCDData.read(url)\n",
    "```\n",
    "\n",
    "Since the data for the guide is meant to be downloaded in bulk before going through the guide, we read the image from disk here.\n"
   ]
  },
  {
   "cell_type": "code",
   "execution_count": null,
   "metadata": {},
   "outputs": [],
   "source": [
    "xdf_image = CCDData.read('hlsp_xdf_hst_acswfc-60mas_hudf_f435w_v1_sci.fits')"
   ]
  },
  {
   "cell_type": "markdown",
   "metadata": {},
   "source": [
    "As explained in a [previous notebook](../01_background_estimation/01_background_estimation.ipynb) on background estimation, it is important to **mask** these data, as a large portion of the values are equal to zero. We will mask out the non-data portions of the image array, so all of those pixels that have a value of zero don't interfere with our statistics and analyses of the data. "
   ]
  },
  {
   "cell_type": "code",
   "execution_count": null,
   "metadata": {},
   "outputs": [],
   "source": [
    "# Define the mask\n",
    "mask = xdf_image.data == 0\n",
    "xdf_image.mask = mask"
   ]
  },
  {
   "cell_type": "markdown",
   "metadata": {},
   "source": [
    "Let's look at the data:"
   ]
  },
  {
   "cell_type": "code",
   "execution_count": null,
   "metadata": {},
   "outputs": [],
   "source": [
    "# Set up the figure with subplots\n",
    "fig, ax1 = plt.subplots(1, 1, figsize=(8, 8))\n",
    "\n",
    "# Set up the normalization and colormap\n",
    "norm_image = ImageNormalize(vmin=1e-4, vmax=5e-2, stretch=LogStretch(), clip=False)\n",
    "cmap = plt.get_cmap('viridis')\n",
    "cmap.set_bad('white') # Show masked data as white\n",
    "\n",
    "# Plot the data\n",
    "fitsplot = ax1.imshow(np.ma.masked_where(xdf_image.mask, xdf_image),\n",
    "                      norm=norm_image, cmap=cmap)\n",
    "\n",
    "# Define the colorbar\n",
    "cbar = plt.colorbar(fitsplot, fraction=0.046, pad=0.04, ticks=LogLocator())\n",
    "\n",
    "def format_colorbar(bar):\n",
    "    # Add minor tickmarks\n",
    "    bar.ax.yaxis.set_minor_locator(LogLocator(subs=range(1, 10)))\n",
    "\n",
    "    # Force the labels to be displayed as powers of ten and only at exact powers of ten\n",
    "    bar.ax.set_yticks([1e-4, 1e-3, 1e-2])\n",
    "    labels = [f'$10^{{{pow:.0f}}}$' for pow in np.log10(bar.ax.get_yticks())]\n",
    "    bar.ax.set_yticklabels(labels)\n",
    "\n",
    "format_colorbar(cbar)\n",
    "\n",
    "# Define labels\n",
    "cbar.set_label(r'Flux Count Rate ({})'.format(xdf_image.unit.to_string('latex')),\n",
    "               rotation=270, labelpad=30)\n",
    "ax1.grid()\n",
    "ax1.set_xlabel('X (pixels)')\n",
    "ax1.set_ylabel('Y (pixels)');"
   ]
  },
  {
   "cell_type": "markdown",
   "metadata": {},
   "source": [
    "*Tip: Double-click on any inline plot to zoom in.*"
   ]
  },
  {
   "cell_type": "markdown",
   "metadata": {},
   "source": [
    "With the `DAOStarFinder` [class](http://photutils.readthedocs.io/en/stable/api/photutils.DAOStarFinder.html), `photutils` provides users with an easy application of the popular [DAOFIND](http://stsdas.stsci.edu/cgi-bin/gethelp.cgi?daofind) algorithm ([Stetson 1987, PASP 99, 191](http://adsabs.harvard.edu/abs/1987PASP...99..191S)), originally developed at the Dominion Astrophysical Observatory. \n",
    "\n",
    "This algorithm detects sources by:\n",
    "* Searching for local maxima\n",
    "* Selecting only sources with peak amplitude above a defined threshold\n",
    "* Selecting sources with sizes and shapes that match a 2-D Gaussian kernel (circular or elliptical)\n",
    "\n",
    "It returns:\n",
    "* Location of the source centroid\n",
    "* Parameters reflecting the source's sharpness and roundness\n",
    "\n",
    "Generally, the threshold that source detection algorithms use is defined as a multiple of the standard deviation. So first, we need to calculate statistics for the data:"
   ]
  },
  {
   "cell_type": "code",
   "execution_count": null,
   "metadata": {},
   "outputs": [],
   "source": [
    "mean, median, std = sigma_clipped_stats(xdf_image.data, sigma=3.0, maxiters=5, mask=xdf_image.mask)"
   ]
  },
  {
   "cell_type": "markdown",
   "metadata": {},
   "source": [
    "Now, let's run the `DAOStarFinder` algorithm on our data and see what it finds. "
   ]
  },
  {
   "cell_type": "code",
   "execution_count": null,
   "metadata": {},
   "outputs": [],
   "source": [
    "from photutils import DAOStarFinder"
   ]
  },
  {
   "cell_type": "code",
   "execution_count": null,
   "metadata": {},
   "outputs": [],
   "source": [
    "daofind = DAOStarFinder(fwhm=5.0, threshold=20. * std)\n",
    "sources_dao = daofind(np.ma.masked_where(xdf_image.mask, xdf_image))\n",
    "print(sources_dao)"
   ]
  },
  {
   "cell_type": "code",
   "execution_count": null,
   "metadata": {},
   "outputs": [],
   "source": [
    "# Set up the figure with subplots\n",
    "fig, ax1 = plt.subplots(1, 1, figsize=(8, 8))\n",
    "\n",
    "# Plot the data\n",
    "fitsplot = ax1.imshow(np.ma.masked_where(xdf_image.mask, xdf_image),\n",
    "                      norm=norm_image, cmap=cmap)\n",
    "ax1.scatter(sources_dao['xcentroid'], sources_dao['ycentroid'], s=30, marker='o',\n",
    "            lw=1, alpha=0.7, facecolor='None', edgecolor='r')\n",
    "\n",
    "# Define the colorbar and fix the labels\n",
    "cbar = plt.colorbar(fitsplot, fraction=0.046, pad=0.04, ticks=LogLocator(subs=range(10)))\n",
    "labels = ['$10^{-4}$'] + [''] * 8 + ['$10^{-3}$'] + [''] * 8 + ['$10^{-2}$']\n",
    "cbar.ax.set_yticklabels(labels)\n",
    "\n",
    "# Define labels\n",
    "cbar.set_label(r'Flux Count Rate ({})'.format(xdf_image.unit.to_string('latex')),\n",
    "               rotation=270, labelpad=30)\n",
    "ax1.set_xlabel('X (pixels)')\n",
    "ax1.set_ylabel('Y (pixels)')\n",
    "ax1.set_title('DAOFind Sources')"
   ]
  },
  {
   "cell_type": "markdown",
   "metadata": {},
   "source": [
    "Let's randomly pull out some of these sources to get a closer look at them."
   ]
  },
  {
   "cell_type": "code",
   "execution_count": null,
   "metadata": {},
   "outputs": [],
   "source": [
    "fig, axs = plt.subplots(3,3, figsize=(3, 3))\n",
    "plt.subplots_adjust(wspace=0.1, hspace=0.1)\n",
    "\n",
    "cutout_size = 20\n",
    "\n",
    "srcs = np.random.permutation(sources_dao)[:axs.size]\n",
    "for ax, src in zip(axs.ravel(), srcs):\n",
    "    slc = (slice(int(src['ycentroid'] - cutout_size), int(src['ycentroid'] + cutout_size)),\n",
    "           slice(int(src['xcentroid'] - cutout_size), int(src['xcentroid'] + cutout_size)))\n",
    "    ax.imshow(xdf_image[slc], norm=norm_image)\n",
    "    ax.text(2, 2, str(src['id']), color='w', va='top')\n",
    "    ax.set_xticks([])\n",
    "    ax.set_yticks([])"
   ]
  },
  {
   "cell_type": "markdown",
   "metadata": {},
   "source": [
    "https://matplotlib.org/stable/gallery/subplots_axes_and_figures/zoom_inset_axes.html#sphx-glr-gallery-subplots-axes-and-figures-zoom-inset-axes-py"
   ]
  },
  {
   "cell_type": "code",
   "execution_count": null,
   "metadata": {},
   "outputs": [],
   "source": [
    "fig, ax = plt.subplots(figsize=(8, 8))\n",
    "top = 1125\n",
    "left = 2350\n",
    "size = 500\n",
    "\n",
    "ax.imshow(xdf_image, cmap=cmap, norm=norm_image, alpha=0.5)\n",
    "ax.scatter(sources_dao['xcentroid'], sources_dao['ycentroid'], s=30, marker='o',\n",
    "           lw=1, alpha=0.5, facecolor='None', edgecolor='r')\n",
    "\n",
    "ax2 = ax.inset_axes([top, left, 5 * size, 5 * size], transform=ax.transData)\n",
    "ax.indicate_inset_zoom(ax2)\n",
    "snippet = xdf_image[top:top + size, left:left + size]\n",
    "ax2.imshow(snippet, cmap=cmap, norm=norm_image)\n",
    "\n",
    "in_region = (\n",
    "    (left < sources_dao['xcentroid']) &\n",
    "    (sources_dao['xcentroid'] < (left + size)) & \n",
    "    (top < sources_dao['ycentroid']) &\n",
    "    (sources_dao['ycentroid'] < (top + size))\n",
    ")\n",
    "sources_dao_to_plot = sources_dao[in_region]\n",
    "plt.scatter(sources_dao_to_plot['xcentroid'] - left, sources_dao_to_plot['ycentroid'] - top, s=30, marker='o',\n",
    "            lw=1, alpha=0.7, facecolor='None', edgecolor='r')\n",
    "ax1.set_xlabel('X (pixels)')\n",
    "ax1.set_ylabel('Y (pixels)')\n",
    "ax1.set_title('DAOFind Sources')"
   ]
  },
  {
   "cell_type": "markdown",
   "metadata": {},
   "source": [
    "## Source Detection with `IRAFStarFinder`"
   ]
  },
  {
   "cell_type": "markdown",
   "metadata": {},
   "source": [
    "Similarly to `DAOStarFinder`, `IRAFStarFinder` is a class that implements a pre-existing algorithm that is widely used within the astronomical community. This class uses the `starfind` [algorithm](http://stsdas.stsci.edu/cgi-bin/gethelp.cgi?starfind)  that was originally part of IRAF.\n",
    "\n",
    "`IRAFStarFinder` is fundamentally similar to `DAOStarFinder` in that it detects sources by finding local maxima above a certain threshold that match a Gaussian kernel. However, `IRAFStarFinder` differs in the following ways:\n",
    "* Does not allow users to specify an elliptical Gaussian kernel\n",
    "* Uses image moments to calculate the centroids, roundness, and sharpness of objects\n",
    "\n",
    "Let's run the `IRAFStarFinder` algorithm on our data, with the same FWHM and threshold, and see how its results differ from `DAOStarFinder`:"
   ]
  },
  {
   "cell_type": "code",
   "execution_count": null,
   "metadata": {},
   "outputs": [],
   "source": [
    "from photutils import IRAFStarFinder"
   ]
  },
  {
   "cell_type": "code",
   "execution_count": null,
   "metadata": {},
   "outputs": [],
   "source": [
    "iraffind = IRAFStarFinder(fwhm=5.0, threshold=20. * std)\n",
    "sources_iraf = iraffind(np.ma.masked_where(xdf_image.mask, xdf_image))\n",
    "print(sources_iraf)"
   ]
  },
  {
   "cell_type": "code",
   "execution_count": null,
   "metadata": {},
   "outputs": [],
   "source": [
    "# Set up the figure with subplots\n",
    "fig, ax1 = plt.subplots(1, 1, figsize=(8, 8))\n",
    "\n",
    "# Plot the data\n",
    "fitsplot = ax1.imshow(np.ma.masked_where(xdf_image.mask, xdf_image_clipped),\n",
    "                      norm=norm_image, cmap=cmap)\n",
    "ax1.scatter(sources_iraf['xcentroid'], sources_iraf['ycentroid'], s=30, marker='o',\n",
    "            lw=1, alpha=0.7, facecolor='None', edgecolor='r')\n",
    "\n",
    "# Define the colorbar and fix the labels\n",
    "cbar = plt.colorbar(fitsplot, fraction=0.046, pad=0.04, ticks=LogLocator(subs=range(10)))\n",
    "labels = ['$10^{-4}$'] + [''] * 8 + ['$10^{-3}$'] + [''] * 8 + ['$10^{-2}$']\n",
    "cbar.ax.set_yticklabels(labels)\n",
    "\n",
    "# Define labels\n",
    "cbar.set_label(r'Flux Count Rate ({})'.format(xdf_image.unit.to_string('latex')),\n",
    "               rotation=270, labelpad=30)\n",
    "ax1.set_xlabel('X (pixels)')\n",
    "ax1.set_ylabel('Y (pixels)')\n",
    "ax1.set_title('IRAFFind Sources')"
   ]
  },
  {
   "cell_type": "markdown",
   "metadata": {},
   "source": [
    "Again, let's randomly select some sources for a closer look:"
   ]
  },
  {
   "cell_type": "code",
   "execution_count": null,
   "metadata": {},
   "outputs": [],
   "source": [
    "fig, axs = plt.subplots(3,3, figsize=(3, 3))\n",
    "plt.subplots_adjust(wspace=0.1, hspace=0.1)\n",
    "\n",
    "cutout_size = 20\n",
    "\n",
    "srcs = np.random.permutation(sources_iraf)[:axs.size]\n",
    "for ax, src in zip(axs.ravel(), srcs):\n",
    "    slc = (slice(int(src['ycentroid'] - cutout_size), int(src['ycentroid'] + cutout_size)),\n",
    "           slice(int(src['xcentroid'] - cutout_size), int(src['xcentroid'] + cutout_size)))\n",
    "    ax.imshow(xdf_image_clipped[slc], norm=norm_image)\n",
    "    ax.text(2, 2, str(src['id']), color='w', va='top')\n",
    "    ax.set_xticks([])\n",
    "    ax.set_yticks([])"
   ]
  },
  {
   "cell_type": "markdown",
   "metadata": {},
   "source": [
    "## Note: Comparing `DAOStarFinder` and `IRAFStarFinder`"
   ]
  },
  {
   "cell_type": "markdown",
   "metadata": {},
   "source": [
    "You might have noticed that the `IRAFStarFinder` algorithm only found 211 sources in our data &ndash; 14% of what `DAOStarFinder` found. Why is this?\n",
    "\n",
    "The answer comes down to the default settings for the two algorithms: (1) there are differences in the upper and lower bounds on the requirements for source roundness and sharpness, and (2) `IRAFStarFinder` includes a minimum separation between sources that `DAOStarFinder` does not have:\n",
    "\n",
    "|  &nbsp;        | `IRAFStarFinder`   | `DAOStarFinder`   |\n",
    "|----------------|-------|------|\n",
    "|   sharplo      |   0.5 |  0.2  |\n",
    "|   sharphi      |  2.0  | 1.0   |\n",
    "|   roundlo      |  0.0  |  -1.0  |\n",
    "|   roundhi      | 0.2   |   1.0 |\n",
    "|   minsep_fwhm  | 1.5 * FWHM   |   N/A |\n",
    "\n",
    "Thinking about this, *it then makes sense* that `IRAFStarFinder` would find fewer sources. It has tighter restrictions on source roundness and ``sharplo``, meaning that it eliminates  more elliptical galactic sources (this is the eXtreme Deep Field, after all!), and the minimum separation requirement further rules out sources that are too close to one another.\n",
    "\n",
    "If we set all these parameters to be equivalent, though, we should find much better agreement between the two methods:"
   ]
  },
  {
   "cell_type": "code",
   "execution_count": null,
   "metadata": {},
   "outputs": [],
   "source": [
    "iraffind_match = IRAFStarFinder(fwhm=5.0, threshold=20. * std,\n",
    "                                sharplo=0.2, sharphi=1.0,\n",
    "                                roundlo=-1.0, roundhi=1.0,\n",
    "                                minsep_fwhm=0.0)\n",
    "sources_iraf_match = iraffind_match(np.ma.masked_where(xdf_image.mask, xdf_image))\n",
    "print(sources_iraf_match)"
   ]
  },
  {
   "cell_type": "markdown",
   "metadata": {},
   "source": [
    "The number of detected sources are in much better agreement now &ndash; 1415 versus 1470 &ndash; but the improved agreement can also be seen by plotting the location of these sources:"
   ]
  },
  {
   "cell_type": "code",
   "execution_count": null,
   "metadata": {},
   "outputs": [],
   "source": [
    "# Set up the figure with subplots\n",
    "fig, [ax1, ax2] = plt.subplots(1, 2, figsize=(12, 6))\n",
    "plt.tight_layout()\n",
    "\n",
    "# Plot the DAOStarFinder data\n",
    "fitsplot = ax1.imshow(np.ma.masked_where(xdf_image.mask, xdf_image_clipped),\n",
    "                      norm=norm_image, cmap=cmap)\n",
    "ax1.scatter(sources_dao['xcentroid'], sources_dao['ycentroid'], s=30, marker='o',\n",
    "            lw=1, alpha=0.7, facecolor='None', edgecolor='r')\n",
    "ax1.set_xlabel('X (pixels)')\n",
    "ax1.set_ylabel('Y (pixels)')\n",
    "ax1.set_title('DAOStarFinder Sources')\n",
    "\n",
    "# Plot the IRAFStarFinder data\n",
    "fitsplot = ax2.imshow(np.ma.masked_where(xdf_image.mask, xdf_image_clipped),\n",
    "                      norm=norm_image, cmap=cmap)\n",
    "ax2.scatter(sources_iraf_match['xcentroid'], sources_iraf_match['ycentroid'],\n",
    "            s=30, marker='o', lw=1, alpha=0.7, facecolor='None', edgecolor='r')\n",
    "ax2.set_xlabel('X (pixels)')\n",
    "ax2.set_title('IRAFStarFinder Sources')\n",
    "\n",
    "# Define the colorbar\n",
    "cbar_ax = fig.add_axes([1, 0.09, 0.03, 0.87])\n",
    "cbar = plt.colorbar(fitsplot, cbar_ax, ticks=LogLocator(subs=range(10)))\n",
    "labels = ['$10^{-4}$'] + [''] * 8 + ['$10^{-3}$'] + [''] * 8 + ['$10^{-2}$']\n",
    "cbar.ax.set_yticklabels(labels)\n",
    "cbar.set_label(r'Flux Count Rate ({})'.format(xdf_image.unit.to_string('latex')),\n",
    "               rotation=270, labelpad=30)"
   ]
  },
  {
   "cell_type": "markdown",
   "metadata": {},
   "source": [
    "Take this example as reminder to be mindful when selecting a source detection algorithm, and when defining algorithm parameters! Don't be afraid to play around with the parameters and investigate how that affects your results."
   ]
  },
  {
   "cell_type": "markdown",
   "metadata": {},
   "source": [
    "## ADD COMPARISON PLOT BACK INTO THIS"
   ]
  }
 ],
 "metadata": {
  "kernelspec": {
   "display_name": "Python 3 (ipykernel)",
   "language": "python",
   "name": "python3"
  },
  "language_info": {
   "codemirror_mode": {
    "name": "ipython",
    "version": 3
   },
   "file_extension": ".py",
   "mimetype": "text/x-python",
   "name": "python",
   "nbconvert_exporter": "python",
   "pygments_lexer": "ipython3",
   "version": "3.11.3"
  }
 },
 "nbformat": 4,
 "nbformat_minor": 4
}

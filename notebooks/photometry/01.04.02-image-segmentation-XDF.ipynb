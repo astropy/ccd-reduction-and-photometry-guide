{
 "cells": [
  {
   "cell_type": "code",
   "execution_count": null,
   "id": "ae3f0157-65cf-494b-a2fb-557a361e6ca8",
   "metadata": {},
   "outputs": [],
   "source": []
  },
  {
   "cell_type": "markdown",
   "id": "21c15890-d5d2-4f5a-a1dd-7795e0f609a7",
   "metadata": {
    "jp-MarkdownHeadingCollapsed": true
   },
   "source": [
    "Beyond traditional source detection methods, an additional option for identifying sources in image data is a process called **image segmentation**. This method identifies and labels contiguous (connected) objects within an image. \n",
    "\n",
    "You might have noticed that, in the previous source detection algorithms, large and extended sources are often incorrectly identified as more than one source. Segmentation would label all the pixels within a large galaxy as belonging to the same object, and would allow the user to then measure the photometry, centroid, and morphology of the entire object at once.\n",
    "\n",
    "#### Creating a `SegmentationImage`\n",
    "\n",
    "In `photutils`, image segmentation maps are created using the threshold method in the `detect_sources()` function. This method identifies all of the objects in the data that have signals above a determined **`threshold`** (usually defined as a multiple of the standard deviation) and that have more than a defined number of adjoining pixels, **`npixels`**. The data can also optionally be smoothed using a kernel, **`filter_kernel`**, before applying the threshold cut.\n",
    "\n",
    "The `detect_sources()` function returns a `SegmentationImage` object: an array in which each object is labeled with an integer. As a simple example, a segmentation map containing two distinct sources might look like this:\n",
    "\n",
    "```\n",
    "0 0 0 0 0 0 0 0 0 0\n",
    "0 1 1 0 0 0 0 0 0 0\n",
    "1 1 1 1 1 0 0 0 2 0\n",
    "1 1 1 1 0 0 0 2 2 2\n",
    "1 1 1 0 0 0 2 2 2 2\n",
    "1 1 1 1 0 0 0 2 2 0\n",
    "1 1 0 0 0 0 2 2 0 0\n",
    "0 1 0 0 0 0 2 0 0 0\n",
    "0 0 0 0 0 0 0 0 0 0\n",
    "```\n",
    "where all of the pixels labeled `1` belong to the first source, all those labeled `2` belong to the second, and all null pixels are designated to be background.\n",
    "\n",
    "Let's see what the segmentation map for our XDF data will look like."
   ]
  },
  {
   "cell_type": "code",
   "execution_count": null,
   "id": "fdc588d5-f41b-4576-8585-c917940472e4",
   "metadata": {},
   "outputs": [],
   "source": [
    "from photutils import detect_sources\n",
    "from photutils.utils import make_random_cmap"
   ]
  },
  {
   "cell_type": "code",
   "execution_count": null,
   "id": "a0a6d51c-d8b2-4ec4-9a69-343585009dfc",
   "metadata": {},
   "outputs": [],
   "source": [
    "# Define threshold and minimum object size\n",
    "threshold = 5. * std\n",
    "npixels = 15\n",
    "\n",
    "# Create a segmentation image\n",
    "segm = detect_sources(xdf_image.data, threshold, npixels)\n",
    "\n",
    "print('Found {} sources'.format(segm.max_label))"
   ]
  },
  {
   "cell_type": "code",
   "execution_count": null,
   "id": "c5e8d393-704b-4631-977f-4f644cbeccce",
   "metadata": {},
   "outputs": [],
   "source": [
    "# Set up the figure with subplots\n",
    "fig, [ax1, ax2] = plt.subplots(1, 2, figsize=(12, 6))\n",
    "plt.tight_layout()\n",
    "\n",
    "# Plot the original data\n",
    "fitsplot = ax1.imshow(np.ma.masked_where(xdf_image.mask, xdf_image_clipped),\n",
    "                      norm=norm_image, cmap=cmap)\n",
    "ax1.set_ylabel('Y (pixels)')\n",
    "ax1.set_title('Original Data')\n",
    "\n",
    "# Plot the segmentation image\n",
    "rand_cmap = make_random_cmap(seed=12345)\n",
    "rand_cmap.set_under('black')\n",
    "segplot = ax2.imshow(np.ma.masked_where(xdf_image.mask, segm), vmin=1, cmap=rand_cmap)\n",
    "ax2.set_xlabel('X (pixels)')\n",
    "ax2.set_title('Segmentation Map')\n",
    "\n",
    "# Define the colorbar\n",
    "cbar_ax = fig.add_axes([1, 0.09, 0.03, 0.87])\n",
    "cbar = plt.colorbar(segplot, cbar_ax)\n",
    "cbar.set_label('Object Label', rotation=270, labelpad=30)"
   ]
  },
  {
   "cell_type": "markdown",
   "id": "418b2cdb-d160-4c18-b57d-3c4272ce7610",
   "metadata": {},
   "source": [
    "Compare the sources in original data to those in the segmentation image. Each color in the segmentation map denotes a separate source.\n",
    "\n",
    "You can easily see that larger galaxies are shown in the segmentation map as contiguous objects of the same color - for example, the two yellow and pink galaxies near (1200, 2500). Each pixel containing light from the same galaxy has been labeled as belonging to the same object."
   ]
  },
  {
   "cell_type": "markdown",
   "id": "e9bb56ee-c640-4c69-976e-e6f2e3ef536c",
   "metadata": {},
   "source": [
    "For a closer look, let's see what the sources we found with `find_peaks` look like in this segmentation map:"
   ]
  },
  {
   "cell_type": "code",
   "execution_count": null,
   "id": "fd673ddd-bcf4-4e49-8281-a0bbc75ca080",
   "metadata": {},
   "outputs": [],
   "source": [
    "fig, axs = plt.subplots(3,3, figsize=(3, 3))\n",
    "plt.subplots_adjust(wspace=0.1, hspace=0.1)\n",
    "\n",
    "cutout_size = 20\n",
    "\n",
    "srcs = np.random.permutation(sources_findpeaks)[:axs.size]\n",
    "for ax, src in zip(axs.ravel(), srcs):\n",
    "    slc = (slice(int(src['y_peak'] - cutout_size), int(src['y_peak'] + cutout_size)),\n",
    "           slice(int(src['x_peak'] - cutout_size), int(src['x_peak'] + cutout_size)))\n",
    "    ax.imshow(segm.data[slc], cmap=rand_cmap, vmin=1, vmax=len(sources_findpeaks))\n",
    "    src_id = np.where((sources_findpeaks['x_peak'] == src['x_peak']) &\n",
    "                      (sources_findpeaks['y_peak'] == src['y_peak']))[0][0]\n",
    "    ax.text(2, 2, str(src_id), color='w', va='top')\n",
    "    ax.set_xticks([])\n",
    "    ax.set_yticks([])"
   ]
  },
  {
   "cell_type": "markdown",
   "id": "40fd8f04-d36e-4d43-b157-60c7b2ee6a3c",
   "metadata": {},
   "source": [
    "<div class=\"alert alert-block alert-info\">\n",
    "\n",
    "<h3>Exercises:</h3><br>\n",
    "\n",
    "Recompute the <code>SegmentationImage</code>, but alter the threshold and the minimum number of pixels in a source. How does changing the threshold affect the results? What about changing the number of pixels?\n",
    "\n",
    "</div>"
   ]
  },
  {
   "cell_type": "markdown",
   "id": "3e15e7d8-3aa9-4b75-ab03-88d3d6461eb5",
   "metadata": {},
   "source": [
    "#### Analyzing `source_properties`\n",
    "\n",
    "Once we have a `SegmentationImage` object, `photutils` provides many powerful tools to manipulate and analyze the identified objects. \n",
    "\n",
    "Individual objects within the segmentation map can be altered using methods such as `relabel` to change the labels of objects, `remove_labels` to remove objects, or `deblend_sources` to separating overlapping sources that were incorrectly labeled as one source.\n",
    "\n",
    "However, perhaps the most powerful aspect of the `SegmentationImage` is the ability to create a catalog using `source_properties` to measure the centroids, photometry, and morphology of the detected objects:"
   ]
  },
  {
   "cell_type": "code",
   "execution_count": null,
   "id": "6c3b45a9-9bf5-41d1-809b-de6efd8088ae",
   "metadata": {},
   "outputs": [],
   "source": [
    "from photutils import source_properties"
   ]
  },
  {
   "cell_type": "code",
   "execution_count": null,
   "id": "31715b6e-7cc4-47d5-be5b-b49e08740a36",
   "metadata": {},
   "outputs": [],
   "source": [
    "catalog = source_properties(xdf_image.data, segm)\n",
    "table = catalog.to_table()\n",
    "print(table)\n",
    "print(table.colnames)"
   ]
  },
  {
   "cell_type": "markdown",
   "id": "350de88c-eaa6-46d0-a964-d873d77cd297",
   "metadata": {},
   "source": [
    "#### Creating apertures from segmentation data\n",
    "\n",
    "We can use this information to create isophotal ellipses for each identified source. These ellipses can also later be used as photometric apertures!"
   ]
  },
  {
   "cell_type": "code",
   "execution_count": null,
   "id": "896f10cb-ebc6-417b-b412-65c726c7c0af",
   "metadata": {},
   "outputs": [],
   "source": [
    "from photutils import EllipticalAperture"
   ]
  },
  {
   "cell_type": "code",
   "execution_count": null,
   "id": "71404fa0-1fd2-4f67-aa4a-4c408e0e7ddc",
   "metadata": {},
   "outputs": [],
   "source": [
    "# Define the approximate isophotal extent\n",
    "r = 4.  # pixels\n",
    "\n",
    "# Create the apertures\n",
    "apertures = []\n",
    "for obj in catalog:\n",
    "    position = (obj.xcentroid.value, obj.ycentroid.value)\n",
    "    a = obj.semimajor_axis_sigma.value * r\n",
    "    b = obj.semiminor_axis_sigma.value * r\n",
    "    theta = obj.orientation.value\n",
    "    apertures.append(EllipticalAperture(position, a, b, theta=theta))"
   ]
  },
  {
   "cell_type": "code",
   "execution_count": null,
   "id": "8750e2c1-b13f-4b78-9026-59e9efe31122",
   "metadata": {},
   "outputs": [],
   "source": [
    "# Set up the figure with subplots\n",
    "fig, ax1 = plt.subplots(1, 1, figsize=(8, 8))\n",
    "\n",
    "# Plot the data\n",
    "fitsplot = ax1.imshow(np.ma.masked_where(xdf_image.mask, xdf_image_clipped),\n",
    "                      norm=norm_image, cmap=cmap)\n",
    "\n",
    "# Plot the apertures\n",
    "for aperture in apertures:\n",
    "    aperture.plot(color='red', lw=1, alpha=0.7, axes=ax1)\n",
    "\n",
    "# Define the colorbar\n",
    "cbar = plt.colorbar(fitsplot, fraction=0.046, pad=0.04, ticks=LogLocator(subs=range(10)))\n",
    "labels = ['$10^{-4}$'] + [''] * 8 + ['$10^{-3}$'] + [''] * 8 + ['$10^{-2}$']\n",
    "cbar.ax.set_yticklabels(labels)\n",
    "\n",
    "# Define labels\n",
    "cbar.set_label(r'Flux Count Rate ({})'.format(xdf_image.unit.to_string('latex')),\n",
    "               rotation=270, labelpad=30)\n",
    "ax1.set_xlabel('X (pixels)')\n",
    "ax1.set_ylabel('Y (pixels)')\n",
    "ax1.set_title('Segmentation Image Apertures')"
   ]
  }
 ],
 "metadata": {
  "kernelspec": {
   "display_name": "Python 3 (ipykernel)",
   "language": "python",
   "name": "python3"
  },
  "language_info": {
   "codemirror_mode": {
    "name": "ipython",
    "version": 3
   },
   "file_extension": ".py",
   "mimetype": "text/x-python",
   "name": "python",
   "nbconvert_exporter": "python",
   "pygments_lexer": "ipython3",
   "version": "3.11.3"
  }
 },
 "nbformat": 4,
 "nbformat_minor": 5
}

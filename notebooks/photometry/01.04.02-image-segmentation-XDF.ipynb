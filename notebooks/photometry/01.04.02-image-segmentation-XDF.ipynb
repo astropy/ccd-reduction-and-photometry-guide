{
 "cells": [
  {
   "cell_type": "markdown",
   "id": "4a539fa2-f180-4b88-a620-da47c6af8270",
   "metadata": {},
   "source": [
    "## Data for this notebook \n",
    "\n",
    "We will be manipulating Hubble eXtreme Deep Field (XDF) data, which was collected using the Advanced Camera for Surveys (ACS) on Hubble between 2002 and 2012. The image we use here is the result of 1.8 million seconds (500 hours!) of exposure time, and includes some of the faintest and most distant galaxies that had ever been observed. \n",
    "\n",
    "*The methods demonstrated here are also available in the [`photutils.detection` documentation](http://photutils.readthedocs.io/en/stable/detection.html).*\n",
    "\n",
    "*The original authors of this notebook were Lauren Chambers, Erik Tollerud and Tom Wilson.*\n"
   ]
  },
  {
   "cell_type": "code",
   "execution_count": null,
   "id": "7e90842d-8f03-408e-8622-532d1fab18c7",
   "metadata": {},
   "outputs": [],
   "source": [
    "import warnings\n",
    "\n",
    "from astropy.convolution import convolve\n",
    "from astropy.nddata import CCDData\n",
    "from astropy.stats import sigma_clipped_stats, SigmaClip\n",
    "import astropy.units as u\n",
    "from astropy.visualization import ImageNormalize, LogStretch\n",
    "\n",
    "import matplotlib.pyplot as plt\n",
    "from matplotlib.ticker import LogLocator\n",
    "\n",
    "import numpy as np\n",
    "\n",
    "from photutils.aperture import EllipticalAperture\n",
    "from photutils.background import Background2D, MeanBackground\n",
    "from photutils.centroids import centroid_2dg\n",
    "from photutils.detection import find_peaks, DAOStarFinder, IRAFStarFinder\n",
    "from photutils.segmentation import detect_sources, make_2dgaussian_kernel, SourceCatalog\n",
    "from photutils.utils import make_random_cmap\n",
    "\n",
    "# Show plots in the notebook\n",
    "%matplotlib inline"
   ]
  },
  {
   "cell_type": "code",
   "execution_count": null,
   "id": "7fe76ad2-51c6-48fd-b91e-541a1ea9bd90",
   "metadata": {},
   "outputs": [],
   "source": [
    "xdf_image = CCDData.read('hlsp_xdf_hst_acswfc-60mas_hudf_f435w_v1_sci.fits')\n",
    "# Define the mask\n",
    "mask = xdf_image.data == 0\n",
    "xdf_image.mask = mask"
   ]
  },
  {
   "cell_type": "code",
   "execution_count": null,
   "id": "82f387f7-66af-4be6-bd2f-4f54f87ba6ed",
   "metadata": {},
   "outputs": [],
   "source": [
    "mean, median, std = sigma_clipped_stats(xdf_image.data, sigma=3.0, maxiters=5, mask=xdf_image.mask)"
   ]
  },
  {
   "cell_type": "code",
   "execution_count": null,
   "id": "2b4110f0-a867-42fb-8eac-885a4883c4d6",
   "metadata": {},
   "outputs": [],
   "source": [
    "plt.style.use('../photutils_notebook_style.mplstyle')"
   ]
  },
  {
   "cell_type": "markdown",
   "id": "21c15890-d5d2-4f5a-a1dd-7795e0f609a7",
   "metadata": {},
   "source": [
    "Beyond traditional source detection methods, an additional option for identifying sources in image data is a process called **image segmentation**. This method identifies and labels contiguous (connected) objects within an image. \n",
    "\n",
    "You might have noticed that, in the previous source detection algorithms, large and extended sources are often incorrectly identified as more than one source. Segmentation would label all the pixels within a large galaxy as belonging to the same object, and would allow the user to then measure the photometry, centroid, and morphology of the entire object at once.\n",
    "\n",
    "## Creating a `SegmentationImage`\n",
    "\n",
    "In `photutils`, image segmentation maps are created using the threshold method in the `detect_sources()` function. This method identifies all of the objects in the data that have signals above a determined **`threshold`** (usually defined as a multiple of the standard deviation) and that have more than a defined number of adjoining pixels, **`npixels`**. The data can also optionally be smoothed using a kernel, **`filter_kernel`**, before applying the threshold cut.\n",
    "\n",
    "The `detect_sources()` function returns a `SegmentationImage` object: an array in which each object is labeled with an integer. As a simple example, a segmentation map containing two distinct sources might look like this:\n",
    "\n",
    "```\n",
    "0 0 0 0 0 0 0 0 0 0\n",
    "0 1 1 0 0 0 0 0 0 0\n",
    "1 1 1 1 1 0 0 0 2 0\n",
    "1 1 1 1 0 0 0 2 2 2\n",
    "1 1 1 0 0 0 2 2 2 2\n",
    "1 1 1 1 0 0 0 2 2 0\n",
    "1 1 0 0 0 0 2 2 0 0\n",
    "0 1 0 0 0 0 2 0 0 0\n",
    "0 0 0 0 0 0 0 0 0 0\n",
    "```\n",
    "where all of the pixels labeled `1` belong to the first source, all those labeled `2` belong to the second, and all null pixels are designated to be background.\n",
    "\n",
    "Let's see what the segmentation map for our XDF data will look like."
   ]
  },
  {
   "cell_type": "code",
   "execution_count": null,
   "id": "a0a6d51c-d8b2-4ec4-9a69-343585009dfc",
   "metadata": {},
   "outputs": [],
   "source": [
    "# Define threshold and minimum object size\n",
    "threshold = 5. * std\n",
    "npixels = 10\n",
    "fwhm = 5\n",
    "kernel = make_2dgaussian_kernel(fwhm, size=5)\n",
    "convolved_data = convolve(xdf_image.data, kernel)\n",
    "# Create a segmentation image\n",
    "segm = detect_sources(convolved_data, threshold, npixels)\n",
    "\n",
    "print('Found {} sources'.format(segm.max_label))"
   ]
  },
  {
   "cell_type": "code",
   "execution_count": null,
   "id": "c5e8d393-704b-4631-977f-4f644cbeccce",
   "metadata": {},
   "outputs": [],
   "source": [
    "# Set up the figure with subplots\n",
    "fig, [ax1, ax2] = plt.subplots(1, 2, figsize=(12, 6))\n",
    "plt.tight_layout()\n",
    "\n",
    "# Plot the data\n",
    "# Set up the normalization and colormap\n",
    "norm_image = ImageNormalize(vmin=1e-4, vmax=5e-2, stretch=LogStretch(), clip=False)\n",
    "cmap = plt.get_cmap('viridis')\n",
    "cmap.set_bad('white') # Show masked data as white\n",
    "\n",
    "# Plot the original data\n",
    "fitsplot = ax1.imshow(np.ma.masked_where(xdf_image.mask, xdf_image),\n",
    "                      norm=norm_image, cmap=cmap)\n",
    "ax1.set_ylabel('Y (pixels)')\n",
    "ax1.set_title('Original Data')\n",
    "\n",
    "# Plot the segmentation image\n",
    "rand_cmap = make_random_cmap(seed=12345)\n",
    "rand_cmap.set_under('black')\n",
    "segplot = ax2.imshow(np.ma.masked_where(xdf_image.mask, segm), vmin=1, cmap=rand_cmap)\n",
    "ax2.set_xlabel('X (pixels)')\n",
    "ax2.set_title('Segmentation Map')\n",
    "\n",
    "# Define the colorbar\n",
    "cbar_ax = fig.add_axes([1, 0.09, 0.03, 0.87])\n",
    "cbar = plt.colorbar(segplot, cbar_ax)\n",
    "cbar.set_label('Object Label', rotation=270, labelpad=30)"
   ]
  },
  {
   "cell_type": "markdown",
   "id": "418b2cdb-d160-4c18-b57d-3c4272ce7610",
   "metadata": {},
   "source": [
    "Compare the sources in original data to those in the segmentation image. Each color in the segmentation map denotes a separate source.\n",
    "\n",
    "You can easily see that larger galaxies are shown in the segmentation map as contiguous objects of the same color - for example, the two yellow and pink galaxies near (1200, 2500). Each pixel containing light from the same galaxy has been labeled as belonging to the same object."
   ]
  },
  {
   "cell_type": "markdown",
   "id": "e9bb56ee-c640-4c69-976e-e6f2e3ef536c",
   "metadata": {},
   "source": [
    "For a closer look, let's see what the sources we found with `find_peaks` look like in this segmentation map:"
   ]
  },
  {
   "cell_type": "code",
   "execution_count": null,
   "id": "b1d61489-3595-46b9-aaaf-57f11ac2126d",
   "metadata": {},
   "outputs": [],
   "source": [
    "with warnings.catch_warnings(action=\"ignore\"):\n",
    "    sources_findpeaks = find_peaks(xdf_image.data - median, mask=xdf_image.mask,\n",
    "                                   threshold=20. * std, box_size=29,\n",
    "                                   centroid_func=centroid_2dg)\n",
    "\n",
    "# Add an ID column to the find_peaks result\n",
    "sources_findpeaks[\"source_id\"] = np.arange(len(sources_findpeaks))"
   ]
  },
  {
   "cell_type": "code",
   "execution_count": null,
   "id": "1176098d-8a00-402d-9220-a1c54044c0c4",
   "metadata": {},
   "outputs": [],
   "source": [
    "fig = plt.figure(figsize=(8, 2.5))\n",
    "sub_figs = fig.subfigures(nrows=2, ncols=4, wspace=0.01, hspace=0.01)\n",
    "\n",
    "cutout_size = 60\n",
    "rng = np.random.default_rng(seed=8675309)\n",
    "srcs = rng.permutation(sources_findpeaks)[:len(sub_figs.flatten())]\n",
    "for a_fig, src in zip(sub_figs.flatten(), srcs):\n",
    "    sub_axs = a_fig.subplot_mosaic([[\"orig\", \"segm\"]], sharex=True, sharey=True, )\n",
    "    left = int(src['x_peak'] - cutout_size)\n",
    "    bottom = int(src['y_peak'] - cutout_size)\n",
    "    right = left + 2 * cutout_size\n",
    "    top = bottom + 2 * cutout_size\n",
    "    slc = (slice(bottom, top), slice(left, right))\n",
    "    sources_in_cutout = ((left < sources_findpeaks[\"x_centroid\"]) & (sources_findpeaks[\"x_centroid\"] < right) &\n",
    "                         (bottom < sources_findpeaks[\"y_centroid\"]) & (sources_findpeaks[\"y_centroid\"] < top))\n",
    "    sub_axs[\"orig\"].imshow(xdf_image.data[slc], cmap=cmap, norm=norm_image, origin=\"lower\")\n",
    "    sub_axs[\"orig\"].scatter(sources_findpeaks[\"x_centroid\"][sources_in_cutout] - left, \n",
    "                            sources_findpeaks[\"y_centroid\"][sources_in_cutout] - bottom, \n",
    "                            marker=\"x\", color=\"orange\", s=100)\n",
    "\n",
    "    sub_axs[\"segm\"].imshow(segm.data[slc], cmap=rand_cmap, vmin=1, vmax=len(sources_findpeaks), origin=\"lower\")\n",
    "    src_id = src[\"source_id\"]\n",
    "    # ax.text(2, 2, str(src_id), color='w', va='top')\n",
    "    a_fig.suptitle(f\"Source {src_id}\", fontsize=10)\n",
    "\n",
    "    for ax in sub_axs.values():\n",
    "        ax.set_xticks([])\n",
    "        ax.set_yticks([])\n",
    "\n",
    "fig.suptitle(\"Comparison of find_peaks and segmentation sources\", y=1.1);"
   ]
  },
  {
   "cell_type": "markdown",
   "id": "3e15e7d8-3aa9-4b75-ab03-88d3d6461eb5",
   "metadata": {},
   "source": [
    "## Analyzing `source_properties`\n",
    "\n",
    "Once we have a `SegmentationImage` object, `photutils` provides many powerful tools to manipulate and analyze the identified objects. \n",
    "\n",
    "Individual objects within the segmentation map can be altered using methods such as `relabel` to change the labels of objects, `remove_labels` to remove objects, or `deblend_sources` to separating overlapping sources that were incorrectly labeled as one source.\n",
    "\n",
    "However, perhaps the most powerful aspect of the `SegmentationImage` is the ability to create a catalog using [SourceCatalog](https://photutils.readthedocs.io/en/stable/api/photutils.segmentation.SourceCatalog.html#photutils.segmentation.SourceCatalog) to measure the centroids, photometry, and morphology of the detected objects:"
   ]
  },
  {
   "cell_type": "code",
   "execution_count": null,
   "id": "31715b6e-7cc4-47d5-be5b-b49e08740a36",
   "metadata": {},
   "outputs": [],
   "source": [
    "catalog = SourceCatalog(xdf_image.data, segm)\n",
    "table = catalog.to_table()\n",
    "print(table)\n",
    "print(table.colnames)"
   ]
  },
  {
   "cell_type": "markdown",
   "id": "350de88c-eaa6-46d0-a964-d873d77cd297",
   "metadata": {},
   "source": [
    "### Creating apertures from segmentation data\n",
    "\n",
    "We can use this information to create isophotal ellipses for each identified source. These ellipses can also later be used as photometric apertures."
   ]
  },
  {
   "cell_type": "code",
   "execution_count": null,
   "id": "71404fa0-1fd2-4f67-aa4a-4c408e0e7ddc",
   "metadata": {},
   "outputs": [],
   "source": [
    "# Define the approximate isophotal extent\n",
    "r = 4.  # pixels\n",
    "\n",
    "# Create the apertures\n",
    "apertures = []\n",
    "for obj in catalog:\n",
    "    position = (obj.xcentroid, obj.ycentroid)\n",
    "    a = obj.semimajor_sigma.value * r\n",
    "    b = obj.semiminor_sigma.value * r\n",
    "    theta = obj.orientation\n",
    "    apertures.append(EllipticalAperture(position, a, b, theta=theta))"
   ]
  },
  {
   "cell_type": "code",
   "execution_count": null,
   "id": "8750e2c1-b13f-4b78-9026-59e9efe31122",
   "metadata": {},
   "outputs": [],
   "source": [
    "# Set up the figure with subplots\n",
    "fig, ax1 = plt.subplots(1, 1, figsize=(8, 8))\n",
    "\n",
    "# Plot the data\n",
    "fitsplot = ax1.imshow(np.ma.masked_where(xdf_image.mask, xdf_image),\n",
    "                      norm=norm_image, cmap=cmap)\n",
    "\n",
    "# Plot the apertures\n",
    "for aperture in apertures:\n",
    "    aperture.plot(color='red', lw=1, alpha=0.7, axes=ax1)\n",
    "\n",
    "# Define the colorbar\n",
    "cbar = plt.colorbar(fitsplot, fraction=0.046, pad=0.04, ticks=LogLocator())\n",
    "\n",
    "def format_colorbar(bar):\n",
    "    # Add minor tickmarks\n",
    "    bar.ax.yaxis.set_minor_locator(LogLocator(subs=range(1, 10)))\n",
    "\n",
    "    # Force the labels to be displayed as powers of ten and only at exact powers of ten\n",
    "    bar.ax.set_yticks([1e-4, 1e-3, 1e-2])\n",
    "    labels = [f'$10^{{{pow:.0f}}}$' for pow in np.log10(bar.ax.get_yticks())]\n",
    "    bar.ax.set_yticklabels(labels)\n",
    "\n",
    "format_colorbar(cbar)\n",
    "\n",
    "# Define labels\n",
    "cbar.set_label(r'Flux Count Rate ({})'.format(xdf_image.unit.to_string('latex')),\n",
    "               rotation=270, labelpad=30)\n",
    "ax1.set_xlabel('X (pixels)')\n",
    "ax1.set_ylabel('Y (pixels)')\n",
    "ax1.set_title('Segmentation Image Apertures');"
   ]
  },
  {
   "cell_type": "code",
   "execution_count": null,
   "id": "19c62f54-3040-4ec8-9c12-f02d271e3ac4",
   "metadata": {},
   "outputs": [],
   "source": [
    "daofind = DAOStarFinder(fwhm=fwhm, threshold=threshold)\n",
    "sources_dao = daofind(np.ma.masked_where(xdf_image.mask, xdf_image))"
   ]
  },
  {
   "cell_type": "code",
   "execution_count": null,
   "id": "f3551192-ea06-452e-a5ab-57c322e8c4fc",
   "metadata": {},
   "outputs": [],
   "source": [
    "# Set up the figure with subplots\n",
    "fig, ax1 = plt.subplots(1, 1, figsize=(8, 8))\n",
    "\n",
    "# Plot the data\n",
    "fitsplot = ax1.imshow(np.ma.masked_where(xdf_image.mask, xdf_image),\n",
    "                      norm=norm_image, cmap=cmap)\n",
    "\n",
    "# Plot the apertures\n",
    "apertures[0].plot(color='red', lw=2, alpha=1, axes=ax1, label=\"Image segmentation\")\n",
    "for aperture in apertures[1:]:\n",
    "    aperture.plot(color='red', lw=2, alpha=1, axes=ax1)\n",
    "\n",
    "# Add find_peaks sources\n",
    "ax1.scatter(sources_findpeaks[\"x_centroid\"], sources_findpeaks[\"y_centroid\"], \n",
    "            marker=\"x\", color=\"orange\", s=200, lw=2, alpha=0.7, label=\"find_peaks\")\n",
    "\n",
    "# Add find_peaks sources\n",
    "ax1.scatter(sources_dao[\"xcentroid\"], sources_dao[\"ycentroid\"], \n",
    "            marker=\"s\", facecolor=\"none\", edgecolor=\"cyan\", s=200, alpha=0.5, label=\"DAOFind\")\n",
    "\n",
    "# Define the colorbar\n",
    "cbar = plt.colorbar(fitsplot, fraction=0.046, pad=0.04, ticks=LogLocator())\n",
    "\n",
    "format_colorbar(cbar)\n",
    "\n",
    "# Define labels\n",
    "cbar.set_label(r'Flux Count Rate ({})'.format(xdf_image.unit.to_string('latex')),\n",
    "               rotation=270, labelpad=30)\n",
    "ax1.set_xlabel('X (pixels)')\n",
    "ax1.set_ylabel('Y (pixels)')\n",
    "\n",
    "top = 1125\n",
    "left = 2350\n",
    "cutout_size = 500\n",
    "\n",
    "ax1.set_xlim(left, left + cutout_size)\n",
    "ax1.set_ylim(top, top + cutout_size)\n",
    "\n",
    "ax1.legend(ncols=3, loc='lower center', bbox_to_anchor=(0.5, 1))\n",
    "\n",
    "ax1.set_title('Source detection method comparison', y=1.05);"
   ]
  },
  {
   "cell_type": "markdown",
   "id": "c0b2a1b2-57c0-49a5-8924-5372cd43613c",
   "metadata": {},
   "source": [
    "## Summary\n",
    "\n",
    "The image above nicely captures the differences between the source detection methods we have discussed. [`DAOStarFinder`](https://photutils.readthedocs.io/en/stable/api/photutils.detection.DAOStarFinder.html#photutils.detection.DAOStarFinder) does an excellent job detecting the star-like sources in the image but not the more extended sources. [`find_peaks`](https://photutils.readthedocs.io/en/stable/api/photutils.detection.find_peaks.html#photutils.detection.find_peaks) detects both extended and point-like sources, but misses several sources. Image segmentation does an excellent job detecting sources, and could detect the smaller sources in this image if we reduced the minimum number of pixels in each source."
   ]
  }
 ],
 "metadata": {
  "kernelspec": {
   "display_name": "Python 3 (ipykernel)",
   "language": "python",
   "name": "python3"
  },
  "language_info": {
   "codemirror_mode": {
    "name": "ipython",
    "version": 3
   },
   "file_extension": ".py",
   "mimetype": "text/x-python",
   "name": "python",
   "nbconvert_exporter": "python",
   "pygments_lexer": "ipython3",
   "version": "3.11.3"
  }
 },
 "nbformat": 4,
 "nbformat_minor": 5
}

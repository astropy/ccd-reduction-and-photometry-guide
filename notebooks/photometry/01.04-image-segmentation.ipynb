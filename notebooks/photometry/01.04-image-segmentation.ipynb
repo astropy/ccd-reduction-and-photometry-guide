{
 "cells": [
  {
   "cell_type": "markdown",
   "metadata": {},
   "source": [
    "# Image segmentation\n",
    "\n",
    "[Image segmentation](https://en.wikipedia.org/wiki/Image_segmentation) is an image processing technique that identifies regions in an image that are above a threshold and are adjacent. It is the method used by the [Source Extractor](https://sextractor.readthedocs.io/en/latest/index.html)package to dect sources. An implementation is provided as part of [`photutils`](https://photutils.readthedocs.io/en/stable/)."
   ]
  }
 ],
 "metadata": {
  "kernelspec": {
   "display_name": "Python 3 (ipykernel)",
   "language": "python",
   "name": "python3"
  },
  "language_info": {
   "codemirror_mode": {
    "name": "ipython",
    "version": 3
   },
   "file_extension": ".py",
   "mimetype": "text/x-python",
   "name": "python",
   "nbconvert_exporter": "python",
   "pygments_lexer": "ipython3",
   "version": "3.11.9"
  }
 },
 "nbformat": 4,
 "nbformat_minor": 4
}

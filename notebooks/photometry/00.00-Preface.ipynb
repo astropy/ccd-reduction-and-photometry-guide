{
 "cells": [
  {
   "cell_type": "markdown",
   "metadata": {},
   "source": [
    "# Preface\n"
   ]
  },
  {
   "cell_type": "markdown",
   "metadata": {},
   "source": [
    "Photometry is the measurement of the amount of light from an image. There are, broadly speaking, two types of photometry. *Aperture photometry* measures the amount of light inside a region (the aperture) of fixed size. This is the kind of photometry done by photoelectric photometers.\n",
    "\n",
    "*PSF photometry* fits the image of an object like a star to the point spread function (PSF) of the camera. It is essential to doing photometry in crowded fields.\n",
    "\n",
    "```{note}\n",
    "The notebooks in this part of the guide draw heavily from the excellent [photutils documentation](https://photutils.readthedocs.io/en/stable/)\n",
    "```\n",
    "\n",
    "```{note}\n",
    "Several notebooks in this part of the guide were origninally developed by Lauren CHambers and Erik Tollerud with support from the Community Software Initiative at the Space Telescope Science Institute, the Astropy Project and ScienceBetter Consulting. Those notebooks are:\n",
    "\n",
    "+ [Handling masking before background removal](01.01.02-Background-estimation-XDF.ipynb)\n",
    "+ [Detecting sources in the XDF](01.02.02-IRAF-like-source-detection-XDF.ipynb) Another notebook \n",
    "\n",
    "<img style=\"float: left;\" src=\"https://raw.githubusercontent.com/spacetelescope/notebooks/master/assets/stsci_pri_combo_mark_horizonal_white_bkgd.png\" alt=\"STScI logo\" width=\"200px\"/>\n",
    "```"
   ]
  }
 ],
 "metadata": {
  "kernelspec": {
   "display_name": "Python 3 (ipykernel)",
   "language": "python",
   "name": "python3"
  },
  "language_info": {
   "codemirror_mode": {
    "name": "ipython",
    "version": 3
   },
   "file_extension": ".py",
   "mimetype": "text/x-python",
   "name": "python",
   "nbconvert_exporter": "python",
   "pygments_lexer": "ipython3",
   "version": "3.11.8"
  }
 },
 "nbformat": 4,
 "nbformat_minor": 4
}

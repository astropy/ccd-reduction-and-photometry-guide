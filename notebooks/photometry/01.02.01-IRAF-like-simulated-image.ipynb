{
 "cells": [
  {
   "cell_type": "markdown",
   "metadata": {},
   "source": [
    "# IRAF-like source detection with simulated images"
   ]
  },
  {
   "cell_type": "code",
   "execution_count": null,
   "metadata": {},
   "outputs": [],
   "source": [
    "from astropy.stats import sigma_clipped_stats, gaussian_sigma_to_fwhm\n",
    "from astropy.table import QTable\n",
    "from astropy.visualization import simple_norm\n",
    "from astropy.visualization.mpl_normalize import ImageNormalize\n",
    "from photutils.datasets import make_100gaussians_image, make_gaussian_sources_image\n",
    "from photutils.detection import find_peaks\n"
   ]
  },
  {
   "cell_type": "code",
   "execution_count": null,
   "metadata": {},
   "outputs": [],
   "source": [
    "data = make_100gaussians_image()\n",
    "mean, median, std = sigma_clipped_stats(data, sigma=3.0)"
   ]
  },
  {
   "cell_type": "code",
   "execution_count": null,
   "metadata": {},
   "outputs": [],
   "source": [
    "median, std"
   ]
  },
  {
   "cell_type": "code",
   "execution_count": null,
   "metadata": {},
   "outputs": [],
   "source": [
    "from photutils.detection import DAOStarFinder\n",
    "daofind = DAOStarFinder(fwhm=10.0, threshold=5.*std, ratio=.33, theta=0)  \n",
    "sources = daofind(data - median)  \n",
    "for col in sources.colnames:  \n",
    "    if col not in ('id', 'npix'):\n",
    "        sources[col].info.format = '%.2f'  # for consistent table output\n",
    "sources.pprint(max_width=76)  \n"
   ]
  },
  {
   "cell_type": "code",
   "execution_count": null,
   "metadata": {},
   "outputs": [],
   "source": [
    "import numpy as np\n",
    "import matplotlib.pyplot as plt\n",
    "from astropy.visualization import SqrtStretch\n",
    "from astropy.visualization.mpl_normalize import ImageNormalize\n",
    "from photutils.aperture import CircularAperture\n",
    "positions = np.transpose((sources['xcentroid'], sources['ycentroid']))\n",
    "apertures = CircularAperture(positions, r=4.0)\n",
    "norm = ImageNormalize(stretch=SqrtStretch())\n",
    "plt.imshow(data, cmap='Greys', origin='lower', norm=norm,\n",
    "           interpolation='nearest')\n",
    "apertures.plot(color='blue', lw=1.5, alpha=0.5);"
   ]
  },
  {
   "cell_type": "markdown",
   "metadata": {},
   "source": [
    "## Sources in image"
   ]
  },
  {
   "cell_type": "code",
   "execution_count": null,
   "metadata": {},
   "outputs": [],
   "source": [
    "n_sources = 100\n",
    "flux_range = [500, 1000]\n",
    "xmean_range = [0, 500]\n",
    "ymean_range = [0, 300]\n",
    "xstddev_range = [1, 5]\n",
    "ystddev_range = [1, 5]\n",
    "params = {'flux': flux_range,\n",
    "          'x_mean': xmean_range,\n",
    "          'y_mean': ymean_range,\n",
    "          'x_stddev': xstddev_range,\n",
    "          'y_stddev': ystddev_range,\n",
    "          'theta': [0, 2 * np.pi]}\n",
    "\n",
    "rng = np.random.RandomState(12345)\n",
    "inp_sources = QTable()\n",
    "for param_name, (lower, upper) in params.items():\n",
    "    # Generate a column for every item in param_ranges, even if it\n",
    "    # is not in the model (e.g., flux).  However, such columns will\n",
    "    # be ignored when rendering the image.\n",
    "    inp_sources[param_name] = rng.uniform(lower, upper, n_sources)\n",
    "xstd = inp_sources['x_stddev']\n",
    "ystd = inp_sources['y_stddev']\n",
    "inp_sources['amplitude'] = inp_sources['flux'] / (2.0 * np.pi * xstd * ystd)"
   ]
  },
  {
   "cell_type": "code",
   "execution_count": null,
   "metadata": {},
   "outputs": [],
   "source": [
    "inp_sources.pprint(max_width=76)  \n"
   ]
  },
  {
   "cell_type": "code",
   "execution_count": null,
   "metadata": {},
   "outputs": [],
   "source": [
    "plt.figure(figsize=(20, 10))\n",
    "inp_positions = np.transpose((inp_sources['x_mean'], inp_sources['y_mean']))\n",
    "inp_apertures = CircularAperture(inp_positions, r=10.0)\n",
    "norm = ImageNormalize(stretch=SqrtStretch())\n",
    "plt.imshow(data, cmap='Greys', origin='lower', norm=norm,\n",
    "           interpolation='nearest')\n",
    "apertures.plot(color='blue', lw=1.5, alpha=0.5);\n",
    "inp_apertures.plot(color='green', lw=1, alpha=0.5);\n",
    "for source in inp_sources:\n",
    "    minor = min(source['x_stddev'], source['y_stddev'])\n",
    "    major = max(source['x_stddev'], source['y_stddev'])\n",
    "    plt.annotate(\n",
    "        f\"{minor / major:.2f}\", \n",
    "        #f\"{1 - source['x_stddev'] / source['y_stddev']:.2f}\", \n",
    "        (source['x_mean'] + 5, source['y_mean'] + 5)\n",
    "    )\n",
    "    plt.annotate(\n",
    "        f\"{(source['x_stddev'] + source['x_stddev'])/2 * gaussian_sigma_to_fwhm:.2f}\", \n",
    "        (source['x_mean'] + 5, source['y_mean'] - 5)\n",
    "    )\n",
    "    # plt.annotate(\n",
    "    #     f\"{source['amplitude']:.2f}\", \n",
    "    #     (source['x_mean'] + 5, source['y_mean'] - 5)\n",
    "    # )\n"
   ]
  },
  {
   "cell_type": "code",
   "execution_count": null,
   "metadata": {},
   "outputs": [],
   "source": [
    "daofind_source = DAOStarFinder(fwhm=5.0, threshold=5.*std, xycoords=inp_positions)  \n",
    "sources_source = daofind_source(data - median)"
   ]
  },
  {
   "cell_type": "code",
   "execution_count": null,
   "metadata": {},
   "outputs": [],
   "source": [
    "sources_source"
   ]
  },
  {
   "cell_type": "markdown",
   "metadata": {},
   "source": [
    "## `find_peaks`"
   ]
  },
  {
   "cell_type": "code",
   "execution_count": null,
   "metadata": {},
   "outputs": [],
   "source": [
    "threshold = median + (5.0 * std)\n",
    "tbl = find_peaks(data, threshold, box_size=11)\n",
    "tbl['peak_value'].info.format = '%.8g'  # for consistent table output\n",
    "tbl.pprint(max_width=76)  "
   ]
  },
  {
   "cell_type": "code",
   "execution_count": null,
   "metadata": {},
   "outputs": [],
   "source": [
    "positions = np.transpose((tbl['x_peak'], tbl['y_peak']))\n",
    "apertures = CircularAperture(positions, r=5.0)\n",
    "#norm = simple_norm(data, 'sqrt', percent=99.9)\n",
    "plt.imshow(data, cmap='Greys', origin='lower', norm=norm,\n",
    "           interpolation='nearest')\n",
    "apertures.plot(color='#0547f9', lw=1.5)\n",
    "plt.xlim(0, data.shape[1] - 1)\n",
    "plt.ylim(0, data.shape[0] - 1)"
   ]
  },
  {
   "cell_type": "markdown",
   "metadata": {},
   "source": [
    "## Sources all theta=0"
   ]
  },
  {
   "cell_type": "code",
   "execution_count": null,
   "metadata": {},
   "outputs": [],
   "source": [
    "flat_inp_sources = inp_sources.copy()\n",
    "flat_inp_sources['theta'] = 0.0\n",
    "minor_x = flat_inp_sources['x_stddev'] < flat_inp_sources['y_stddev']\n",
    "majors = flat_inp_sources['x_stddev'].copy()\n",
    "majors[minor_x] = flat_inp_sources['y_stddev'][minor_x]\n",
    "\n",
    "minors = flat_inp_sources['y_stddev'].copy()\n",
    "minors[minor_x] = flat_inp_sources['x_stddev'][minor_x]\n",
    "\n",
    "flat_inp_sources['x_stddev'] = majors\n",
    "flat_inp_sources['y_stddev'] = minors\n",
    "\n",
    "flat_inp_sources['y_stddev'] = flat_inp_sources['x_stddev']"
   ]
  },
  {
   "cell_type": "code",
   "execution_count": null,
   "metadata": {},
   "outputs": [],
   "source": [
    "shape = (300, 500)\n",
    "flat_data = make_gaussian_sources_image(shape, flat_inp_sources) + 5.0\n",
    "\n",
    "if True:\n",
    "    rng = np.random.RandomState(12345)\n",
    "    flat_data += rng.normal(loc=0.0, scale=2.0, size=shape)\n",
    "\n"
   ]
  },
  {
   "cell_type": "code",
   "execution_count": null,
   "metadata": {},
   "outputs": [],
   "source": [
    "plt.figure(figsize=(20, 10))\n",
    "\n",
    "plt.imshow(flat_data, cmap='Greys', origin='lower', norm=norm,\n",
    "           interpolation='nearest')"
   ]
  },
  {
   "cell_type": "code",
   "execution_count": null,
   "metadata": {},
   "outputs": [],
   "source": [
    "daofind = DAOStarFinder(fwhm=10.0, threshold=5.*std, ratio=1, sharplo=0.2)  \n",
    "flat_sources = daofind(flat_data - median) "
   ]
  },
  {
   "cell_type": "code",
   "execution_count": null,
   "metadata": {},
   "outputs": [],
   "source": [
    "plt.figure(figsize=(20, 10))\n",
    "\n",
    "flat_positions = np.transpose((flat_sources['xcentroid'], flat_sources['ycentroid']))\n",
    "flat_apertures = CircularAperture(flat_positions, r=4.0)\n",
    "\n",
    "plt.imshow(flat_data, cmap='Greys', origin='lower', norm=norm,\n",
    "           interpolation='nearest')\n",
    "flat_apertures.plot(color='blue', lw=1.5, alpha=0.5);\n",
    "for source in flat_inp_sources:\n",
    "    minor = min(source['x_stddev'], source['y_stddev'])\n",
    "    major = max(source['x_stddev'], source['y_stddev'])\n",
    "    plt.annotate(\n",
    "        f\"{minor / major:.2f}\", \n",
    "        #f\"{1 - source['x_stddev'] / source['y_stddev']:.2f}\", \n",
    "        (source['x_mean'] + 5, source['y_mean'] + 5)\n",
    "    )\n",
    "    plt.annotate(\n",
    "        f\"{source['amplitude']:.2f}\", \n",
    "        (source['x_mean'] + 5, source['y_mean'] - 5)\n",
    "    )\n",
    "    plt.annotate(\n",
    "        f\"{(source['x_stddev'] + source['x_stddev'])/2 * gaussian_sigma_to_fwhm:.2f}\", \n",
    "        (source['x_mean'] + 5, source['y_mean'])\n",
    "    )"
   ]
  },
  {
   "cell_type": "code",
   "execution_count": null,
   "metadata": {},
   "outputs": [],
   "source": [
    "flat_sources.colnames"
   ]
  },
  {
   "cell_type": "code",
   "execution_count": null,
   "metadata": {},
   "outputs": [],
   "source": []
  }
 ],
 "metadata": {
  "kernelspec": {
   "display_name": "Python 3 (ipykernel)",
   "language": "python",
   "name": "python3"
  },
  "language_info": {
   "codemirror_mode": {
    "name": "ipython",
    "version": 3
   },
   "file_extension": ".py",
   "mimetype": "text/x-python",
   "name": "python",
   "nbconvert_exporter": "python",
   "pygments_lexer": "ipython3",
   "version": "3.11.3"
  }
 },
 "nbformat": 4,
 "nbformat_minor": 4
}

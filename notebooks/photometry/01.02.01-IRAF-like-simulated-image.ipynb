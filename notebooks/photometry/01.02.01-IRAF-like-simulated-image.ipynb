{
 "cells": [
  {
   "cell_type": "markdown",
   "metadata": {},
   "source": [
    "# IRAF-like source detection with simulated images"
   ]
  },
  {
   "cell_type": "markdown",
   "metadata": {},
   "source": [
    "## Overview\n",
    "\n",
    "IRAF provided a couple of ways, `starfind` and `daofind`, to detect *stellar* sources in an image. [photutils]() provides similar functionality via the [`DAOStarFinder`]() and [`IRAFStarFinder`]() objects\n",
    "\n",
    "This notebook will focus on [`DAOStarFinder`](https://photutils.readthedocs.io/en/stable/api/photutils.detection.DAOStarFinder.html#photutils.detection.DAOStarFinder) to emphasize that these options work well for detecting *stars* or other objects with a stellar profile. They do not work well for more extended objects.\n",
    "\n",
    "The next couple of notebooks will:\n",
    "\n",
    "+ apply these techniques to the Hubble Extreme Deep Field, to illustrate the differences between [`DAOStarFinder`](https://photutils.readthedocs.io/en/stable/api/photutils.detection.DAOStarFinder.html#photutils.detection.DAOStarFinder) and [`IRAFStarFinder`](https://photutils.readthedocs.io/en/stable/api/photutils.detection.IRAFStarFinder.html#photutils.detection.IRAFStarFinder), and to introduce another method of source detection,\n",
    "+ apply the techniques to an image of stars from a ground-based telescope, and\n",
    "+ illustrate other source detection techniques that work well for extended sources"
   ]
  },
  {
   "cell_type": "markdown",
   "metadata": {},
   "source": [
    "## Simulated image of galaxies and stars"
   ]
  },
  {
   "cell_type": "markdown",
   "metadata": {},
   "source": [
    "In the first part of this notebook we consider an image that includes 100 sources, all with Gaussian profiles, some of which are fairly elongated. We used this image in the previous section about removing the background prior to source detection.\n",
    "\n",
    "As usual, we begin with some imports."
   ]
  },
  {
   "cell_type": "code",
   "execution_count": null,
   "metadata": {},
   "outputs": [],
   "source": [
    "from astropy.stats import sigma_clipped_stats, gaussian_sigma_to_fwhm\n",
    "from astropy.table import QTable\n",
    "from astropy.visualization import simple_norm, SqrtStretch\n",
    "from astropy.visualization.mpl_normalize import ImageNormalize\n",
    "\n",
    "import matplotlib.pyplot as plt\n",
    "import numpy as np\n",
    "\n",
    "from photutils.aperture import CircularAperture, EllipticalAperture\n",
    "from photutils.datasets import make_100gaussians_image, make_gaussian_sources_image\n",
    "from photutils.detection import find_peaks, DAOStarFinder\n",
    "\n",
    "plt.style.use('../photutils_notebook_style.mplstyle')"
   ]
  },
  {
   "cell_type": "markdown",
   "metadata": {},
   "source": [
    "To begin, let's create and look the the image. We create an image normalization here that we will use for displaying the image throughout the notebook."
   ]
  },
  {
   "cell_type": "code",
   "execution_count": null,
   "metadata": {},
   "outputs": [],
   "source": [
    "data = make_100gaussians_image()\n",
    "norm = ImageNormalize(stretch=SqrtStretch())\n",
    "plt.figure(figsize=(10, 5))\n",
    "plt.imshow(data, cmap='Greys_r', origin='lower', norm=norm,\n",
    "           interpolation='nearest')\n",
    "plt.grid()"
   ]
  },
  {
   "cell_type": "markdown",
   "metadata": {},
   "source": [
    "Note that some of these object are star-like -- the ones that are darkest are close to circular, for example. Others are very elongated and there are a variety of brightnesses among the objects."
   ]
  },
  {
   "cell_type": "markdown",
   "metadata": {},
   "source": [
    "### Estimate and subtract background \n",
    "\n",
    "The background must be subtracted from the image before the sources are detected. For simplicity we estimate the sigma-clipped mean, median and standard deviation of the pixels in the image. As discussed in the section on [background removal for source detection](), the sigma-clipped median gives a reasonable estimate of the background in many cases."
   ]
  },
  {
   "cell_type": "code",
   "execution_count": null,
   "metadata": {},
   "outputs": [],
   "source": [
    "mean, med, std = sigma_clipped_stats(data, sigma=3.0, maxiters=5)\n",
    "data_subtracted = data - med"
   ]
  },
  {
   "cell_type": "markdown",
   "metadata": {},
   "source": [
    "### Detect sources"
   ]
  },
  {
   "cell_type": "markdown",
   "metadata": {},
   "source": [
    "The source detection itself is a couple of lines of code:"
   ]
  },
  {
   "cell_type": "code",
   "execution_count": null,
   "metadata": {},
   "outputs": [],
   "source": [
    "detect_fwhm = 5.0\n",
    "daofind = DAOStarFinder(fwhm=detect_fwhm, threshold=5.*std) \n",
    "sources = daofind(data_subtracted)"
   ]
  },
  {
   "cell_type": "markdown",
   "metadata": {},
   "source": [
    "There are a variety of options you can select, detailed in the documentation for [`DAOStarFinder`](https://photutils.readthedocs.io/en/stable/api/photutils.detection.DAOStarFinder.html#photutils.detection.DAOStarFinder). We only use two for now, specifying the typical full-width half-max (FWHM) of a source, and the threshold above which to conider something a source.\n",
    "\n",
    "A summary of the sources detected shows that [`DAOStarFinder`](https://photutils.readthedocs.io/en/stable/api/photutils.detection.DAOStarFinder.html#photutils.detection.DAOStarFinder) detect 41 sources, substantially fewer than the 100 that are in the image."
   ]
  },
  {
   "cell_type": "code",
   "execution_count": null,
   "metadata": {},
   "outputs": [],
   "source": [
    "# Format the columns to only display two decimal points \n",
    "for col in sources.colnames:  \n",
    "    if col not in ('id', 'npix'):\n",
    "        sources[col].info.format = '%.2f'  # for consistent table output\n",
    "sources.pprint(max_width=76)  \n"
   ]
  },
  {
   "cell_type": "markdown",
   "metadata": {},
   "source": [
    "A plot showing the location of all of the detected sources helps illustrate why some of sources were missed. To display where sources were detected, we create a a set of [`photutils`](https://photutils.readthedocs.io/en/stable/) circular apertures and use its plot method to add a circle over each detected source."
   ]
  },
  {
   "cell_type": "code",
   "execution_count": null,
   "metadata": {},
   "outputs": [],
   "source": [
    "# CircularAperture expects a particular format for input positions...\n",
    "positions = np.transpose((sources['xcentroid'], sources['ycentroid']))\n",
    "apertures = CircularAperture(positions, r=detect_fwhm / 2)\n",
    "\n",
    "plt.figure(figsize=(20, 10))\n",
    "plt.imshow(data, cmap='Greys', origin='lower', norm=norm,\n",
    "           interpolation='nearest')\n",
    "apertures.plot(color='blue', lw=1, alpha=0.5);\n",
    "plt.title(\"Sources detected by DAOStarFinder\")"
   ]
  },
  {
   "cell_type": "markdown",
   "metadata": {},
   "source": [
    "It looks like the sources that were detected are those that were not too faint and not too elongaetd. \n",
    "\n",
    "Let's look at the properties of the sources in this image, and explore some of the settings in [`DAOStarFinder`](https://photutils.readthedocs.io/en/stable/api/photutils.detection.DAOStarFinder.html#photutils.detection.DAOStarFinder) to see how you could tune its parameters to detect a different subset of the sources."
   ]
  },
  {
   "cell_type": "markdown",
   "metadata": {},
   "source": [
    "### Sources in the image\n",
    "\n",
    "The sources in this image are generated using the code below, which was copied from the [photutils source code here](https://photutils.readthedocs.io/en/stable/_modules/photutils/datasets/make.html#make_100gaussians_image).\n",
    "\n",
    "The sources have a range of orientations, ellipticities, and widths. All of the sources are 2D Gaussians, with a FWHM ranging from roughly 3 to 15 pixels in each direction. The ratio of minor to major axis of the sources varies from 0.2 to 1.0."
   ]
  },
  {
   "cell_type": "code",
   "execution_count": null,
   "metadata": {},
   "outputs": [],
   "source": [
    "n_sources = 100\n",
    "flux_range = [500, 1000]\n",
    "xmean_range = [0, 500]\n",
    "ymean_range = [0, 300]\n",
    "xstddev_range = [1, 5]\n",
    "ystddev_range = [1, 5]\n",
    "params = {'flux': flux_range,\n",
    "          'x_mean': xmean_range,\n",
    "          'y_mean': ymean_range,\n",
    "          'x_stddev': xstddev_range,\n",
    "          'y_stddev': ystddev_range,\n",
    "          'theta': [0, 2 * np.pi]}\n",
    "\n",
    "rng = np.random.RandomState(12345)\n",
    "inp_sources = QTable()\n",
    "for param_name, (lower, upper) in params.items():\n",
    "    # Generate a column for every item in param_ranges, even if it\n",
    "    # is not in the model (e.g., flux).  However, such columns will\n",
    "    # be ignored when rendering the image.\n",
    "    inp_sources[param_name] = rng.uniform(lower, upper, n_sources)\n",
    "xstd = inp_sources['x_stddev']\n",
    "ystd = inp_sources['y_stddev']\n",
    "inp_sources['amplitude'] = inp_sources['flux'] / (2.0 * np.pi * xstd * ystd)"
   ]
  },
  {
   "cell_type": "markdown",
   "metadata": {},
   "source": [
    "Let's look at the image again, with a marker around each input source. There is quite a bit of information packed into those markers:\n",
    "\n",
    "+ the shape of the marker matches the minor-to-major axis ratio\n",
    "+ the major axis of the marker is the FWHM of the major axis\n",
    "+ the thickness of the marker edge indicates the amplitude of the source.\n"
   ]
  },
  {
   "cell_type": "markdown",
   "metadata": {},
   "source": [
    "Next, we overlay the sources that were detected."
   ]
  },
  {
   "cell_type": "code",
   "execution_count": null,
   "metadata": {},
   "outputs": [],
   "source": [
    "plt.figure(figsize=(20, 10))\n",
    "\n",
    "# plot the image\n",
    "plt.imshow(data, cmap='Greys', origin='lower', norm=norm,\n",
    "           interpolation='nearest')\n",
    "\n",
    "def plot_input_sources(ax=None, label_text=\"\"):\n",
    "    if ax is None:\n",
    "        ax = plt.gca()\n",
    "        \n",
    "    amplitudes = sorted(inp_sources['amplitude'])\n",
    "    labeled = False\n",
    "    for source in inp_sources:\n",
    "        minor = min(source['x_stddev'], source['y_stddev'])\n",
    "        major = max(source['x_stddev'], source['y_stddev'])\n",
    "        ratio = minor / major\n",
    "    \n",
    "        major_fwhm = major * gaussian_sigma_to_fwhm\n",
    "    \n",
    "        # ap = EllipticalAperture((source['x_mean'], source['y_mean']), major, minor, theta=source['theta'])\n",
    "        ap = EllipticalAperture((source['x_mean'], source['y_mean']), source['x_stddev'], source['y_stddev'], theta=source['theta'])\n",
    "        \n",
    "        # This should give linewidths of 1, 2, or 3 given the input fluxes\n",
    "        line_width = source['flux'] // 250 - 1\n",
    "    \n",
    "        if source['amplitude'] > amplitudes[2 * len(amplitudes) // 3]:\n",
    "            line_width = 3\n",
    "        elif source['amplitude'] < amplitudes[len(amplitudes) // 3]:\n",
    "            line_width = 1\n",
    "        else:\n",
    "            line_width = 2\n",
    "        # Add a label to only the first aperture plotted, otherwise each aperture will be listed individually \n",
    "        # in the legend.\n",
    "        label_kw = {\"label\": label_text} if not labeled else {}\n",
    "        labeled = True\n",
    "        ap.plot(color='green', lw=line_width, alpha=0.5, ax=ax, **label_kw)\n",
    "\n",
    "plot_input_sources()\n",
    "plt.title(\"All sources in the image\");"
   ]
  },
  {
   "cell_type": "code",
   "execution_count": null,
   "metadata": {},
   "outputs": [],
   "source": [
    "plt.figure(figsize=(20, 10))\n",
    "# plot the image\n",
    "plt.imshow(data, cmap='Greys', origin='lower', norm=norm,\n",
    "           interpolation='nearest')\n",
    "apertures.plot(color='blue', lw=1, alpha=1);\n",
    "for idx, ap in enumerate(apertures):\n",
    "    label_offset = 3\n",
    "    plt.annotate(str(idx), (ap.positions[0] + label_offset, ap.positions[1] + label_offset))\n",
    "plot_input_sources()\n",
    "plt.title(\"All sources (green) and detected sources (blue)\\nlabeled by detected source number\");\n"
   ]
  },
  {
   "cell_type": "markdown",
   "metadata": {},
   "source": [
    "From this plot it seems that the sources detected are those that are:\n",
    "\n",
    "+ about the same size as the FWHM we input to the source finder (5 pixels in this case) -- see sources labeled 5 and 22, for example.\n",
    "+ reasonably round *or* reasonably concentrated -- see source 33 for an example. That source is very elongated but also very compact.\n",
    "\n",
    "In some cases [`DAOStarFinder`](https://photutils.readthedocs.io/en/stable/api/photutils.detection.DAOStarFinder.html#photutils.detection.DAOStarFinder) finds *two* sources where there is really one. Sources 5 and 6 are a good example of this."
   ]
  },
  {
   "cell_type": "markdown",
   "metadata": {},
   "source": [
    "### An exploration of some parameters of [`DAOStarFinder`](https://photutils.readthedocs.io/en/stable/api/photutils.detection.DAOStarFinder.html#photutils.detection.DAOStarFinder) \n",
    "\n",
    "We can test some of the assertions in the previous paragraph. A couple of examples of that are to try\n",
    "\n",
    "1. A lower threshold in detection to try to detect the fainter sources in this test image. Below we will try a threshold of 3 times the standard deviation of the background instead of 5 times.\n",
    "2. A ratio smaller than 1 to detect the more elongated sources. The ratio argument is the ratio of the semiminor to semimajor axis. Below we will try a ratio of 0.33.\n",
    "\n",
    "The code below begins with a function to do the plotting for this so that we can reuse that code for each plot."
   ]
  },
  {
   "cell_type": "code",
   "execution_count": null,
   "metadata": {},
   "outputs": [],
   "source": [
    "def detect_sources_and_plot_apertures(data, fwhm=0, threshold_factor=5, ratio=1, ax=None, color='blue', label_text=\"\"):\n",
    "    if ax is None:\n",
    "        ax = plt.gca()\n",
    "        \n",
    "    daofind = DAOStarFinder(fwhm=detect_fwhm, threshold=threshold_factor * std, ratio=ratio) \n",
    "    sources = daofind(data_subtracted)\n",
    "    positions = np.transpose((sources['xcentroid'], sources['ycentroid']))\n",
    "    apertures = CircularAperture(positions, r=detect_fwhm / 2)\n",
    "\n",
    "    # Plot the first aperture with a label\n",
    "    apertures[0].plot(color=color, lw=1, alpha=0.5, ax=ax, label=label_text)\n",
    "    # Plot the rest without a label, otherwise each aperture gets its own label.\n",
    "    apertures[1:].plot(color=color, lw=1, alpha=0.5, ax=ax)\n",
    "\n",
    "fig, axes = plt.subplot_mosaic([['case 1', 'case 2']], figsize=[20, 10], sharey=True, tight_layout=True)\n",
    "\n",
    "for ax in axes.values():\n",
    "    ax.imshow(data, cmap='Greys', origin='lower', norm=norm, interpolation='nearest')\n",
    "    plot_input_sources(ax=ax, label_text=\"input source\")\n",
    "\n",
    "# The lower threshold case\n",
    "thresh = 3\n",
    "detect_sources_and_plot_apertures(data_subtracted, fwhm=detect_fwhm, threshold_factor=5, ratio=1, ax=axes['case 1'], color='blue', label_text=\"original parameters\")\n",
    "detect_sources_and_plot_apertures(data_subtracted, fwhm=detect_fwhm, threshold_factor=thresh, ratio=1, ax=axes['case 1'], color='red', label_text=\"lower threshold\")\n",
    "axes['case 1'].legend(loc=\"upper left\")\n",
    "axes['case 1'].set_title(f\"Source detection with threshold {thresh:.1f}\")\n",
    "\n",
    "\n",
    "# The small ratio case\n",
    "ratio = 0.3\n",
    "detect_sources_and_plot_apertures(data_subtracted, fwhm=detect_fwhm, threshold_factor=5, ratio=1, ax=axes['case 2'], color='blue', label_text=\"original parameters\")\n",
    "detect_sources_and_plot_apertures(data_subtracted, fwhm=detect_fwhm, ratio=ratio, ax=axes['case 2'], color=\"red\", label_text=\"small ratio\")\n",
    "axes['case 2'].legend(loc=\"upper left\")\n",
    "axes['case 2'].set_title(f\"Source detection with ratio {ratio:.2f}\");"
   ]
  },
  {
   "cell_type": "markdown",
   "metadata": {},
   "source": [
    "The plot on the left shows that lowering the detetion threshold does find more sources, but it also includes erroneous detections. The plot on right demonstrates that we can detect some (but not all) of the highly elongated objects by changing the `ratio` parameter in [`DAOStarFinder`](https://photutils.readthedocs.io/en/stable/api/photutils.detection.DAOStarFinder.html#photutils.detection.DAOStarFinder). The reason that we don't pick up more of the elongated sources is that the orientation of the source matters too. The default value for the orientation is zero, i.e. aligned with the horizontal axis."
   ]
  },
  {
   "cell_type": "markdown",
   "metadata": {},
   "source": [
    "## Summary\n",
    "\n",
    "The takeway from this section should be that the IRAF-like methods implemented in photutils are good at finding star-like sources. As we will see in the next couple of sections, the methods work very well for detecting stars or galaxies that are small enough to look like stars. After that we will look at a couple of methods, local peak detection and image segmentation, that are better for detecting extended sources."
   ]
  }
 ],
 "metadata": {
  "kernelspec": {
   "display_name": "Python 3 (ipykernel)",
   "language": "python",
   "name": "python3"
  },
  "language_info": {
   "codemirror_mode": {
    "name": "ipython",
    "version": 3
   },
   "file_extension": ".py",
   "mimetype": "text/x-python",
   "name": "python",
   "nbconvert_exporter": "python",
   "pygments_lexer": "ipython3",
   "version": "3.11.8"
  }
 },
 "nbformat": 4,
 "nbformat_minor": 4
}

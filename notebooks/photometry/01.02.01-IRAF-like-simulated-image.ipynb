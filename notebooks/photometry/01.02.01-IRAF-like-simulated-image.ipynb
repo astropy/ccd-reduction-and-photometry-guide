{
 "cells": [
  {
   "cell_type": "markdown",
   "metadata": {},
   "source": [
    "# IRAF-like source detection with simulated images"
   ]
  },
  {
   "cell_type": "markdown",
   "metadata": {},
   "source": [
    "## Overview\n",
    "\n",
    "IRAF provided a couple of ways, `starfind` and `daofind`, to detect *stellar* sources in an image. [photutils]() provides similar functionality via the [`DAOStarFinder`]() and [`IRAFStarFinder`]() objects\n",
    "\n",
    "This notebook will focus on [`DAOStarFinder`](https://photutils.readthedocs.io/en/stable/api/photutils.detection.DAOStarFinder.html#photutils.detection.DAOStarFinder) to emphasize that these options work well for detecting *stars* or other objects with a stellar profile. They do not work well for more extended objects.\n",
    "\n",
    "The next couple of notebooks will:\n",
    "\n",
    "+ apply these techniques to the Hubble Extreme Deep Field, to illustrate the differences between [`DAOStarFinder`](https://photutils.readthedocs.io/en/stable/api/photutils.detection.DAOStarFinder.html#photutils.detection.DAOStarFinder) and [`IRAFStarFinder`](https://photutils.readthedocs.io/en/stable/api/photutils.detection.IRAFStarFinder.html#photutils.detection.IRAFStarFinder), and to introduce another method of source detection,\n",
    "+ apply the techniques to an image of stars from a ground-based telescope, and\n",
    "+ illustrate other source detection techniques that work well for extended sources"
   ]
  },
  {
   "cell_type": "markdown",
   "metadata": {},
   "source": [
    "## Simulated image of galaxies and stars"
   ]
  },
  {
   "cell_type": "markdown",
   "metadata": {},
   "source": [
    "In the first part of this notebook we consider an image that includes 100 sources, all with Gaussian profiles, some of which are fairly elongated. We used this image in the previous section about removing the background prior to source detection.\n",
    "\n",
    "As usual, we begin with some imports."
   ]
  },
  {
   "cell_type": "code",
   "execution_count": null,
   "metadata": {},
   "outputs": [],
   "source": [
    "from astropy.stats import sigma_clipped_stats, gaussian_sigma_to_fwhm\n",
    "from astropy.table import QTable\n",
    "from astropy.visualization import simple_norm, SqrtStretch\n",
    "from astropy.visualization.mpl_normalize import ImageNormalize\n",
    "\n",
    "import matplotlib.pyplot as plt\n",
    "import numpy as np\n",
    "\n",
    "from photutils.aperture import CircularAperture, EllipticalAperture\n",
    "from photutils.datasets import make_100gaussians_image, make_gaussian_sources_image\n",
    "from photutils.detection import find_peaks, DAOStarFinder\n",
    "\n",
    "plt.style.use('../photutils_notebook_style.mplstyle')"
   ]
  },
  {
   "cell_type": "markdown",
   "metadata": {},
   "source": [
    "To begin, let's create and look the the image. We create an image normalization here that we will use for displaying the image throughout the notebook."
   ]
  },
  {
   "cell_type": "code",
   "execution_count": null,
   "metadata": {},
   "outputs": [],
   "source": [
    "data = make_100gaussians_image()\n",
    "norm = ImageNormalize(stretch=SqrtStretch())\n",
    "plt.figure()\n",
    "plt.imshow(data, cmap='Greys', origin='lower', norm=norm,\n",
    "           interpolation='nearest')\n",
    "plt.grid()"
   ]
  },
  {
   "cell_type": "markdown",
   "metadata": {},
   "source": [
    "Note that some of these object are star-like -- the ones that are darkest are close to circular, for example. Others are very elongated and there are a variety of brightnesses among the objects."
   ]
  },
  {
   "cell_type": "markdown",
   "metadata": {},
   "source": [
    "### Estimate and subtract background \n",
    "\n",
    "The background must be subtracted from the image before the sources are detected. For simplicity we estimate the sigma-clipped mean, median and standard deviation of the pixels in the image. As discussed in the section on [background removal for source detection](), the sigma-clipped median gives a reasonable estimate of the background in many cases."
   ]
  },
  {
   "cell_type": "code",
   "execution_count": null,
   "metadata": {},
   "outputs": [],
   "source": [
    "mean, med, std = sigma_clipped_stats(data, sigma=3.0, maxiters=5)\n",
    "data_subtracted = data - med"
   ]
  },
  {
   "cell_type": "markdown",
   "metadata": {},
   "source": [
    "### Detect sources"
   ]
  },
  {
   "cell_type": "markdown",
   "metadata": {},
   "source": [
    "The source detection itself is a couple of lines of code:"
   ]
  },
  {
   "cell_type": "code",
   "execution_count": null,
   "metadata": {},
   "outputs": [],
   "source": [
    "daofind = DAOStarFinder(fwhm=5.0, threshold=5.*std) \n",
    "sources = daofind(data_subtracted)"
   ]
  },
  {
   "cell_type": "markdown",
   "metadata": {},
   "source": [
    "There are a variety of options you can select, detailed in the documentation for [`DAOStarFinder`](https://photutils.readthedocs.io/en/stable/api/photutils.detection.DAOStarFinder.html#photutils.detection.DAOStarFinder). We only use two for now, specifying the typical full-width half-max (FWHM) of a source, and the threshold above which to conider something a source.\n",
    "\n",
    "A summary of the sources detected shows that [`DAOStarFinder`](https://photutils.readthedocs.io/en/stable/api/photutils.detection.DAOStarFinder.html#photutils.detection.DAOStarFinder) detect 41 sources, substantially fewer than the 100 that are in the image."
   ]
  },
  {
   "cell_type": "code",
   "execution_count": null,
   "metadata": {},
   "outputs": [],
   "source": [
    "# Format the columns to only display two decimal points \n",
    "for col in sources.colnames:  \n",
    "    if col not in ('id', 'npix'):\n",
    "        sources[col].info.format = '%.2f'  # for consistent table output\n",
    "sources.pprint(max_width=76)  \n"
   ]
  },
  {
   "cell_type": "markdown",
   "metadata": {},
   "source": [
    "A plot showing the location of all of the detected sources helps illustrate why some of sources were missed, To display where sources were detected, we create a a set of photutils circular apertures and use its plot method to add a circle over each detected source."
   ]
  },
  {
   "cell_type": "code",
   "execution_count": null,
   "metadata": {},
   "outputs": [],
   "source": [
    "# CircularAperture expects a particular format for input positions...\n",
    "positions = np.transpose((sources['xcentroid'], sources['ycentroid']))\n",
    "apertures = CircularAperture(positions, r=4.0)\n",
    "\n",
    "plt.figure()\n",
    "plt.imshow(data, cmap='Greys', origin='lower', norm=norm,\n",
    "           interpolation='nearest')\n",
    "apertures.plot(color='blue', lw=1.5, alpha=0.5);"
   ]
  },
  {
   "cell_type": "markdown",
   "metadata": {},
   "source": [
    "It looks like the sources that were detected are those that were not too faint and not too elongaetd. \n",
    "\n",
    "Let's look at the properties of the sources in this image, and explore some of the settings in [`DAOStarFinder`](https://photutils.readthedocs.io/en/stable/api/photutils.detection.DAOStarFinder.html#photutils.detection.DAOStarFinder) to see how you could tune its parameters to detect a different subset of the sources."
   ]
  },
  {
   "cell_type": "markdown",
   "metadata": {},
   "source": [
    "### Sources in the image\n",
    "\n",
    "The sources in this image are generated using the code below, which was copied from the [photutils source code here](https://photutils.readthedocs.io/en/stable/_modules/photutils/datasets/make.html#make_100gaussians_image).\n",
    "\n",
    "The sources have a range of orientations, ellipticities, and widths. All of the sources are 2D Gaussians, with a FWHM ranging from roughly 3 to 15 pixels in each direction. The ratio of minor to major axis of the sources varies from 0.2 to 1.0."
   ]
  },
  {
   "cell_type": "code",
   "execution_count": null,
   "metadata": {},
   "outputs": [],
   "source": [
    "n_sources = 100\n",
    "flux_range = [500, 1000]\n",
    "xmean_range = [0, 500]\n",
    "ymean_range = [0, 300]\n",
    "xstddev_range = [1, 5]\n",
    "ystddev_range = [1, 5]\n",
    "params = {'flux': flux_range,\n",
    "          'x_mean': xmean_range,\n",
    "          'y_mean': ymean_range,\n",
    "          'x_stddev': xstddev_range,\n",
    "          'y_stddev': ystddev_range,\n",
    "          'theta': [0, 2 * np.pi]}\n",
    "\n",
    "rng = np.random.RandomState(12345)\n",
    "inp_sources = QTable()\n",
    "for param_name, (lower, upper) in params.items():\n",
    "    # Generate a column for every item in param_ranges, even if it\n",
    "    # is not in the model (e.g., flux).  However, such columns will\n",
    "    # be ignored when rendering the image.\n",
    "    inp_sources[param_name] = rng.uniform(lower, upper, n_sources)\n",
    "xstd = inp_sources['x_stddev']\n",
    "ystd = inp_sources['y_stddev']\n",
    "inp_sources['amplitude'] = inp_sources['flux'] / (2.0 * np.pi * xstd * ystd)"
   ]
  },
  {
   "cell_type": "markdown",
   "metadata": {},
   "source": [
    "Let's look at the image again, with a marker around each input source. There is quite a bit of information packed into those markers:\n",
    "\n",
    "+ the shape of the marker matches the minor-to-major axis ratio\n",
    "+ the major axis of the marker is related to the FWHM of the major axis\n",
    "+ the thickness indicates the total flux of the source.\n"
   ]
  },
  {
   "cell_type": "code",
   "execution_count": null,
   "metadata": {},
   "outputs": [],
   "source": [
    "plt.figure(figsize=(20, 10))\n",
    "\n",
    "# plot the image\n",
    "plt.imshow(data, cmap='Greys', origin='lower', norm=norm,\n",
    "           interpolation='nearest')\n",
    "\n",
    "# For each input source make an aperture for it\n",
    "idx = 0\n",
    "for source in inp_sources:\n",
    "    minor = min(source['x_stddev'], source['y_stddev'])\n",
    "    major = max(source['x_stddev'], source['y_stddev'])\n",
    "    ratio = minor / major\n",
    "\n",
    "    major_fwhm = major * gaussian_sigma_to_fwhm\n",
    "\n",
    "    # ap = EllipticalAperture((source['x_mean'], source['y_mean']), major, minor, theta=source['theta'])\n",
    "    ap = EllipticalAperture((source['x_mean'], source['y_mean']), source['x_stddev'], source['y_stddev'], theta=source['theta'])\n",
    "    \n",
    "    # This should give linewidths of 1, 2, or 3 given the input fluxes\n",
    "    line_width = source['flux'] // 250 - 1\n",
    "    ap.plot(color='blue', lw=line_width)\n",
    "\n",
    "plt.title(\"Input sources\")\n",
    "    # plt.annotate(str(idx), (source['x_mean'] + 5, source['y_mean'] + 5))\n",
    "    # idx += 1\n",
    "    # plt.annotate(\n",
    "    #     f\"{minor / major:.2f}\", \n",
    "    #     #f\"{1 - source['x_stddev'] / source['y_stddev']:.2f}\", \n",
    "    #     (source['x_mean'] + 5, source['y_mean'] + 5)\n",
    "    # )\n",
    "    # plt.annotate(\n",
    "    #     f\"{(source['x_stddev'] + source['x_stddev'])/2 * gaussian_sigma_to_fwhm:.2f}\", \n",
    "    #     (source['x_mean'] + 5, source['y_mean'] - 5)\n",
    "    # )\n",
    "    # plt.annotate(\n",
    "    #     f\"{source['amplitude']:.2f}\", \n",
    "    #     (source['x_mean'] + 5, source['y_mean'] - 5)\n",
    "    # )\n"
   ]
  },
  {
   "cell_type": "code",
   "execution_count": null,
   "metadata": {},
   "outputs": [],
   "source": [
    "daofind_source = DAOStarFinder(fwhm=5.0, threshold=5.*std, xycoords=inp_positions)  \n",
    "sources_source = daofind_source(data - median)"
   ]
  },
  {
   "cell_type": "code",
   "execution_count": null,
   "metadata": {},
   "outputs": [],
   "source": [
    "sources_source"
   ]
  },
  {
   "cell_type": "markdown",
   "metadata": {},
   "source": [
    "## `find_peaks`"
   ]
  },
  {
   "cell_type": "code",
   "execution_count": null,
   "metadata": {},
   "outputs": [],
   "source": [
    "threshold = median + (5.0 * std)\n",
    "tbl = find_peaks(data, threshold, box_size=11)\n",
    "tbl['peak_value'].info.format = '%.8g'  # for consistent table output\n",
    "tbl.pprint(max_width=76)  "
   ]
  },
  {
   "cell_type": "code",
   "execution_count": null,
   "metadata": {},
   "outputs": [],
   "source": [
    "positions = np.transpose((tbl['x_peak'], tbl['y_peak']))\n",
    "apertures = CircularAperture(positions, r=5.0)\n",
    "#norm = simple_norm(data, 'sqrt', percent=99.9)\n",
    "plt.imshow(data, cmap='Greys', origin='lower', norm=norm,\n",
    "           interpolation='nearest')\n",
    "apertures.plot(color='#0547f9', lw=1.5)\n",
    "plt.xlim(0, data.shape[1] - 1)\n",
    "plt.ylim(0, data.shape[0] - 1)"
   ]
  },
  {
   "cell_type": "markdown",
   "metadata": {},
   "source": [
    "## Sources all theta=0"
   ]
  },
  {
   "cell_type": "code",
   "execution_count": null,
   "metadata": {},
   "outputs": [],
   "source": [
    "flat_inp_sources = inp_sources.copy()\n",
    "flat_inp_sources['theta'] = 0.0\n",
    "minor_x = flat_inp_sources['x_stddev'] < flat_inp_sources['y_stddev']\n",
    "majors = flat_inp_sources['x_stddev'].copy()\n",
    "majors[minor_x] = flat_inp_sources['y_stddev'][minor_x]\n",
    "\n",
    "minors = flat_inp_sources['y_stddev'].copy()\n",
    "minors[minor_x] = flat_inp_sources['x_stddev'][minor_x]\n",
    "\n",
    "flat_inp_sources['x_stddev'] = majors\n",
    "flat_inp_sources['y_stddev'] = minors\n",
    "\n",
    "flat_inp_sources['y_stddev'] = flat_inp_sources['x_stddev']"
   ]
  },
  {
   "cell_type": "code",
   "execution_count": null,
   "metadata": {},
   "outputs": [],
   "source": [
    "shape = (300, 500)\n",
    "flat_data = make_gaussian_sources_image(shape, flat_inp_sources) + 5.0\n",
    "\n",
    "if True:\n",
    "    rng = np.random.RandomState(12345)\n",
    "    flat_data += rng.normal(loc=0.0, scale=2.0, size=shape)\n",
    "\n"
   ]
  },
  {
   "cell_type": "code",
   "execution_count": null,
   "metadata": {},
   "outputs": [],
   "source": [
    "plt.figure(figsize=(20, 10))\n",
    "\n",
    "plt.imshow(flat_data, cmap='Greys', origin='lower', norm=norm,\n",
    "           interpolation='nearest')"
   ]
  },
  {
   "cell_type": "code",
   "execution_count": null,
   "metadata": {},
   "outputs": [],
   "source": [
    "daofind = DAOStarFinder(fwhm=10.0, threshold=5.*std, ratio=1, sharplo=0.2)  \n",
    "flat_sources = daofind(flat_data - median) "
   ]
  },
  {
   "cell_type": "code",
   "execution_count": null,
   "metadata": {},
   "outputs": [],
   "source": [
    "plt.figure(figsize=(20, 10))\n",
    "\n",
    "flat_positions = np.transpose((flat_sources['xcentroid'], flat_sources['ycentroid']))\n",
    "flat_apertures = CircularAperture(flat_positions, r=4.0)\n",
    "\n",
    "plt.imshow(flat_data, cmap='Greys', origin='lower', norm=norm,\n",
    "           interpolation='nearest')\n",
    "flat_apertures.plot(color='blue', lw=1.5, alpha=0.5);\n",
    "for source in flat_inp_sources:\n",
    "    minor = min(source['x_stddev'], source['y_stddev'])\n",
    "    major = max(source['x_stddev'], source['y_stddev'])\n",
    "    plt.annotate(\n",
    "        f\"{minor / major:.2f}\", \n",
    "        #f\"{1 - source['x_stddev'] / source['y_stddev']:.2f}\", \n",
    "        (source['x_mean'] + 5, source['y_mean'] + 5)\n",
    "    )\n",
    "    plt.annotate(\n",
    "        f\"{source['amplitude']:.2f}\", \n",
    "        (source['x_mean'] + 5, source['y_mean'] - 5)\n",
    "    )\n",
    "    plt.annotate(\n",
    "        f\"{(source['x_stddev'] + source['x_stddev'])/2 * gaussian_sigma_to_fwhm:.2f}\", \n",
    "        (source['x_mean'] + 5, source['y_mean'])\n",
    "    )"
   ]
  },
  {
   "cell_type": "code",
   "execution_count": null,
   "metadata": {},
   "outputs": [],
   "source": [
    "flat_sources.colnames"
   ]
  },
  {
   "cell_type": "code",
   "execution_count": null,
   "metadata": {},
   "outputs": [],
   "source": []
  }
 ],
 "metadata": {
  "kernelspec": {
   "display_name": "Python 3 (ipykernel)",
   "language": "python",
   "name": "python3"
  },
  "language_info": {
   "codemirror_mode": {
    "name": "ipython",
    "version": 3
   },
   "file_extension": ".py",
   "mimetype": "text/x-python",
   "name": "python",
   "nbconvert_exporter": "python",
   "pygments_lexer": "ipython3",
   "version": "3.11.3"
  }
 },
 "nbformat": 4,
 "nbformat_minor": 4
}
